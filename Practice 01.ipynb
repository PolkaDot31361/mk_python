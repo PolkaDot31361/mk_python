{
 "cells": [
  {
   "cell_type": "markdown",
   "id": "d996e908",
   "metadata": {},
   "source": [
    "<h3>[문제 1] 문자열을 구성하는 문자의 개수 세기</h3>\n",
    "<pre>\n",
    "    - 사용자로부터 임의의 문자열을 입력 받는다\n",
    "    - 해당 문자열을 구성하는 개별 문자들 및 각 문자의 개수를 출력하는 코드를 작성\n",
    "    - 예시 )\n",
    "        - 입력: 가가가bbbbccc#\n",
    "        - 출력: 가3b4c3#1\n",
    "    -참고 : {문자:문자 개수} 형식의 dictionary 사용\n",
    "</pre>"
   ]
  },
  {
   "cell_type": "code",
   "execution_count": 9,
   "id": "88c05476",
   "metadata": {},
   "outputs": [
    {
     "name": "stdout",
     "output_type": "stream",
     "text": [
      "가가가bbbbccc#\n",
      "가3b4c3#1"
     ]
    }
   ],
   "source": [
    "text = input(\"입력: \")\n",
    "\n",
    "list = [ char for char in text ]\n",
    "result = {char:list.count(char) for char in list}\n",
    "\n",
    "for k,v in result.items():\n",
    "    print(k,v, sep=\"\", end=\"\")"
   ]
  },
  {
   "cell_type": "code",
   "execution_count": 10,
   "id": "ab0ed409",
   "metadata": {},
   "outputs": [
    {
     "name": "stdout",
     "output_type": "stream",
     "text": [
      "입력 : 가가가bbbbccc#\n",
      "출력 : 가3b4c3#1"
     ]
    }
   ],
   "source": [
    "str = input(\"입력 : \")\n",
    "\n",
    "result = {s : str.count(s) for s in str}\n",
    "\n",
    "print(\"출력 : \", end = \"\")\n",
    "for k,v in result.items():\n",
    "    print(\"%s%d\" %(k,v), end = \"\")"
   ]
  },
  {
   "cell_type": "markdown",
   "id": "7b1e06a6",
   "metadata": {},
   "source": [
    "### [문제 2] 분리한 문자열의 첫 번재 문자 출력하기\n",
    "<pre>\n",
    "    - 사용자로부터 임의의 문자열을 입력 받기\n",
    "    - 공백을 기준으로 분리\n",
    "    - 분리된 문자열의 첫번째 글자만 모아서 출력 하는 코드\n",
    "    - 예시)\n",
    "        입력 : ABC DEF GHI\n",
    "        출력 : A,D,G\n",
    "</pre>"
   ]
  },
  {
   "cell_type": "code",
   "execution_count": 19,
   "id": "5da2ae61",
   "metadata": {},
   "outputs": [
    {
     "name": "stdout",
     "output_type": "stream",
     "text": [
      "입력 : ABC DEF GHI\n",
      "출력 : A,D,G,"
     ]
    }
   ],
   "source": [
    "text = input(\"입력 : \")\n",
    "\n",
    "print(\"출력 : \", end =\"\")\n",
    "for string in text.split():\n",
    "    print(string[0], end=\",\")"
   ]
  },
  {
   "cell_type": "code",
   "execution_count": 20,
   "id": "600f32cc",
   "metadata": {},
   "outputs": [
    {
     "name": "stdout",
     "output_type": "stream",
     "text": [
      "입력 : ABC DEF GHI\n",
      "출력 : A,D,G\n"
     ]
    }
   ],
   "source": [
    "str = input(\"입력 : \")\n",
    "\n",
    "wordList = str.split()\n",
    "print(\"출력 : \", end = \"\")\n",
    "for s in wordList:\n",
    "    print(s[0], end=\",\")\n",
    "print(\"\\b\")"
   ]
  },
  {
   "cell_type": "markdown",
   "id": "cc755094",
   "metadata": {},
   "source": [
    "### [문제 3] 순차적으로 문자열 변환하기\n",
    "<pre>\n",
    "    - 사용자로부터 임의의 문자열 입력 받기\n",
    "    - 가장 마지막 문자부터 \"#\"으로 하나씩 변환 하며 출력\n",
    "    - 예시 )\n",
    "        입력 : Abcdef\n",
    "        출력 : Abcde#\n",
    "                Abcd##\n",
    "                ...\n",
    "                ######\n",
    "</pre>"
   ]
  },
  {
   "cell_type": "code",
   "execution_count": 19,
   "id": "471ca78d",
   "metadata": {},
   "outputs": [
    {
     "name": "stdout",
     "output_type": "stream",
     "text": [
      "입력 : ㅁ늉ㅁㄴㅇㄹㅈㄷㄱㅁ\n",
      "출력 : \n",
      "ㅁ늉ㅁㄴㅇㄹㅈㄷㄱ#\n",
      "ㅁ늉ㅁㄴㅇㄹㅈㄷ##\n",
      "ㅁ늉ㅁㄴㅇㄹㅈ###\n",
      "ㅁ늉ㅁㄴㅇㄹ####\n",
      "ㅁ늉ㅁㄴㅇ#####\n",
      "ㅁ늉ㅁㄴ######\n",
      "ㅁ늉ㅁ#######\n",
      "ㅁ늉########\n",
      "ㅁ#########\n",
      "##########\n"
     ]
    }
   ],
   "source": [
    "text = input(\"입력 : \")\n",
    "\n",
    "string = [char for char in text]\n",
    "i = 1\n",
    "\n",
    "print(\"출력 : \")\n",
    "while i <= len(string):\n",
    "    string[len(string)-i] = '#'\n",
    "    for c in string:\n",
    "        print(c, end=\"\")\n",
    "    print()\n",
    "    i += 1"
   ]
  },
  {
   "cell_type": "code",
   "execution_count": 2,
   "id": "763d4200",
   "metadata": {},
   "outputs": [
    {
     "name": "stdout",
     "output_type": "stream",
     "text": [
      "입력 : ABCDEFG\n",
      "ABCDEF#\n",
      "ABCDE##\n",
      "ABCD###\n",
      "ABC####\n",
      "AB#####\n",
      "A######\n"
     ]
    }
   ],
   "source": [
    "text = input(\"입력 : \")\n",
    "\n",
    "for i in range(1, len(text)):\n",
    "    print(text[0:len(text)-i]+(\"#\"*i))"
   ]
  }
 ],
 "metadata": {
  "kernelspec": {
   "display_name": "Python 3",
   "language": "python",
   "name": "python3"
  },
  "language_info": {
   "codemirror_mode": {
    "name": "ipython",
    "version": 3
   },
   "file_extension": ".py",
   "mimetype": "text/x-python",
   "name": "python",
   "nbconvert_exporter": "python",
   "pygments_lexer": "ipython3",
   "version": "3.8.8"
  }
 },
 "nbformat": 4,
 "nbformat_minor": 5
}
