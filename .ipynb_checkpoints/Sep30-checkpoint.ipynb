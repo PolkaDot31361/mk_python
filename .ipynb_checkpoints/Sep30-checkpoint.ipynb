{
 "cells": [
  {
   "cell_type": "code",
   "execution_count": 1,
   "id": "82bb7277",
   "metadata": {},
   "outputs": [
    {
     "data": {
      "text/plain": [
       "'1.19.2'"
      ]
     },
     "execution_count": 1,
     "metadata": {},
     "output_type": "execute_result"
    }
   ],
   "source": [
    "import numpy as np\n",
    "\n",
    "np.__version__"
   ]
  },
  {
   "cell_type": "markdown",
   "id": "639f4893",
   "metadata": {},
   "source": [
    "# NumPy 개요\n",
    "\n",
    "- URL : https://numpy.org\n",
    "\n",
    "![대체 텍스트](https://numpy.org/doc/stable/_static/numpylogo.svg)\n",
    "\n"
   ]
  },
  {
   "cell_type": "markdown",
   "id": "d4902df7",
   "metadata": {},
   "source": [
    "# Python 다차원 배열의 이해\n",
    "\n",
    "## 숫자 자료형\n",
    "\n",
    "* Python에서는 숫자형 변수로 데이터를 표현할 수 있다.\n",
    "* 예를 들어, 세 명의 학생들로 이루어진 반이 있고 이 학생들의 수학 점수를 각각의 **숫자형 변수**에 저장하는 경우 아래처럼 처리할 수 있다."
   ]
  },
  {
   "cell_type": "code",
   "execution_count": 2,
   "id": "382c2090",
   "metadata": {},
   "outputs": [],
   "source": [
    "# 세 명의 학생의 수학과목 점수 설정\n",
    "math1 = 11\n",
    "math2 = 12\n",
    "math3 = 13"
   ]
  },
  {
   "cell_type": "code",
   "execution_count": 3,
   "id": "8da13a87",
   "metadata": {},
   "outputs": [
    {
     "name": "stdout",
     "output_type": "stream",
     "text": [
      "수학점수 합: 36\n",
      "수학점수 평균: 12.0\n"
     ]
    }
   ],
   "source": [
    "# 합과 평균구하기\n",
    "\n",
    "total = math1 + math2  + math3\n",
    "average = total / 3\n",
    "\n",
    "print(\"수학점수 합: {}\".format(total))\n",
    "print(\"수학점수 평균: {}\".format(average))"
   ]
  },
  {
   "cell_type": "markdown",
   "id": "09d75e39",
   "metadata": {},
   "source": [
    "- 그런데 만약 새로운 학생이 전학을 와서 시험을 치렀고, 이 학생의 성적을 추가한 점수들의 합과 평균을 구하려면 어떻게 해야 할까?\n",
    "\n",
    "- 새로운 변수를 추가해야 한다."
   ]
  },
  {
   "cell_type": "code",
   "execution_count": 4,
   "id": "66041927",
   "metadata": {},
   "outputs": [],
   "source": [
    "# 새로 전학온 학생의 점수를 위한 변수\n",
    "\n",
    "math4 = 14"
   ]
  },
  {
   "cell_type": "markdown",
   "id": "b551dacc",
   "metadata": {},
   "source": [
    "- 그리고 합과 평균을 구하는 코드 역시 수정해야 한다."
   ]
  },
  {
   "cell_type": "code",
   "execution_count": 5,
   "id": "d720401a",
   "metadata": {},
   "outputs": [
    {
     "name": "stdout",
     "output_type": "stream",
     "text": [
      "수학점수 합: 50\n",
      "수학점수 평균: 12.5\n"
     ]
    }
   ],
   "source": [
    "total = math1 + math2 + math3 + math4 # 항목 추가\n",
    "average = total / 4 # 분모 변경\n",
    "\n",
    "print(\"수학점수 합: {}\".format(total))\n",
    "print(\"수학점수 평균: {}\".format(average))"
   ]
  },
  {
   "cell_type": "markdown",
   "id": "484111b0",
   "metadata": {},
   "source": [
    "- 추가된 데이터를 새로 선언해 주는 것은 어쩔 수 없다 하더라도 합과 평균을 구하는 <font color=\"red\">**코드를 매번 변경하는 것은 비효율적**</font>이다."
   ]
  },
  {
   "cell_type": "markdown",
   "id": "e516acd7",
   "metadata": {},
   "source": [
    "## 리스트 자료형\n",
    "\n",
    "- 리스트 자료형에 데이터를 저장하여 이 문제를 해결할 수 있다.\n",
    "\n",
    "- 세 명의 학생들로 이루어진 반이 있고 이 학생들의 수학 점수를 **리스트**에 저장하는 경우 아래와 같이 처리할 수 있다."
   ]
  },
  {
   "cell_type": "code",
   "execution_count": 6,
   "id": "d1613c6a",
   "metadata": {},
   "outputs": [],
   "source": [
    "math_list = [11, 12, 13]"
   ]
  },
  {
   "cell_type": "markdown",
   "id": "d50f5dc1",
   "metadata": {},
   "source": [
    "- 점수들의 합과, 평균은 다음과 같이 구할 수 있다."
   ]
  },
  {
   "cell_type": "code",
   "execution_count": 8,
   "id": "be42d725",
   "metadata": {},
   "outputs": [
    {
     "name": "stdout",
     "output_type": "stream",
     "text": [
      "수학점수 합: 36\n",
      "수학점수 평균: 12.0\n"
     ]
    }
   ],
   "source": [
    "total = 0\n",
    "average = 0\n",
    "\n",
    "for math in math_list:\n",
    "    total += math\n",
    "average = total / len(math_list)\n",
    "\n",
    "print(\"수학점수 합: {}\".format(total))\n",
    "print(\"수학점수 평균: {}\".format(average))"
   ]
  },
  {
   "cell_type": "markdown",
   "id": "dab15958",
   "metadata": {},
   "source": [
    "- 그런데 만약 새로운 학생이 전학을 와서 시험을 치렀고, 이 학생의 성적을 추가한 점수들의 합과 평균을 구하려면 어떻게 해야 할까?\n",
    "\n",
    "- ~~새로운 변수를 추가해야 한다.~~\n",
    "\n",
    "- **기존의 리스트에 새로운 데이터를 추가한다.**"
   ]
  },
  {
   "cell_type": "code",
   "execution_count": 9,
   "id": "c5101924",
   "metadata": {},
   "outputs": [],
   "source": [
    "math_list.append(14)"
   ]
  },
  {
   "cell_type": "markdown",
   "id": "d9899c80",
   "metadata": {},
   "source": [
    "- ~~그리고 합과 평균을 구하는 코드 역시 수정해야 한다.~~\n",
    "\n",
    "- 새로운 데이터가 추가되더라도 합과 평균을 구하는 **코드는 수정 없이 그대로 사용할 수 있다**."
   ]
  },
  {
   "cell_type": "code",
   "execution_count": 10,
   "id": "daa0dc39",
   "metadata": {},
   "outputs": [
    {
     "name": "stdout",
     "output_type": "stream",
     "text": [
      "수학점수 합: 50\n",
      "수학점수 평균: 12.5\n"
     ]
    }
   ],
   "source": [
    "total = 0\n",
    "average = 0\n",
    "\n",
    "for math in math_list:\n",
    "    total += math\n",
    "average = total / len(math_list)\n",
    "\n",
    "print(\"수학점수 합: {}\".format(total))\n",
    "print(\"수학점수 평균: {}\".format(average))"
   ]
  },
  {
   "cell_type": "markdown",
   "id": "44ae2b44",
   "metadata": {},
   "source": [
    "- 그런데 만약 시험 문제에서 오류가 발견되어 모든 학생의 점수를 1점씩 올려줘야 하는 상황이 발생한다면 어떻게 처리해야 할까?\n",
    "\n",
    "- 반복문이나 List comprehension같은 방법이 있다."
   ]
  },
  {
   "cell_type": "code",
   "execution_count": 12,
   "id": "40432319",
   "metadata": {},
   "outputs": [
    {
     "data": {
      "text/plain": [
       "[12, 13, 14, 15]"
      ]
     },
     "execution_count": 12,
     "metadata": {},
     "output_type": "execute_result"
    }
   ],
   "source": [
    "# 방법 1 (For loop 사용)\n",
    "\n",
    "math_list2 = []\n",
    "for math in math_list :\n",
    "    math_list2.append(math+1)\n",
    "\n",
    "math_list2  "
   ]
  },
  {
   "cell_type": "code",
   "execution_count": 13,
   "id": "ac7eca00",
   "metadata": {},
   "outputs": [
    {
     "data": {
      "text/plain": [
       "[12, 13, 14, 15]"
      ]
     },
     "execution_count": 13,
     "metadata": {},
     "output_type": "execute_result"
    }
   ],
   "source": [
    "# 방법 2 (List Comprehension 사용)\n",
    "\n",
    "math_list3 = [math + 1 for math in math_list]\n",
    "\n",
    "math_list3"
   ]
  },
  {
   "cell_type": "markdown",
   "id": "6b31e874",
   "metadata": {},
   "source": [
    "- 여기서 구조를 확장해서,\n",
    "\n",
    "- 1반의 점수가 11, 12, 13\n",
    "\n",
    "- 2반의 점수가 21, 22, 23\n",
    "\n",
    "- 3반의 점수가 31, 32, 33점이라고 한다면 중첩 리스트를 통해 아래처럼 나타낼 수 있다."
   ]
  },
  {
   "cell_type": "code",
   "execution_count": 14,
   "id": "4f2ee628",
   "metadata": {},
   "outputs": [
    {
     "name": "stdout",
     "output_type": "stream",
     "text": [
      "[[11, 12, 13], [21, 22, 23], [31, 32, 33]]\n"
     ]
    }
   ],
   "source": [
    "nested_math_list = [[11, 12, 13], [21, 22, 23], [31, 32, 33]]\n",
    "print(nested_math_list)"
   ]
  },
  {
   "cell_type": "markdown",
   "id": "d185affe",
   "metadata": {},
   "source": [
    "- 중첩 리스트에서 각 원소에 1을 더하는 코드는 다음과 같다."
   ]
  },
  {
   "cell_type": "code",
   "execution_count": 15,
   "id": "ccc79bff",
   "metadata": {},
   "outputs": [
    {
     "name": "stdout",
     "output_type": "stream",
     "text": [
      "[[12, 13, 14], [22, 23, 24], [32, 33, 34]]\n"
     ]
    }
   ],
   "source": [
    "nested_math_list2 = []\n",
    "\n",
    "for inner_list in nested_math_list:\n",
    "    temp_list = []\n",
    "\n",
    "    for math in inner_list:\n",
    "        temp_list.append(math + 1)\n",
    "\n",
    "    nested_math_list2.append(temp_list)\n",
    "\n",
    "print(nested_math_list2)"
   ]
  },
  {
   "cell_type": "markdown",
   "id": "40c88e11",
   "metadata": {},
   "source": [
    "- <font color=\"red\">**문제점**</font>\n",
    "\n",
    "    - 자료구조의 중첩이 증가하면 반복문도 하나 더 사용해야 한다.\n",
    "    - 구조의 중첩이 증가할수록 코드는 복잡해질 수밖에 없다."
   ]
  },
  {
   "cell_type": "markdown",
   "id": "5b2efc62",
   "metadata": {},
   "source": [
    "## NumPy로 구현한 다차원 배열\n",
    "\n",
    "- **NumPy**를 사용하면 중첩된 자료구조를 효율적으로 다룰 수 있다.\n",
    " \n",
    "- `import numpy as np` 형태로 사용하는게 일반적이다."
   ]
  },
  {
   "cell_type": "code",
   "execution_count": 16,
   "id": "41da6bda",
   "metadata": {},
   "outputs": [],
   "source": [
    "# Package import\n",
    "import numpy as np\n"
   ]
  },
  {
   "cell_type": "code",
   "execution_count": 19,
   "id": "d1decdd1",
   "metadata": {},
   "outputs": [
    {
     "name": "stdout",
     "output_type": "stream",
     "text": [
      "[[11, 12, 13], [21, 22, 23], [31, 32, 33]]\n",
      "[[11 12 13]\n",
      " [21 22 23]\n",
      " [31 32 33]]\n",
      "<class 'numpy.ndarray'>\n"
     ]
    }
   ],
   "source": [
    "# ndarray의 생성\n",
    "nested_math_list = [[11, 12, 13], [21, 22, 23], [31, 32, 33]]\n",
    "\n",
    "math_ndarray = np.array(nested_math_list)\n",
    "\n",
    "print(nested_math_list)\n",
    "print(math_ndarray)\n",
    "print(type(math_ndarray))"
   ]
  },
  {
   "cell_type": "markdown",
   "id": "8687d263",
   "metadata": {},
   "source": [
    "- 각 원소에 1을 더하려면,"
   ]
  },
  {
   "cell_type": "code",
   "execution_count": 20,
   "id": "3c24de40",
   "metadata": {},
   "outputs": [
    {
     "name": "stdout",
     "output_type": "stream",
     "text": [
      "[[12 13 14]\n",
      " [22 23 24]\n",
      " [32 33 34]]\n"
     ]
    }
   ],
   "source": [
    "new_ndarray = math_ndarray + 1 # 브로드캐스팅\n",
    "print(new_ndarray)"
   ]
  },
  {
   "cell_type": "markdown",
   "id": "4e24e8b6",
   "metadata": {},
   "source": [
    "* NumPy에 구현된 함수를 이용해서 합이나 평균도 쉽게 구할 수 있다."
   ]
  },
  {
   "cell_type": "code",
   "execution_count": 21,
   "id": "bdf1d627",
   "metadata": {},
   "outputs": [
    {
     "data": {
      "text/plain": [
       "198"
      ]
     },
     "execution_count": 21,
     "metadata": {},
     "output_type": "execute_result"
    }
   ],
   "source": [
    "# 전체 합 구하기\n",
    "np.sum(math_ndarray)"
   ]
  },
  {
   "cell_type": "code",
   "execution_count": 22,
   "id": "da09ffed",
   "metadata": {},
   "outputs": [
    {
     "data": {
      "text/plain": [
       "22.0"
      ]
     },
     "execution_count": 22,
     "metadata": {},
     "output_type": "execute_result"
    }
   ],
   "source": [
    "# 전체 평균 구하기\n",
    "np.mean(math_ndarray)"
   ]
  },
  {
   "cell_type": "code",
   "execution_count": 23,
   "id": "f4f88f43",
   "metadata": {},
   "outputs": [
    {
     "data": {
      "text/plain": [
       "array([36, 66, 96])"
      ]
     },
     "execution_count": 23,
     "metadata": {},
     "output_type": "execute_result"
    }
   ],
   "source": [
    "# 각 반의 수학 합계와 평균을 구하기\n",
    "np.sum(math_ndarray, axis=1) "
   ]
  },
  {
   "cell_type": "code",
   "execution_count": 24,
   "id": "3eb9a343",
   "metadata": {},
   "outputs": [
    {
     "data": {
      "text/plain": [
       "array([12., 22., 32.])"
      ]
     },
     "execution_count": 24,
     "metadata": {},
     "output_type": "execute_result"
    }
   ],
   "source": [
    "np.mean(math_ndarray, axis=1) # 평균"
   ]
  },
  {
   "cell_type": "markdown",
   "id": "768d2d50",
   "metadata": {},
   "source": [
    "# Numpy 특징\n",
    "\n",
    "## NumPy의 장점\n",
    "\n",
    "- 코어 부분이 C로 구현되어 동일한 연산을 하더라도 Python에 비해 속도가 빠름\n",
    "- 라이브러리에 구현되어있는 함수들을 활용해 짧고 간결한 코드 작성 가능\n",
    "- 효율적인 메모리 사용이 가능하도록 구현됨\n",
    "\n",
    "## Python의 list가 느린 이유\n",
    "\n",
    "- 파이썬 리스트는 결국 포인터의 배열\n",
    "- 경우에 따라서 각각 객체가 메모리 여기저기 흩어져 있음\n",
    "- 그러므로 캐시 활용이 어려움\n",
    "\n",
    "## NumPy의 ndarray가 빠른 이유\n",
    "- ndarray는 타입을 명시하여 원소의 배열로 데이터를 유지\n",
    "- 다차원 데이터도 연속된 메모리 공간이 할당됨\n",
    "- 많은 연산이 dimensions과 strides를 잘 활용하면 효율적으로 가능"
   ]
  },
  {
   "cell_type": "markdown",
   "id": "8e870d5b",
   "metadata": {},
   "source": [
    "![title](https://www.mybluelinux.com/img/post/posts/0123/NumPy-Illustrated-02.webp)"
   ]
  },
  {
   "cell_type": "markdown",
   "id": "0d029db2",
   "metadata": {},
   "source": [
    "# 기초\n",
    "\n",
    "## 배열 생성-1\n",
    "\n",
    "### array()를 이용한 생성\n",
    "* 가장 기본적인 방법은, `array` 함수를 사용하여 일반적인 Python list 또는 tuple에서 배열을 만드는 것이다."
   ]
  },
  {
   "cell_type": "code",
   "execution_count": 26,
   "id": "4dcc8ac3",
   "metadata": {},
   "outputs": [
    {
     "name": "stdout",
     "output_type": "stream",
     "text": [
      "[0 1 2 3 4] <class 'numpy.ndarray'>\n"
     ]
    }
   ],
   "source": [
    "# 파이썬 리스트를 이용해서 넘파이 배열 만들기\n",
    "data = [0, 1, 2, 3, 4]\n",
    "\n",
    "a = np.array(data)\n",
    "print(a, type(a))"
   ]
  },
  {
   "cell_type": "markdown",
   "id": "af4b22ff",
   "metadata": {},
   "source": [
    "**number**\n",
    "* number 데이터를 이용해서 다차원 배열을 생성\n",
    "* 정수형(int), 실수형(float), 복소수형(complex), 부호없는 정수형(uint)"
   ]
  },
  {
   "cell_type": "code",
   "execution_count": 27,
   "id": "c5630d70",
   "metadata": {},
   "outputs": [
    {
     "data": {
      "text/plain": [
       "array([[1, 2],\n",
       "       [3, 4]])"
      ]
     },
     "execution_count": 27,
     "metadata": {},
     "output_type": "execute_result"
    }
   ],
   "source": [
    "iarr = np.array([[1, 2], [3, 4]])  # 부호비트 있음\n",
    "iarr"
   ]
  },
  {
   "cell_type": "code",
   "execution_count": 28,
   "id": "556b3aca",
   "metadata": {},
   "outputs": [
    {
     "data": {
      "text/plain": [
       "array([[1, 2],\n",
       "       [3, 4]], dtype=uint32)"
      ]
     },
     "execution_count": 28,
     "metadata": {},
     "output_type": "execute_result"
    }
   ],
   "source": [
    "uarr = np.array([[1, 2], [3, 4]], dtype='uint') # 부호비트가 없음\n",
    "uarr"
   ]
  },
  {
   "cell_type": "markdown",
   "id": "d76c9254",
   "metadata": {},
   "source": [
    "**실수형**\n",
    "* 실수형은 default data type은 float64"
   ]
  },
  {
   "cell_type": "code",
   "execution_count": 30,
   "id": "0aca70c2",
   "metadata": {},
   "outputs": [
    {
     "name": "stdout",
     "output_type": "stream",
     "text": [
      "[[1.  2. ]\n",
      " [3.4 4.4]]\n",
      "float64\n"
     ]
    }
   ],
   "source": [
    "farr = np.array([[1., 2.],[3.4, 4.4]])\n",
    "print(farr)\n",
    "print(farr.dtype)"
   ]
  },
  {
   "cell_type": "markdown",
   "id": "c2d71f2f",
   "metadata": {},
   "source": [
    "**bool**"
   ]
  },
  {
   "cell_type": "code",
   "execution_count": 31,
   "id": "eeb97e9b",
   "metadata": {},
   "outputs": [
    {
     "data": {
      "text/plain": [
       "array([ True, False,  True,  True])"
      ]
     },
     "execution_count": 31,
     "metadata": {},
     "output_type": "execute_result"
    }
   ],
   "source": [
    "barr = np.array([True, False, True, True])\n",
    "barr"
   ]
  },
  {
   "cell_type": "markdown",
   "id": "207bd303",
   "metadata": {},
   "source": [
    "**형변환**\n"
   ]
  },
  {
   "cell_type": "code",
   "execution_count": 36,
   "id": "69e1031a",
   "metadata": {},
   "outputs": [
    {
     "name": "stdout",
     "output_type": "stream",
     "text": [
      "[1. 2. 3. 4.] <class 'numpy.ndarray'> <class 'numpy.float64'>\n",
      "[1. 2. 3. 4.] <class 'numpy.ndarray'> <class 'numpy.float64'>\n",
      "[1 2 3 4] <class 'numpy.ndarray'> <class 'numpy.int32'>\n",
      "[1. 2. 3. 4.] <class 'numpy.ndarray'> <class 'numpy.float32'>\n"
     ]
    }
   ],
   "source": [
    "tmp = np.array(['1','2', 3, 4], np.float64)\n",
    "print(tmp, type(tmp), type(tmp[0]))\n",
    "\n",
    "tmp = np.array(['1','2', 3, 4], float)\n",
    "print(tmp, type(tmp), type(tmp[0]))\n",
    "\n",
    "tmp = np.array(['1','2', 3, 4], int)\n",
    "print(tmp, type(tmp), type(tmp[0]))\n",
    "\n",
    "tmp = np.array(['1','2', 3, 4], np.float32)\n",
    "print(tmp, type(tmp), type(tmp[0]))\n"
   ]
  },
  {
   "cell_type": "code",
   "execution_count": 46,
   "id": "5daa8203",
   "metadata": {},
   "outputs": [
    {
     "data": {
      "text/plain": [
       "array([ 1,  2,  3, 50])"
      ]
     },
     "execution_count": 46,
     "metadata": {},
     "output_type": "execute_result"
    }
   ],
   "source": [
    "data = [1, 2, 3, 4]\n",
    "\n",
    "a = np.array(data)\n",
    "a[3] = 5\n",
    "\n",
    "b = a\n",
    "b[3] = 50\n",
    "a\n",
    "\n",
    "c = np.array(a, copy=True) # Deep Copy\n",
    "c[3] = 10000\n",
    "a\n",
    "b\n",
    "c"
   ]
  },
  {
   "cell_type": "markdown",
   "id": "f5321ce1",
   "metadata": {},
   "source": [
    "### arange()를 이용한 생성\n",
    "\n",
    "* 일련의 숫자를 만들기 위해, NumPy는 Python의 `range` 내장 함수와 유사한 함수인 `arange` 함수를 제공한다.\n",
    "* default value : start = 0, step = 1"
   ]
  },
  {
   "cell_type": "code",
   "execution_count": 47,
   "id": "d961af27",
   "metadata": {},
   "outputs": [
    {
     "name": "stdout",
     "output_type": "stream",
     "text": [
      "[1 2 3 4 5 6 7 8 9]\n"
     ]
    }
   ],
   "source": [
    "import numpy as np\n",
    "\n",
    "a = np.arange(1, 10)\n",
    "print(a)"
   ]
  },
  {
   "cell_type": "code",
   "execution_count": 48,
   "id": "727b52a3",
   "metadata": {},
   "outputs": [
    {
     "name": "stdout",
     "output_type": "stream",
     "text": [
      "[10 15 20 25]\n"
     ]
    }
   ],
   "source": [
    "b = np.arange(10, 30, 5)\n",
    "print(b)"
   ]
  },
  {
   "cell_type": "code",
   "execution_count": 50,
   "id": "ec0a146f",
   "metadata": {},
   "outputs": [
    {
     "data": {
      "text/plain": [
       "array([], dtype=float64)"
      ]
     },
     "execution_count": 50,
     "metadata": {},
     "output_type": "execute_result"
    }
   ],
   "source": [
    "c = np.arange(0)\n",
    "c\n",
    "d = np.array([])\n",
    "d"
   ]
  },
  {
   "cell_type": "markdown",
   "id": "054ad1d1",
   "metadata": {},
   "source": [
    "### 다차원 배열의 생성\n",
    "\n",
    "- 다차원 배열의 원소는 위와 같은 데이터 타입을 가질 수 있다.\n",
    "- 다차원 배열의 모든 원소는 동일한 데이터 타입을 가져야 한다."
   ]
  },
  {
   "cell_type": "markdown",
   "id": "cd944de9",
   "metadata": {},
   "source": [
    "**boolean**"
   ]
  },
  {
   "cell_type": "code",
   "execution_count": null,
   "id": "6e35c171",
   "metadata": {},
   "outputs": [],
   "source": []
  },
  {
   "cell_type": "markdown",
   "id": "e370464d",
   "metadata": {},
   "source": [
    "**number**\n",
    "\n",
    "- number 데이터를 입력해서 다차원 배열을 생성.\n",
    "- 정수형, 부호없는 정수형, 실수형, 복소수형이 있다.\n",
    "- 정수형 : <font color=\"red\">(default data type은 운영체제에 따라 다르다.)</font>"
   ]
  },
  {
   "cell_type": "code",
   "execution_count": null,
   "id": "644685a7",
   "metadata": {},
   "outputs": [],
   "source": [
    "\n"
   ]
  },
  {
   "cell_type": "markdown",
   "id": "774af7b8",
   "metadata": {},
   "source": [
    "- 부호없는 정수형의 default data type은 'uint32'다. <font color=\"red\">(default data type은 운영체제에 따라 다르다.)</font>"
   ]
  },
  {
   "cell_type": "code",
   "execution_count": null,
   "id": "72388411",
   "metadata": {},
   "outputs": [],
   "source": [
    "\n"
   ]
  },
  {
   "cell_type": "markdown",
   "id": "c1356145",
   "metadata": {},
   "source": [
    "**실수형**\n",
    "- 실수형의 default data type은 'float64'"
   ]
  },
  {
   "cell_type": "code",
   "execution_count": null,
   "id": "16cad623",
   "metadata": {},
   "outputs": [],
   "source": [
    "\n"
   ]
  },
  {
   "cell_type": "markdown",
   "id": "c3e15fa1",
   "metadata": {},
   "source": [
    "**형변환**\n",
    "- 데이터가 정수로 입력되더라도 data type을 실수형으로 명시한다면 실수형으로 자동 형변환이 일어난다"
   ]
  },
  {
   "cell_type": "code",
   "execution_count": null,
   "id": "35769299",
   "metadata": {},
   "outputs": [],
   "source": []
  },
  {
   "cell_type": "markdown",
   "id": "08a5fca2",
   "metadata": {},
   "source": [
    "- 실수 데이터로 입력한 뒤에 data type을 정수형으로 명시"
   ]
  },
  {
   "cell_type": "code",
   "execution_count": null,
   "id": "98ef1a25",
   "metadata": {},
   "outputs": [],
   "source": []
  },
  {
   "cell_type": "markdown",
   "id": "b3872792",
   "metadata": {},
   "source": [
    "## NumPy 배열의 주요 속성\n",
    "\n",
    "NumPy의 배열 클래스를 `ndarray(N-Dimentional Array)`로 부른다.\n",
    "\n",
    "`ndarray` 객체에서 중요한 속성은 다음과 같다.\n",
    "\n",
    "1) **ndarray.ndim**\n",
    "\n",
    "- 배열의 축(차원)의 개수\n",
    "\n",
    "\n",
    "2) **ndarray.shape**\n",
    "\n",
    "- 배열의 차원. 각 차원의 크기를 나타내는 정수 튜플을 반환한다. n개의 행과 m개의 열이 있는 행렬의 경우, `shape`는 `(n, m)`이다.\n",
    "\n",
    "\n",
    "3) **ndarray.size**\n",
    "\n",
    "- 배열의 요소의 총 개수.\n",
    "\n",
    "\n",
    "4) **ndarray.dtype**\n",
    "\n",
    "- 배열의 요소의 자료형. 표준 Python 자료형을 사용하여 만들거나 지정할 수도 있고,\n",
    "- 추가적으로 NumPy가 제공하는 자체 자료형(numpy.int32, numpy.int16, numpy.float64 등)을 사용할 수도 있다.\n",
    "    \n",
    "5) **ndarray.nbytes**\n",
    "\n",
    "- ndarray object의 메모리 크기 반환\n",
    "   "
   ]
  },
  {
   "cell_type": "code",
   "execution_count": 59,
   "id": "210c2cbf",
   "metadata": {},
   "outputs": [
    {
     "name": "stdout",
     "output_type": "stream",
     "text": [
      "10\n",
      "int32\n",
      "0\n",
      "()\n",
      "1\n",
      "4\n"
     ]
    }
   ],
   "source": [
    "# 1) 단일의 값 : Scalar\n",
    "a = np.array(10)\n",
    "print(a)\n",
    "print(a.dtype) # type(a)\n",
    "print(a.ndim)\n",
    "print(a.shape) # tuple의 형태로 반환\n",
    "print(a.size)\n",
    "print(a.nbytes)"
   ]
  },
  {
   "cell_type": "code",
   "execution_count": 66,
   "id": "192fbb7f",
   "metadata": {},
   "outputs": [
    {
     "name": "stdout",
     "output_type": "stream",
     "text": [
      "[1 2 3 4 5]\n",
      "int32\n",
      "1\n",
      "(5,)\n",
      "5\n",
      "20\n"
     ]
    }
   ],
   "source": [
    "# 2) 1차원 배열 : Vector\n",
    "a = np.array([1, 2, 3, 4, 5])\n",
    "print(a)\n",
    "print(a.dtype) # type(a)\n",
    "print(a.ndim)\n",
    "print(a.shape) # tuple의 형태로 반환\n",
    "print(a.size)\n",
    "print(a.nbytes)"
   ]
  },
  {
   "cell_type": "code",
   "execution_count": 74,
   "id": "74a2735e",
   "metadata": {},
   "outputs": [
    {
     "name": "stdout",
     "output_type": "stream",
     "text": [
      "[[1 2]\n",
      " [3 4]\n",
      " [5 6]]\n",
      "int32\n",
      "2\n",
      "(3, 2)\n",
      "6\n",
      "24\n"
     ]
    }
   ],
   "source": [
    "# 3) 2차원 배열 : Matrix (3 x 2)\n",
    "a = np.array([[1, 2], [3, 4], [5, 6]])\n",
    "print(a)\n",
    "print(a.dtype) # type(a)\n",
    "print(a.ndim)\n",
    "print(a.shape) # tuple의 형태로 반환\n",
    "print(a.size)\n",
    "print(a.nbytes)"
   ]
  },
  {
   "cell_type": "code",
   "execution_count": 82,
   "id": "c8616c34",
   "metadata": {},
   "outputs": [
    {
     "name": "stdout",
     "output_type": "stream",
     "text": [
      "[[[ 1  2  3]\n",
      "  [11 21 31]]\n",
      "\n",
      " [[12 22 32]\n",
      "  [13 23 33]]]\n",
      "int32\n",
      "3\n",
      "(2, 2, 3)\n",
      "12\n",
      "48\n"
     ]
    }
   ],
   "source": [
    "# 4) 3차원 배열 : Tensor (2 x 2 x 3)\n",
    "a = np.array([[[1, 2, 3], [11, 21, 31]], [[12, 22, 32], [13, 23, 33]]] )\n",
    "print(a)\n",
    "print(a.dtype) # type(a)\n",
    "print(a.ndim)\n",
    "print(a.shape) # tuple의 형태로 반환\n",
    "print(a.size)\n",
    "print(a.nbytes)"
   ]
  },
  {
   "cell_type": "code",
   "execution_count": null,
   "id": "924558a4",
   "metadata": {},
   "outputs": [],
   "source": []
  },
  {
   "cell_type": "markdown",
   "id": "a98f16a8",
   "metadata": {},
   "source": [
    "- 생성 시 배열의 유형을 명시적으로 지정 (복소수 데이터타입의 생성"
   ]
  },
  {
   "cell_type": "code",
   "execution_count": null,
   "id": "be1f4cac",
   "metadata": {},
   "outputs": [],
   "source": []
  },
  {
   "cell_type": "markdown",
   "id": "765bae6e",
   "metadata": {},
   "source": [
    "## 배열 생성-2\n",
    "\n",
    "### 다차원 배열 생성-2\n",
    "\n",
    "* 다양한 함수를 이용해서 배열을 만들 수도 있다.\n",
    "* `zeros` 함수는 0으로 가득 찬 배열을 생성한다.\n",
    "* `ones` 함수는 1로 가득 찬 배열을 생성한다.\n",
    "* `empty` 함수는 메모리의 상태에 따라 초기 값이 임의로 설정되는 요소로 이루어진 배열을 생성한다."
   ]
  },
  {
   "cell_type": "markdown",
   "id": "01694a52",
   "metadata": {},
   "source": [
    "### numpy.zeros\n",
    "- 모든 요소가 0으로 이루어진, 지정한 크기의 새로운 배열을 생성\n"
   ]
  },
  {
   "cell_type": "code",
   "execution_count": 6,
   "id": "c4136425",
   "metadata": {},
   "outputs": [
    {
     "data": {
      "text/plain": [
       "array([[0., 0., 0.],\n",
       "       [0., 0., 0.],\n",
       "       [0., 0., 0.]])"
      ]
     },
     "execution_count": 6,
     "metadata": {},
     "output_type": "execute_result"
    }
   ],
   "source": [
    "import numpy as np\n",
    "\n",
    "a = np.zeros(4, dtype=int)\n",
    "a\n",
    "b = np.zeros((3,3))\n",
    "b\n",
    "\n",
    "c = np.zeros_like(b)\n",
    "c"
   ]
  },
  {
   "cell_type": "markdown",
   "id": "02cdc7fb",
   "metadata": {},
   "source": [
    "### **numpy.empty**\n",
    "- 엔트리를 초기화하지 않고, 지정한 크기의 새로운 배열을 생성"
   ]
  },
  {
   "cell_type": "code",
   "execution_count": 12,
   "id": "ffefc0c5",
   "metadata": {},
   "outputs": [
    {
     "data": {
      "text/plain": [
       "array([[ 938352264,        666,         64,          0,          0],\n",
       "       [         0,          0,          0,          0,    6357084],\n",
       "       [1630822708,  943011894,  959538736,  959604281,  926508592],\n",
       "       [ 945895219, 1633890871,  845559602,  845361458,  912614201],\n",
       "       [1684222772, 1681143909,  945961008, 1647325286,  946103602]])"
      ]
     },
     "execution_count": 12,
     "metadata": {},
     "output_type": "execute_result"
    }
   ],
   "source": [
    "f = np.empty((5, 5))\n",
    "f\n",
    "\n",
    "g = np.empty_like(f, dtype=int)\n",
    "g"
   ]
  },
  {
   "cell_type": "markdown",
   "id": "ba6bff2a",
   "metadata": {},
   "source": [
    "### numpy.ones\n",
    "- 모든 요소가 1로 이루어진, 지정한 크기의 새로운 배열을 생성"
   ]
  },
  {
   "cell_type": "code",
   "execution_count": 9,
   "id": "1d96aa4a",
   "metadata": {},
   "outputs": [
    {
     "data": {
      "text/plain": [
       "array([[1, 1, 1],\n",
       "       [1, 1, 1],\n",
       "       [1, 1, 1]])"
      ]
     },
     "execution_count": 9,
     "metadata": {},
     "output_type": "execute_result"
    }
   ],
   "source": [
    "d = np.ones(5)\n",
    "d\n",
    "\n",
    "e = np.ones_like(c, dtype=int)\n",
    "e"
   ]
  },
  {
   "cell_type": "markdown",
   "id": "8ce0c386",
   "metadata": {},
   "source": [
    "## 배열 생성-3"
   ]
  },
  {
   "cell_type": "markdown",
   "id": "f28ac0d2",
   "metadata": {},
   "source": [
    "### linspace 함수\n",
    "- 특정 범위 안에서 등분하여 요소들을 설정\n",
    "- 시작 값, 끝 값까지 nums 개수만큼 동일한 간격에 걸쳐 행렬을 만든다."
   ]
  },
  {
   "cell_type": "code",
   "execution_count": 14,
   "id": "37f5e6ed",
   "metadata": {},
   "outputs": [
    {
     "data": {
      "text/plain": [
       "18"
      ]
     },
     "execution_count": 14,
     "metadata": {},
     "output_type": "execute_result"
    }
   ],
   "source": [
    "a = np.arange(1, 10, 0.5)\n",
    "len(a)"
   ]
  },
  {
   "cell_type": "code",
   "execution_count": 17,
   "id": "d1fea402",
   "metadata": {
    "scrolled": true
   },
   "outputs": [
    {
     "data": {
      "text/plain": [
       "9"
      ]
     },
     "execution_count": 17,
     "metadata": {},
     "output_type": "execute_result"
    }
   ],
   "source": [
    "b = np.linspace(0, 5, num=9)\n",
    "len(b)"
   ]
  },
  {
   "cell_type": "code",
   "execution_count": null,
   "id": "997afb3e",
   "metadata": {},
   "outputs": [],
   "source": []
  },
  {
   "cell_type": "markdown",
   "id": "34be50a0",
   "metadata": {},
   "source": [
    "### numpy.identity, numpy.eye\n",
    "\n",
    "* 지정한 크기의 정방 단위 행렬을 생성.\n",
    "* 선형대수학에서, 단위 행렬은 주대각선의 원소가 모두 1이며 나머지 원소는 모두 0인 정사각 행렬이다.\n",
    "* 대각선에 1을, 그 외에 0을 가지는 2차원 배열\n",
    "* eye() 함수도 identity() 함수와 같은 기능을 한다."
   ]
  },
  {
   "cell_type": "code",
   "execution_count": 19,
   "id": "7a906966",
   "metadata": {},
   "outputs": [
    {
     "data": {
      "text/plain": [
       "array([[1, 0, 0],\n",
       "       [0, 1, 0],\n",
       "       [0, 0, 1]])"
      ]
     },
     "execution_count": 19,
     "metadata": {},
     "output_type": "execute_result"
    }
   ],
   "source": [
    "np.identity(3, dtype=int)"
   ]
  },
  {
   "cell_type": "code",
   "execution_count": 23,
   "id": "0c09fdec",
   "metadata": {},
   "outputs": [
    {
     "data": {
      "text/plain": [
       "array([[0., 0., 0., 0.],\n",
       "       [1., 0., 0., 0.],\n",
       "       [0., 1., 0., 0.]])"
      ]
     },
     "execution_count": 23,
     "metadata": {},
     "output_type": "execute_result"
    }
   ],
   "source": [
    "np.eye(3, 4, -1)"
   ]
  },
  {
   "cell_type": "markdown",
   "id": "8704dcf0",
   "metadata": {},
   "source": [
    "### numpy.full\n",
    "- 지정한 크기에 입력한 원소를 전부 채운 행렬을 만든다."
   ]
  },
  {
   "cell_type": "code",
   "execution_count": 24,
   "id": "1d361987",
   "metadata": {},
   "outputs": [
    {
     "data": {
      "text/plain": [
       "array([[7, 7, 7],\n",
       "       [7, 7, 7]])"
      ]
     },
     "execution_count": 24,
     "metadata": {},
     "output_type": "execute_result"
    }
   ],
   "source": [
    "np.full((2, 3), 7)"
   ]
  },
  {
   "cell_type": "code",
   "execution_count": 25,
   "id": "32904871",
   "metadata": {},
   "outputs": [
    {
     "data": {
      "text/plain": [
       "array([[7, 7, 7],\n",
       "       [7, 7, 7]])"
      ]
     },
     "execution_count": 25,
     "metadata": {},
     "output_type": "execute_result"
    }
   ],
   "source": [
    "7 * np.ones((2, 3), dtype=int)"
   ]
  },
  {
   "cell_type": "markdown",
   "id": "cf8fe539",
   "metadata": {},
   "source": [
    "### like 함수"
   ]
  },
  {
   "cell_type": "code",
   "execution_count": null,
   "id": "c14494d4",
   "metadata": {},
   "outputs": [],
   "source": []
  },
  {
   "cell_type": "markdown",
   "id": "de62a588",
   "metadata": {},
   "source": [
    "## 기본 연산\n",
    "\n",
    "- 배열에 대한 산술 연산자는 **요소별**로 적용된다. 새로운 배열이 생성되고 결과로 채워진다.\n",
    "\n",
    "### 산술연산\n",
    "\n",
    "- 배열의 모든 요소의 합을 구하기 등, 많은 단항 연산이 `ndarray` 클래스의 메서드로 구현되어 있다."
   ]
  },
  {
   "cell_type": "code",
   "execution_count": 33,
   "id": "ec650eb9",
   "metadata": {},
   "outputs": [
    {
     "data": {
      "text/plain": [
       "array([[ 0.,  2.,  4.],\n",
       "       [ 3.,  5.,  7.],\n",
       "       [ 6.,  8., 10.]])"
      ]
     },
     "execution_count": 33,
     "metadata": {},
     "output_type": "execute_result"
    }
   ],
   "source": [
    "import numpy as np\n",
    "\n",
    "# 덧셈\n",
    "\n",
    "x = np.arange(9.0).reshape(3, 3)\n",
    "y = np.arange(3.)\n",
    "np.add(x, y)"
   ]
  },
  {
   "cell_type": "code",
   "execution_count": 34,
   "id": "8a1e3370",
   "metadata": {
    "scrolled": true
   },
   "outputs": [
    {
     "data": {
      "text/plain": [
       "array([[0., 0., 0.],\n",
       "       [3., 3., 3.],\n",
       "       [6., 6., 6.]])"
      ]
     },
     "execution_count": 34,
     "metadata": {},
     "output_type": "execute_result"
    }
   ],
   "source": [
    "np.subtract(x, y)"
   ]
  },
  {
   "cell_type": "code",
   "execution_count": 35,
   "id": "584451ce",
   "metadata": {},
   "outputs": [
    {
     "data": {
      "text/plain": [
       "array([[ 0.,  1.,  4.],\n",
       "       [ 0.,  4., 10.],\n",
       "       [ 0.,  7., 16.]])"
      ]
     },
     "execution_count": 35,
     "metadata": {},
     "output_type": "execute_result"
    }
   ],
   "source": [
    "np.multiply(x, y)"
   ]
  },
  {
   "cell_type": "code",
   "execution_count": 37,
   "id": "0595cc88",
   "metadata": {
    "scrolled": true
   },
   "outputs": [
    {
     "name": "stderr",
     "output_type": "stream",
     "text": [
      "<ipython-input-37-192e9df149d2>:1: RuntimeWarning: divide by zero encountered in true_divide\n",
      "  np.true_divide(x, y)\n",
      "<ipython-input-37-192e9df149d2>:1: RuntimeWarning: invalid value encountered in true_divide\n",
      "  np.true_divide(x, y)\n"
     ]
    },
    {
     "data": {
      "text/plain": [
       "array([[nan, 1. , 1. ],\n",
       "       [inf, 4. , 2.5],\n",
       "       [inf, 7. , 4. ]])"
      ]
     },
     "execution_count": 37,
     "metadata": {},
     "output_type": "execute_result"
    }
   ],
   "source": [
    "np.true_divide(x, y)"
   ]
  },
  {
   "cell_type": "code",
   "execution_count": 40,
   "id": "b44f8a3a",
   "metadata": {},
   "outputs": [
    {
     "data": {
      "text/plain": [
       "array([0, 1, 4, 9], dtype=int32)"
      ]
     },
     "execution_count": 40,
     "metadata": {},
     "output_type": "execute_result"
    }
   ],
   "source": [
    "x=np.arange(4)\n",
    "x ** 2"
   ]
  },
  {
   "cell_type": "code",
   "execution_count": 41,
   "id": "bb06e180",
   "metadata": {},
   "outputs": [
    {
     "data": {
      "text/plain": [
       "array([0.7, 1.7])"
      ]
     },
     "execution_count": 41,
     "metadata": {},
     "output_type": "execute_result"
    }
   ],
   "source": [
    "np.remainder([4.7], [2,3])"
   ]
  },
  {
   "cell_type": "code",
   "execution_count": null,
   "id": "616450e4",
   "metadata": {},
   "outputs": [],
   "source": []
  },
  {
   "cell_type": "code",
   "execution_count": null,
   "id": "b0d0c21e",
   "metadata": {},
   "outputs": [],
   "source": []
  },
  {
   "cell_type": "code",
   "execution_count": null,
   "id": "b4b849c1",
   "metadata": {},
   "outputs": [],
   "source": []
  },
  {
   "cell_type": "markdown",
   "id": "d4f9f148",
   "metadata": {},
   "source": [
    "- `+=` 및 `*=`과 같은 일부 연산자는 새 배열을 생성하지 않고 기존 배열을 수정한다."
   ]
  },
  {
   "cell_type": "code",
   "execution_count": 42,
   "id": "e3da647e",
   "metadata": {},
   "outputs": [
    {
     "name": "stdout",
     "output_type": "stream",
     "text": [
      "[[1 1 1]\n",
      " [1 1 1]]\n",
      "[[3 3 3]\n",
      " [3 3 3]]\n"
     ]
    }
   ],
   "source": [
    "a = np.zeros((2, 3), dtype=int)\n",
    "a += 1\n",
    "print(a)\n",
    "a *= 3\n",
    "print(a)"
   ]
  },
  {
   "cell_type": "markdown",
   "id": "4b8b47cf",
   "metadata": {},
   "source": [
    "* 연산 시 자료형은 적절하게 형변환(Upcasting)된다."
   ]
  },
  {
   "cell_type": "code",
   "execution_count": null,
   "id": "5e8e4860",
   "metadata": {},
   "outputs": [],
   "source": []
  },
  {
   "cell_type": "markdown",
   "id": "2a269a2d",
   "metadata": {},
   "source": [
    "### 통계연산\n",
    "\n",
    "* 참고 : https://docs.scipy.org/doc/numpy/reference/routines.statistics.html\n",
    "* 통계 연산은 axis와 밀접한 관계가 있다."
   ]
  },
  {
   "cell_type": "code",
   "execution_count": 47,
   "id": "ccb4c395",
   "metadata": {
    "scrolled": false
   },
   "outputs": [
    {
     "name": "stdout",
     "output_type": "stream",
     "text": [
      "[[1 2 3]\n",
      " [4 5 6]\n",
      " [7 8 9]]\n"
     ]
    },
    {
     "data": {
      "text/plain": [
       "array([ 6, 15, 24])"
      ]
     },
     "execution_count": 47,
     "metadata": {},
     "output_type": "execute_result"
    }
   ],
   "source": [
    "# sum(), mean(), cumsum()\n",
    "A = np.arange(1, 10).reshape(3,3)\n",
    "print(A)\n",
    "\n",
    "A.sum()\n",
    "A.sum(axis=0) # 열의합\n",
    "A.sum(axis=1) # 행의합\n"
   ]
  },
  {
   "cell_type": "code",
   "execution_count": 50,
   "id": "2920d97c",
   "metadata": {},
   "outputs": [
    {
     "name": "stdout",
     "output_type": "stream",
     "text": [
      "[[1 2 3]\n",
      " [4 5 6]\n",
      " [7 8 9]]\n"
     ]
    },
    {
     "data": {
      "text/plain": [
       "array([4., 5., 6.])"
      ]
     },
     "execution_count": 50,
     "metadata": {},
     "output_type": "execute_result"
    }
   ],
   "source": [
    "B = np.arange(1, 10).reshape(3,3)\n",
    "print(B)\n",
    "\n",
    "B.mean()\n",
    "B.mean(axis=0)"
   ]
  },
  {
   "cell_type": "markdown",
   "id": "996d8e04",
   "metadata": {},
   "source": [
    "**numpy.amin, numpy.amax**\n",
    "- axis 을 따른 배열 또는 최소의 최소치"
   ]
  },
  {
   "cell_type": "code",
   "execution_count": 56,
   "id": "a07a944e",
   "metadata": {},
   "outputs": [
    {
     "name": "stdout",
     "output_type": "stream",
     "text": [
      "[[1 2 3]\n",
      " [4 5 6]\n",
      " [7 8 9]]\n"
     ]
    },
    {
     "data": {
      "text/plain": [
       "array([3, 6, 9])"
      ]
     },
     "execution_count": 56,
     "metadata": {},
     "output_type": "execute_result"
    }
   ],
   "source": [
    "C = np.arange(1, 10).reshape(3,3)\n",
    "print(C)\n",
    "np.amin(C)\n",
    "np.amin(C, axis=0)\n",
    "np.amax(C, axis=1)"
   ]
  },
  {
   "cell_type": "markdown",
   "id": "3a723e73",
   "metadata": {},
   "source": [
    "**numpy.median**\n",
    "- axis 을 따른 배열 중앙값"
   ]
  },
  {
   "cell_type": "code",
   "execution_count": 59,
   "id": "6eb7865c",
   "metadata": {},
   "outputs": [
    {
     "name": "stdout",
     "output_type": "stream",
     "text": [
      "[[1 2 3]\n",
      " [4 5 6]\n",
      " [7 8 9]]\n"
     ]
    },
    {
     "data": {
      "text/plain": [
       "array([2., 5., 8.])"
      ]
     },
     "execution_count": 59,
     "metadata": {},
     "output_type": "execute_result"
    }
   ],
   "source": [
    "C = np.arange(1, 10).reshape(3,3)\n",
    "print(C)\n",
    "np.median(C)\n",
    "np.median(C, axis=0)\n",
    "np.median(C, axis=1)"
   ]
  },
  {
   "cell_type": "markdown",
   "id": "9e8d8412",
   "metadata": {},
   "source": [
    "**numpy.mean**\n",
    "- 축을 따라 산술 평균을 계산\n",
    "- 가중평균을 구하려면 numpy.average를 사용"
   ]
  },
  {
   "cell_type": "code",
   "execution_count": null,
   "id": "72c84e97",
   "metadata": {},
   "outputs": [],
   "source": []
  },
  {
   "cell_type": "markdown",
   "id": "310d60c9",
   "metadata": {},
   "source": [
    "**numpy.var, numpy.std**\n",
    "- 지정된 축을 따라 분산, 표준편차를 계산"
   ]
  },
  {
   "cell_type": "code",
   "execution_count": 61,
   "id": "c99c5161",
   "metadata": {},
   "outputs": [
    {
     "data": {
      "text/plain": [
       "2.581988897471611"
      ]
     },
     "execution_count": 61,
     "metadata": {},
     "output_type": "execute_result"
    }
   ],
   "source": [
    "np.var(C)\n",
    "np.std(C)"
   ]
  },
  {
   "cell_type": "markdown",
   "id": "5ef19764",
   "metadata": {},
   "source": [
    "**np.max**\n",
    "- np.amax의 별칭\n",
    "- 하나의 배열에서만 동작 --> 스칼라 값 반환\n",
    "- axis를 이용하면 배열의 축에 따라 최대값(최소값을 찾는다.)"
   ]
  },
  {
   "cell_type": "code",
   "execution_count": null,
   "id": "ba7cbec2",
   "metadata": {},
   "outputs": [],
   "source": []
  },
  {
   "cell_type": "markdown",
   "id": "5e34e3b2",
   "metadata": {},
   "source": [
    "**np.maximum**\n",
    "\n",
    "- 두 개의 배열을 가져와 요소별 최대값 계산\n",
    "- broadcast 될 수 있다.\n",
    "- 참고 : https://newbedev.com/numpy-max-vs-amax-vs-maximum"
   ]
  },
  {
   "cell_type": "code",
   "execution_count": 65,
   "id": "96467b50",
   "metadata": {
    "scrolled": true
   },
   "outputs": [
    {
     "data": {
      "text/plain": [
       "array([4, 6, 9, 8])"
      ]
     },
     "execution_count": 65,
     "metadata": {},
     "output_type": "execute_result"
    }
   ],
   "source": [
    "a = np.array([3, 6, 1])\n",
    "b = np.array([4, 2, 9, 8])\n",
    "# ???\n",
    "np.maximum(a, b)"
   ]
  },
  {
   "cell_type": "markdown",
   "id": "ba9897a3",
   "metadata": {},
   "source": [
    "### 최소값, 최대값 아규먼트 위치\n",
    "- argmax(), argmin()\n",
    "    - 제일 큰 값 위치 정보\n",
    "    - 제일 작은 값 위치 정보\n",
    "\n",
    "\n",
    "- np.where(조건)\n",
    "- np.where(조건, 조건에 맞을 때 값, 조건과 다를 때 값)"
   ]
  },
  {
   "cell_type": "code",
   "execution_count": 67,
   "id": "c80e94a1",
   "metadata": {},
   "outputs": [
    {
     "data": {
      "text/plain": [
       "1"
      ]
     },
     "execution_count": 67,
     "metadata": {},
     "output_type": "execute_result"
    }
   ],
   "source": [
    "a = np.array([3, 6, 1])\n",
    "b = np.array([4, 2, 9, 8])\n",
    "np.argmax(a)"
   ]
  },
  {
   "cell_type": "code",
   "execution_count": 70,
   "id": "c7a2410e",
   "metadata": {},
   "outputs": [
    {
     "data": {
      "text/plain": [
       "array([0, 7, 8, 0, 9, 0, 0])"
      ]
     },
     "execution_count": 70,
     "metadata": {},
     "output_type": "execute_result"
    }
   ],
   "source": [
    "c = np.array([5, 7, 8, 1, 9, 3, 4])\n",
    "np.where(c > 5)\n",
    "np.where(c > 5, 1, -1)\n",
    "np.where(c > 5, c, 0)\n"
   ]
  },
  {
   "cell_type": "markdown",
   "id": "0b8b03bf",
   "metadata": {},
   "source": [
    "### 비교연산\n",
    "\n",
    "**단순비교**\n",
    "* 연산자를 이용하여 element별 비교\n",
    "* ==, !=, >, >=, <, <=\n"
   ]
  },
  {
   "cell_type": "code",
   "execution_count": 74,
   "id": "9c5a2ab3",
   "metadata": {},
   "outputs": [
    {
     "data": {
      "text/plain": [
       "array([False,  True, False])"
      ]
     },
     "execution_count": 74,
     "metadata": {},
     "output_type": "execute_result"
    }
   ],
   "source": [
    "a = np.array([1, 2, 3])\n",
    "b = np.array([1, 2, 3])\n",
    "c = np.array([3, 2, 5])\n",
    "\n",
    "a == b\n",
    "a == c"
   ]
  },
  {
   "cell_type": "code",
   "execution_count": 77,
   "id": "8d09c457",
   "metadata": {},
   "outputs": [
    {
     "data": {
      "text/plain": [
       "array([[False,  True, False],\n",
       "       [ True, False,  True],\n",
       "       [False,  True, False]])"
      ]
     },
     "execution_count": 77,
     "metadata": {},
     "output_type": "execute_result"
    }
   ],
   "source": [
    "d = np.arange(1, 10).reshape(3, 3)\n",
    "d % 2 == 0"
   ]
  },
  {
   "cell_type": "markdown",
   "id": "2d978789",
   "metadata": {},
   "source": [
    "**all(), any() 을 이용한 비교**\n",
    "- all() : 요소 전체가 같아야 하나의 True\n",
    "- any() : 요소 전체중 하나만 같아도 True"
   ]
  },
  {
   "cell_type": "code",
   "execution_count": 81,
   "id": "1e6c76bf",
   "metadata": {},
   "outputs": [
    {
     "data": {
      "text/plain": [
       "True"
      ]
     },
     "execution_count": 81,
     "metadata": {},
     "output_type": "execute_result"
    }
   ],
   "source": [
    "a = np.array([1, 2, 3])\n",
    "b = np.array([1, 2, 3])\n",
    "c = np.array([3, 2, 5])\n",
    "\n",
    "np.all(a == b)\n",
    "np.all(a == c)\n",
    "np.any(a == b)\n",
    "np.any(a == c)"
   ]
  },
  {
   "cell_type": "markdown",
   "id": "2cc9950d",
   "metadata": {},
   "source": [
    "### Boolean 연산\n",
    "\n",
    "* logical_and, logical_or, logical_not, logical_xor\n",
    "* 결과는 True/False로 리턴"
   ]
  },
  {
   "cell_type": "code",
   "execution_count": 89,
   "id": "5f48276f",
   "metadata": {
    "scrolled": false
   },
   "outputs": [
    {
     "name": "stdout",
     "output_type": "stream",
     "text": [
      "[[False  True False  True False]\n",
      " [ True False  True False  True]]\n",
      "[[False False False  True  True]\n",
      " [ True  True  True  True  True]]\n"
     ]
    },
    {
     "data": {
      "text/plain": [
       "array([[ True,  True,  True, False, False],\n",
       "       [False, False, False, False, False]])"
      ]
     },
     "execution_count": 89,
     "metadata": {},
     "output_type": "execute_result"
    }
   ],
   "source": [
    "d = np.arange(1, 11).reshape(2, 5)\n",
    "\n",
    "x = d % 2 == 0\n",
    "y = d >= 4\n",
    "print(x)\n",
    "print(y)\n",
    "np.logical_xor(x, y)\n",
    "~y"
   ]
  },
  {
   "cell_type": "markdown",
   "id": "26923ca7",
   "metadata": {},
   "source": [
    "# 행렬연산\n",
    "\n",
    "`*` 연산자 또한 요소별로 적용된다.\n",
    "\n",
    "`@` 연산자 또는 `dot` 함수를 사용하여 행렬 곱을 수행할 수 있다."
   ]
  },
  {
   "cell_type": "code",
   "execution_count": 1,
   "id": "f1d01a8f",
   "metadata": {},
   "outputs": [],
   "source": [
    "import numpy as np"
   ]
  },
  {
   "cell_type": "code",
   "execution_count": 2,
   "id": "e9287c29",
   "metadata": {},
   "outputs": [],
   "source": [
    "A = np.array([[1, 1],\n",
    "              [0, 1]])\n",
    "B = np.array([[2, 0],\n",
    "              [3, 4]])"
   ]
  },
  {
   "cell_type": "code",
   "execution_count": 6,
   "id": "97f09e47",
   "metadata": {},
   "outputs": [
    {
     "name": "stdout",
     "output_type": "stream",
     "text": [
      "[[2 0]\n",
      " [0 4]]\n",
      "[[5 4]\n",
      " [3 4]]\n",
      "[[5 4]\n",
      " [3 4]]\n"
     ]
    }
   ],
   "source": [
    "print(A * B)\n",
    "print(A @ B)\n",
    "print(A.dot(B))\n"
   ]
  },
  {
   "cell_type": "code",
   "execution_count": null,
   "id": "fcc7b1bd",
   "metadata": {},
   "outputs": [],
   "source": []
  },
  {
   "cell_type": "markdown",
   "id": "b8604e7c",
   "metadata": {},
   "source": [
    "## 내적\n",
    "\n",
    "### * 연산자\n",
    "- 형태(shape)가 동일한 두 행렬을 원소끼리(element-wise) 곱하는 연산자\n",
    "- shape이 다르면 오류발생\n",
    "- 교환법칙 가능"
   ]
  },
  {
   "cell_type": "code",
   "execution_count": 7,
   "id": "004d42c2",
   "metadata": {},
   "outputs": [],
   "source": [
    "A = np.array([[1, 1],\n",
    "              [0, 1]])\n",
    "B = np.array([[2, 0],\n",
    "              [3, 4]])"
   ]
  },
  {
   "cell_type": "code",
   "execution_count": 8,
   "id": "2e66f19b",
   "metadata": {},
   "outputs": [
    {
     "name": "stdout",
     "output_type": "stream",
     "text": [
      "[[2 0]\n",
      " [0 4]]\n",
      "[[2 0]\n",
      " [0 4]]\n"
     ]
    }
   ],
   "source": [
    "# 교환법칙??\n",
    "print(A * B)\n",
    "print(B * A)"
   ]
  },
  {
   "cell_type": "code",
   "execution_count": 12,
   "id": "17769e1b",
   "metadata": {},
   "outputs": [],
   "source": [
    "# shape 다르면? 'Value Error'\n",
    "A = np.arange(6).reshape(2, 3)\n",
    "B = np.arange(-5, 1).reshape(3, 2)\n",
    "# B * A"
   ]
  },
  {
   "cell_type": "markdown",
   "id": "9b6d153f",
   "metadata": {},
   "source": [
    "### @, dot() 연산자 / numpy.matmul()\n",
    "\n",
    "- 두 벡터(vector)의 내적, 내적곱, 점곱 등을 계산하는 함수\n",
    "- 행렬곱에서도 사용가능하지만, 그러한 경우 공식문서에서는 numpy.matmul 사용을 권장\n",
    "- 두 행렬의 곱을 numpy.dot으로 계산하려면, 첫 번째 행렬의 열크기(column)와 두번째 행렬의 행크기(row)가 서로 같아야 함\n",
    "\n",
    "**dot()과 matmul()의 차이**\n",
    "- dot는 행렬과 상수(constant)의 곱셈을 가능, matmul은 Error 발생\n",
    "- 3차원 이상의 행렬곱(Tensor multiplication)을 수행할 경우, 결과가 다르다"
   ]
  },
  {
   "cell_type": "code",
   "execution_count": 15,
   "id": "d1b0a749",
   "metadata": {},
   "outputs": [
    {
     "name": "stdout",
     "output_type": "stream",
     "text": [
      "[[ -5  -2]\n",
      " [-32 -20]]\n",
      "[[-12 -21 -30]\n",
      " [ -6 -11 -16]\n",
      " [  0  -1  -2]]\n"
     ]
    }
   ],
   "source": [
    "A = np.arange(6).reshape(2, 3)\n",
    "B = np.arange(-5, 1).reshape(3, 2)\n",
    "\n",
    "print(np.matmul(A, B))\n",
    "print(np.matmul(B, A))"
   ]
  },
  {
   "cell_type": "code",
   "execution_count": 16,
   "id": "cf0cd30e",
   "metadata": {},
   "outputs": [
    {
     "name": "stdout",
     "output_type": "stream",
     "text": [
      "[[ -5  -2]\n",
      " [-32 -20]]\n",
      "[[-12 -21 -30]\n",
      " [ -6 -11 -16]\n",
      " [  0  -1  -2]]\n"
     ]
    }
   ],
   "source": [
    "print(A.dot(B))\n",
    "print(B.dot(A))"
   ]
  },
  {
   "cell_type": "code",
   "execution_count": 17,
   "id": "b8c709be",
   "metadata": {
    "scrolled": true
   },
   "outputs": [
    {
     "name": "stdout",
     "output_type": "stream",
     "text": [
      "[[ -5  -2]\n",
      " [-32 -20]]\n",
      "[[-12 -21 -30]\n",
      " [ -6 -11 -16]\n",
      " [  0  -1  -2]]\n"
     ]
    }
   ],
   "source": [
    "print(np.dot(A, B))\n",
    "print(np.dot(B, A))"
   ]
  },
  {
   "cell_type": "code",
   "execution_count": null,
   "id": "d3a5d15b",
   "metadata": {},
   "outputs": [],
   "source": []
  },
  {
   "cell_type": "markdown",
   "id": "32b531a9",
   "metadata": {},
   "source": [
    "## 전치(transpose)\n",
    "\n",
    "* 전치는 기존 행렬의 행과 열을 교환하는 것, 즉 주대각선을 기준으로 반사 대칭하는 것을 말한다.\n",
    "\n",
    "* 배열 객체의 ‘T’ 속성을 사용한다.\n"
   ]
  },
  {
   "cell_type": "code",
   "execution_count": 20,
   "id": "46e97e27",
   "metadata": {},
   "outputs": [
    {
     "name": "stdout",
     "output_type": "stream",
     "text": [
      "[[0 1]\n",
      " [2 3]]\n",
      "[[0 2]\n",
      " [1 3]]\n"
     ]
    }
   ],
   "source": [
    "A = np.arange(4).reshape(2, 2)\n",
    "B = A.T\n",
    "print(A)\n",
    "print(B)"
   ]
  },
  {
   "cell_type": "code",
   "execution_count": null,
   "id": "a8666759",
   "metadata": {},
   "outputs": [],
   "source": []
  },
  {
   "cell_type": "markdown",
   "id": "eed73d5a",
   "metadata": {},
   "source": [
    "- 차원이 1인 배열을 전치할 경우 결과 배열은 원본 배열과 동일하다."
   ]
  },
  {
   "cell_type": "code",
   "execution_count": 23,
   "id": "3f464cc7",
   "metadata": {},
   "outputs": [
    {
     "name": "stdout",
     "output_type": "stream",
     "text": [
      "[1 2 3 4] 1\n",
      "[1 2 3 4] 1\n"
     ]
    }
   ],
   "source": [
    "A = np.arange(1, 5).reshape(2, 2)\n",
    "B = A.flatten()\n",
    "print(B, B.ndim)\n",
    "print(B.T, B.T.ndim)\n"
   ]
  },
  {
   "cell_type": "code",
   "execution_count": null,
   "id": "5d2f6441",
   "metadata": {
    "scrolled": true
   },
   "outputs": [],
   "source": []
  },
  {
   "cell_type": "markdown",
   "id": "078fbc66",
   "metadata": {},
   "source": [
    "* 대부분의 이러한 연산들은 `axis` 매개 변수를 지정하면 배열의 지정된 축을 따라 작업을 적용 할 수 있다."
   ]
  },
  {
   "cell_type": "markdown",
   "id": "0545b886",
   "metadata": {},
   "source": [
    "# axis의 개념\n",
    "\n",
    "## axis 란\n",
    "\n",
    "* NumPy 배열은 다차원 배열을 지원하며 배열의 구조는 \"Shape\"으로 표현된다.\n",
    "* Shape은 배열의 구조를 파이썬 Tuple 자료형으로 정의\n",
    "* 예를 들어 32x32 컬러 사진은 높이가 32, 폭이 32, 픽셀 당 3개 채널(RGB)로 구성된 데이터 구조를 갖게 되므로\n",
    "컬러 사진 데이터는 (32, 32, 3)인 Shape을 갖는다.\n",
    "* 다차원 배열의 데이터 방향을 axis로 표현한다.\n",
    "* axis는 0부터 시작하며 집계(Aggregation) 함수는 배열 데이터의 집계 방향을 지정하는 axis 옵션을 제공\n",
    "\n",
    "<img src=\"./images/numpy_axis.png\" width=\"50%\">\n"
   ]
  },
  {
   "cell_type": "markdown",
   "id": "47abd27c",
   "metadata": {},
   "source": [
    "<img src=\"./images/numpy_axis2.png\">"
   ]
  },
  {
   "cell_type": "code",
   "execution_count": 24,
   "id": "ec52ea8d",
   "metadata": {},
   "outputs": [],
   "source": [
    "import numpy as np"
   ]
  },
  {
   "cell_type": "code",
   "execution_count": 29,
   "id": "0c81ee47",
   "metadata": {},
   "outputs": [
    {
     "name": "stdout",
     "output_type": "stream",
     "text": [
      "[[ 0  1  2  3]\n",
      " [ 4  5  6  7]\n",
      " [ 8  9 10 11]]\n",
      "전체 합계: 66\n",
      "axis=0 합계: [12 15 18 21]\n",
      "axis=1 합계: [ 6 22 38]\n"
     ]
    }
   ],
   "source": [
    "A = np.arange(12).reshape(3, 4)\n",
    "print(A)\n",
    "print('전체 합계:', A.sum())\n",
    "print('axis=0 합계:', A.sum(axis=0)) # 열 위치는 같고, 행위치가 다른 것들 합계 : 열개수\n",
    "print('axis=1 합계:', A.sum(axis=1)) # 행 위치는 같고, 열위치가 다른 것들 합계 : 행개수"
   ]
  },
  {
   "cell_type": "code",
   "execution_count": 30,
   "id": "eca777b2",
   "metadata": {},
   "outputs": [
    {
     "name": "stdout",
     "output_type": "stream",
     "text": [
      "[[[ 0  1  2  3]\n",
      "  [ 4  5  6  7]\n",
      "  [ 8  9 10 11]]\n",
      "\n",
      " [[12 13 14 15]\n",
      "  [16 17 18 19]\n",
      "  [20 21 22 23]]]\n"
     ]
    }
   ],
   "source": [
    "B = np.arange(24).reshape(2, 3, 4)\n",
    "print(B)\n",
    "\n",
    "print('전체 합계:', B.sum())\n",
    "print('axis=0 합계:', B.sum(axis=0)) # \n",
    "print('axis=1 합계:', B.sum(axis=1)) # \n",
    "print('axis=2 합계:', B.sum(axis=2))"
   ]
  },
  {
   "cell_type": "markdown",
   "id": "2df6c88c",
   "metadata": {},
   "source": [
    "# 배열의 형태(shape) 변경\n",
    "\n",
    "## numpy.reshape() 혹은 numpy.ndarray.reshape()\n",
    "\n",
    "* 데이터를 변경하지 않고 배열을 새로운 shape로 수정한다."
   ]
  },
  {
   "cell_type": "code",
   "execution_count": null,
   "id": "241e30ef",
   "metadata": {},
   "outputs": [],
   "source": [
    "# reshape\n",
    "\n"
   ]
  },
  {
   "cell_type": "markdown",
   "id": "5c01e2e0",
   "metadata": {},
   "source": [
    "## numpy.ndarray.resize()\n",
    "\n",
    "* 원본 배열을 새로운 shape로 수정한다."
   ]
  },
  {
   "cell_type": "code",
   "execution_count": null,
   "id": "30a94892",
   "metadata": {},
   "outputs": [],
   "source": [
    "\n",
    "\n"
   ]
  },
  {
   "cell_type": "markdown",
   "id": "19b9cdea",
   "metadata": {},
   "source": [
    "## numpy.ndarray.flatten()\n",
    "\n",
    "* 배열을 1차원으로 만든다."
   ]
  },
  {
   "cell_type": "code",
   "execution_count": null,
   "id": "c03b9176",
   "metadata": {},
   "outputs": [],
   "source": []
  },
  {
   "cell_type": "markdown",
   "id": "953bae02",
   "metadata": {},
   "source": [
    "## expand_dim\n",
    "\n",
    "- numpy array의 차원을 늘려 줌"
   ]
  },
  {
   "cell_type": "code",
   "execution_count": null,
   "id": "9e72381f",
   "metadata": {},
   "outputs": [],
   "source": []
  },
  {
   "cell_type": "code",
   "execution_count": null,
   "id": "a017d722",
   "metadata": {},
   "outputs": [],
   "source": []
  },
  {
   "cell_type": "code",
   "execution_count": null,
   "id": "aadd3bf3",
   "metadata": {},
   "outputs": [],
   "source": []
  },
  {
   "cell_type": "code",
   "execution_count": null,
   "id": "17de890e",
   "metadata": {},
   "outputs": [],
   "source": []
  },
  {
   "cell_type": "markdown",
   "id": "c86009a1",
   "metadata": {},
   "source": [
    "## numpy.concatenate()\n",
    "\n",
    "* 두 개 이상의 배열을 연결한다.\n",
    "* concatenate() 함수를 수행하려면 차원 수가 같아야 한다."
   ]
  },
  {
   "cell_type": "code",
   "execution_count": null,
   "id": "aa88fa51",
   "metadata": {},
   "outputs": [],
   "source": []
  },
  {
   "cell_type": "code",
   "execution_count": null,
   "id": "e16dc771",
   "metadata": {},
   "outputs": [],
   "source": []
  },
  {
   "cell_type": "code",
   "execution_count": null,
   "id": "ff83114d",
   "metadata": {},
   "outputs": [],
   "source": []
  },
  {
   "cell_type": "markdown",
   "id": "6447eb47",
   "metadata": {},
   "source": [
    "* 세 개 이상의 배열을 연결할 수도 있다."
   ]
  },
  {
   "cell_type": "code",
   "execution_count": null,
   "id": "19736412",
   "metadata": {},
   "outputs": [],
   "source": [
    "\n"
   ]
  },
  {
   "cell_type": "markdown",
   "id": "ae4768cc",
   "metadata": {},
   "source": [
    "* axis 인수를 설정하여 연결 방향을 정할 수 있다."
   ]
  },
  {
   "cell_type": "code",
   "execution_count": null,
   "id": "03632a51",
   "metadata": {},
   "outputs": [],
   "source": []
  },
  {
   "cell_type": "markdown",
   "id": "5b21e246",
   "metadata": {},
   "source": [
    "# 인덱싱, 슬라이싱, 반복\n",
    "\n",
    "* **1차원** 배열은 Python list와 같이 인덱싱, 슬라이싱, 반복할 수 있다."
   ]
  },
  {
   "cell_type": "markdown",
   "id": "ffc11e64",
   "metadata": {},
   "source": [
    "## 슬라이싱\n",
    "\n",
    "* 파이썬 리스트와 유사하게, Numpy 배열도 슬라이싱이 가능\n",
    "* Numpy 배열은 다차원인 경우가 많기에, 각 차원별로 어떻게 슬라이스할건지 명확히 해야 한다. \n",
    "* Numpy 배열을 슬라이싱하면, 연속된 값을 가져오기에 결과로 얻어지는 배열은 언제나 원본 배열의 부분 배열\n",
    "\n",
    "**슬라이싱 방법** \n",
    "- `a[행 슬라이싱 시작:행 슬라이싱 끝, 열 슬라이싱 시작:열 슬라이싱 끝]`\n",
    "- **시작값**부터 **끝값** <font color=\"red\">전</font>까지 슬라이싱"
   ]
  },
  {
   "cell_type": "code",
   "execution_count": 35,
   "id": "45fab03c",
   "metadata": {},
   "outputs": [
    {
     "name": "stdout",
     "output_type": "stream",
     "text": [
      "[[ 1  2  3  4]\n",
      " [ 5  6  7  8]\n",
      " [ 9 10 11 12]]\n",
      "[[1 2 3 4]\n",
      " [5 6 7 8]]\n",
      "[[1 2 3 4]\n",
      " [5 6 7 8]]\n",
      "[[1 2 3 4]\n",
      " [5 6 7 8]]\n"
     ]
    }
   ],
   "source": [
    "import numpy as np\n",
    "\n",
    "A = np.arange(1, 13).reshape(3, 4)\n",
    "\n",
    "print(A)\n",
    "print(A[0:2, 0:4])\n",
    "print(A[:2, :])\n",
    "print(A[:2])"
   ]
  },
  {
   "cell_type": "code",
   "execution_count": 41,
   "id": "464ed9a9",
   "metadata": {},
   "outputs": [
    {
     "name": "stdout",
     "output_type": "stream",
     "text": [
      "[[ 1  2  3  4  5  6]\n",
      " [ 7  8  9 10 11 12]\n",
      " [13 14 15 16 17 18]\n",
      " [19 20 21 22 23 24]]\n",
      "[[ 8  9 10 11]\n",
      " [14 15 16 17]]\n",
      "[[ 8  9 10 11]\n",
      " [14 15 16 17]]\n",
      "[[ 8  9 10 11]\n",
      " [14 15 16 17]]\n",
      "[[  1   2   3   4   5   6]\n",
      " [  7   8 999 999  11  12]\n",
      " [ 13  14 999 999  17  18]\n",
      " [ 19  20  21  22  23  24]]\n"
     ]
    }
   ],
   "source": [
    "B = np.arange(1, 25).reshape(4, 6)\n",
    "print(B)\n",
    "print(B[1:3,  1:5])\n",
    "print(B[1:-1, 1:-1])\n",
    "\n",
    "copied = B[1:-1, 1:-1]\n",
    "print(copied)\n",
    "\n",
    "copied[:, 1:3] = 999\n",
    "print(B)"
   ]
  },
  {
   "cell_type": "markdown",
   "id": "282eb342",
   "metadata": {},
   "source": [
    "## 인덱싱"
   ]
  },
  {
   "cell_type": "code",
   "execution_count": 46,
   "id": "45d15a89",
   "metadata": {},
   "outputs": [
    {
     "data": {
      "text/plain": [
       "array([ 1,  7, 13, 19])"
      ]
     },
     "execution_count": 46,
     "metadata": {},
     "output_type": "execute_result"
    }
   ],
   "source": [
    "C = np.arange(1, 25).reshape(4, 6)\n",
    "row1 = C[0]\n",
    "row1\n",
    "row1.shape\n",
    "row1.ndim\n",
    "\n",
    "cols1 = C[:, 0]\n",
    "cols1"
   ]
  },
  {
   "cell_type": "code",
   "execution_count": 51,
   "id": "3d8f65e9",
   "metadata": {},
   "outputs": [
    {
     "data": {
      "text/plain": [
       "array([[100,   2,   3,   4,   5,   6],\n",
       "       [  7,   8,   9,  10,  11,  12],\n",
       "       [ 13,  14,  15,  16,  17,  18],\n",
       "       [ 19,  20,  21,  22,  23,  24]])"
      ]
     },
     "execution_count": 51,
     "metadata": {},
     "output_type": "execute_result"
    }
   ],
   "source": [
    "# cos1을 수정하면 원본이 바뀔까??\n",
    "cols1[0] = 100\n",
    "cols1\n",
    "C"
   ]
  },
  {
   "cell_type": "code",
   "execution_count": null,
   "id": "1c2600f2",
   "metadata": {},
   "outputs": [],
   "source": []
  },
  {
   "cell_type": "markdown",
   "id": "f70e1246",
   "metadata": {},
   "source": [
    "## 인덱싱 & 슬라이싱 그리고 차원\n",
    "\n",
    "- 정수 인덱싱과 슬라이싱을 혼합해서 사용하면 낮은 차원의 배열이 생성되지만, 슬라이싱만 사용하면 원본 배열과 동일한 차원의 배열이 생성 "
   ]
  },
  {
   "cell_type": "markdown",
   "id": "13b13fba",
   "metadata": {},
   "source": [
    "## 인덱싱&슬라이싱 - 값 복사&참조\n",
    "\n",
    "- 슬라이싱된 배열은 원본 배열과 같은 데이터를 참조한다.\n",
    "- <font color=\"red\">즉 슬라이싱된 배열을 수정하면 원본 배열 역시 수정.</font>\n",
    "\n",
    "\n",
    "- 인덱싱은 값을 복사하므로 복사된 값을 변경해도 원본의 값은 변하지 않는다.\n",
    "- **특별히 인덱싱을 써야 하는 상황이 아니라면, 인덱싱보다 슬라이싱을 추천**\n"
   ]
  },
  {
   "cell_type": "markdown",
   "id": "78bc26b5",
   "metadata": {},
   "source": [
    "* **다차원** 배열은 축당 하나의 인덱스를 가질 수 있다. 각 축에 대해 인덱싱, 슬라이싱을 차례로 적용할 수 있다."
   ]
  },
  {
   "cell_type": "markdown",
   "id": "3f96ad31",
   "metadata": {},
   "source": [
    "* 축 수보다 적은 수의 인덱스를 제공한 경우, 생략된 인덱스는  전 범위에 대한 슬라이스(`:`)로 간주된다."
   ]
  },
  {
   "cell_type": "markdown",
   "id": "d0379025",
   "metadata": {},
   "source": [
    "* 다차원 배열에 대한 **반복**은 첫 번째 축과 관련하여 수행된다."
   ]
  },
  {
   "cell_type": "code",
   "execution_count": 53,
   "id": "7acf0ae3",
   "metadata": {},
   "outputs": [
    {
     "name": "stdout",
     "output_type": "stream",
     "text": [
      "출력: [0 1 2 3]\n",
      "출력: [4 5 6 7]\n",
      "출력: [ 8  9 10 11]\n",
      "출력: [12 13 14 15]\n"
     ]
    }
   ],
   "source": [
    "D = np.arange(16).reshape(4,4)\n",
    "\n",
    "for row in D:\n",
    "    print('출력:', row)"
   ]
  },
  {
   "cell_type": "markdown",
   "id": "fa4f75bd",
   "metadata": {},
   "source": [
    "* `flat` 속성을 이용하면 모든 요소에 대해 반복을 수행할 수 있다."
   ]
  },
  {
   "cell_type": "code",
   "execution_count": 54,
   "id": "e0add2bd",
   "metadata": {
    "scrolled": true
   },
   "outputs": [
    {
     "name": "stdout",
     "output_type": "stream",
     "text": [
      "출력: 0\n",
      "출력: 1\n",
      "출력: 2\n",
      "출력: 3\n",
      "출력: 4\n",
      "출력: 5\n",
      "출력: 6\n",
      "출력: 7\n",
      "출력: 8\n",
      "출력: 9\n",
      "출력: 10\n",
      "출력: 11\n",
      "출력: 12\n",
      "출력: 13\n",
      "출력: 14\n",
      "출력: 15\n"
     ]
    }
   ],
   "source": [
    "for row in D.flat:\n",
    "    print('출력:', row)"
   ]
  },
  {
   "cell_type": "markdown",
   "id": "8eabc3d0",
   "metadata": {},
   "source": [
    "## Boolean Indexing"
   ]
  },
  {
   "cell_type": "code",
   "execution_count": 59,
   "id": "e255c23b",
   "metadata": {},
   "outputs": [
    {
     "name": "stdout",
     "output_type": "stream",
     "text": [
      "[[ 1  2  3  4  5  6]\n",
      " [ 7  8  9 10 11 12]\n",
      " [13 14 15 16 17 18]\n",
      " [19 20 21 22 23 24]]\n",
      "[[False  True False  True False  True]\n",
      " [False  True False  True False  True]\n",
      " [False  True False  True False  True]\n",
      " [False  True False  True False  True]]\n"
     ]
    },
    {
     "data": {
      "text/plain": [
       "array([ 2,  4,  6,  8, 10, 12, 14, 16, 18, 20, 22, 24])"
      ]
     },
     "execution_count": 59,
     "metadata": {},
     "output_type": "execute_result"
    }
   ],
   "source": [
    "import numpy as np\n",
    "\n",
    "A = np.arange(1, 25).reshape(4, 6)\n",
    "print(A)\n",
    "\n",
    "even_arr = A % 2 == 0\n",
    "print(even_arr)\n",
    "temp = A[even_arr]"
   ]
  },
  {
   "cell_type": "code",
   "execution_count": 65,
   "id": "1bfe1575",
   "metadata": {},
   "outputs": [
    {
     "name": "stdout",
     "output_type": "stream",
     "text": [
      "[4. 8. 9. 7.]\n",
      "[5. 8. 9. 7.]\n",
      "[1. 4. 0. 2. 3. 8. 9. 7.]\n"
     ]
    }
   ],
   "source": [
    "ary = np.array([1, 4, 0, 2, 3, 8, 9, 7], float)\n",
    "\n",
    "cond = ary > 3\n",
    "temp = ary[cond] # 불리언 인덱싱으로 추출한 배열은 원본과 다른 데이터\n",
    "print(temp)\n",
    "\n",
    "temp[0] = 5 \n",
    "print(temp)\n",
    "print(ary)"
   ]
  },
  {
   "cell_type": "markdown",
   "id": "dafe7648",
   "metadata": {},
   "source": [
    "## Fancy Indexing"
   ]
  },
  {
   "cell_type": "code",
   "execution_count": 72,
   "id": "f32c5107",
   "metadata": {},
   "outputs": [
    {
     "name": "stdout",
     "output_type": "stream",
     "text": [
      "[[ 0  1  2]\n",
      " [ 3  4  5]\n",
      " [ 6  7  8]\n",
      " [ 9 10 11]\n",
      " [12 13 14]]\n",
      "[[20  1  2]\n",
      " [ 6  7  8]]\n",
      "[[10  1  2]\n",
      " [ 3  4  5]\n",
      " [ 6  7  8]\n",
      " [ 9 10 11]\n",
      " [12 13 14]]\n"
     ]
    }
   ],
   "source": [
    "arr = np.arange(15).reshape(5, 3)\n",
    "print(arr)\n",
    "t1 = arr[0:2, :]\n",
    "t1[0,0] = 10\n",
    "\n",
    "t2 = arr[[0, 2], :]\n",
    "t2[0,0] = 20\n",
    "print(t2)\n",
    "print(arr)"
   ]
  },
  {
   "cell_type": "markdown",
   "id": "b5803162",
   "metadata": {},
   "source": [
    "# [ 연습문제 ] 성적처리"
   ]
  },
  {
   "cell_type": "code",
   "execution_count": 1,
   "id": "94844810",
   "metadata": {},
   "outputs": [
    {
     "data": {
      "text/plain": [
       "array([[  1.,  85.,  96.,  75.,  77.,  89.],\n",
       "       [  2.,  89.,  85.,  74.,  76.,  56.],\n",
       "       [  3.,  90.,  63.,  95.,  75.,  99.],\n",
       "       [  4., 100.,  45.,  89.,  78.,  88.],\n",
       "       [  5.,  63.,  56.,  99.,  90.,  85.],\n",
       "       [  6.,  75.,  65.,  78.,  89.,  24.],\n",
       "       [  7.,  56.,  78.,  12.,  36.,  98.],\n",
       "       [  8.,  85.,  77.,  45.,  63.,  89.],\n",
       "       [  9.,  55.,  74.,  89.,  54.,  69.],\n",
       "       [ 10.,  98.,  71.,  75.,  86.,  77.]])"
      ]
     },
     "execution_count": 1,
     "metadata": {},
     "output_type": "execute_result"
    }
   ],
   "source": [
    "# 1) score.csv 파일을 읽어 data 변수에 저장하시오\n",
    "import numpy as np\n",
    "\n",
    "data = np.loadtxt('./data/score.csv', delimiter=',', dtype=float)\n",
    "data"
   ]
  },
  {
   "cell_type": "code",
   "execution_count": 4,
   "id": "f301bf85",
   "metadata": {},
   "outputs": [
    {
     "data": {
      "text/plain": [
       "array([[ 1],\n",
       "       [ 2],\n",
       "       [ 3],\n",
       "       [ 4],\n",
       "       [ 5],\n",
       "       [ 6],\n",
       "       [ 7],\n",
       "       [ 8],\n",
       "       [ 9],\n",
       "       [10]])"
      ]
     },
     "execution_count": 4,
     "metadata": {},
     "output_type": "execute_result"
    }
   ],
   "source": [
    "# 2) 학생의 번호만 추출해서 std_id라는 변수에 대입하고 정수형 타입으로 변환하시오\n",
    "std_id = data[: , :1]\n",
    "std_id = std_id.astype(int)\n",
    "std_id"
   ]
  },
  {
   "cell_type": "code",
   "execution_count": 5,
   "id": "d3d69a49",
   "metadata": {},
   "outputs": [
    {
     "data": {
      "text/plain": [
       "array([[ 85.,  96.,  75.,  77.,  89.],\n",
       "       [ 89.,  85.,  74.,  76.,  56.],\n",
       "       [ 90.,  63.,  95.,  75.,  99.],\n",
       "       [100.,  45.,  89.,  78.,  88.],\n",
       "       [ 63.,  56.,  99.,  90.,  85.],\n",
       "       [ 75.,  65.,  78.,  89.,  24.],\n",
       "       [ 56.,  78.,  12.,  36.,  98.],\n",
       "       [ 85.,  77.,  45.,  63.,  89.],\n",
       "       [ 55.,  74.,  89.,  54.,  69.],\n",
       "       [ 98.,  71.,  75.,  86.,  77.]])"
      ]
     },
     "execution_count": 5,
     "metadata": {},
     "output_type": "execute_result"
    }
   ],
   "source": [
    "# 3) 학생의 점수만 추출해서 std_score라는 변수에 대입하시오\n",
    "std_score = data[:, 1:]\n",
    "std_score"
   ]
  },
  {
   "cell_type": "code",
   "execution_count": 8,
   "id": "6e38c661",
   "metadata": {},
   "outputs": [
    {
     "name": "stdout",
     "output_type": "stream",
     "text": [
      "** 과목별 최고 점수\n",
      "{'1과목': 100.0, '2과목': 96.0, '3과목': 99.0, '4과목': 90.0, '5과목': 99.0}\n",
      "\n",
      "** 과목별 최저 점수\n",
      "{'1과목': 55.0, '2과목': 45.0, '3과목': 12.0, '4과목': 36.0, '5과목': 24.0}\n",
      "\n",
      "** 과목별 평균 점수\n",
      "{'1과목': 79.6, '2과목': 71.0, '3과목': 73.1, '4과목': 72.4, '5과목': 77.4}\n",
      "\n"
     ]
    }
   ],
   "source": [
    "# 4) 각 과목별 최고점수, 최저 점수, 평균 점수를 Dictionary로 출력\n",
    "# ** 과목별 최고 점수\n",
    "# {'1과목': 100.0, '2과목': 96.0, '3과목': 99.0, '4과목': 90.0, '5과목': 99.0}\n",
    "\n",
    "tmp1 = np.max(std_score, axis=0)\n",
    "\n",
    "print(\"** 과목별 최고 점수\")\n",
    "score_max = { str(i+1)+'과목' : s for i, s in enumerate(tmp1) }\n",
    "print(score_max)\n",
    "print()\n",
    "\n",
    "#######\n",
    "tmp2 = np.min(std_score, axis=0)\n",
    "\n",
    "print(\"** 과목별 최저 점수\")\n",
    "score_min = { str(i+1)+'과목' : s for i, s in enumerate(tmp2) }\n",
    "print(score_min)\n",
    "print()\n",
    "\n",
    "#######\n",
    "tmp3 = np.mean(std_score, axis=0)\n",
    "\n",
    "print(\"** 과목별 평균 점수\")\n",
    "score_mean = { str(i+1)+'과목' : s for i, s in enumerate(tmp3) }\n",
    "print(score_mean)\n",
    "print()"
   ]
  },
  {
   "cell_type": "code",
   "execution_count": null,
   "id": "ad6385f6",
   "metadata": {},
   "outputs": [],
   "source": [
    "# 5) 각 학생별 평균점수를 구하시오.\n",
    "tmp5 = np.mean(std_score, axis=1)\n",
    "\n",
    "print(\"** 학생별 평균 점수\")\n",
    "std_mean = { str(i+1)+'학생' : s for i, s in enumerate(tmp5) }\n",
    "print(std_mean)\n",
    "print()"
   ]
  },
  {
   "cell_type": "code",
   "execution_count": 22,
   "id": "c1e976e2",
   "metadata": {},
   "outputs": [
    {
     "name": "stdout",
     "output_type": "stream",
     "text": [
      "[[ 85.  96.  75.  77.  89.]\n",
      " [ 89.  85.  74.  76.  56.]\n",
      " [ 90.  63.  95.  75.  99.]\n",
      " [100.  45.  89.  78.  88.]\n",
      " [ 63.  56.  99.  90.  85.]\n",
      " [ 75.  65.  78.  89.  24.]\n",
      " [ 56.  78.  12.  36.  98.]\n",
      " [ 85.  77.  45.  63.  89.]\n",
      " [ 55.  74.  89.  54.  69.]\n",
      " [ 98.  71.  75.  86.  77.]]\n",
      "** 과목별 평균 점수\n",
      "{'1과목': 79.6, '2과목': 71.0, '3과목': 73.1, '4과목': 72.4, '5과목': 77.4}\n"
     ]
    },
    {
     "data": {
      "text/plain": [
       "array([4, 4, 2, 3, 4])"
      ]
     },
     "execution_count": 22,
     "metadata": {},
     "output_type": "execute_result"
    }
   ],
   "source": [
    "# 6) 각 과목별 평균점수보다 낮은 점수를 받은 학생의 수를 출력!\n",
    "print(std_score)\n",
    "print(\"** 과목별 평균 점수\")\n",
    "print(score_mean)\n",
    "\n",
    "std_cnt = (std_score < tmp3).sum(axis=0)\n",
    "std_cnt"
   ]
  },
  {
   "cell_type": "code",
   "execution_count": 41,
   "id": "02a22d64",
   "metadata": {},
   "outputs": [
    {
     "data": {
      "image/png": "[encoded data removed]",
      "text/plain": [
       "<Figure size 720x432 with 1 Axes>"
      ]
     },
     "metadata": {
      "needs_background": "light"
     },
     "output_type": "display_data"
    }
   ],
   "source": [
    "# 7) 시각화하기\n",
    "import numpy as np\n",
    "import matplotlib.pyplot as plt\n",
    "import matplotlib as mpl\n",
    "\n",
    "mpl.rc('font', family='Malgun Gothic') # 그래프 내에 한글 사용을 위해\n",
    "\n",
    "x_label = std_id.flatten().tolist()   # 파이썬 리스트로 바꾸겠다. X축 눈금\n",
    "y_score = std_score[:,:1].flatten()\n",
    "tmp5 = np.mean(std_score, axis=1)\n",
    "\n",
    "plt.figure(figsize=(10, 6))\n",
    "plt.bar(x_label, y_score, label='1과목')\n",
    "plt.plot(x_label, tmp5, color=\"#ef988f\", linestyle='--', marker='o', label='평균')\n",
    "plt.legend()\n",
    "plt.title('1차 역량평가', fontsize=20)\n",
    "plt.xticks(std_id)\n",
    "plt.xlabel('학생 ID')\n",
    "plt.ylabel('점수')\n",
    "\n",
    "plt.show()"
   ]
  },
  {
   "cell_type": "markdown",
   "id": "ca3d9750",
   "metadata": {},
   "source": [
    "# Broadcasting"
   ]
  },
  {
   "cell_type": "markdown",
   "id": "e23930de",
   "metadata": {},
   "source": [
    "- shape이 다른 NumPy 배열이 연산을 하려고 할 때 특정조건이 만족되면 자동으로 연산이 가능한 형태로 변환하는 것\n",
    "- NumPy에서 vector나 matrix간에 사칙연산을 하면, 같은 위치의 원소끼리 계산이 이뤄지며 \n",
    "- 이렇게 되려면 계산하려는 vector나 matrix가 형태가 같아야 하는데, 이때 shape이 맞춰지는 것을 broadcasting이라고 한다.\n",
    "\n",
    "\n",
    "![title](http://www.astroml.org/_images/fig_broadcast_visual_1.png)\n"
   ]
  },
  {
   "cell_type": "code",
   "execution_count": 51,
   "id": "cf65f883",
   "metadata": {},
   "outputs": [
    {
     "name": "stdout",
     "output_type": "stream",
     "text": [
      "[[1 2 3]\n",
      " [4 5 6]\n",
      " [7 8 9]]\n",
      "[[ 3  4  5]\n",
      " [ 6  7  8]\n",
      " [ 9 10 11]]\n"
     ]
    }
   ],
   "source": [
    "import numpy as np\n",
    "\n",
    "# 산술연산\n",
    "A = np.array([2, 3, 4, 5])\n",
    "B = np.arange(10, 30, 5)\n",
    "\n",
    "A - B\n",
    "A * 2\n",
    "# [1, 2, 3] * 2\n",
    "\n",
    "# Broadcasting\n",
    "C = np.arange(1, 10).reshape(3, 3)\n",
    "print(C)\n",
    "\n",
    "print(C + 2)"
   ]
  },
  {
   "cell_type": "code",
   "execution_count": null,
   "id": "8bd047f4",
   "metadata": {},
   "outputs": [],
   "source": []
  },
  {
   "cell_type": "markdown",
   "id": "8c269515",
   "metadata": {},
   "source": [
    "# Filtering"
   ]
  },
  {
   "cell_type": "code",
   "execution_count": 59,
   "id": "dbf5bf19",
   "metadata": {},
   "outputs": [
    {
     "name": "stdout",
     "output_type": "stream",
     "text": [
      "[1 2 3 4 5 6 7 8 9]\n",
      "[2 1 2 1 2 1 2 1 2]\n",
      "[5 6 7 8 9]\n",
      "[3 6 9]\n"
     ]
    }
   ],
   "source": [
    "import numpy as np\n",
    "\n",
    "A = np.arange(1, 10)\n",
    "print(A)\n",
    "print(A[A % 2])\n",
    "print(A[A > 4])\n",
    "\n",
    "print(A[A % 3 == 0])"
   ]
  },
  {
   "cell_type": "code",
   "execution_count": 62,
   "id": "af877937",
   "metadata": {},
   "outputs": [
    {
     "data": {
      "text/plain": [
       "array([1, 2, 4])"
      ]
     },
     "execution_count": 62,
     "metadata": {},
     "output_type": "execute_result"
    }
   ],
   "source": [
    "B = np.array([1, 2, 3, 4, 5])\n",
    "C = np.array([0, 1, 3, 0, 5])\n",
    "B[B != C]"
   ]
  },
  {
   "cell_type": "code",
   "execution_count": null,
   "id": "c5a1edf1",
   "metadata": {},
   "outputs": [],
   "source": [
    "import numpy as np\n",
    "\n",
    "A = np.arange(1, 25).reshape(4, 6)\n",
    "print(A)\n",
    "\n",
    "even_arr = A % 2 == 0\n",
    "print(even_arr)\n",
    "temp = A[even_arr]"
   ]
  },
  {
   "cell_type": "markdown",
   "id": "2604f6ac",
   "metadata": {},
   "source": [
    "# random 모듈을 이용해 배열을 생성\n",
    "\n",
    "## normal() : 정규분포"
   ]
  },
  {
   "cell_type": "code",
   "execution_count": 63,
   "id": "989dc235",
   "metadata": {},
   "outputs": [],
   "source": [
    "import numpy as np\n",
    "import matplotlib.pyplot as plt"
   ]
  },
  {
   "cell_type": "code",
   "execution_count": 75,
   "id": "770c06a5",
   "metadata": {},
   "outputs": [
    {
     "name": "stdout",
     "output_type": "stream",
     "text": [
      "-0.3621070910273875\n",
      "5.960719151506677\n",
      "[[-0.39839605  0.40180258 -1.97479998  0.35996922]\n",
      " [-0.07966064 -0.48973441  1.44563506 -0.5659602 ]\n",
      " [-0.61618003 -0.02971646 -1.03417714  1.44748452]]\n"
     ]
    }
   ],
   "source": [
    "a = np.random.normal()\n",
    "print(a)\n",
    "\n",
    "b = np.random.normal(5)\n",
    "print(b)\n",
    "\n",
    "c= np.random.normal(size=(3, 4))\n",
    "print(c)"
   ]
  },
  {
   "cell_type": "markdown",
   "id": "e0852b8d",
   "metadata": {},
   "source": [
    "**np.random.seed(seed=n)**"
   ]
  },
  {
   "cell_type": "code",
   "execution_count": 79,
   "id": "ffb252b5",
   "metadata": {},
   "outputs": [
    {
     "name": "stderr",
     "output_type": "stream",
     "text": [
      "C:\\Users\\kilah\\anaconda3\\lib\\site-packages\\matplotlib\\backends\\backend_agg.py:238: RuntimeWarning: Glyph 8722 missing from current font.\n",
      "  font.set_text(s, 0.0, flags=flags)\n",
      "C:\\Users\\kilah\\anaconda3\\lib\\site-packages\\matplotlib\\backends\\backend_agg.py:201: RuntimeWarning: Glyph 8722 missing from current font.\n",
      "  font.set_text(s, 0, flags=flags)\n"
     ]
    },
    {
     "data": {
      "image/png": "[encoded data removed]",
      "text/plain": [
       "<Figure size 432x288 with 1 Axes>"
      ]
     },
     "metadata": {
      "needs_background": "light"
     },
     "output_type": "display_data"
    }
   ],
   "source": [
    "np.random.seed(seed=5)\n",
    "\n",
    "d = np.random.normal(loc=0, scale=3, size=1000)\n",
    "plt.hist(d, bins=100)\n",
    "plt.show()"
   ]
  },
  {
   "cell_type": "code",
   "execution_count": 82,
   "id": "bbec31d7",
   "metadata": {},
   "outputs": [
    {
     "data": {
      "text/plain": [
       "array([[ 0.41867399,  0.4113609 ,  0.88482907, -2.06699012],\n",
       "       [-1.6371418 , -0.40678654,  0.10941649, -1.12688854]])"
      ]
     },
     "execution_count": 82,
     "metadata": {},
     "output_type": "execute_result"
    }
   ],
   "source": [
    "e = np.random.randn(100000)\n",
    "e"
   ]
  },
  {
   "cell_type": "markdown",
   "id": "9daea1ef",
   "metadata": {},
   "source": [
    "## 균등분포"
   ]
  },
  {
   "cell_type": "code",
   "execution_count": 83,
   "id": "b2e11eb4",
   "metadata": {},
   "outputs": [],
   "source": [
    "a = np.random.random?"
   ]
  },
  {
   "cell_type": "code",
   "execution_count": 84,
   "id": "c7970580",
   "metadata": {},
   "outputs": [
    {
     "data": {
      "text/plain": [
       "array([[0.6927724 , 0.7127809 , 0.80361539],\n",
       "       [0.73623648, 0.44965334, 0.14923325]])"
      ]
     },
     "execution_count": 84,
     "metadata": {},
     "output_type": "execute_result"
    }
   ],
   "source": [
    "a = np.random.random((2, 3))\n",
    "a"
   ]
  },
  {
   "cell_type": "code",
   "execution_count": 87,
   "id": "83bea7e4",
   "metadata": {},
   "outputs": [
    {
     "data": {
      "text/plain": [
       "(array([1044.,  995.,  962., 1012., 1013.,  993.,  975., 1022.,  990.,\n",
       "         994.]),\n",
       " array([1.82917365e-04, 1.00157855e-01, 2.00132793e-01, 3.00107731e-01,\n",
       "        4.00082668e-01, 5.00057606e-01, 6.00032544e-01, 7.00007482e-01,\n",
       "        7.99982420e-01, 8.99957357e-01, 9.99932295e-01]),\n",
       " <BarContainer object of 10 artists>)"
      ]
     },
     "execution_count": 87,
     "metadata": {},
     "output_type": "execute_result"
    },
    {
     "data": {
      "image/png": "[encoded data removed]",
      "text/plain": [
       "<Figure size 432x288 with 1 Axes>"
      ]
     },
     "metadata": {
      "needs_background": "light"
     },
     "output_type": "display_data"
    }
   ],
   "source": [
    "b = np.random.random(10000)\n",
    "plt.hist(b, bins=10)\n"
   ]
  },
  {
   "cell_type": "code",
   "execution_count": 132,
   "id": "2d888c4e",
   "metadata": {},
   "outputs": [
    {
     "data": {
      "text/plain": [
       "array([[92, 27,  7, 85, 80],\n",
       "       [39, 67, 19, 33, 11],\n",
       "       [25, 77, 32, 84,  3],\n",
       "       [67, 68, 54, 16, 53],\n",
       "       [16, 84,  0,  0, 19]])"
      ]
     },
     "execution_count": 132,
     "metadata": {},
     "output_type": "execute_result"
    }
   ],
   "source": [
    "# a = np.random.randint(3) # 범위 0~3미만의 정수 1개 Scalar 발생\n",
    "# a\n",
    "\n",
    "# b = np.random.randint(3, 10) # 범위 3~10미만의 정수 1개 Scalar 발생\n",
    "# b\n",
    "\n",
    "# c = np.random.randint(3, 10, 6) # 범위 3~10미만의 정수 6개로 구성된 1차원 Vector 발생\n",
    "# c\n",
    "\n",
    "d = np.random.randint(0, 100, (5, 5)) # 범위 0~100미만의 정수 5x5개로 구성된 2차원 Matrix 발생\n",
    "d"
   ]
  },
  {
   "cell_type": "code",
   "execution_count": null,
   "id": "b9c2bc69",
   "metadata": {},
   "outputs": [],
   "source": []
  },
  {
   "cell_type": "code",
   "execution_count": null,
   "id": "cd3729f2",
   "metadata": {},
   "outputs": [],
   "source": []
  }
 ],
 "metadata": {
  "kernelspec": {
   "display_name": "Python 3",
   "language": "python",
   "name": "python3"
  },
  "language_info": {
   "codemirror_mode": {
    "name": "ipython",
    "version": 3
   },
   "file_extension": ".py",
   "mimetype": "text/x-python",
   "name": "python",
   "nbconvert_exporter": "python",
   "pygments_lexer": "ipython3",
   "version": "3.8.8"
  },
  "toc": {
   "base_numbering": 1,
   "nav_menu": {},
   "number_sections": true,
   "sideBar": true,
   "skip_h1_title": false,
   "title_cell": "Table of Contents",
   "title_sidebar": "Contents",
   "toc_cell": false,
   "toc_position": {
    "height": "calc(100% - 180px)",
    "left": "10px",
    "top": "150px",
    "width": "316px"
   },
   "toc_section_display": false,
   "toc_window_display": true
  }
 },
 "nbformat": 4,
 "nbformat_minor": 5
}
