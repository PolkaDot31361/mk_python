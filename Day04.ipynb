{
 "cells": [
  {
   "cell_type": "code",
   "execution_count": 1,
   "id": "7d6b322b",
   "metadata": {},
   "outputs": [
    {
     "name": "stdout",
     "output_type": "stream",
     "text": [
      "[10, 2, 3]\n"
     ]
    }
   ],
   "source": [
    "a = [1, 2, 3]\n",
    "\n",
    "b = a\n",
    "b[0] = 10\n",
    "print(a)"
   ]
  },
  {
   "cell_type": "code",
   "execution_count": 2,
   "id": "239dde86",
   "metadata": {},
   "outputs": [
    {
     "name": "stdout",
     "output_type": "stream",
     "text": [
      "a :  [1, 2, 3]\n",
      "b : [10, 2, 3]\n"
     ]
    }
   ],
   "source": [
    "a = [1, 2, 3]\n",
    "\n",
    "b = a[:]\n",
    "b[0] = 10\n",
    "print(\"a : \", a)\n",
    "print(\"b :\", b)"
   ]
  },
  {
   "cell_type": "code",
   "execution_count": 3,
   "id": "cd9433ee",
   "metadata": {},
   "outputs": [
    {
     "name": "stdout",
     "output_type": "stream",
     "text": [
      "[1, 2]\n",
      "[3, 4, 5, 6, 7]\n"
     ]
    }
   ],
   "source": [
    "a = []\n",
    "b = list()\n",
    "c = [1, 2, 3]\n",
    "d = ['python', 'java', 'c++']\n",
    "e = [10, 20, 30, ['python', 'java']]\n",
    "\n",
    "a = [1, 2, 3, 4, 5, 6, 7]\n",
    "b = a[:2]\n",
    "c = a[2:]\n",
    "print(b)\n",
    "print(c)\n",
    "\n"
   ]
  },
  {
   "cell_type": "markdown",
   "id": "2acdcf57",
   "metadata": {},
   "source": [
    "## List"
   ]
  },
  {
   "cell_type": "code",
   "execution_count": 7,
   "id": "e75ff783",
   "metadata": {},
   "outputs": [
    {
     "name": "stdout",
     "output_type": "stream",
     "text": [
      "[1, 22, 3, 4, 5] [1, 22, 3, 4, 5]\n",
      "True\n",
      "2444119665088 2444119665088\n"
     ]
    }
   ],
   "source": [
    "# 얕은 복사\n",
    "myList = [1, 2, 3, 4, 5]\n",
    "copyList = myList\n",
    "copyList[1] = 22\n",
    "\n",
    "print(copyList, myList)\n",
    "print(myList is copyList)\n",
    "print(id(myList), id(copyList))"
   ]
  },
  {
   "cell_type": "code",
   "execution_count": 9,
   "id": "16f856a0",
   "metadata": {},
   "outputs": [
    {
     "name": "stdout",
     "output_type": "stream",
     "text": [
      "[1, 22, 3, 4, 5] [1, 2, 3, 4, 5]\n",
      "False\n",
      "2444119847040 2444119658304\n"
     ]
    }
   ],
   "source": [
    "# 깊은 복사\n",
    "myList = [1, 2, 3, 4, 5]\n",
    "copyList = myList[:]\n",
    "copyList[1] = 22\n",
    "\n",
    "print(copyList, myList)\n",
    "print(myList is copyList)\n",
    "print(id(myList), id(copyList))"
   ]
  },
  {
   "cell_type": "code",
   "execution_count": 14,
   "id": "85bc3da7",
   "metadata": {},
   "outputs": [
    {
     "name": "stdout",
     "output_type": "stream",
     "text": [
      "[1, 2, 3, 4, 5, 6, 7, 8, 9, 10]\n",
      "[1, 2, 3, 4, 5, 1, 2, 3, 4, 5]\n",
      "[0, 0, 0, 0, 0, 0, 0, 0, 0, 0, 0, 0, 0, 0, 0, 0, 0, 0, 0, 0]\n"
     ]
    }
   ],
   "source": [
    "a = [1,2,3,4,5]\n",
    "b = [6,7,8,9,10]\n",
    "\n",
    "print(a + b)\n",
    "print(a * 2)\n",
    "\n",
    "c = 20*[0]\n",
    "print(c)"
   ]
  },
  {
   "cell_type": "markdown",
   "id": "8e7c7912",
   "metadata": {},
   "source": [
    "## 이중리스트"
   ]
  },
  {
   "cell_type": "code",
   "execution_count": 17,
   "id": "7d88b37f",
   "metadata": {},
   "outputs": [
    {
     "name": "stdout",
     "output_type": "stream",
     "text": [
      "[1, 2, 3]\n",
      "2\n",
      "1 2 3 \n",
      "4 5 \n",
      "6 7 8 9 \n"
     ]
    }
   ],
   "source": [
    "lst = [[1, 2, 3], [4, 5], [6, 7, 8, 9]]\n",
    "\n",
    "print(lst[0])\n",
    "print(lst[0][1])\n",
    "\n",
    "for x in lst :\n",
    "    for y in x:\n",
    "        print(y, end =\" \")\n",
    "    print()"
   ]
  },
  {
   "cell_type": "markdown",
   "id": "199f5564",
   "metadata": {},
   "source": [
    "##[문제] 성적 총점과 평균 구하기\n",
    "- 학생 3명의 성적에 대해 각각 총점과 평균을 구하고, 전체 평균을 구하라"
   ]
  },
  {
   "cell_type": "code",
   "execution_count": 33,
   "id": "4fe2ca02",
   "metadata": {},
   "outputs": [
    {
     "name": "stdout",
     "output_type": "stream",
     "text": [
      "총점: 354, 평균: 88.50 \n",
      "총점: 275, 평균: 68.75 \n",
      "총점: 328, 평균: 82.00 \n"
     ]
    }
   ],
   "source": [
    "score = [[88, 76, 92, 98]\n",
    "        ,[65, 70, 58, 82]\n",
    "        ,[82, 80, 78, 88]]\n",
    "\n",
    "for student in score:\n",
    "    total = 0\n",
    "    for sc in student:\n",
    "        total += sc\n",
    "    print(\"총점: %d, 평균: %.2f \" % (total, total/len(student)))\n",
    "\n",
    "    \n"
   ]
  },
  {
   "cell_type": "code",
   "execution_count": 39,
   "id": "b7bde1d2",
   "metadata": {},
   "outputs": [
    {
     "name": "stdout",
     "output_type": "stream",
     "text": [
      "총점 : 354, 평균 88.50\n",
      "총점 : 275, 평균 68.75\n",
      "총점 : 328, 평균 82.00\n",
      "79.75\n"
     ]
    }
   ],
   "source": [
    "score = [[88, 76, 92, 98]\n",
    "        ,[65, 70, 58, 82]\n",
    "        ,[82, 80, 78, 88]]\n",
    "\n",
    "total = 0\n",
    "for student in score:\n",
    "    stu = 0\n",
    "    for s in student:\n",
    "        stu += s\n",
    "        total += s/(len(score)*len(student))\n",
    "    print(\"총점 : %d, 평균 %.2f\" % (stu, stu/len(student)))\n",
    "print(total)        \n"
   ]
  },
  {
   "cell_type": "code",
   "execution_count": 29,
   "id": "c542c8ff",
   "metadata": {},
   "outputs": [
    {
     "name": "stdout",
     "output_type": "stream",
     "text": [
      "[7, 6, 5, 3, 1]\n"
     ]
    }
   ],
   "source": [
    "a = [1, 5, 3, 6, 7]\n",
    "a.sort(reverse = True)\n",
    "print(a)"
   ]
  },
  {
   "cell_type": "code",
   "execution_count": 30,
   "id": "b7d4bc43",
   "metadata": {},
   "outputs": [
    {
     "name": "stdout",
     "output_type": "stream",
     "text": [
      "[1, 3, 6, 7]\n"
     ]
    }
   ],
   "source": [
    "a = [1, 5, 3, 6, 7]\n",
    "a.remove(5) # 실제 값이 삭제\n",
    "print(a)"
   ]
  },
  {
   "cell_type": "code",
   "execution_count": 32,
   "id": "e30ed80e",
   "metadata": {},
   "outputs": [
    {
     "name": "stdout",
     "output_type": "stream",
     "text": [
      "7\n",
      "[1, 5, 3, 6]\n"
     ]
    }
   ],
   "source": [
    "a = [1, 5, 3, 6, 7]\n",
    "tmp = a.pop()\n",
    "\n",
    "print(tmp)\n",
    "print(a)"
   ]
  },
  {
   "cell_type": "code",
   "execution_count": 42,
   "id": "bd6b3f40",
   "metadata": {},
   "outputs": [
    {
     "name": "stdout",
     "output_type": "stream",
     "text": [
      "8\n",
      "13\n",
      "1\n",
      "58\n",
      "7.25\n"
     ]
    }
   ],
   "source": [
    "e = [1, 5, 3, 6, 7, 11, 12, 13]\n",
    "print(len(e))\n",
    "print(max(e))\n",
    "print(min(e))\n",
    "print(sum(e))\n",
    "print(sum(e)/len(e))\n"
   ]
  },
  {
   "cell_type": "code",
   "execution_count": 47,
   "id": "bb2e2491",
   "metadata": {},
   "outputs": [
    {
     "name": "stdout",
     "output_type": "stream",
     "text": [
      "YES or NOyes\n",
      "OKAY\n"
     ]
    }
   ],
   "source": [
    "ans = input(\"YES or NO\")\n",
    "\n",
    "if ans in [\"yes\", \"YES\", \"ok\", \"OK\", \"네\", \"예\", \"y\", \"Y\"]:\n",
    "    print(\"OKAY\")\n",
    "else:\n",
    "    print(\"BYE\")"
   ]
  },
  {
   "cell_type": "markdown",
   "id": "bd155346",
   "metadata": {},
   "source": [
    "## Dictionary \n",
    "-자바의 Map과 매우 유사하다고 한다"
   ]
  },
  {
   "cell_type": "code",
   "execution_count": 53,
   "id": "358d686b",
   "metadata": {},
   "outputs": [
    {
     "name": "stdout",
     "output_type": "stream",
     "text": [
      "{'name': 'IS', 'phone': '010-1234-5678', 'age': 28}\n",
      "나이 :  28\n",
      "{1: 'Korea', 2: '한국인', (1, 2): '서울시'}\n"
     ]
    }
   ],
   "source": [
    "x = {'name':'COFFEE', 'age': 31}\n",
    "\n",
    "y = dict()\n",
    "y['name'] = 'IS'\n",
    "y['phone'] = '010-1234-5678'\n",
    "y['age'] = 28\n",
    "\n",
    "print(y)\n",
    "print('나이 : ', y['age'])\n",
    "\n",
    "z = {1:'Korea'}\n",
    "z[2] = '한국인'\n",
    "z[(1,2)] = '서울시'\n",
    "z[1]\n",
    "print(z)"
   ]
  },
  {
   "cell_type": "code",
   "execution_count": 65,
   "id": "122e7c17",
   "metadata": {},
   "outputs": [
    {
     "name": "stdout",
     "output_type": "stream",
     "text": [
      "name\n",
      "phone\n",
      "age\n",
      "===============\n",
      "IS\n",
      "010-1234-5678\n",
      "28\n",
      "===============\n",
      "True\n",
      "False\n",
      "java\n",
      "100\n"
     ]
    }
   ],
   "source": [
    "y = dict()\n",
    "y['name'] = 'IS'\n",
    "y['phone'] = '010-1234-5678'\n",
    "y['age'] = 28\n",
    "\n",
    "for key in y.keys():\n",
    "    print(key)\n",
    "print(\"===============\")    \n",
    "for value in y.values():\n",
    "    print(value)\n",
    "print(\"===============\")  \n",
    "y.items()\n",
    "\n",
    "print('name' in y)\n",
    "print('email' in y)\n",
    "\n",
    "score = {'eng':100, 'java':98, 'japan':99}\n",
    "print(max(score))\n",
    "print(max(score.values()))"
   ]
  },
  {
   "cell_type": "code",
   "execution_count": 70,
   "id": "9d7cba85",
   "metadata": {},
   "outputs": [
    {
     "name": "stdout",
     "output_type": "stream",
     "text": [
      "Polka\n",
      "010-1111-2222\n",
      "None\n",
      "성별무관\n"
     ]
    },
    {
     "ename": "KeyError",
     "evalue": "'gender'",
     "output_type": "error",
     "traceback": [
      "\u001b[1;31m---------------------------------------------------------------------------\u001b[0m",
      "\u001b[1;31mKeyError\u001b[0m                                  Traceback (most recent call last)",
      "\u001b[1;32m<ipython-input-70-c56caa6b27ef>\u001b[0m in \u001b[0;36m<module>\u001b[1;34m\u001b[0m\n\u001b[0;32m      6\u001b[0m \u001b[0mprint\u001b[0m\u001b[1;33m(\u001b[0m\u001b[0mx\u001b[0m\u001b[1;33m.\u001b[0m\u001b[0mget\u001b[0m\u001b[1;33m(\u001b[0m\u001b[1;34m'gender'\u001b[0m\u001b[1;33m)\u001b[0m\u001b[1;33m)\u001b[0m\u001b[1;33m\u001b[0m\u001b[1;33m\u001b[0m\u001b[0m\n\u001b[0;32m      7\u001b[0m \u001b[0mprint\u001b[0m\u001b[1;33m(\u001b[0m\u001b[0mx\u001b[0m\u001b[1;33m.\u001b[0m\u001b[0mget\u001b[0m\u001b[1;33m(\u001b[0m\u001b[1;34m'gender'\u001b[0m\u001b[1;33m,\u001b[0m \u001b[1;34m'성별무관'\u001b[0m\u001b[1;33m)\u001b[0m\u001b[1;33m)\u001b[0m\u001b[1;33m\u001b[0m\u001b[1;33m\u001b[0m\u001b[0m\n\u001b[1;32m----> 8\u001b[1;33m \u001b[0mprint\u001b[0m\u001b[1;33m(\u001b[0m\u001b[0mx\u001b[0m\u001b[1;33m[\u001b[0m\u001b[1;34m'gender'\u001b[0m\u001b[1;33m]\u001b[0m\u001b[1;33m)\u001b[0m\u001b[1;33m\u001b[0m\u001b[1;33m\u001b[0m\u001b[0m\n\u001b[0m",
      "\u001b[1;31mKeyError\u001b[0m: 'gender'"
     ]
    }
   ],
   "source": [
    "x = {'name':'Polka', 'add':'경기도', 'phone':'010-1111-2222'}\n",
    "\n",
    "print(x.get('name'))\n",
    "print(x['phone'])\n",
    "\n",
    "print(x.get('gender'))\n",
    "print(x.get('gender', '성별무관'))\n",
    "# print(x['gender'])"
   ]
  },
  {
   "cell_type": "markdown",
   "id": "2fb90137",
   "metadata": {},
   "source": [
    "## [문제] 전체 점수의 평균과 최고점과 최하점을 출력하는 코도를 작성"
   ]
  },
  {
   "cell_type": "code",
   "execution_count": 75,
   "id": "51f33168",
   "metadata": {},
   "outputs": [
    {
     "name": "stdout",
     "output_type": "stream",
     "text": [
      "전체 점수 :  324\n",
      "평균 점수 :  81.0\n",
      "최고 점수 :  89\n",
      "최저 점수 :  67\n"
     ]
    }
   ],
   "source": [
    "score = {'A':89, 'B':88, 'C':80, 'D':67}\n",
    "\n",
    "total = sum(score.values())\n",
    "print(\"전체 점수 : \", total)\n",
    "print(\"평균 점수 : \", total/len(score))\n",
    "print(\"최고 점수 : \", max(score.values()))\n",
    "print(\"최저 점수 : \", min(score.values()))"
   ]
  },
  {
   "cell_type": "markdown",
   "id": "3edabd99",
   "metadata": {},
   "source": [
    "## [문제] 단어의 빈도수 구하기\n",
    "- song 문자열에 보함된 단어의 빈도수를 구한다.\n",
    "- 결과 값은 Dictionary 형태로 출력한다.\n"
   ]
  },
  {
   "cell_type": "code",
   "execution_count": 88,
   "id": "b1032dba",
   "metadata": {},
   "outputs": [
    {
     "name": "stdout",
     "output_type": "stream",
     "text": [
      "[('a', 1), (\"ain't\", 1), ('and', 1), ('are', 1), ('back', 1), ('came', 1), (\"didn't\", 1), ('down', 1), ('dreams', 1), ('found', 1), ('friend,', 1), ('from', 1), ('gave', 1), ('girl', 1), ('give', 1), ('guess', 1), ('heard', 2), ('hide', 1), ('hold', 1), ('i', 3), ('light', 1), ('like', 1), ('married', 1), ('now', 1), ('old', 1), ('or', 1), ('settled', 1), ('she', 1), ('shy?', 1), ('so', 1), ('that', 3), ('the', 1), ('things,', 1), ('to', 2), ('true', 1), ('why', 1), ('you', 5), (\"you're\", 2), ('your', 1)]\n"
     ]
    }
   ],
   "source": [
    "song ='''I heard that you're settled down\n",
    "That you found a girl and you're married now\n",
    "I heard that your dreams came true\n",
    "Guess she gave you things, I didn't give to you\n",
    "Old friend, why are you so shy?\n",
    "Ain't like you to hold back or hide from the light\n",
    "'''\n",
    "\n",
    "wordList = song.lower().split()\n",
    "dic = dict()\n",
    "for word in wordList:\n",
    "    dic[word] = wordList.count(word)\n",
    "    \n",
    "print(dic)\n",
    "print(sorted(dic.items()))"
   ]
  },
  {
   "cell_type": "code",
   "execution_count": null,
   "id": "7b60d5eb",
   "metadata": {},
   "outputs": [],
   "source": [
    "song ='''I heard that you're settled down\n",
    "That you found a girl and you're married now\n",
    "I heard that your dreams came true\n",
    "Guess she gave you things, I didn't give to you\n",
    "Old friend, why are you so shy?\n",
    "Ain't like you to hold back or hide from the light\n",
    "'''\n",
    "\n",
    "wordList = song.lower().split()\n",
    "result = dict()\n",
    "for word in wordList:\n",
    "    if word not in result:\n",
    "        result[word] = 1\n",
    "    else:\n",
    "        result[word] += 1\n",
    "        \n",
    "print(result)\n",
    "print(sorted(result.items()))"
   ]
  },
  {
   "cell_type": "code",
   "execution_count": 90,
   "id": "4e40a606",
   "metadata": {},
   "outputs": [
    {
     "name": "stdout",
     "output_type": "stream",
     "text": [
      "{'i': 3, 'heard': 2, 'that': 3, \"you're\": 2, 'settled': 1, 'down': 1, 'you': 5, 'found': 1, 'a': 1, 'girl': 1, 'and': 1, 'married': 1, 'now': 1, 'your': 1, 'dreams': 1, 'came': 1, 'true': 1, 'guess': 1, 'she': 1, 'gave': 1, 'things,': 1, \"didn't\": 1, 'give': 1, 'to': 2, 'old': 1, 'friend,': 1, 'why': 1, 'are': 1, 'so': 1, 'shy?': 1, \"ain't\": 1, 'like': 1, 'hold': 1, 'back': 1, 'or': 1, 'hide': 1, 'from': 1, 'the': 1, 'light': 1}\n",
      "===========================\n",
      "[('a', 1), (\"ain't\", 1), ('and', 1), ('are', 1), ('back', 1), ('came', 1), (\"didn't\", 1), ('down', 1), ('dreams', 1), ('found', 1), ('friend,', 1), ('from', 1), ('gave', 1), ('girl', 1), ('give', 1), ('guess', 1), ('heard', 2), ('hide', 1), ('hold', 1), ('i', 3), ('light', 1), ('like', 1), ('married', 1), ('now', 1), ('old', 1), ('or', 1), ('settled', 1), ('she', 1), ('shy?', 1), ('so', 1), ('that', 3), ('the', 1), ('things,', 1), ('to', 2), ('true', 1), ('why', 1), ('you', 5), (\"you're\", 2), ('your', 1)]\n"
     ]
    }
   ],
   "source": [
    "song ='''I heard that you're settled down\n",
    "That you found a girl and you're married now\n",
    "I heard that your dreams came true\n",
    "Guess she gave you things, I didn't give to you\n",
    "Old friend, why are you so shy?\n",
    "Ain't like you to hold back or hide from the light\n",
    "'''\n",
    "\n",
    "wordList = song.lower().split()\n",
    "result = dict()\n",
    "for word in wordList:\n",
    "    result[word] = result.get(word, 0) + 1\n",
    "\n",
    "print(result)\n",
    "print(\"===========================\")\n",
    "print(sorted(result.items()))\n"
   ]
  }
 ],
 "metadata": {
  "kernelspec": {
   "display_name": "Python 3",
   "language": "python",
   "name": "python3"
  },
  "language_info": {
   "codemirror_mode": {
    "name": "ipython",
    "version": 3
   },
   "file_extension": ".py",
   "mimetype": "text/x-python",
   "name": "python",
   "nbconvert_exporter": "python",
   "pygments_lexer": "ipython3",
   "version": "3.8.8"
  }
 },
 "nbformat": 4,
 "nbformat_minor": 5
}
