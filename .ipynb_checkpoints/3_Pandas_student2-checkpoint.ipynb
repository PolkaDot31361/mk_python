{
 "cells": [
  {
   "cell_type": "markdown",
   "metadata": {
    "id": "mw3KErVSKR-p"
   },
   "source": [
    "### Package Import"
   ]
  },
  {
   "cell_type": "code",
   "execution_count": 2,
   "metadata": {
    "id": "EzNBlPMOV2DU"
   },
   "outputs": [],
   "source": [
    "import pandas as pd\n",
    "import numpy as np"
   ]
  },
  {
   "cell_type": "markdown",
   "metadata": {
    "id": "LqhpagaE1ep7"
   },
   "source": [
    "### 파일에서 읽어오기"
   ]
  },
  {
   "cell_type": "markdown",
   "metadata": {
    "id": "FdfoQ1kKkAFM"
   },
   "source": [
    "#### DataFrame\n",
    "- 2차원구조\n",
    "- index, columns, values\n",
    "![파일읽기](https://pandas.pydata.org/docs/_images/02_io_readwrite.svg)"
   ]
  },
  {
   "cell_type": "code",
   "execution_count": 7,
   "metadata": {
    "colab": {
     "base_uri": "https://localhost:8080/",
     "height": 141
    },
    "executionInfo": {
     "elapsed": 1119,
     "status": "ok",
     "timestamp": 1598732194607,
     "user": {
      "displayName": "SoYoung Yoon",
      "photoUrl": "https://lh3.googleusercontent.com/a-/AOh14GjsKzTbD8fhpM_a0EcHvGe2bp6UJFVnRa94ldTGcQ=s64",
      "userId": "06188085222412627629"
     },
     "user_tz": -540
    },
    "id": "jhv2AFI7YRbX",
    "outputId": "5a66242f-b962-4ea5-994b-3535e64d7a53"
   },
   "outputs": [
    {
     "data": {
      "text/html": [
       "<div>\n",
       "<style scoped>\n",
       "    .dataframe tbody tr th:only-of-type {\n",
       "        vertical-align: middle;\n",
       "    }\n",
       "\n",
       "    .dataframe tbody tr th {\n",
       "        vertical-align: top;\n",
       "    }\n",
       "\n",
       "    .dataframe thead th {\n",
       "        text-align: right;\n",
       "    }\n",
       "</style>\n",
       "<table border=\"1\" class=\"dataframe\">\n",
       "  <thead>\n",
       "    <tr style=\"text-align: right;\">\n",
       "      <th></th>\n",
       "      <th>ID</th>\n",
       "      <th>pname</th>\n",
       "      <th>birth</th>\n",
       "      <th>dept</th>\n",
       "      <th>영어</th>\n",
       "      <th>일본어</th>\n",
       "      <th>중국어</th>\n",
       "    </tr>\n",
       "  </thead>\n",
       "  <tbody>\n",
       "    <tr>\n",
       "      <th>0</th>\n",
       "      <td>18030201</td>\n",
       "      <td>홍길동</td>\n",
       "      <td>1990-01-23</td>\n",
       "      <td>연구소</td>\n",
       "      <td>1.0</td>\n",
       "      <td>1.0</td>\n",
       "      <td>NaN</td>\n",
       "    </tr>\n",
       "    <tr>\n",
       "      <th>1</th>\n",
       "      <td>18030202</td>\n",
       "      <td>전우치</td>\n",
       "      <td>1992-10-11</td>\n",
       "      <td>마케팅</td>\n",
       "      <td>NaN</td>\n",
       "      <td>2.0</td>\n",
       "      <td>NaN</td>\n",
       "    </tr>\n",
       "    <tr>\n",
       "      <th>2</th>\n",
       "      <td>19030401</td>\n",
       "      <td>사오정</td>\n",
       "      <td>1995-07-02</td>\n",
       "      <td>연구소</td>\n",
       "      <td>1.0</td>\n",
       "      <td>NaN</td>\n",
       "      <td>NaN</td>\n",
       "    </tr>\n",
       "    <tr>\n",
       "      <th>3</th>\n",
       "      <td>19070101</td>\n",
       "      <td>손오공</td>\n",
       "      <td>1990-11-23</td>\n",
       "      <td>연구소</td>\n",
       "      <td>NaN</td>\n",
       "      <td>NaN</td>\n",
       "      <td>3.0</td>\n",
       "    </tr>\n",
       "    <tr>\n",
       "      <th>4</th>\n",
       "      <td>19070102</td>\n",
       "      <td>임꺽정</td>\n",
       "      <td>1993-02-01</td>\n",
       "      <td>마케팅</td>\n",
       "      <td>NaN</td>\n",
       "      <td>NaN</td>\n",
       "      <td>NaN</td>\n",
       "    </tr>\n",
       "    <tr>\n",
       "      <th>5</th>\n",
       "      <td>19070103</td>\n",
       "      <td>저팔계</td>\n",
       "      <td>1992-07-16</td>\n",
       "      <td>연구소</td>\n",
       "      <td>NaN</td>\n",
       "      <td>NaN</td>\n",
       "      <td>1.0</td>\n",
       "    </tr>\n",
       "  </tbody>\n",
       "</table>\n",
       "</div>"
      ],
      "text/plain": [
       "         ID pname       birth dept   영어  일본어  중국어\n",
       "0  18030201   홍길동  1990-01-23  연구소  1.0  1.0  NaN\n",
       "1  18030202   전우치  1992-10-11  마케팅  NaN  2.0  NaN\n",
       "2  19030401   사오정  1995-07-02  연구소  1.0  NaN  NaN\n",
       "3  19070101   손오공  1990-11-23  연구소  NaN  NaN  3.0\n",
       "4  19070102   임꺽정  1993-02-01  마케팅  NaN  NaN  NaN\n",
       "5  19070103   저팔계  1992-07-16  연구소  NaN  NaN  1.0"
      ]
     },
     "metadata": {},
     "output_type": "display_data"
    },
    {
     "data": {
      "text/html": [
       "<div>\n",
       "<style scoped>\n",
       "    .dataframe tbody tr th:only-of-type {\n",
       "        vertical-align: middle;\n",
       "    }\n",
       "\n",
       "    .dataframe tbody tr th {\n",
       "        vertical-align: top;\n",
       "    }\n",
       "\n",
       "    .dataframe thead th {\n",
       "        text-align: right;\n",
       "    }\n",
       "</style>\n",
       "<table border=\"1\" class=\"dataframe\">\n",
       "  <thead>\n",
       "    <tr style=\"text-align: right;\">\n",
       "      <th></th>\n",
       "      <th>ID</th>\n",
       "      <th>pname</th>\n",
       "      <th>birth</th>\n",
       "      <th>dept</th>\n",
       "      <th>영어</th>\n",
       "      <th>일본어</th>\n",
       "      <th>중국어</th>\n",
       "    </tr>\n",
       "  </thead>\n",
       "  <tbody>\n",
       "    <tr>\n",
       "      <th>0</th>\n",
       "      <td>18030201</td>\n",
       "      <td>홍길동</td>\n",
       "      <td>1990-01-23</td>\n",
       "      <td>연구소</td>\n",
       "      <td>1.0</td>\n",
       "      <td>1.0</td>\n",
       "      <td>NaN</td>\n",
       "    </tr>\n",
       "    <tr>\n",
       "      <th>1</th>\n",
       "      <td>18030202</td>\n",
       "      <td>전우치</td>\n",
       "      <td>1992-10-11</td>\n",
       "      <td>마케팅</td>\n",
       "      <td>NaN</td>\n",
       "      <td>2.0</td>\n",
       "      <td>NaN</td>\n",
       "    </tr>\n",
       "    <tr>\n",
       "      <th>2</th>\n",
       "      <td>19030401</td>\n",
       "      <td>사오정</td>\n",
       "      <td>1995-07-02</td>\n",
       "      <td>연구소</td>\n",
       "      <td>1.0</td>\n",
       "      <td>NaN</td>\n",
       "      <td>NaN</td>\n",
       "    </tr>\n",
       "  </tbody>\n",
       "</table>\n",
       "</div>"
      ],
      "text/plain": [
       "         ID pname       birth dept   영어  일본어  중국어\n",
       "0  18030201   홍길동  1990-01-23  연구소  1.0  1.0  NaN\n",
       "1  18030202   전우치  1992-10-11  마케팅  NaN  2.0  NaN\n",
       "2  19030401   사오정  1995-07-02  연구소  1.0  NaN  NaN"
      ]
     },
     "execution_count": 7,
     "metadata": {},
     "output_type": "execute_result"
    }
   ],
   "source": [
    "# ../  : 상위 디렉터리\n",
    "# ./ : 현재 디렉터리\n",
    "# 디렉토리명/ : 하위 디렉터리\n",
    "data = pd.read_csv('./files/data/sample1.csv')\n",
    "display(data)\n",
    "data.head(n=3)"
   ]
  },
  {
   "cell_type": "markdown",
   "metadata": {
    "id": "c0PlejWg4SN9"
   },
   "source": [
    "#### DataFrame\n",
    "    - index, columns, values\n",
    "    - index(row), columns(column) => Index type, DataFrame은 2개의 Index 사용\n",
    "    - values => ndarray type"
   ]
  },
  {
   "cell_type": "code",
   "execution_count": 8,
   "metadata": {},
   "outputs": [
    {
     "data": {
      "text/plain": [
       "RangeIndex(start=0, stop=6, step=1)"
      ]
     },
     "execution_count": 8,
     "metadata": {},
     "output_type": "execute_result"
    }
   ],
   "source": [
    "data.index"
   ]
  },
  {
   "cell_type": "code",
   "execution_count": 9,
   "metadata": {},
   "outputs": [
    {
     "data": {
      "text/plain": [
       "Index(['ID', 'pname', 'birth', 'dept', '영어', '일본어', '중국어'], dtype='object')"
      ]
     },
     "execution_count": 9,
     "metadata": {},
     "output_type": "execute_result"
    }
   ],
   "source": [
    "data.columns"
   ]
  },
  {
   "cell_type": "code",
   "execution_count": 10,
   "metadata": {},
   "outputs": [
    {
     "data": {
      "text/plain": [
       "array([[18030201, '홍길동', '1990-01-23', '연구소', 1.0, 1.0, nan],\n",
       "       [18030202, '전우치', '1992-10-11', '마케팅', nan, 2.0, nan],\n",
       "       [19030401, '사오정', '1995-07-02', '연구소', 1.0, nan, nan],\n",
       "       [19070101, '손오공', '1990-11-23', '연구소', nan, nan, 3.0],\n",
       "       [19070102, '임꺽정', '1993-02-01', '마케팅', nan, nan, nan],\n",
       "       [19070103, '저팔계', '1992-07-16', '연구소', nan, nan, 1.0]],\n",
       "      dtype=object)"
      ]
     },
     "execution_count": 10,
     "metadata": {},
     "output_type": "execute_result"
    }
   ],
   "source": [
    "data.values"
   ]
  },
  {
   "cell_type": "code",
   "execution_count": null,
   "metadata": {},
   "outputs": [],
   "source": [
    "df2 = pd.read_csv('files/data/sample1.csv', index_col=\"ID\")\n",
    "df2"
   ]
  },
  {
   "cell_type": "code",
   "execution_count": null,
   "metadata": {},
   "outputs": [],
   "source": [
    "df2.index"
   ]
  },
  {
   "cell_type": "code",
   "execution_count": null,
   "metadata": {},
   "outputs": [],
   "source": [
    "df2.columns"
   ]
  },
  {
   "cell_type": "code",
   "execution_count": null,
   "metadata": {},
   "outputs": [],
   "source": [
    "df2.values\n",
    "# 앞의 index가 사라진 것을 알 수 있다."
   ]
  },
  {
   "cell_type": "markdown",
   "metadata": {
    "id": "mEqdvLvB0-3W"
   },
   "source": [
    "#### 엑셀 파일을 읽어 DataFrame 객체 반환\n",
    "    -index_col 지정시 column 번호를 사용하거나 lable을 사용할 수 있음\n"
   ]
  },
  {
   "cell_type": "code",
   "execution_count": null,
   "metadata": {},
   "outputs": [],
   "source": [
    "df3 = pd.read_excel('files/data/sample1.xlsx', index_col=1) # 원래 index 는 자동 생성 된다\n",
    "df3"
   ]
  },
  {
   "cell_type": "code",
   "execution_count": 11,
   "metadata": {},
   "outputs": [
    {
     "data": {
      "text/plain": [
       "['ID', 'pname', 'birth', 'dept', '영어', '일본어', '중국어']"
      ]
     },
     "execution_count": 11,
     "metadata": {},
     "output_type": "execute_result"
    }
   ],
   "source": [
    "data.columns.to_list()\n",
    "names = data.columns.to_list()\n",
    "names"
   ]
  },
  {
   "cell_type": "code",
   "execution_count": 12,
   "metadata": {},
   "outputs": [
    {
     "data": {
      "text/html": [
       "<div>\n",
       "<style scoped>\n",
       "    .dataframe tbody tr th:only-of-type {\n",
       "        vertical-align: middle;\n",
       "    }\n",
       "\n",
       "    .dataframe tbody tr th {\n",
       "        vertical-align: top;\n",
       "    }\n",
       "\n",
       "    .dataframe thead th {\n",
       "        text-align: right;\n",
       "    }\n",
       "</style>\n",
       "<table border=\"1\" class=\"dataframe\">\n",
       "  <thead>\n",
       "    <tr style=\"text-align: right;\">\n",
       "      <th></th>\n",
       "      <th>ID</th>\n",
       "      <th>pname</th>\n",
       "      <th>birth</th>\n",
       "      <th>dept</th>\n",
       "      <th>영어</th>\n",
       "      <th>일본어</th>\n",
       "      <th>중국어</th>\n",
       "    </tr>\n",
       "  </thead>\n",
       "  <tbody>\n",
       "    <tr>\n",
       "      <th>0</th>\n",
       "      <td>18030201</td>\n",
       "      <td>홍길동</td>\n",
       "      <td>1990-01-23</td>\n",
       "      <td>연구소</td>\n",
       "      <td>1.0</td>\n",
       "      <td>1.0</td>\n",
       "      <td>NaN</td>\n",
       "    </tr>\n",
       "    <tr>\n",
       "      <th>1</th>\n",
       "      <td>18030202</td>\n",
       "      <td>전우치</td>\n",
       "      <td>1992-10-11</td>\n",
       "      <td>마케팅</td>\n",
       "      <td>NaN</td>\n",
       "      <td>2.0</td>\n",
       "      <td>NaN</td>\n",
       "    </tr>\n",
       "    <tr>\n",
       "      <th>2</th>\n",
       "      <td>19030401</td>\n",
       "      <td>사오정</td>\n",
       "      <td>1995-07-02</td>\n",
       "      <td>연구소</td>\n",
       "      <td>1.0</td>\n",
       "      <td>NaN</td>\n",
       "      <td>NaN</td>\n",
       "    </tr>\n",
       "    <tr>\n",
       "      <th>3</th>\n",
       "      <td>19070101</td>\n",
       "      <td>손오공</td>\n",
       "      <td>1990-11-23</td>\n",
       "      <td>연구소</td>\n",
       "      <td>NaN</td>\n",
       "      <td>NaN</td>\n",
       "      <td>3.0</td>\n",
       "    </tr>\n",
       "    <tr>\n",
       "      <th>4</th>\n",
       "      <td>19070102</td>\n",
       "      <td>임꺽정</td>\n",
       "      <td>1993-02-01</td>\n",
       "      <td>마케팅</td>\n",
       "      <td>NaN</td>\n",
       "      <td>NaN</td>\n",
       "      <td>NaN</td>\n",
       "    </tr>\n",
       "    <tr>\n",
       "      <th>5</th>\n",
       "      <td>19070103</td>\n",
       "      <td>저팔계</td>\n",
       "      <td>1992-07-16</td>\n",
       "      <td>연구소</td>\n",
       "      <td>NaN</td>\n",
       "      <td>NaN</td>\n",
       "      <td>1.0</td>\n",
       "    </tr>\n",
       "  </tbody>\n",
       "</table>\n",
       "</div>"
      ],
      "text/plain": [
       "         ID pname       birth dept   영어  일본어  중국어\n",
       "0  18030201   홍길동  1990-01-23  연구소  1.0  1.0  NaN\n",
       "1  18030202   전우치  1992-10-11  마케팅  NaN  2.0  NaN\n",
       "2  19030401   사오정  1995-07-02  연구소  1.0  NaN  NaN\n",
       "3  19070101   손오공  1990-11-23  연구소  NaN  NaN  3.0\n",
       "4  19070102   임꺽정  1993-02-01  마케팅  NaN  NaN  NaN\n",
       "5  19070103   저팔계  1992-07-16  연구소  NaN  NaN  1.0"
      ]
     },
     "execution_count": 12,
     "metadata": {},
     "output_type": "execute_result"
    }
   ],
   "source": [
    "df4 = pd.read_table('./files/data/sample1.txt', sep=\",\", names=names)\n",
    "df4\n",
    "# sep : 구분자 !!\n",
    "# names : 컬럼명 리스트 !!"
   ]
  },
  {
   "cell_type": "markdown",
   "metadata": {
    "id": "CfXr95db1px3"
   },
   "source": [
    "### DataFrame 속성 확인하기"
   ]
  },
  {
   "cell_type": "code",
   "execution_count": null,
   "metadata": {},
   "outputs": [],
   "source": [
    "df4.head()"
   ]
  },
  {
   "cell_type": "code",
   "execution_count": null,
   "metadata": {},
   "outputs": [],
   "source": [
    "df4.tail(3)"
   ]
  },
  {
   "cell_type": "code",
   "execution_count": null,
   "metadata": {},
   "outputs": [],
   "source": [
    "df4.columns # read / write 둘다 기능 가능\n",
    "df4.index"
   ]
  },
  {
   "cell_type": "code",
   "execution_count": null,
   "metadata": {},
   "outputs": [],
   "source": [
    "df4.index=list('ABCDEF')\n",
    "display(df4)"
   ]
  },
  {
   "cell_type": "code",
   "execution_count": null,
   "metadata": {},
   "outputs": [],
   "source": [
    "df4.columns = list('ibdejc')\n"
   ]
  },
  {
   "cell_type": "code",
   "execution_count": null,
   "metadata": {},
   "outputs": [],
   "source": [
    "df1.columns = ['사번', '이름', '생일','부서', '영어', '일본어', '중국어']\n",
    "display(df1)"
   ]
  },
  {
   "cell_type": "markdown",
   "metadata": {
    "id": "AcKXIY-V1p1Q"
   },
   "source": [
    "### Series 속성 확인하기"
   ]
  },
  {
   "cell_type": "code",
   "execution_count": null,
   "metadata": {},
   "outputs": [],
   "source": [
    "data = df1\n",
    "data['영어'].index"
   ]
  },
  {
   "cell_type": "code",
   "execution_count": null,
   "metadata": {},
   "outputs": [],
   "source": [
    "print(data['영어'].index)\n",
    "print(data['영어'].index.values)\n",
    "print(data['영어'].values)"
   ]
  },
  {
   "cell_type": "markdown",
   "metadata": {
    "id": "UjTLFNPG2RBa"
   },
   "source": [
    "### Index객체 확인"
   ]
  },
  {
   "cell_type": "code",
   "execution_count": null,
   "metadata": {},
   "outputs": [],
   "source": [
    "a = pd.RangeIndex(10)\n",
    "a"
   ]
  },
  {
   "cell_type": "markdown",
   "metadata": {
    "id": "LXzUoMPa2REf"
   },
   "source": [
    "### 메모리사용"
   ]
  },
  {
   "cell_type": "code",
   "execution_count": null,
   "metadata": {},
   "outputs": [],
   "source": [
    "data = pd.read_csv(\"./files/data/sample1.csv\", index_col=\"ID\")\n",
    "display(data)"
   ]
  },
  {
   "cell_type": "code",
   "execution_count": null,
   "metadata": {},
   "outputs": [],
   "source": [
    "print(data.memory_usage(index=True, deep=True), end='\\n')\n",
    "# deep=True 를해야, value의 메모리 사용량을 알 수있다."
   ]
  },
  {
   "cell_type": "markdown",
   "metadata": {},
   "source": [
    "### dtype 변경"
   ]
  },
  {
   "cell_type": "markdown",
   "metadata": {
    "id": "JEHi0xyGYRdj"
   },
   "source": [
    "#### x.describe()\n",
    "- x.describe(percentiles=None, ...)\n",
    "- DataFrame/Series의 숫자 형 변수에 대한 여러 가지 통계량 출력\n",
    "- 개수, 평균값, 표준편차, 최솟값, 1, 2 (중앙값), 3사분위 수, 최대값\n",
    "- percentiles : 새로운 index 생성에 사용할 column/column 목록(columns labels로 작성)"
   ]
  },
  {
   "cell_type": "code",
   "execution_count": 18,
   "metadata": {},
   "outputs": [],
   "source": [
    "col_name = ['학번', '국어', '영어', '수학', 'Java', 'C']"
   ]
  },
  {
   "cell_type": "code",
   "execution_count": 20,
   "metadata": {},
   "outputs": [
    {
     "data": {
      "text/html": [
       "<div>\n",
       "<style scoped>\n",
       "    .dataframe tbody tr th:only-of-type {\n",
       "        vertical-align: middle;\n",
       "    }\n",
       "\n",
       "    .dataframe tbody tr th {\n",
       "        vertical-align: top;\n",
       "    }\n",
       "\n",
       "    .dataframe thead th {\n",
       "        text-align: right;\n",
       "    }\n",
       "</style>\n",
       "<table border=\"1\" class=\"dataframe\">\n",
       "  <thead>\n",
       "    <tr style=\"text-align: right;\">\n",
       "      <th></th>\n",
       "      <th>번호</th>\n",
       "      <th>국어</th>\n",
       "      <th>영어</th>\n",
       "      <th>수학</th>\n",
       "      <th>Java</th>\n",
       "      <th>C</th>\n",
       "    </tr>\n",
       "  </thead>\n",
       "  <tbody>\n",
       "    <tr>\n",
       "      <th>0</th>\n",
       "      <td>1</td>\n",
       "      <td>85</td>\n",
       "      <td>96</td>\n",
       "      <td>75</td>\n",
       "      <td>77</td>\n",
       "      <td>89</td>\n",
       "    </tr>\n",
       "    <tr>\n",
       "      <th>1</th>\n",
       "      <td>2</td>\n",
       "      <td>89</td>\n",
       "      <td>85</td>\n",
       "      <td>74</td>\n",
       "      <td>76</td>\n",
       "      <td>56</td>\n",
       "    </tr>\n",
       "    <tr>\n",
       "      <th>2</th>\n",
       "      <td>3</td>\n",
       "      <td>90</td>\n",
       "      <td>63</td>\n",
       "      <td>95</td>\n",
       "      <td>75</td>\n",
       "      <td>99</td>\n",
       "    </tr>\n",
       "    <tr>\n",
       "      <th>3</th>\n",
       "      <td>4</td>\n",
       "      <td>100</td>\n",
       "      <td>45</td>\n",
       "      <td>89</td>\n",
       "      <td>78</td>\n",
       "      <td>88</td>\n",
       "    </tr>\n",
       "    <tr>\n",
       "      <th>4</th>\n",
       "      <td>5</td>\n",
       "      <td>63</td>\n",
       "      <td>56</td>\n",
       "      <td>99</td>\n",
       "      <td>90</td>\n",
       "      <td>85</td>\n",
       "    </tr>\n",
       "    <tr>\n",
       "      <th>5</th>\n",
       "      <td>6</td>\n",
       "      <td>75</td>\n",
       "      <td>65</td>\n",
       "      <td>78</td>\n",
       "      <td>89</td>\n",
       "      <td>24</td>\n",
       "    </tr>\n",
       "    <tr>\n",
       "      <th>6</th>\n",
       "      <td>7</td>\n",
       "      <td>56</td>\n",
       "      <td>78</td>\n",
       "      <td>12</td>\n",
       "      <td>36</td>\n",
       "      <td>98</td>\n",
       "    </tr>\n",
       "    <tr>\n",
       "      <th>7</th>\n",
       "      <td>8</td>\n",
       "      <td>85</td>\n",
       "      <td>77</td>\n",
       "      <td>45</td>\n",
       "      <td>63</td>\n",
       "      <td>89</td>\n",
       "    </tr>\n",
       "    <tr>\n",
       "      <th>8</th>\n",
       "      <td>9</td>\n",
       "      <td>55</td>\n",
       "      <td>74</td>\n",
       "      <td>89</td>\n",
       "      <td>54</td>\n",
       "      <td>69</td>\n",
       "    </tr>\n",
       "    <tr>\n",
       "      <th>9</th>\n",
       "      <td>10</td>\n",
       "      <td>98</td>\n",
       "      <td>71</td>\n",
       "      <td>75</td>\n",
       "      <td>86</td>\n",
       "      <td>77</td>\n",
       "    </tr>\n",
       "  </tbody>\n",
       "</table>\n",
       "</div>"
      ],
      "text/plain": [
       "   번호   국어  영어  수학  Java   C\n",
       "0   1   85  96  75    77  89\n",
       "1   2   89  85  74    76  56\n",
       "2   3   90  63  95    75  99\n",
       "3   4  100  45  89    78  88\n",
       "4   5   63  56  99    90  85\n",
       "5   6   75  65  78    89  24\n",
       "6   7   56  78  12    36  98\n",
       "7   8   85  77  45    63  89\n",
       "8   9   55  74  89    54  69\n",
       "9  10   98  71  75    86  77"
      ]
     },
     "execution_count": 20,
     "metadata": {},
     "output_type": "execute_result"
    }
   ],
   "source": [
    "score = pd.read_csv(\"./files/data/score.csv\", names=col_name)\n",
    "score"
   ]
  },
  {
   "cell_type": "markdown",
   "metadata": {},
   "source": [
    "![IQR](https://upload.wikimedia.org/wikipedia/commons/thumb/1/1a/Boxplot_vs_PDF.svg/800px-Boxplot_vs_PDF.svg.png)\n"
   ]
  },
  {
   "cell_type": "code",
   "execution_count": 21,
   "metadata": {},
   "outputs": [
    {
     "name": "stdout",
     "output_type": "stream",
     "text": [
      "<class 'pandas.core.frame.DataFrame'>\n",
      "RangeIndex: 10 entries, 0 to 9\n",
      "Data columns (total 6 columns):\n",
      " #   Column  Non-Null Count  Dtype\n",
      "---  ------  --------------  -----\n",
      " 0   번호      10 non-null     int64\n",
      " 1   국어      10 non-null     int64\n",
      " 2   영어      10 non-null     int64\n",
      " 3   수학      10 non-null     int64\n",
      " 4   Java    10 non-null     int64\n",
      " 5   C       10 non-null     int64\n",
      "dtypes: int64(6)\n",
      "memory usage: 608.0 bytes\n"
     ]
    }
   ],
   "source": [
    "score.info()"
   ]
  },
  {
   "cell_type": "code",
   "execution_count": 22,
   "metadata": {},
   "outputs": [
    {
     "data": {
      "text/html": [
       "<div>\n",
       "<style scoped>\n",
       "    .dataframe tbody tr th:only-of-type {\n",
       "        vertical-align: middle;\n",
       "    }\n",
       "\n",
       "    .dataframe tbody tr th {\n",
       "        vertical-align: top;\n",
       "    }\n",
       "\n",
       "    .dataframe thead th {\n",
       "        text-align: right;\n",
       "    }\n",
       "</style>\n",
       "<table border=\"1\" class=\"dataframe\">\n",
       "  <thead>\n",
       "    <tr style=\"text-align: right;\">\n",
       "      <th></th>\n",
       "      <th>번호</th>\n",
       "      <th>국어</th>\n",
       "      <th>영어</th>\n",
       "      <th>수학</th>\n",
       "      <th>Java</th>\n",
       "      <th>C</th>\n",
       "    </tr>\n",
       "  </thead>\n",
       "  <tbody>\n",
       "    <tr>\n",
       "      <th>count</th>\n",
       "      <td>10.00000</td>\n",
       "      <td>10.000000</td>\n",
       "      <td>10.000000</td>\n",
       "      <td>10.000000</td>\n",
       "      <td>10.000000</td>\n",
       "      <td>10.000000</td>\n",
       "    </tr>\n",
       "    <tr>\n",
       "      <th>mean</th>\n",
       "      <td>5.50000</td>\n",
       "      <td>79.600000</td>\n",
       "      <td>71.000000</td>\n",
       "      <td>73.100000</td>\n",
       "      <td>72.400000</td>\n",
       "      <td>77.400000</td>\n",
       "    </tr>\n",
       "    <tr>\n",
       "      <th>std</th>\n",
       "      <td>3.02765</td>\n",
       "      <td>16.560998</td>\n",
       "      <td>14.590712</td>\n",
       "      <td>26.269754</td>\n",
       "      <td>16.978418</td>\n",
       "      <td>22.877451</td>\n",
       "    </tr>\n",
       "    <tr>\n",
       "      <th>min</th>\n",
       "      <td>1.00000</td>\n",
       "      <td>55.000000</td>\n",
       "      <td>45.000000</td>\n",
       "      <td>12.000000</td>\n",
       "      <td>36.000000</td>\n",
       "      <td>24.000000</td>\n",
       "    </tr>\n",
       "    <tr>\n",
       "      <th>25%</th>\n",
       "      <td>3.25000</td>\n",
       "      <td>66.000000</td>\n",
       "      <td>63.500000</td>\n",
       "      <td>74.250000</td>\n",
       "      <td>66.000000</td>\n",
       "      <td>71.000000</td>\n",
       "    </tr>\n",
       "    <tr>\n",
       "      <th>50%</th>\n",
       "      <td>5.50000</td>\n",
       "      <td>85.000000</td>\n",
       "      <td>72.500000</td>\n",
       "      <td>76.500000</td>\n",
       "      <td>76.500000</td>\n",
       "      <td>86.500000</td>\n",
       "    </tr>\n",
       "    <tr>\n",
       "      <th>75%</th>\n",
       "      <td>7.75000</td>\n",
       "      <td>89.750000</td>\n",
       "      <td>77.750000</td>\n",
       "      <td>89.000000</td>\n",
       "      <td>84.000000</td>\n",
       "      <td>89.000000</td>\n",
       "    </tr>\n",
       "    <tr>\n",
       "      <th>max</th>\n",
       "      <td>10.00000</td>\n",
       "      <td>100.000000</td>\n",
       "      <td>96.000000</td>\n",
       "      <td>99.000000</td>\n",
       "      <td>90.000000</td>\n",
       "      <td>99.000000</td>\n",
       "    </tr>\n",
       "  </tbody>\n",
       "</table>\n",
       "</div>"
      ],
      "text/plain": [
       "             번호          국어         영어         수학       Java          C\n",
       "count  10.00000   10.000000  10.000000  10.000000  10.000000  10.000000\n",
       "mean    5.50000   79.600000  71.000000  73.100000  72.400000  77.400000\n",
       "std     3.02765   16.560998  14.590712  26.269754  16.978418  22.877451\n",
       "min     1.00000   55.000000  45.000000  12.000000  36.000000  24.000000\n",
       "25%     3.25000   66.000000  63.500000  74.250000  66.000000  71.000000\n",
       "50%     5.50000   85.000000  72.500000  76.500000  76.500000  86.500000\n",
       "75%     7.75000   89.750000  77.750000  89.000000  84.000000  89.000000\n",
       "max    10.00000  100.000000  96.000000  99.000000  90.000000  99.000000"
      ]
     },
     "execution_count": 22,
     "metadata": {},
     "output_type": "execute_result"
    }
   ],
   "source": [
    "score.describe()"
   ]
  },
  {
   "cell_type": "markdown",
   "metadata": {
    "id": "NRqTGTlUYRdj"
   },
   "source": [
    "### Series 생성, 메서드, 연산"
   ]
  },
  {
   "cell_type": "markdown",
   "metadata": {
    "id": "0qs1Gx-QYRdk"
   },
   "source": [
    "#### 6-1. Series 생성\n",
    "- pd.Series(data=None, index=None, dtype=None, name=None, copy=False, ... )\n",
    "- 1) data : array-like, iterable, dict or scalar value 등을 사용할 수 있음\n",
    "- 2) index : array-like or Index (1D)\n",
    "   - index.values 는 hashable 객체이어야 하며, data와 같은 길이어야 함 \n",
    "   - 생략 시 RangeIndex가 사용됨 (0 부터 1씩 증가하는 숫자 values)\n",
    "   - data가 dict 객체일때 index가 생략되면, dict 객체의 key를 index로 사용\n",
    "   - dict 객체의 key와 index가 중복되면 index를 따름 (dict의 key가 갱신 됨) \n",
    "- 3) dtype : Series.values 의 데이터 타입\n",
    "   - str, numpy.dtype, ExtensionDtype 등을 사용할 수 있음\n",
    "- 4) name : Series.name으로 사용할 것으로 문자열로 지정함\n",
    "- 5) copy : 입력 데이터를 복사하는지에 대한 여부 (ndarray 에만 적용)\n",
    "   - True 인 경우 복사(다른 메모리 사용), False라도 dtype이 다르면 복사함"
   ]
  },
  {
   "cell_type": "markdown",
   "metadata": {
    "id": "dED9k3JgYRd0"
   },
   "source": [
    "#### Series의 메서드\n",
    "- pandas 의 함수/메서드 들은 일반적으로 NaN에 대해 제외하고 처리한다 (numpy 와 다름)\n",
    "- s.sum() : NaN을 제외한 데이터 합계 구하기, float 반환\n",
    "- s.count() : NaN을 제외한 데이터 개수 구하기, int 반환\n",
    "- s.mean() : NaN을 제외한 데이터 평균 구하기, float 반환\n",
    "- s.unique() : 중복 데이터를 제외한 데이터의 ndarray로 반환 (NaN 포함)\n",
    "- s.value_counts() : NaN을 제외한 각 데이터의 개수(정수)의 Series 반환\n",
    "- s.head(숫자), s.tail(숫자) : 데이터를 상위/하위 숫자 개 만큼의 Series 반환\n",
    "- s.to_list() : s.values를 list 객체로 반환\n",
    "- s.to_numpy([dtype, copy]) : s.values를 ndarray 객체로 반환"
   ]
  },
  {
   "cell_type": "code",
   "execution_count": null,
   "metadata": {},
   "outputs": [],
   "source": []
  },
  {
   "cell_type": "markdown",
   "metadata": {
    "id": "9D8Zkha5YReK"
   },
   "source": [
    "#### Series의 연산\n",
    "- index를 기준으로 연산된다\n",
    "- Series 와 Series 의 연산은 같은 index의 value 끼리 연산 된다\n",
    "    - 같은 index가 없는 경우, 추가되며 결과는 NaN이다\n",
    "    \n",
    "- Series 와 스칼라 의 연산은 각 원소별로 스칼라와 연산 된다\n",
    "    - 스칼라가 broadcasting 되어 사용된다"
   ]
  },
  {
   "cell_type": "markdown",
   "metadata": {
    "id": "cUec5SZcYReU"
   },
   "source": [
    "### DataFrame 생성, 메서드, 연산"
   ]
  },
  {
   "cell_type": "markdown",
   "metadata": {
    "id": "R0aHdd8lYReV"
   },
   "source": [
    "#### DataFrame 생성\n",
    "- pd.DataFrame(data=None, index=None, columns=None, dtype=None, copy=False)\n",
    "- data : ndarray(structured or homogeneous), Iterable, dict, DataFrame\n",
    "   - dict 사용시 columns가 지정되지 않으면 dict의 key가 columns로 사용됨\n",
    "   - DataFrame 사용시 data, index, columns 가 복사 됨\n",
    "- index, columns : array-like or Index (1D)\n",
    "   - 생략 시 RangeIndex가 사용됨 (0 부터 1씩 증가하는 숫자 values)\n",
    "   - index.values 는 hashable 객체이어야 함\n",
    "   - data로 dict 사용시, dict 의 key 와 columns가 중복될 경우 columns를 따름\n",
    "   - data로 ndarray 사용시 index.values 개수 == data 행 개수\n",
    "   - data로 ndarray 사용시 columns.values 개수 == data 열 개수\n",
    "- dtype : 직접 데이터 타입을 지정하며, 1개의 타입 지정만 가능함\n",
    "- copy : ndarray(2D), DataFrame을 data로 사용시 copy=False는 연결을 의미함\n",
    "   - ndarray의 dtype이나, DataFrame의 index, columns 등이 변경이 되면 copy=True로 동작함  \n"
   ]
  },
  {
   "cell_type": "markdown",
   "metadata": {
    "id": "Hyv9UfRtYRei"
   },
   "source": [
    "#### DataFrame의 연산\n",
    "- DataFrame 끼리의 연산은 index와 columns를 모두 대상으로 한다\n",
    "- df + df 의 경우 match 되는 index 나 column 이 없는 경우 NaN 으로 결과가 표시된다"
   ]
  },
  {
   "cell_type": "code",
   "execution_count": null,
   "metadata": {},
   "outputs": [],
   "source": []
  },
  {
   "cell_type": "markdown",
   "metadata": {
    "id": "lCL3sIMQYRex"
   },
   "source": [
    "- DataFrame + Series은 DataFrame의 column, Series의 index에 맞춰 연산 된다\n",
    "- Series가 DataFrame의 row 개수에 맞춰 broadcasting 되어 사용된다\n",
    "- match 되는 index 가 없는 경우 결과는 NaN 이다\n"
   ]
  },
  {
   "cell_type": "code",
   "execution_count": null,
   "metadata": {},
   "outputs": [],
   "source": []
  },
  {
   "cell_type": "markdown",
   "metadata": {
    "id": "AQVG7WteYRe8"
   },
   "source": [
    "- DataFrame  + Scalar는 각 원소별로 스칼라와 연산 된다\n",
    "- 스칼라가 broadcasting 되어 사용된다"
   ]
  },
  {
   "cell_type": "markdown",
   "metadata": {
    "id": "2_djqldIYRe_"
   },
   "source": [
    "### DataFrame, Series의 삽입, 삭제, 갱신"
   ]
  },
  {
   "cell_type": "markdown",
   "metadata": {
    "id": "Ahi0c_ptYRe_"
   },
   "source": [
    "#### Series 추가, 갱신, 삭제\n"
   ]
  },
  {
   "cell_type": "markdown",
   "metadata": {
    "id": "UdKo0Ia9PRpT"
   },
   "source": [
    "#### DataFrame 추가, 갱신, 삭제\n",
    "- 추가, 갱신 : 항의 개수가 같아야 함\n",
    "    - column 단위로 추가, 갱신 작업\n",
    "- df['column_label']=1D array\n",
    "   - 'column_label'에 해당하는 column 갱신 또는  추가\n",
    "   - read /write용으로 모두 사용\n",
    "- df.column_label\n",
    "   - read 용으로 사용"
   ]
  },
  {
   "cell_type": "markdown",
   "metadata": {
    "id": "ge5WpM1ZYRfO"
   },
   "source": [
    "### Index 조작"
   ]
  },
  {
   "cell_type": "markdown",
   "metadata": {
    "id": "_xm2APpaYRfP"
   },
   "source": [
    "#### 9-1 set_index\n",
    "- df.set_index(keys, drop=True,  append=False, inplace=False)\n",
    "- 선택된 columns의 일부로 새로 구성한 index 를 갖는 DataFrame 반환\n",
    "- keys : 새로운 index 생성에 사용할 column/column 목록(columns labels로 작성)\n",
    "- drop : keys를 columns 로 부터 제거 여부 (default True => 제거함)\n",
    "- append : 기존 index를 유지하면서 keys를 추가 여부 (default False => 유지하지 않음)"
   ]
  },
  {
   "cell_type": "markdown",
   "metadata": {
    "id": "pbLn8Nw1YRfc"
   },
   "source": [
    "#### reset_index\n",
    "- df.reset_index( level=None,  drop=False, ...) : \n",
    "- 현 index를 columns에 포함하여 새로 구성한 index를 갖는 DataFrame 반환 \n",
    "- level :int, str, tuple or list 로 작성 (None 이면 모든 index를 대상으로 함)\n",
    "   - 현 index 중 columns 로 포함 할 대상을 번호 또는 name으로 지정함\n",
    "   - 모든 index가 columns로 포함되면 RangeIndex가 새로운 Index로 생성됨\n",
    "- drop : 현 index를 columns 로 포함하지 않을 지의 여부 (drop=True : 포함 안함)"
   ]
  },
  {
   "cell_type": "markdown",
   "metadata": {
    "id": "cJXzudINYRfh"
   },
   "source": [
    "#### sort_index\n",
    "- df.sort_index(axis=0, level=None, ascending=True, inplace=False,kind='quicksort', na_position=‘last’, ...)\n",
    "- 축에 따른 index labels를 기준으로 대상을 정렬하는 메서드이다\n",
    "- axis : 정렬 축 지정, DataFrame은 0, 1 Series은 0을 사용할 수 있음\n",
    "- level : int, level-name, list of int or level-names\n",
    "    - MultiIndex 에서 정렬 기준으로 사용할 level을 지정 함\n",
    "- ascending : True: 오름차순 정렬, False: 내림차순 정렬, list of boolean\n",
    "- inplace : True인 경우 객체를 직접 수정하고 None 반환\n",
    "- kind : 정렬 알고리즘 지정 {'quicksort', 'mergesort', 'heapsort'}\n",
    "- na_position : NA value의 위치, {'first', 'last'}"
   ]
  },
  {
   "cell_type": "code",
   "execution_count": null,
   "metadata": {},
   "outputs": [],
   "source": []
  },
  {
   "cell_type": "markdown",
   "metadata": {
    "id": "FI7SdaWqYRfr"
   },
   "source": [
    "#### sort_values\n",
    "- df.sort_values(by, axis=0, ascending=True, inplace=False,kind='quicksort’, na_position='last')\n",
    "- 축에 따른 by 목록의 values를 기준으로 대상을 정렬하여 반환한다\n",
    "- by : str 또는 list of str을 사용하여 정렬 기준이 되는 이름 또는 이름 목록 지정\n",
    "- axis=0 : column labels, axis=1 : index labels를 사용하여 이름 목록 작성\n",
    "- axis=1 사용을 위해서는 모든 columns의 dtype이 동일해야 함(거의 사용 안함)"
   ]
  },
  {
   "cell_type": "code",
   "execution_count": null,
   "metadata": {},
   "outputs": [],
   "source": []
  },
  {
   "cell_type": "markdown",
   "metadata": {
    "id": "AINvI5fR-cLw"
   },
   "source": [
    "### Indexing\n",
    "- index를 사용하여 원하는 내용(values)에 접근하는 방법\n",
    "- 접근하여 읽기, 쓰기 등의 작업을 함\n",
    "- https://pandas.pydata.org/pandas-docs/stable/user_guide/indexing.html  \n",
    "- indexing의 종류\n",
    "  - Basic Indexing : 1개 indexer 사용\n",
    "  - Multi-axis Indexing : axis 별 indexer 사용\n",
    "      - Selection by Label : label을 사용함\n",
    "      - Selection by Position : integer를 사용함\n",
    "- indexer의 종류\n",
    "  - a single label/integer : 1개의 label 또는 integer\n",
    "  - a list or array of labels/integers : label 또는 integer의 리스트 또는 배열\n",
    "  - a slice object with labels/integers : label 또는 integer의 slice (start:stop:step)\n",
    "  - a boolean array : True/False로 이루어진 boolean type의 배열 (배열의 요소수는 index의 요소수와 동일해야 함)\n",
    "  - a collable function with one argument (다루지 않음)"
   ]
  },
  {
   "cell_type": "markdown",
   "metadata": {
    "id": "cTxFR_-vYRgA"
   },
   "source": [
    "#### 10-1 Basic Indexing\n",
    "- indexer를 1개만 사용하는 indexing\n",
    "- Series의 경우 labels/integers를 모두 사용할 수 있음\n",
    "- DataFrame의 경우 종류에 따라 기준이 되는 axis와 labels/integers 의 사용이 다름\n",
    "  \n"
   ]
  },
  {
   "cell_type": "markdown",
   "metadata": {
    "id": "Vt5kL5LPGHN-"
   },
   "source": [
    "##### Basic Indexing of Series\n"
   ]
  },
  {
   "cell_type": "code",
   "execution_count": null,
   "metadata": {},
   "outputs": [],
   "source": []
  },
  {
   "cell_type": "markdown",
   "metadata": {
    "id": "oNKJkmMQGUoY"
   },
   "source": [
    "##### Basic Indexing of DataFrame\n"
   ]
  },
  {
   "cell_type": "code",
   "execution_count": null,
   "metadata": {},
   "outputs": [],
   "source": []
  }
 ],
 "metadata": {
  "colab": {
   "collapsed_sections": [
    "UjTLFNPG2RBa"
   ],
   "name": "pandas_concept_PART1_SOL.ipynb의 사본",
   "provenance": [
    {
     "file_id": "1E2jUoIcDBQFsMibOJ3NfMX_oUs30SUZz",
     "timestamp": 1634166188033
    }
   ],
   "toc_visible": true
  },
  "kernelspec": {
   "display_name": "Python 3",
   "language": "python",
   "name": "python3"
  },
  "language_info": {
   "codemirror_mode": {
    "name": "ipython",
    "version": 3
   },
   "file_extension": ".py",
   "mimetype": "text/x-python",
   "name": "python",
   "nbconvert_exporter": "python",
   "pygments_lexer": "ipython3",
   "version": "3.8.8"
  },
  "toc": {
   "base_numbering": 1,
   "nav_menu": {},
   "number_sections": true,
   "sideBar": true,
   "skip_h1_title": false,
   "title_cell": "Table of Contents",
   "title_sidebar": "Contents",
   "toc_cell": false,
   "toc_position": {
    "height": "calc(100% - 180px)",
    "left": "10px",
    "top": "150px",
    "width": "384px"
   },
   "toc_section_display": true,
   "toc_window_display": false
  }
 },
 "nbformat": 4,
 "nbformat_minor": 1
}
