{
 "cells": [
  {
   "cell_type": "markdown",
   "metadata": {
    "id": "GQysECv2ieXW"
   },
   "source": [
    "# 데이터 전처리\n",
    "- 처리가 필요한 데이터\n",
    "   - 누락 데이터(NA) -> 누락 데이터 처리\n",
    "   - 타입이 올바르지 않은 데이터 -> 데이터 타입 변경\n",
    "   - 콤마, 공백, 모호한 대/소문자 사용 -> 콤마, 공백 제거, 대/소문자 변경\n",
    "   - 의미 없는 데이터 -> 의미 없는 데이터 선별 및 제거"
   ]
  },
  {
   "cell_type": "code",
   "execution_count": 1,
   "metadata": {},
   "outputs": [],
   "source": [
    "import numpy as np\n",
    "import pandas as pd"
   ]
  },
  {
   "cell_type": "code",
   "execution_count": 2,
   "metadata": {},
   "outputs": [
    {
     "data": {
      "text/html": [
       "<div>\n",
       "<style scoped>\n",
       "    .dataframe tbody tr th:only-of-type {\n",
       "        vertical-align: middle;\n",
       "    }\n",
       "\n",
       "    .dataframe tbody tr th {\n",
       "        vertical-align: top;\n",
       "    }\n",
       "\n",
       "    .dataframe thead th {\n",
       "        text-align: right;\n",
       "    }\n",
       "</style>\n",
       "<table border=\"1\" class=\"dataframe\">\n",
       "  <thead>\n",
       "    <tr style=\"text-align: right;\">\n",
       "      <th></th>\n",
       "      <th>이름</th>\n",
       "      <th>생년월일</th>\n",
       "      <th>부서</th>\n",
       "      <th>영어등급</th>\n",
       "      <th>일본어등급</th>\n",
       "      <th>중국어등급</th>\n",
       "      <th>급여</th>\n",
       "      <th>초과근무</th>\n",
       "    </tr>\n",
       "    <tr>\n",
       "      <th>사번</th>\n",
       "      <th></th>\n",
       "      <th></th>\n",
       "      <th></th>\n",
       "      <th></th>\n",
       "      <th></th>\n",
       "      <th></th>\n",
       "      <th></th>\n",
       "      <th></th>\n",
       "    </tr>\n",
       "  </thead>\n",
       "  <tbody>\n",
       "    <tr>\n",
       "      <th>18030201</th>\n",
       "      <td>임꺽정</td>\n",
       "      <td>1990-01-23</td>\n",
       "      <td>연구부</td>\n",
       "      <td>1</td>\n",
       "      <td>1</td>\n",
       "      <td>0</td>\n",
       "      <td>3456</td>\n",
       "      <td>0 days 23:10:10</td>\n",
       "    </tr>\n",
       "    <tr>\n",
       "      <th>18030202</th>\n",
       "      <td>손오공</td>\n",
       "      <td>1992-10-11</td>\n",
       "      <td>마케팅</td>\n",
       "      <td>0</td>\n",
       "      <td>2</td>\n",
       "      <td>0</td>\n",
       "      <td>4320</td>\n",
       "      <td>0 days 10:15:17</td>\n",
       "    </tr>\n",
       "    <tr>\n",
       "      <th>19030401</th>\n",
       "      <td>전우치</td>\n",
       "      <td>1995-07-02</td>\n",
       "      <td>연구부</td>\n",
       "      <td>1</td>\n",
       "      <td>0</td>\n",
       "      <td>0</td>\n",
       "      <td>5600</td>\n",
       "      <td>0 days 16:21:10</td>\n",
       "    </tr>\n",
       "    <tr>\n",
       "      <th>19070101</th>\n",
       "      <td>홍길동</td>\n",
       "      <td>1990-11-23</td>\n",
       "      <td>연구부</td>\n",
       "      <td>0</td>\n",
       "      <td>0</td>\n",
       "      <td>3</td>\n",
       "      <td>4500</td>\n",
       "      <td>0 days 15:00:20</td>\n",
       "    </tr>\n",
       "    <tr>\n",
       "      <th>19070102</th>\n",
       "      <td>사오정</td>\n",
       "      <td>1993-02-01</td>\n",
       "      <td>마케팅</td>\n",
       "      <td>0</td>\n",
       "      <td>0</td>\n",
       "      <td>0</td>\n",
       "      <td>3150</td>\n",
       "      <td>0 days 21:19:50</td>\n",
       "    </tr>\n",
       "    <tr>\n",
       "      <th>19070103</th>\n",
       "      <td>저팔계</td>\n",
       "      <td>1992-07-16</td>\n",
       "      <td>연구부</td>\n",
       "      <td>0</td>\n",
       "      <td>0</td>\n",
       "      <td>1</td>\n",
       "      <td>4200</td>\n",
       "      <td>0 days 14:10:40</td>\n",
       "    </tr>\n",
       "    <tr>\n",
       "      <th>19080101</th>\n",
       "      <td>김유신</td>\n",
       "      <td>1993-04-11</td>\n",
       "      <td>총무부</td>\n",
       "      <td>2</td>\n",
       "      <td>0</td>\n",
       "      <td>0</td>\n",
       "      <td>4800</td>\n",
       "      <td>0 days 09:50:30</td>\n",
       "    </tr>\n",
       "    <tr>\n",
       "      <th>19080102</th>\n",
       "      <td>강감찬</td>\n",
       "      <td>1991-12-07</td>\n",
       "      <td>영업부</td>\n",
       "      <td>1</td>\n",
       "      <td>1</td>\n",
       "      <td>1</td>\n",
       "      <td>10100</td>\n",
       "      <td>0 days 08:40:40</td>\n",
       "    </tr>\n",
       "    <tr>\n",
       "      <th>19090201</th>\n",
       "      <td>이순신</td>\n",
       "      <td>1992-06-16</td>\n",
       "      <td>영업부</td>\n",
       "      <td>3</td>\n",
       "      <td>1</td>\n",
       "      <td>2</td>\n",
       "      <td>6840</td>\n",
       "      <td>0 days 17:30:20</td>\n",
       "    </tr>\n",
       "    <tr>\n",
       "      <th>19090202</th>\n",
       "      <td>권율</td>\n",
       "      <td>1993-05-05</td>\n",
       "      <td>연구부</td>\n",
       "      <td>0</td>\n",
       "      <td>3</td>\n",
       "      <td>1</td>\n",
       "      <td>4750</td>\n",
       "      <td>0 days 19:50:20</td>\n",
       "    </tr>\n",
       "  </tbody>\n",
       "</table>\n",
       "</div>"
      ],
      "text/plain": [
       "           이름       생년월일   부서  영어등급  일본어등급  중국어등급     급여            초과근무\n",
       "사번                                                                      \n",
       "18030201  임꺽정 1990-01-23  연구부     1      1      0   3456 0 days 23:10:10\n",
       "18030202  손오공 1992-10-11  마케팅     0      2      0   4320 0 days 10:15:17\n",
       "19030401  전우치 1995-07-02  연구부     1      0      0   5600 0 days 16:21:10\n",
       "19070101  홍길동 1990-11-23  연구부     0      0      3   4500 0 days 15:00:20\n",
       "19070102  사오정 1993-02-01  마케팅     0      0      0   3150 0 days 21:19:50\n",
       "19070103  저팔계 1992-07-16  연구부     0      0      1   4200 0 days 14:10:40\n",
       "19080101  김유신 1993-04-11  총무부     2      0      0   4800 0 days 09:50:30\n",
       "19080102  강감찬 1991-12-07  영업부     1      1      1  10100 0 days 08:40:40\n",
       "19090201  이순신 1992-06-16  영업부     3      1      2   6840 0 days 17:30:20\n",
       "19090202   권율 1993-05-05  연구부     0      3      1   4750 0 days 19:50:20"
      ]
     },
     "metadata": {},
     "output_type": "display_data"
    }
   ],
   "source": [
    "emp = pd.read_csv('./files/data/employees.csv', index_col='사번')\n",
    "emp['생년월일'] = pd.to_datetime(emp['생년월일'])\n",
    "emp['초과근무'] = pd.to_timedelta(emp['초과근무'])\n",
    "emp = emp.replace(' ', 0, regex=True)\n",
    "emp = emp.replace(np.nan, 0)\n",
    "emp['영어등급'] = emp['영어등급'].astype(np.int32)\n",
    "emp['일본어등급'] = emp['일본어등급'].astype(np.int32)\n",
    "emp['중국어등급'] = emp['중국어등급'].astype(np.int32)\n",
    "emp['급여'] = emp['급여'].replace('\\,', '', regex=True).astype(np.int64)\n",
    "\n",
    "display(emp)"
   ]
  },
  {
   "cell_type": "markdown",
   "metadata": {
    "id": "qpr7Xc10ieXb"
   },
   "source": [
    "## NA정보 확인\n",
    "- df.info()\n",
    "   - index, columns, dtypes, memory usage 정보 출력\n",
    "   - 출력 정보의 정도를 조절할 수 있는 parameters가 있음\n",
    "   - memory_usage='deep', deep memory introspection 설정\n",
    "   - [DataFrame.info()](https://pandas.pydata.org/docs/reference/api/pandas.DataFrame.info.html)\n",
    "- df.isna()\n",
    "   - Boolean 데이터로 작성된 DataFrame 객체 반환 (NA value => True)\n",
    "   - isna, isnull은 동일 동작 (isnull 는 isna 의 alias)\n",
    "   - any(), all() 등으로 정보를 요약 할 수 있음\n",
    "   - df.isna().any()\n",
    "   - df.isna().all()\n",
    "   - df.isna().any().any()\n",
    "   - [DataFrame.isna()](https://pandas.pydata.org/docs/reference/api/pandas.DataFrame.isna.html)\n",
    "- df.any(axis=0) \n",
    "   - column 별로 값이 하나라도 True인 경우 True, 아니면 False\n",
    "   - axis = 1로 하면, row 별로 확인\n",
    "- df.all(axis=0)\n",
    "   - column 별로 모든 값이 True인 경우 True, 아니면 False\n",
    "   - axis = 1로 하면, row 별로 확인   "
   ]
  },
  {
   "cell_type": "code",
   "execution_count": 3,
   "metadata": {},
   "outputs": [
    {
     "data": {
      "text/html": [
       "<div>\n",
       "<style scoped>\n",
       "    .dataframe tbody tr th:only-of-type {\n",
       "        vertical-align: middle;\n",
       "    }\n",
       "\n",
       "    .dataframe tbody tr th {\n",
       "        vertical-align: top;\n",
       "    }\n",
       "\n",
       "    .dataframe thead th {\n",
       "        text-align: right;\n",
       "    }\n",
       "</style>\n",
       "<table border=\"1\" class=\"dataframe\">\n",
       "  <thead>\n",
       "    <tr style=\"text-align: right;\">\n",
       "      <th></th>\n",
       "      <th>ID</th>\n",
       "      <th>pname</th>\n",
       "      <th>birth</th>\n",
       "      <th>dept</th>\n",
       "      <th>영어</th>\n",
       "      <th>일본어</th>\n",
       "      <th>중국어</th>\n",
       "    </tr>\n",
       "  </thead>\n",
       "  <tbody>\n",
       "    <tr>\n",
       "      <th>0</th>\n",
       "      <td>18030201</td>\n",
       "      <td>홍길동</td>\n",
       "      <td>1990-01-23</td>\n",
       "      <td>연구소</td>\n",
       "      <td>1.0</td>\n",
       "      <td>1.0</td>\n",
       "      <td>NaN</td>\n",
       "    </tr>\n",
       "    <tr>\n",
       "      <th>1</th>\n",
       "      <td>18030202</td>\n",
       "      <td>전우치</td>\n",
       "      <td>1992-10-11</td>\n",
       "      <td>마케팅</td>\n",
       "      <td>NaN</td>\n",
       "      <td>2.0</td>\n",
       "      <td>NaN</td>\n",
       "    </tr>\n",
       "    <tr>\n",
       "      <th>2</th>\n",
       "      <td>19030401</td>\n",
       "      <td>사오정</td>\n",
       "      <td>1995-07-02</td>\n",
       "      <td>연구소</td>\n",
       "      <td>1.0</td>\n",
       "      <td>NaN</td>\n",
       "      <td>NaN</td>\n",
       "    </tr>\n",
       "    <tr>\n",
       "      <th>3</th>\n",
       "      <td>19070101</td>\n",
       "      <td>손오공</td>\n",
       "      <td>1990-11-23</td>\n",
       "      <td>연구소</td>\n",
       "      <td>NaN</td>\n",
       "      <td>NaN</td>\n",
       "      <td>3.0</td>\n",
       "    </tr>\n",
       "    <tr>\n",
       "      <th>4</th>\n",
       "      <td>19070102</td>\n",
       "      <td>임꺽정</td>\n",
       "      <td>1993-02-01</td>\n",
       "      <td>마케팅</td>\n",
       "      <td>NaN</td>\n",
       "      <td>NaN</td>\n",
       "      <td>NaN</td>\n",
       "    </tr>\n",
       "    <tr>\n",
       "      <th>5</th>\n",
       "      <td>19070103</td>\n",
       "      <td>저팔계</td>\n",
       "      <td>1992-07-16</td>\n",
       "      <td>연구소</td>\n",
       "      <td>NaN</td>\n",
       "      <td>NaN</td>\n",
       "      <td>1.0</td>\n",
       "    </tr>\n",
       "  </tbody>\n",
       "</table>\n",
       "</div>"
      ],
      "text/plain": [
       "         ID pname       birth dept   영어  일본어  중국어\n",
       "0  18030201   홍길동  1990-01-23  연구소  1.0  1.0  NaN\n",
       "1  18030202   전우치  1992-10-11  마케팅  NaN  2.0  NaN\n",
       "2  19030401   사오정  1995-07-02  연구소  1.0  NaN  NaN\n",
       "3  19070101   손오공  1990-11-23  연구소  NaN  NaN  3.0\n",
       "4  19070102   임꺽정  1993-02-01  마케팅  NaN  NaN  NaN\n",
       "5  19070103   저팔계  1992-07-16  연구소  NaN  NaN  1.0"
      ]
     },
     "execution_count": 3,
     "metadata": {},
     "output_type": "execute_result"
    }
   ],
   "source": [
    "df = pd.read_csv('./files/data/sample1.csv')\n",
    "df"
   ]
  },
  {
   "cell_type": "code",
   "execution_count": 7,
   "metadata": {},
   "outputs": [
    {
     "data": {
      "text/html": [
       "<div>\n",
       "<style scoped>\n",
       "    .dataframe tbody tr th:only-of-type {\n",
       "        vertical-align: middle;\n",
       "    }\n",
       "\n",
       "    .dataframe tbody tr th {\n",
       "        vertical-align: top;\n",
       "    }\n",
       "\n",
       "    .dataframe thead th {\n",
       "        text-align: right;\n",
       "    }\n",
       "</style>\n",
       "<table border=\"1\" class=\"dataframe\">\n",
       "  <thead>\n",
       "    <tr style=\"text-align: right;\">\n",
       "      <th></th>\n",
       "      <th>사번</th>\n",
       "      <th>이름</th>\n",
       "      <th>생년월일</th>\n",
       "      <th>부서</th>\n",
       "      <th>영어</th>\n",
       "      <th>일본어</th>\n",
       "      <th>중국어</th>\n",
       "    </tr>\n",
       "  </thead>\n",
       "  <tbody>\n",
       "    <tr>\n",
       "      <th>0</th>\n",
       "      <td>18030201</td>\n",
       "      <td>홍길동</td>\n",
       "      <td>1990-01-23</td>\n",
       "      <td>연구소</td>\n",
       "      <td>1.0</td>\n",
       "      <td>1.0</td>\n",
       "      <td>NaN</td>\n",
       "    </tr>\n",
       "    <tr>\n",
       "      <th>1</th>\n",
       "      <td>18030202</td>\n",
       "      <td>전우치</td>\n",
       "      <td>1992-10-11</td>\n",
       "      <td>마케팅</td>\n",
       "      <td>NaN</td>\n",
       "      <td>2.0</td>\n",
       "      <td>NaN</td>\n",
       "    </tr>\n",
       "    <tr>\n",
       "      <th>2</th>\n",
       "      <td>19030401</td>\n",
       "      <td>사오정</td>\n",
       "      <td>1995-07-02</td>\n",
       "      <td>연구소</td>\n",
       "      <td>1.0</td>\n",
       "      <td>NaN</td>\n",
       "      <td>NaN</td>\n",
       "    </tr>\n",
       "    <tr>\n",
       "      <th>3</th>\n",
       "      <td>19070101</td>\n",
       "      <td>손오공</td>\n",
       "      <td>1990-11-23</td>\n",
       "      <td>연구소</td>\n",
       "      <td>NaN</td>\n",
       "      <td>NaN</td>\n",
       "      <td>3.0</td>\n",
       "    </tr>\n",
       "    <tr>\n",
       "      <th>4</th>\n",
       "      <td>19070102</td>\n",
       "      <td>임꺽정</td>\n",
       "      <td>1993-02-01</td>\n",
       "      <td>마케팅</td>\n",
       "      <td>NaN</td>\n",
       "      <td>NaN</td>\n",
       "      <td>NaN</td>\n",
       "    </tr>\n",
       "    <tr>\n",
       "      <th>5</th>\n",
       "      <td>19070103</td>\n",
       "      <td>저팔계</td>\n",
       "      <td>1992-07-16</td>\n",
       "      <td>연구소</td>\n",
       "      <td>NaN</td>\n",
       "      <td>NaN</td>\n",
       "      <td>1.0</td>\n",
       "    </tr>\n",
       "  </tbody>\n",
       "</table>\n",
       "</div>"
      ],
      "text/plain": [
       "         사번   이름        생년월일   부서   영어  일본어  중국어\n",
       "0  18030201  홍길동  1990-01-23  연구소  1.0  1.0  NaN\n",
       "1  18030202  전우치  1992-10-11  마케팅  NaN  2.0  NaN\n",
       "2  19030401  사오정  1995-07-02  연구소  1.0  NaN  NaN\n",
       "3  19070101  손오공  1990-11-23  연구소  NaN  NaN  3.0\n",
       "4  19070102  임꺽정  1993-02-01  마케팅  NaN  NaN  NaN\n",
       "5  19070103  저팔계  1992-07-16  연구소  NaN  NaN  1.0"
      ]
     },
     "execution_count": 7,
     "metadata": {},
     "output_type": "execute_result"
    }
   ],
   "source": [
    "names = ['사번', '이름', '생년월일', '부서', '영어', '일본어', '중국어']\n",
    "\n",
    "df.columns = names\n",
    "df"
   ]
  },
  {
   "cell_type": "code",
   "execution_count": 8,
   "metadata": {},
   "outputs": [
    {
     "name": "stdout",
     "output_type": "stream",
     "text": [
      "<class 'pandas.core.frame.DataFrame'>\n",
      "RangeIndex: 6 entries, 0 to 5\n",
      "Data columns (total 7 columns):\n",
      " #   Column  Non-Null Count  Dtype  \n",
      "---  ------  --------------  -----  \n",
      " 0   사번      6 non-null      int64  \n",
      " 1   이름      6 non-null      object \n",
      " 2   생년월일    6 non-null      object \n",
      " 3   부서      6 non-null      object \n",
      " 4   영어      2 non-null      float64\n",
      " 5   일본어     2 non-null      float64\n",
      " 6   중국어     2 non-null      float64\n",
      "dtypes: float64(3), int64(1), object(3)\n",
      "memory usage: 464.0+ bytes\n"
     ]
    }
   ],
   "source": [
    "df.info()"
   ]
  },
  {
   "cell_type": "code",
   "execution_count": 11,
   "metadata": {},
   "outputs": [
    {
     "data": {
      "text/plain": [
       "영어     4\n",
       "일본어    4\n",
       "중국어    4\n",
       "dtype: int64"
      ]
     },
     "execution_count": 11,
     "metadata": {},
     "output_type": "execute_result"
    }
   ],
   "source": [
    "df1 = df[['영어', '일본어', '중국어']]\n",
    "df1.isna()\n",
    "df1.isna().sum() # sum 으로 조건 만족하는지 안 하는지 볼 수 있다고 ?"
   ]
  },
  {
   "cell_type": "markdown",
   "metadata": {
    "id": "nEElbelmieXn"
   },
   "source": [
    "## NA 제거\n",
    "- df.dropna(axis=0, how='any', thresh=None, subset=None, inplace=False)\n",
    "- axis\n",
    "   - axis=0 이거나 'index' : NA value 포함 행(row) 제거\n",
    "   - axis=1 이거나 'columns' : NA value 포함 열(column) 제거\n",
    "- how\n",
    "   - how='any' : NA value 가 하나라도 포함된 경우 True\n",
    "   - how='all' : 모든 값이 NA value 인 경우 True\n",
    "- thresh\n",
    "   - int, non-NA value 개수가 설정 값 이상 일 때 제거 안함\n",
    "- subset \n",
    "   - array-like, NA value를 살펴 볼 label 목록\n",
    "   - axis=0 : columns에 대한 label 을 목록으로 작성함\n",
    "- inplace\n",
    "   - bool, True인 경우 대상에 직접 반영 하고, None을 반환"
   ]
  },
  {
   "cell_type": "markdown",
   "metadata": {
    "id": "d6h76OenieX6"
   },
   "source": [
    "## NA 채우기\n",
    "- df.fillna(value=None, method=None, axis=None, inplace=False, limit=None, ... )\n",
    "- NA value 를 value 또는 method를 사용하여 변경한 DataFrame 객체 반환\n",
    "- value \n",
    "   - scalar, dict, Series, or DataFrame\n",
    "   - NA values를 대신 할 값을 지정함\n",
    "   - dict, Series, DataFrame 을 사용해 행/열 별 채우기 값 별도 지정 가능\n",
    "- method\n",
    "   - {'backfill', 'bfill', 'pad', 'ffill', None}\n",
    "   - value=None 일 때, NA values를 대신 할 값 선정 방법을 지정함\n",
    "   - 'backfill', 'bfill' : (아래->위)다음 발견되는 valid observation으로 채움\n",
    "   - 'pad', 'ffill' : (위->아래) 이전에 발견된 valid observation으로 채움\n",
    "- axis\n",
    "   - axis=0 이거나 'index' : 행 방향으로 채우기 진행\n",
    "   - axis=1 이거나 'columns' : 열 방향으로 채우기 진행\n",
    "- inplace\n",
    "   - bool, True인 경우 대상에 직접 반영 하고, None을 반환\n",
    "- limit\n",
    "   - NA values를 다른 value로 변경하는 동작의 최대 횟수"
   ]
  },
  {
   "cell_type": "markdown",
   "metadata": {
    "id": "Sy230zmy8U4m"
   },
   "source": [
    "## Value 대체\n",
    "- df.replace(to_replace, value=None, inplace=False, limit=None, regex=False,...)\n",
    "- to_replace로 주어진 대상이 value로 주어진 값으로 변경 된 DataFrame 객체\n",
    "- to_replace\n",
    "   - str, regex, list, dict, Series, int, float, or None\n",
    "   - value로 대체될 값들을 찾는 방법\n",
    "   - API에서 상세 설명 참조 ([DataFrmae.replace](https://pandas.pydata.org/pandas-docs/version/0.25/reference/api/pandas.DataFrame.replace.html))\n",
    "- value\n",
    "   - scalar, dict, list, str, regex, default None\n",
    "   - to_replace에 매칭하는 값을 대체할 값을 지정함\n",
    "   - dict 을 사용해 열 별 채우기 값을 별도 지정 가능\n",
    "- inplace\n",
    "   - bool, True인 경우 대상에 직접 반영 하고, None을 반환\n",
    "- limit\n",
    "   - NA values를 다른 value로 변경하는 동작의 최대 횟수\n",
    "- regex\n",
    "   - bool or same types as to_replace\n",
    "   - True 설정 시 to_replace 및 value의 정규식 사용 가능 \n",
    "   - to_replace는 str 을 사용해야 함\n"
   ]
  },
  {
   "cell_type": "markdown",
   "metadata": {
    "id": "rV9GeU3NieYv"
   },
   "source": [
    "## DataFrame 합치기"
   ]
  },
  {
   "cell_type": "markdown",
   "metadata": {
    "id": "iLN3hlStieYw"
   },
   "source": [
    "### pd.concat \n",
    "- 여러개 데이터 프레임 하나로 합치기\n",
    "- pd.concat(objs, axis=0, join=‘outer’, ignore_index=False,verify_integrity=False, ... )\n",
    "- index를 기준으로, 행/열 방향으로 DataFrame을 병합함\n",
    "- objs : a sequence or mapping of Series or DataFrame objects\n",
    "- axis : 0  or 'index' : 행 방향, 1 or 'columns' : 열 방향\n",
    "- join : { ‘outer’, ‘inner’ }, 매치되는 index/column 없을 때의 동작\n",
    "   - outer : NaN 채우기, inner : 삭제하기\n",
    "- ignore_index : index를 무시하고 RangeIndex로 변경\n",
    "- verity_integrity : True : 중복 데이터 있으면 오류 발생 \n",
    "- [pandas.concat](https://pandas.pydata.org/pandas-docs/version/0.25/reference/api/pandas.concat.html)  "
   ]
  },
  {
   "cell_type": "markdown",
   "metadata": {
    "id": "Txd_ef6KieY7"
   },
   "source": [
    "### pd.merge\n",
    "- pd.merge(left, right, how=‘inner’, on=None, left_on=None, right_on=None, left_index=False, right_index=False, ...)\n",
    "- on에 지정된 병합 기준 또는 index에 따라 left, right 병합\n",
    "- left, right : DataFrame or named Series\n",
    "- how : {‘left’, ‘right’, ‘outer’, ‘inner’}, default ‘inner’\n",
    "- on : label or list,  병합 기준 지정 (columns or index level names)\n",
    "- left_on, right_on : label or list, 왼쪽/오른쪽 병합 기준 지정\n",
    "- left_index, right_index\n",
    "   - True/False를 사용하여 index를 병합 기준으로 사용할지 여부 지정\n",
    "   - columns가 다를 경우 True로 지정해야 함\n",
    "\n",
    "- [pandas.merge](https://pandas.pydata.org/pandas-docs/version/0.25/reference/api/pandas.merge.html)\n"
   ]
  },
  {
   "cell_type": "markdown",
   "metadata": {
    "id": "va9rZW9gYRiI"
   },
   "source": [
    "## 데이터 삭제\n",
    "- x.drop(labels, axis=0, ...)\n",
    "    - labels : 한 개의 label 또는 list-like index/column labels\n",
    "    - axis=0 or 'index' : 행 삭제\n",
    "    - axis=1 or 'columns' : 열 삭제\n",
    "    - [DataFrame - drop](https://pandas.pydata.org/docs/reference/api/pandas.DataFrame.drop.html)"
   ]
  },
  {
   "cell_type": "markdown",
   "metadata": {
    "id": "TfL7pPMBf_UQ"
   },
   "source": [
    "###  [ 실습 ]"
   ]
  },
  {
   "cell_type": "markdown",
   "metadata": {
    "id": "tt6WK9PSfQt5"
   },
   "source": [
    "## 데이터 추가\n",
    "- x.append(other, ignore_index=False, verify_integrity=False, ...)\n",
    "   - other에 전달된 데이터를 추가한 객체 반환\n",
    "   - other \n",
    "     - x is DataFrame : DataFrame, Series/dict-like, list of these\n",
    "     - x is Series : Series or list/tuple of Series\n",
    "   - ignore_index : True - index labels 사용하지 않음, index 없는 대상 추가 시 필수\n",
    "   - verity_integrity : True - index 중복 시 ValueError 발생\n",
    "   - [DataFrame - append](https://pandas.pydata.org/docs/reference/api/pandas.DataFrame.append.html)\n"
   ]
  },
  {
   "cell_type": "markdown",
   "metadata": {
    "id": "lSBmopEonBTu"
   },
   "source": [
    "###  [ 실습 ]"
   ]
  },
  {
   "cell_type": "code",
   "execution_count": null,
   "metadata": {
    "colab": {
     "base_uri": "https://localhost:8080/",
     "height": 70
    },
    "executionInfo": {
     "elapsed": 678,
     "status": "ok",
     "timestamp": 1602981772572,
     "user": {
      "displayName": "SoYoung Yoon",
      "photoUrl": "https://lh3.googleusercontent.com/a-/AOh14GjsKzTbD8fhpM_a0EcHvGe2bp6UJFVnRa94ldTGcQ=s64",
      "userId": "06188085222412627629"
     },
     "user_tz": -540
    },
    "id": "VOKP_fKIHbPL",
    "outputId": "3116d1a5-2fbf-4715-f565-a3af27abcd34"
   },
   "outputs": [],
   "source": []
  },
  {
   "cell_type": "markdown",
   "metadata": {
    "id": "aVubFBxYieYE"
   },
   "source": [
    "## 데이터 변환"
   ]
  },
  {
   "cell_type": "markdown",
   "metadata": {
    "id": "es_FccdxieYE"
   },
   "source": [
    "### Series.map"
   ]
  },
  {
   "cell_type": "markdown",
   "metadata": {
    "id": "2HPPADq-ieYF"
   },
   "source": [
    "- s.map(arg, na_action=None)\n",
    "   - arg로 전달된 내용이 ***각 항에 적용***된 Series 반환\n",
    "- arg : function, dict, Series\n",
    "   - Series의 각 항에 적용될 내용\n",
    "   - dict가 사용될 경우 key에 없는 것이 Series에 포함되어 있으면 NaN이 됨 \n",
    "- na_action : {None, 'ignore'}  (default None)\n",
    "  - 'ignore' : NA Value에 대해 동작을 무시하고  NaN, None, NaT 로 채움\n",
    "- API : [Series.map](https://pandas.pydata.org/docs/reference/api/pandas.Series.map.html)"
   ]
  },
  {
   "cell_type": "markdown",
   "metadata": {
    "id": "pR4zpsXJ5l5y"
   },
   "source": [
    "### 부서별 코드 번호 부여"
   ]
  },
  {
   "cell_type": "code",
   "execution_count": null,
   "metadata": {
    "colab": {
     "base_uri": "https://localhost:8080/",
     "height": 373
    },
    "executionInfo": {
     "elapsed": 949,
     "status": "ok",
     "timestamp": 1604107275494,
     "user": {
      "displayName": "SoYoung Yoon",
      "photoUrl": "https://lh3.googleusercontent.com/a-/AOh14GjsKzTbD8fhpM_a0EcHvGe2bp6UJFVnRa94ldTGcQ=s64",
      "userId": "06188085222412627629"
     },
     "user_tz": -540
    },
    "id": "yhztwfJvvyzi",
    "outputId": "3c5a46fc-f86a-463a-ab60-37d5b634886e"
   },
   "outputs": [],
   "source": []
  },
  {
   "cell_type": "markdown",
   "metadata": {
    "id": "fUMMp94Z_I0g"
   },
   "source": [
    "### 초과근무 금액 계산"
   ]
  },
  {
   "cell_type": "markdown",
   "metadata": {
    "id": "a19Z4EuuieYX"
   },
   "source": [
    "### apply\n",
    "- x.apply( func, axis, ...,  args=(), **kwds )  # x : DataFrame, Series\n",
    "- axis에 설정에 따라 행/열 별로 func에 주어진 함수를 적용한 결과 반환\n",
    "- func : 각 행이나 열에 적용할 함수\n",
    "   - 함수는 lambda로 작성하거나 numpy, Series 등에서 제공되는 것 사용\n",
    "   - apply는 행/열에 함수를 적용 함  (map은 각 항에 함수를 적용)\n",
    "- axis : 0 or ‘index : 각 column 에 적용, 1 or ‘columns’ : 각 row에 적용\n",
    "- args : array 또는 Series를 포함한 tuple로 작성\n",
    "   - func에 전달 할 Positional arguments\n",
    "- kwds  \n",
    "   - func에 전달 할 Keyword arguments\n",
    "- API : [DataFrame.apply](https://pandas.pydata.org/docs/reference/api/pandas.DataFrame.apply.html)"
   ]
  },
  {
   "cell_type": "markdown",
   "metadata": {
    "id": "tIirq0kKZqC0"
   },
   "source": [
    "### aggregating functions\n",
    "- mean()\n",
    "- sum()\n",
    "- size()\n",
    "- count()\n",
    "- std()\n",
    "- var()\n",
    "- describe()\n",
    "- first()\n",
    "- last()\n",
    "- nth()\n",
    "- min()\n",
    "- max()"
   ]
  },
  {
   "cell_type": "markdown",
   "metadata": {
    "id": "ptsLSDv5pLoO"
   },
   "source": [
    "## 데이터의 그룹별 작업 \n",
    "- 작업 목적에 따른 분류\n",
    "1. Aggregation\n",
    "  - 각 그룹에 함수 적용 후, 그룹별 함수 결과 형태의 객체 반환\n",
    "  - 예) 그룹별 합계, 평균, 개수 구하기\n",
    "2. Transformation\n",
    "  - 각 그룹에 함수 적용 후, index-like 객체 반환\n",
    "  - 예) 그룹 내 데이터 표준화, 각 그룹별 산출 값으로 NA Value 채우기\n",
    "3. Filtration\n",
    "  - 각 그룹에 함수 적용 후, 그 결과가 True 인 것만 남김(False인 것 삭제)\n",
    "  - 예) 데이터 개수가 적은 그룹 제거, 합계, 평균 등에 기반한 데이터 추출\n",
    "\n",
    "  "
   ]
  },
  {
   "cell_type": "markdown",
   "metadata": {
    "id": "Un653rBgieZK"
   },
   "source": [
    "### groupby \n",
    "- df.groupby( by=None, axis=0, level=None, sort=True, as_index=True,...)\n",
    "- by/level 에 의해 그룹화된 DataFrameGroupBy / SeriesGroupBy 객체 반환\n",
    "- by : mapping, function, label or list of labels\n",
    "   - function의 경우 객체의 index 각 항을 대상으로 함 \n",
    "- axis : 0인 경우 행, 1인 경우 열 기준으로 그룹 나누기 작업 진행\n",
    "- level : MultiIndex인 경우 level을 기준으로 그룹 나누기\n",
    "- sort : 정렬할 것인지 결정하는 것으로  False가 성능면에서 좋음\n",
    "- as_index : True인 경우 group_label을 index로 사용함\n",
    "- https://pandas.pydata.org/pandas-docs/stable/reference/groupby.html\n",
    "- https://pandas.pydata.org/pandas-docs/stable/user_guide/groupby.html"
   ]
  },
  {
   "cell_type": "markdown",
   "metadata": {
    "id": "WFYyBb5M1ahH"
   },
   "source": [
    "### 그룹별 작업은 다음 단계를 거쳐 결과를 만들어 낸다\n",
    "1. Splitting : 그룹 분류 기준에 따라 데이터를 그룹으로 분리\n",
    "2. Applying : 각 그룹별로 연산 적용\n",
    "3. Combining : applying의 결과를 하나의 데이터 구조로 결합"
   ]
  },
  {
   "cell_type": "markdown",
   "metadata": {
    "id": "CcjJPpld5pe-"
   },
   "source": [
    "### groupby의 function 관련 메서드 1\n",
    "- ```gp.apply(func, *args, **kwargs)```\n",
    "   - 그룹별로 func을 적용하고 결과를 combine함\n",
    "   - func의 argument : 그룹별 **DataFrame/Series 객체**\n",
    "   - 결과로 DataFrame/Series 객체 반환 (변경된 index)\n",
    "\n",
    "- ```gp.agg(func, *args, **kwargs)```\n",
    "   - func : function, str, list or dict\n",
    "   - func의 argument : 그룹별 DataFrame/Series의 **각 Series 객체**(column)를 인수로 받음\n",
    "   - 결과로 DataFrame 또는 Series 반환 (변경된 index)\n",
    "    "
   ]
  },
  {
   "cell_type": "code",
   "execution_count": 2,
   "metadata": {
    "id": "ZtyvvV1hKsS_"
   },
   "outputs": [],
   "source": [
    "import warnings  \n",
    "warnings.filterwarnings('ignore')"
   ]
  },
  {
   "cell_type": "markdown",
   "metadata": {
    "id": "kPurdLnkIzH5"
   },
   "source": [
    "### groupby의 function 관련 메서드 2\n",
    "- ```gp.transform(func)```\n",
    "   - func의 argument : 그룹별 DataFrame/Series의 **각 Series 객체**(column)를 인수로 받음\n",
    "   - DataFrame 형식을 유지하면서 결과를 구함 (index 유지)\n",
    "   \n",
    "   \n",
    "- ```gp.filter(func, dropna=True, *args, *kwargs)```\n",
    "   - 특정 조건으로 데이터를 검색(추출)할 때 사용\n",
    "   - func의 return : True/False를 반환하는 형태여야 함\n",
    "   - func의 argument : 그룹별 **DataFrame/Series 객체**\n",
    "   - dropna : func의 결과가 False인 것에 대해 삭제할 것인가의 여부, dropna=False인 경우 False인 것을 NaN으로 채움\n",
    "   - filter된 DataFrame 반환 (변경된 index)  "
   ]
  }
 ],
 "metadata": {
  "colab": {
   "collapsed_sections": [],
   "name": "pandas_concept_PART2_SOL.ipynb의 사본",
   "provenance": [
    {
     "file_id": "1RfykOkT6SRLjPUErxfygcKcvmFV8yVvP",
     "timestamp": 1634166668357
    },
    {
     "file_id": "1m6iyZAukwovlU-Eh_ke1hEX6fEEOh6Jc",
     "timestamp": 1602127376607
    }
   ],
   "toc_visible": true
  },
  "kernelspec": {
   "display_name": "Python 3",
   "language": "python",
   "name": "python3"
  },
  "language_info": {
   "codemirror_mode": {
    "name": "ipython",
    "version": 3
   },
   "file_extension": ".py",
   "mimetype": "text/x-python",
   "name": "python",
   "nbconvert_exporter": "python",
   "pygments_lexer": "ipython3",
   "version": "3.8.8"
  },
  "toc": {
   "base_numbering": 1,
   "nav_menu": {},
   "number_sections": true,
   "sideBar": true,
   "skip_h1_title": false,
   "title_cell": "Table of Contents",
   "title_sidebar": "Contents",
   "toc_cell": false,
   "toc_position": {
    "height": "calc(100% - 180px)",
    "left": "10px",
    "top": "150px",
    "width": "290.994px"
   },
   "toc_section_display": true,
   "toc_window_display": true
  }
 },
 "nbformat": 4,
 "nbformat_minor": 1
}
