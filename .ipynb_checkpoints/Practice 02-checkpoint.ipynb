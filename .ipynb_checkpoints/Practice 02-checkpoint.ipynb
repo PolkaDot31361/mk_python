{
 "cells": [
  {
   "cell_type": "markdown",
   "id": "950d3dd9",
   "metadata": {},
   "source": [
    "## [문제] 문자열 검색\n",
    "\n",
    "- 사용자로부터 입력 받을 문자열 개수를 입력 받고\n",
    "- 검색할 단어를 입력 받은후\n",
    "- 앞서 입력받은 숫자만큼 문자열을 입력 받는다\n",
    "- 이후 해당 문자열에서 검색어를 포함하는 문자열을 출력하되, 검색어가 존재하지 않을 경우 \"None\"을 출력\n"
   ]
  },
  {
   "cell_type": "code",
   "execution_count": null,
   "id": "8aba3dbe",
   "metadata": {},
   "outputs": [],
   "source": [
    "num = int(input(\"입력할 문자열 개수 : \"))\n",
    "search = input(\"검색할 문자열 : \")\n",
    "\n",
    "word_list = []\n",
    "for i in range(0, num):\n",
    "    word_list.append(input(\"문자열 입력 : \"))\n",
    "\n",
    "for i in range(num):\n",
    "    if search in word_list[i]:\n",
    "        print(word_list[i])\n",
    "    "
   ]
  },
  {
   "cell_type": "code",
   "execution_count": null,
   "id": "41dbe371",
   "metadata": {},
   "outputs": [],
   "source": [
    "num = int(input(\"입력 문자열 개수 : \"))\n",
    "keyword = input(\"검색할 문자열 : \")\n",
    "input_string = []\n",
    "\n",
    "for i in range(num):\n",
    "    input_string.append(input(\"문자열 입력 : \"))\n",
    "\n",
    "print(\"검색 결과 : \")\n",
    "result = [print(word) for word in input_string if keyword in word]\n",
    "if not result:\n",
    "    print(\"None\")"
   ]
  },
  {
   "cell_type": "markdown",
   "id": "3cc2b467",
   "metadata": {},
   "source": [
    "## [문제] 규칙에 따라 문자 변환하기\n",
    "\n",
    "<pre>\n",
    "- 사용자로부터 임의의 문자열 입력받기\n",
    "- 아래와 같은 규칙에 따라 변환후 출력하는 코드 작성\n",
    "- 규칙 \n",
    "    A -> 4\n",
    "    E -> 3\n",
    "    G -> 6\n",
    "    I -> 1\n",
    "    O -> 0\n",
    "    S -> 5\n",
    "    Z -> 2\n",
    "- 예시) \n",
    "    입력 : Ag$IZklS\n",
    "    출력 : 4g$12kl5\n",
    "</pre>"
   ]
  },
  {
   "cell_type": "code",
   "execution_count": null,
   "id": "f3796c9e",
   "metadata": {},
   "outputs": [],
   "source": [
    "string = input(\"입력 : \")\n",
    "\n",
    "change = {\"A\":\"4\", \"E\":\"3\", \"G\":\"6\", \"I\":\"1\", \"O\":\"0\", \"S\":\"5\", \"Z\":\"2\"}\n",
    "wordList = [char for char in string]\n",
    "\n",
    "for char in wordList:\n",
    "    if char in change:\n",
    "        char.replace(char, change.get(char))\n",
    "\n",
    "for char in wordList:\n",
    "    print(char, end=\"\")\n",
    "    \n",
    "    # fail"
   ]
  },
  {
   "cell_type": "code",
   "execution_count": 1,
   "id": "21d0aec4",
   "metadata": {},
   "outputs": [
    {
     "name": "stdout",
     "output_type": "stream",
     "text": [
      "입력 : aasd\n",
      "출력 : "
     ]
    },
    {
     "ename": "NameError",
     "evalue": "name 's' is not defined",
     "output_type": "error",
     "traceback": [
      "\u001b[1;31m---------------------------------------------------------------------------\u001b[0m",
      "\u001b[1;31mNameError\u001b[0m                                 Traceback (most recent call last)",
      "\u001b[1;32m<ipython-input-1-bd3b8585c546>\u001b[0m in \u001b[0;36m<module>\u001b[1;34m\u001b[0m\n\u001b[0;32m      5\u001b[0m \u001b[0mprint\u001b[0m\u001b[1;33m(\u001b[0m\u001b[1;34m\"출력 : \"\u001b[0m\u001b[1;33m,\u001b[0m \u001b[0mend\u001b[0m \u001b[1;33m=\u001b[0m \u001b[1;34m\"\"\u001b[0m\u001b[1;33m)\u001b[0m\u001b[1;33m\u001b[0m\u001b[1;33m\u001b[0m\u001b[0m\n\u001b[0;32m      6\u001b[0m \u001b[1;32mfor\u001b[0m \u001b[0mchar\u001b[0m \u001b[1;32min\u001b[0m \u001b[0mtext\u001b[0m\u001b[1;33m:\u001b[0m\u001b[1;33m\u001b[0m\u001b[1;33m\u001b[0m\u001b[0m\n\u001b[1;32m----> 7\u001b[1;33m     \u001b[0mprint\u001b[0m\u001b[1;33m(\u001b[0m\u001b[0mcode\u001b[0m\u001b[1;33m.\u001b[0m\u001b[0mget\u001b[0m\u001b[1;33m(\u001b[0m\u001b[0ms\u001b[0m\u001b[1;33m,\u001b[0m\u001b[0ms\u001b[0m\u001b[1;33m)\u001b[0m\u001b[1;33m,\u001b[0m \u001b[0mend\u001b[0m \u001b[1;33m=\u001b[0m \u001b[1;34m\"\"\u001b[0m\u001b[1;33m)\u001b[0m\u001b[1;33m\u001b[0m\u001b[1;33m\u001b[0m\u001b[0m\n\u001b[0m",
      "\u001b[1;31mNameError\u001b[0m: name 's' is not defined"
     ]
    }
   ],
   "source": [
    "code = {\"A\":4, \"E\":3, \"G\":6, \"I\":1, \"O\":0, \"S\":5, \"Z\":2}\n",
    "\n",
    "text = input(\"입력 : \")\n",
    "\n",
    "print(\"출력 : \", end = \"\")\n",
    "for char in text:\n",
    "    print(code.get(,s), end = \"\")"
   ]
  },
  {
   "cell_type": "markdown",
   "id": "5200feae",
   "metadata": {},
   "source": [
    "## [문제] 키 값으로 합계 구하기\n",
    "<pre>\n",
    "- 사용자로부터 \"key:value\" 형태로 반복해서 데이터를 입력 받는다\n",
    "- 이때 key 는 문자열, value는 자연수\n",
    "- 중복되는 key 입력 받을 경우 기존에 입력 되어있던 value에 새로 입력 받은 value를 합한다.\n",
    "- 사용자가 exit 입력시 이전까지 받았던 모든 key 와 value 를 key=value 형태로 출력\n",
    "    예시)\n",
    "        입력 :\n",
    "        a : 1\n",
    "        b : 2\n",
    "        c : 3\n",
    "        ...\n",
    "        exit\n",
    "        \n",
    "        출력 :\n",
    "        a = 5\n",
    "        b = 2\n",
    "        ...\n",
    "</pre>"
   ]
  },
  {
   "cell_type": "code",
   "execution_count": null,
   "id": "8725425e",
   "metadata": {},
   "outputs": [],
   "source": [
    "dic = {}\n",
    "\n",
    "while True :\n",
    "    key = input(\"key 입력 : \")\n",
    "    if key == \"exit\":\n",
    "        break;\n",
    "    value = int(input(\"value 입력 : \"))\n",
    "    dic[key] = dic.get(key, 0) + value\n",
    "    \n",
    "for k,v in dic.items():\n",
    "    print(\"%s = %d\" %(k,v))    "
   ]
  },
  {
   "cell_type": "code",
   "execution_count": null,
   "id": "0e910d15",
   "metadata": {},
   "outputs": [],
   "source": [
    "dic = {}\n",
    "\n",
    "print(\"입력 :\")\n",
    "while True:\n",
    "    string = input()\n",
    "    if string ==\"exit\":\n",
    "        break;\n",
    "    list = string.split(\":\")\n",
    "    dic[list[0]] = dic.get(list[0], 0) + int(list[1])\n",
    "\n",
    "print(\"출력 : \")\n",
    "for k,v in dic.items():\n",
    "    print(\"%s = %d\" %(k,v))    "
   ]
  },
  {
   "cell_type": "code",
   "execution_count": null,
   "id": "08fe296f",
   "metadata": {},
   "outputs": [],
   "source": [
    "print(\"입력 : \")\n",
    "dic = dict()\n",
    "\n",
    "while True:\n",
    "    input_data = input()\n",
    "    if input_data == \"exit\":\n",
    "        break\n",
    "    split_data = input_data.split(\":\")\n",
    "    key = split_data[0]\n",
    "    value = int(split_data[1])\n",
    "    \n",
    "    if dic.get(key) == None:\n",
    "        dic[key] = value\n",
    "    else:\n",
    "        dic[key] = dic[key] + value\n",
    "    \n",
    "    # dic[key] = dic.get(key,0) + value\n",
    "    \n",
    "print(\"출력 : \")    \n",
    "for k,v in dic.items():\n",
    "    print(\"%s=%d\" %(k,v))"
   ]
  },
  {
   "cell_type": "markdown",
   "id": "f85aa18f",
   "metadata": {},
   "source": [
    "## [문제] 성적 처리 프로그램\n",
    "<pre>\n",
    "- 사용자로부터 총 학생의 수와 기준점수를 입력 받는다.\n",
    "- 각 학생의 성적과 결석 일수를 공백을 기준으로 구분하여 순차적으로 입력 받는다.\n",
    "- 결석 일수 1일당 5점씩 감점하여 최종 성적 계산\n",
    "- 점수와, 결석일수 ,최정 성적과 합격 여부를 출력\n",
    "예시)\n",
    "                입력 : \n",
    "                학생 수 : 3\n",
    "                합격 기준 점수 : 60\n",
    "                \n",
    "                점수와 결석 일수 (\"100 0\" 형식)  : 100 0\n",
    "                점수와 결석 일수 (\"100 0\" 형식)  : 60 0\n",
    "                점수와 결석 일수 (\"100 0\" 형식)  : 80 5\n",
    "                \n",
    "                출력 :\n",
    "                점수        결석       성적        합격 여부\n",
    "                100         0          100         합격\n",
    "                60          0          60          합격\n",
    "                80          5          55          불합격\n",
    "</pre>"
   ]
  },
  {
   "cell_type": "code",
   "execution_count": 1,
   "id": "eaf0dd1e",
   "metadata": {},
   "outputs": [
    {
     "name": "stdout",
     "output_type": "stream",
     "text": [
      "입력 : \n",
      "학생 수 : 3\n",
      "합격 기준 점수 : 70\n",
      "점수와 결석 일수 (\"100 0\" 형식)  : 100 0\n",
      "점수와 결석 일수 (\"100 0\" 형식)  : 80 3\n",
      "점수와 결석 일수 (\"100 0\" 형식)  : 70 0\n",
      "출력 : \n",
      "점수\t결석\t성적\t합격여부\n",
      "100\t0\t100\t합격\t\n",
      "80\t3\t65\t불합격\t\n",
      "70\t0\t70\t합격\t\n"
     ]
    }
   ],
   "source": [
    "print(\"입력 : \")\n",
    "num = int(input(\"학생 수 : \"))\n",
    "cut = int(input(\"합격 기준 점수 : \"))\n",
    "\n",
    "result = []\n",
    "for i in range(num):\n",
    "    indi = []\n",
    "    input_data = input('점수와 결석 일수 (\"100 0\" 형식)  : ')\n",
    "    indi.append(int(input_data.split(\" \")[0]))\n",
    "    indi.append(int(input_data.split(\" \")[1]))\n",
    "    indi.append(indi[0] - 5*indi[1])\n",
    "    indi.append(\"합격\" if indi[2] >= cut else \"불합격\")\n",
    "    result.append(indi)\n",
    "\n",
    "print(\"출력 : \")\n",
    "print(\"점수\\t결석\\t성적\\t합격여부\")\n",
    "for i in result:\n",
    "    for j in i:\n",
    "        print(j, end=\"\\t\")\n",
    "    print()\n",
    "    "
   ]
  },
  {
   "cell_type": "code",
   "execution_count": null,
   "id": "24b36063",
   "metadata": {},
   "outputs": [],
   "source": [
    "print(\"입력 : \")\n",
    "numOfStudents = int(input(\"학생 수 : \"))\n",
    "cutLine = int(input(\"합격 기준 점수 : \"))\n",
    "\n",
    "score_data = list()\n",
    "\n",
    "for i in range(numOfStudents):\n",
    "    input_data = input('점수와 결석 일수 (\"100 0\" 형식)  : ')\n",
    "    score = int(input_data.split()[0])\n",
    "    absent = int(input_data.split()[1])\n",
    "    total = score - 5*absent\n",
    "    pf = \"합격\" if total >= cutLine else \"불합격\"\n",
    "\n",
    "    studnet_score = list()\n",
    "    student_score.append(score)\n",
    "    student_score.append(absent)\n",
    "    student_score.append(total)\n",
    "    student_score.append(pf)\n",
    "    \n",
    "    score_data.append(student_score)\n",
    "    \n",
    "print(\"출력 : \")\n",
    "print(\"점수\", \"결석\", \"성적\", \"합격여부\", sep=\"\\t\")\n",
    "for i in score_data:\n",
    "    print(i[0], i[1], i[2], i[3], sep=\"\\t\")"
   ]
  }
 ],
 "metadata": {
  "kernelspec": {
   "display_name": "Python 3",
   "language": "python",
   "name": "python3"
  },
  "language_info": {
   "codemirror_mode": {
    "name": "ipython",
    "version": 3
   },
   "file_extension": ".py",
   "mimetype": "text/x-python",
   "name": "python",
   "nbconvert_exporter": "python",
   "pygments_lexer": "ipython3",
   "version": "3.8.8"
  }
 },
 "nbformat": 4,
 "nbformat_minor": 5
}
