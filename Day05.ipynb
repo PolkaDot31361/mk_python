{
 "cells": [
  {
   "cell_type": "code",
   "execution_count": 7,
   "id": "39424f0e",
   "metadata": {},
   "outputs": [
    {
     "name": "stdout",
     "output_type": "stream",
     "text": [
      "{'카푸치노', '아메리카노', '카라멜 마키아또', '바닐라 라떼'}\n",
      "{'pineapple', 'pear', 'apple', 'banna', 'orange'}\n",
      "<class 'set'>\n",
      "{'카푸치노', '카라멜 마키아또', '콜드브루', '아메리카노', '바닐라 라떼'}\n"
     ]
    }
   ],
   "source": [
    "coffee = set(['아메리카노', '카푸치노', '카라멜 마키아또', '바닐라 라떼'])\n",
    "print(coffee)\n",
    "\n",
    "fruit = {'apple', 'banna', 'pear', 'orange', 'pineapple'}\n",
    "print(fruit)\n",
    "print(type(fruit))\n",
    "\n",
    "coffee.add('콜드브루')\n",
    "coffee.add('아메리카노')\n",
    "print(coffee)"
   ]
  },
  {
   "cell_type": "code",
   "execution_count": 12,
   "id": "53f123ea",
   "metadata": {},
   "outputs": [
    {
     "name": "stdout",
     "output_type": "stream",
     "text": [
      "{1, 2, 3, 4, 5, 6, 7, 8}\n",
      "{4, 5}\n",
      "{1, 2, 3}\n",
      "{8, 6, 7}\n"
     ]
    }
   ],
   "source": [
    "a = {1, 2, 3, 4, 5}\n",
    "b = {4, 5, 6, 7, 8}\n",
    "\n",
    "c = a.union(b)\n",
    "print(c)\n",
    "print(a.intersection(b))\n",
    "print(a.difference(b))\n",
    "print(b.difference(a))"
   ]
  },
  {
   "cell_type": "markdown",
   "id": "485c02e3",
   "metadata": {},
   "source": [
    "# comprehension"
   ]
  },
  {
   "cell_type": "code",
   "execution_count": 21,
   "id": "2d913393",
   "metadata": {},
   "outputs": [
    {
     "name": "stdout",
     "output_type": "stream",
     "text": [
      "[10, 30, 20, 50, 60, 100, 550, 780, 620, 230, 70]\n",
      "[4, 12, 20, 156, 124]\n"
     ]
    }
   ],
   "source": [
    "a = [1,3,2,5,6,10,55,78,62,23,7]\n",
    "\n",
    "b = [i*10 for i in a ]\n",
    "print(b)\n",
    "\n",
    "b2 = [i*2 for i in a if not i%2]\n",
    "print(b2)"
   ]
  },
  {
   "cell_type": "markdown",
   "id": "de71fe8b",
   "metadata": {},
   "source": [
    "## [문제] 1~100 사이의 정수를 발생시켜서 3의 배수이거나 5의 배수인 데이터만 리스트에 포함하는 코드를 작성"
   ]
  },
  {
   "cell_type": "code",
   "execution_count": 26,
   "id": "a0a241f7",
   "metadata": {},
   "outputs": [
    {
     "name": "stdout",
     "output_type": "stream",
     "text": [
      "[3, 5, 6, 9, 10, 12, 15, 18, 20, 21, 24, 25, 27, 30, 33, 35, 36, 39, 40, 42, 45, 48, 50, 51, 54, 55, 57, 60, 63, 65, 66, 69, 70, 72, 75, 78, 80, 81, 84, 85, 87, 90, 93, 95, 96, 99, 100]\n"
     ]
    }
   ],
   "source": [
    "a = [i for i in range(1,101) if ((not i%3)or(not i%5))]\n",
    "\n",
    "print(a)\n"
   ]
  },
  {
   "cell_type": "code",
   "execution_count": 28,
   "id": "54c3e16f",
   "metadata": {},
   "outputs": [
    {
     "name": "stdout",
     "output_type": "stream",
     "text": [
      "{'i': 3, 'heard': 2, 'that': 3, \"you're\": 2, 'settled': 1, 'down': 1, 'you': 5, 'found': 1, 'a': 1, 'girl': 1, 'and': 1, 'married': 1, 'now': 1, 'your': 1, 'dreams': 1, 'came': 1, 'true': 1, 'guess': 1, 'she': 1, 'gave': 1, 'things,': 1, \"didn't\": 1, 'give': 1, 'to': 2, 'old': 1, 'friend,': 1, 'why': 1, 'are': 1, 'so': 1, 'shy?': 1, \"ain't\": 1, 'like': 1, 'hold': 1, 'back': 1, 'or': 1, 'hide': 1, 'from': 1, 'the': 1, 'light': 1}\n"
     ]
    }
   ],
   "source": [
    "song ='''I heard that you're settled down\n",
    "That you found a girl and you're married now\n",
    "I heard that your dreams came true\n",
    "Guess she gave you things, I didn't give to you\n",
    "Old friend, why are you so shy?\n",
    "Ain't like you to hold back or hide from the light\n",
    "'''\n",
    "\n",
    "wordList = song.lower().split()\n",
    "\n",
    "result = {word : wordList.count(word) for word in wordList}\n",
    "\n",
    "print(result)"
   ]
  },
  {
   "cell_type": "markdown",
   "id": "1535d4f1",
   "metadata": {},
   "source": [
    "## zip(),  enumerate()"
   ]
  },
  {
   "cell_type": "code",
   "execution_count": 33,
   "id": "52563143",
   "metadata": {},
   "outputs": [
    {
     "name": "stdout",
     "output_type": "stream",
     "text": [
      "[(0, '월'), (1, '화'), (2, '수'), (3, '목'), (4, '금'), (5, '토'), (6, '일')]\n",
      "0 월\n",
      "1 화\n",
      "2 수\n",
      "3 목\n",
      "4 금\n",
      "5 토\n",
      "6 일\n"
     ]
    }
   ],
   "source": [
    "days = [\"월\", \"화\", \"수\", \"목\", \"금\", \"토\", \"일\"]\n",
    "\n",
    "print(list(enumerate(days)))\n",
    "\n",
    "for i,item in enumerate(days):\n",
    "    print(i, item)"
   ]
  },
  {
   "cell_type": "code",
   "execution_count": 49,
   "id": "5d4e6eaf",
   "metadata": {},
   "outputs": [
    {
     "name": "stdout",
     "output_type": "stream",
     "text": [
      "월요일 메뉴는 커피\n",
      "화요일 메뉴는 쌀국수\n",
      "수요일 메뉴는 피자\n",
      "목요일 메뉴는 햄버거\n",
      "금요일 메뉴는 국밥\n"
     ]
    }
   ],
   "source": [
    "days = [\"월\", \"화\", \"수\", \"목\", \"금\", \"토\", \"일\"]\n",
    "food = [\"커피\", \"쌀국수\", \"피자\", \"햄버거\", \"국밥\"]\n",
    "\n",
    "menu = zip(days, food)\n",
    "# print(list(menu))\n",
    "\n",
    "for d, f in menu:\n",
    "    print(\"%s요일 메뉴는 %s\" %(d,f))\n"
   ]
  },
  {
   "cell_type": "code",
   "execution_count": 51,
   "id": "d80ee0b1",
   "metadata": {},
   "outputs": [
    {
     "name": "stdout",
     "output_type": "stream",
     "text": [
      "('월', '커피')\n",
      "('화', '쌀국수')\n",
      "('수', '피자')\n",
      "('목', '햄버거')\n",
      "('금', '국밥')\n"
     ]
    }
   ],
   "source": [
    "days = [\"월\", \"화\", \"수\", \"목\", \"금\", \"토\", \"일\"]\n",
    "food = [\"커피\", \"쌀국수\", \"피자\", \"햄버거\", \"국밥\"]\n",
    "\n",
    "menu = zip(days, food)\n",
    "# print(list(menu))\n",
    "\n",
    "for f in menu:\n",
    "    print(f)"
   ]
  },
  {
   "cell_type": "code",
   "execution_count": 50,
   "id": "22326980",
   "metadata": {},
   "outputs": [
    {
     "name": "stdout",
     "output_type": "stream",
     "text": [
      "[111, 222, 333]\n"
     ]
    }
   ],
   "source": [
    "v1 = [1,2,3]\n",
    "v2 = [10,20,30]\n",
    "v3 = [100,200,300]\n",
    "\n",
    "result = [a+b+c for a,b,c in zip(v1,v2,v3)]\n",
    "print(result)"
   ]
  },
  {
   "cell_type": "code",
   "execution_count": 53,
   "id": "eb2867af",
   "metadata": {},
   "outputs": [
    {
     "name": "stdout",
     "output_type": "stream",
     "text": [
      "[111, 222, 333]\n"
     ]
    }
   ],
   "source": [
    "v1 = [1,2,3]\n",
    "v2 = [10,20,30]\n",
    "v3 = [100,200,300]\n",
    "\n",
    "result = [sum(a) for a in zip(v1,v2,v3)]\n",
    "print(result)\n"
   ]
  }
 ],
 "metadata": {
  "kernelspec": {
   "display_name": "Python 3",
   "language": "python",
   "name": "python3"
  },
  "language_info": {
   "codemirror_mode": {
    "name": "ipython",
    "version": 3
   },
   "file_extension": ".py",
   "mimetype": "text/x-python",
   "name": "python",
   "nbconvert_exporter": "python",
   "pygments_lexer": "ipython3",
   "version": "3.8.8"
  }
 },
 "nbformat": 4,
 "nbformat_minor": 5
}
