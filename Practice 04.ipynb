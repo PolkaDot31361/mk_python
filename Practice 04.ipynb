{
 "cells": [
  {
   "cell_type": "markdown",
   "id": "d2101cc3",
   "metadata": {},
   "source": [
    "# 1. Counting Characters in a String\n",
    "<pre style=\"font-family : Consolas\">\n",
    "    \n",
    "    \n",
    "    - input random String \n",
    "    - print the number of occurrences of each character in a given String\n",
    "    \n",
    "        Example) input : AAACCABBC#\n",
    "                output : A4B2C3#1\n",
    "\n",
    "</pre>"
   ]
  },
  {
   "cell_type": "code",
   "execution_count": 2,
   "id": "1207b70a",
   "metadata": {},
   "outputs": [
    {
     "name": "stdout",
     "output_type": "stream",
     "text": [
      "input : 가가가가bbbbBcc#\n",
      "output :  가4b4B1c2#1"
     ]
    }
   ],
   "source": [
    "string = input(\"input : \")\n",
    "result = {s:string.count(s) for s in string}\n",
    "\n",
    "print(\"output : \", end = \" \")\n",
    "for k,v in result.items():\n",
    "    print(k,v, sep=\"\",end=\"\")\n"
   ]
  },
  {
   "cell_type": "markdown",
   "id": "7aee4e28",
   "metadata": {},
   "source": [
    "# 2. First Character in a Seperated String\n",
    "\n",
    "<pre style=\"font-family:Consolas\">\n",
    "    \n",
    "    - input random String\n",
    "    - Seperate given string by an empty space\n",
    "    - print the first letter in the seperated String\n",
    "    \n",
    "        Example) input : ABC DEF GHI\n",
    "                output : A,D,G    \n",
    "</pre>"
   ]
  },
  {
   "cell_type": "code",
   "execution_count": 5,
   "id": "aff50668",
   "metadata": {},
   "outputs": [
    {
     "name": "stdout",
     "output_type": "stream",
     "text": [
      "input : asdfawse asdfawera sdfwerqwerqwerasdg awerqwygasdfqwerqehsdfasdf\n",
      "output :  a,a,s,a\n"
     ]
    }
   ],
   "source": [
    "string = input(\"input : \")\n",
    "sep = string.split();\n",
    "\n",
    "print(\"output : \", end=\" \")\n",
    "for i in sep:\n",
    "    print(i[0], end=\",\")\n",
    "print(\"\\b\")"
   ]
  },
  {
   "cell_type": "markdown",
   "id": "932bfb10",
   "metadata": {},
   "source": [
    "# 3. Transforming String\n",
    "<pre style=\"font-family:Consolas\">\n",
    "\n",
    "    - input random String\n",
    "    - subtitute the given string from behind with \"#\"\n",
    "    \n",
    "        Example) input : Abcdefg\n",
    "                output : Abcdef#\n",
    "                        Abcde##\n",
    "                        ...\n",
    "                        #######\n",
    "</pre>"
   ]
  },
  {
   "cell_type": "code",
   "execution_count": 13,
   "id": "05db802c",
   "metadata": {},
   "outputs": [
    {
     "name": "stdout",
     "output_type": "stream",
     "text": [
      "input : QWE123123\n",
      "output : QWE123123\n",
      "\tQWE12312#\n",
      "\tQWE1231##\n",
      "\tQWE123###\n",
      "\tQWE12####\n",
      "\tQWE1#####\n",
      "\tQWE######\n",
      "\tQW#######\n",
      "\tQ########\n",
      "\t#########\n",
      "\t"
     ]
    }
   ],
   "source": [
    "string = input(\"input : \")\n",
    "\n",
    "print(\"output : \", end=\"\")\n",
    "for i in range(len(string)+1):\n",
    "    print(string[0:len(string)-i]+(\"#\"*i), end=\"\\n\\t\")"
   ]
  },
  {
   "cell_type": "markdown",
   "id": "6552a6f8",
   "metadata": {},
   "source": [
    "# 4. Capitalize String\n",
    "<pre style=\"font-family:Consolas\">\n",
    "\n",
    "    - input random string\n",
    "    - capitalize it\n",
    "    \n",
    "        Example) input : abcdefg\n",
    "                output : ABCDEFG\n",
    "</pre>"
   ]
  },
  {
   "cell_type": "code",
   "execution_count": 14,
   "id": "5de52530",
   "metadata": {},
   "outputs": [
    {
     "name": "stdout",
     "output_type": "stream",
     "text": [
      "input : asdf\n",
      "ASDF\n"
     ]
    }
   ],
   "source": [
    "string = input(\"input : \")\n",
    "\n",
    "print(string.upper())"
   ]
  },
  {
   "cell_type": "markdown",
   "id": "4746c362",
   "metadata": {},
   "source": [
    "# 5. Search String\n",
    "<pre style=\"font-family:Consolas\">\n",
    "\n",
    "\n",
    "    - input random integer N(greater than 0)\n",
    "    - input text\n",
    "    - input N random strings\n",
    "    - print all strings containing text, if none exists print \"None\"\n",
    "</pre>"
   ]
  },
  {
   "cell_type": "code",
   "execution_count": 21,
   "id": "beec2036",
   "metadata": {},
   "outputs": [
    {
     "name": "stdout",
     "output_type": "stream",
     "text": [
      "input num : 4\n",
      "keyword : c\n",
      "input String : ab\n",
      "input String : abe\n",
      "input String : abd\n",
      "input String : abc\n",
      "abc\n"
     ]
    }
   ],
   "source": [
    "n = int(input(\"input num : \"))\n",
    "text = input(\"keyword : \")\n",
    "\n",
    "string_list = []\n",
    "for i in range(n):\n",
    "    string_list.append(input(\"input String : \"))\n",
    "    \n",
    "cnt = 0    \n",
    "for i in string_list:\n",
    "    if text in i:\n",
    "        print(i)\n",
    "        cnt += 1;\n",
    "        \n",
    "if cnt == 0:\n",
    "    print(\"None\")"
   ]
  },
  {
   "cell_type": "markdown",
   "id": "62710e98",
   "metadata": {},
   "source": [
    "# 6. Changing String\n",
    "<pre style=\"font-family:Consolas\">\n",
    "\n",
    "\n",
    "    - input random String\n",
    "    - Change the given string following the rule below.\n",
    "        RULE)   A => 4\n",
    "                E => 3\n",
    "                G => 6\n",
    "                I => 1\n",
    "                O => 0\n",
    "                S => 5\n",
    "                Z => 2\n",
    "              \n",
    "        Example) input : Ag#IZklS\n",
    "                output : 4g#12kl5\n",
    "</pre>"
   ]
  },
  {
   "cell_type": "code",
   "execution_count": 29,
   "id": "e29fafcf",
   "metadata": {},
   "outputs": [
    {
     "name": "stdout",
     "output_type": "stream",
     "text": [
      "input: Ag#iZklS\n",
      "output :4g#i2kl5"
     ]
    }
   ],
   "source": [
    "rule = {\"A\":4, \"E\":3, \"G\":6, \"I\":1, \"O\":0, \"S\":5, \"Z\":2}\n",
    "\n",
    "string = input(\"input: \")\n",
    "print(\"output :\", end=\"\")\n",
    "for i in string:\n",
    "    print(rule.get(i,i), end=\"\")\n"
   ]
  },
  {
   "cell_type": "markdown",
   "id": "9403b028",
   "metadata": {},
   "source": [
    "# 7. mini Computer\n",
    "<pre style=\"font-family: Consolas\">\n",
    "\n",
    "\n",
    "    - input \"key:value\", where key is a string and value is an integer\n",
    "    - if key is inserted multiple times, add value to existing value.\n",
    "    - input \"exit\" to terminate and print all keys and values like \"key=value\"    \n",
    "</pre>"
   ]
  },
  {
   "cell_type": "code",
   "execution_count": 36,
   "id": "e9809cb7",
   "metadata": {},
   "outputs": [
    {
     "name": "stdout",
     "output_type": "stream",
     "text": [
      "input : A:1\n",
      "input : A:2\n",
      "input : exit\n",
      "A=3\n"
     ]
    }
   ],
   "source": [
    "result = dict()\n",
    "\n",
    "while (True):\n",
    "    string = input(\"input : \")\n",
    "    \n",
    "    if string == \"exit\":\n",
    "        break;\n",
    "        \n",
    "    char_list = string.split(\":\")\n",
    "    result[char_list[0]] = result.get(char_list[0],0) + int(char_list[1])\n",
    "    \n",
    "for k,v in result.items():\n",
    "    print(\"%s=%d\"%(k,v))"
   ]
  },
  {
   "cell_type": "markdown",
   "id": "79db394a",
   "metadata": {},
   "source": [
    "# 8. Grading System\n",
    "<pre style=\"font-family:consolas\">\n",
    "\n",
    "\n",
    "    - input total number of students and passing grade\n",
    "    - for each student, input their score and absent days\n",
    "    - print which student passed\n",
    "    - for each absent day, take 5 points out from the score.\n",
    "</pre>"
   ]
  },
  {
   "cell_type": "code",
   "execution_count": 37,
   "id": "61fc1478",
   "metadata": {},
   "outputs": [
    {
     "name": "stdout",
     "output_type": "stream",
     "text": [
      "input : 5 60\n",
      "input Student info : 100 4\n",
      "input Student info : 90 6\n",
      "input Student info : 80 3\n",
      "input Student info : 70 0\n",
      "input Student info : 85 6\n",
      "1\n",
      "2\n",
      "3\n",
      "4\n"
     ]
    }
   ],
   "source": [
    "text = input(\"input : \")\n",
    "count = int(text.split()[0])\n",
    "grade = int(text.split()[1])\n",
    "\n",
    "students = dict()\n",
    "for i in range(1, count+1):\n",
    "    student = input(\"input Student info : \")\n",
    "    student_score = int(student.split()[0])\n",
    "    student_absent = int(student.split()[1])\n",
    "    \n",
    "    students[i] = student_score - 5 * student_absent\n",
    "    \n",
    "for k,v in students.items():\n",
    "    if v >= grade:\n",
    "        print(k)"
   ]
  },
  {
   "cell_type": "markdown",
   "id": "d10e806f",
   "metadata": {},
   "source": [
    "# 9. 2 dimension matrix, rotation\n",
    "<pre style=\"font-family:Consolas\">\n",
    "\n",
    "\n",
    "    - create 3 by 3, 2 dimesional matrix like below\n",
    "        [[\"#\",\"#\",\"#\"],[\"\",\"#\",\"\"],[\"\",\"#\",\"\"]]\n",
    "    - each time user inputs something, rotate it 90 degrees clockwise\n",
    "    - to terminate program, input exit\n",
    "</pre>"
   ]
  },
  {
   "cell_type": "code",
   "execution_count": 51,
   "id": "b036444b",
   "metadata": {},
   "outputs": [
    {
     "name": "stdout",
     "output_type": "stream",
     "text": [
      "input : a\n",
      "\t\t#\t\n",
      "#\t#\t#\t\n",
      "\t\t#\t\n",
      "input : a\n",
      "\t#\t\t\n",
      "\t#\t\t\n",
      "#\t#\t#\t\n",
      "input : a\n",
      "#\t\t\t\n",
      "#\t#\t#\t\n",
      "#\t\t\t\n",
      "input : a\n",
      "#\t#\t#\t\n",
      "\t#\t\t\n",
      "\t#\t\t\n",
      "input : a\n",
      "\t\t#\t\n",
      "#\t#\t#\t\n",
      "\t\t#\t\n",
      "input : a\n",
      "\t#\t\t\n",
      "\t#\t\t\n",
      "#\t#\t#\t\n",
      "input : a\n",
      "#\t\t\t\n",
      "#\t#\t#\t\n",
      "#\t\t\t\n",
      "input : a\n",
      "#\t#\t#\t\n",
      "\t#\t\t\n",
      "\t#\t\t\n",
      "input : exit\n"
     ]
    }
   ],
   "source": [
    "matrix = [[\"#\",\"#\",\"#\"],[\"\",\"#\",\"\"],[\"\",\"#\",\"\"]]\n",
    "\n",
    "while (True):\n",
    "    result = [[],[],[]]\n",
    "    if input(\"input : \") == \"exit\":\n",
    "        break;\n",
    "    for i in range(len(matrix)):\n",
    "        for j in range(len(matrix[i])):\n",
    "            result[j].insert(0,matrix[i][j])\n",
    "            \n",
    "    matrix = result\n",
    "    for i in matrix:\n",
    "        for j in i:\n",
    "            print(j, end=\"\\t\")\n",
    "        print()"
   ]
  },
  {
   "cell_type": "markdown",
   "id": "37625bfe",
   "metadata": {},
   "source": [
    "# 10. Fizzbuzz\n",
    "<pre style=\"font-family:consolas\">\n",
    "\n",
    "\n",
    "    - input random positive integer n\n",
    "    - print from 1 to n\n",
    "    - if an integer is a multiple of 3, print Fizz \n",
    "    - if an integer is a multiple of 5, print Buzz\n",
    "    - if an integer is a multiple of both 3 and 3, print FizzBuzz\n",
    "</pre>"
   ]
  },
  {
   "cell_type": "code",
   "execution_count": 55,
   "id": "2bbcf821",
   "metadata": {},
   "outputs": [
    {
     "name": "stdout",
     "output_type": "stream",
     "text": [
      "input : 30\n",
      "1\n",
      "2\n",
      "Fizz\n",
      "4\n",
      "Buzz\n",
      "Fizz\n",
      "7\n",
      "8\n",
      "Fizz\n",
      "Buzz\n",
      "11\n",
      "Fizz\n",
      "13\n",
      "14\n",
      "FizzBuzz\n",
      "16\n",
      "17\n",
      "Fizz\n",
      "19\n",
      "Buzz\n",
      "Fizz\n",
      "22\n",
      "23\n",
      "Fizz\n",
      "Buzz\n",
      "26\n",
      "Fizz\n",
      "28\n",
      "29\n",
      "FizzBuzz\n"
     ]
    }
   ],
   "source": [
    "n = int(input(\"input : \"))\n",
    "\n",
    "for i in range(1, n+1):\n",
    "    if not (i%3 or i%5):\n",
    "        print(\"FizzBuzz\")\n",
    "    elif not i%3:\n",
    "        print(\"Fizz\")\n",
    "    elif not i%5:\n",
    "        print(\"Buzz\")\n",
    "    else:\n",
    "        print(i)"
   ]
  },
  {
   "cell_type": "markdown",
   "id": "4cbcb8be",
   "metadata": {},
   "source": [
    "# 11. Factorial\n",
    "<pre style=\"font-family:Consolas\">\n",
    "\n",
    "\n",
    "    - input random positive integer n\n",
    "    - print n!\n",
    "    - use recursive function\n",
    "</pre>"
   ]
  },
  {
   "cell_type": "code",
   "execution_count": 77,
   "id": "3f734442",
   "metadata": {},
   "outputs": [
    {
     "name": "stdout",
     "output_type": "stream",
     "text": [
      "input : 10\n",
      "10! = 3628800\n"
     ]
    }
   ],
   "source": [
    "n = int(input(\"input : \"))\n",
    "\n",
    "def solution(n):\n",
    "    if n == 1:\n",
    "        return 1\n",
    "    return solution(n-1)*n\n",
    "\n",
    "print(\"%d! = %d\"%(n, solution(n)))"
   ]
  },
  {
   "cell_type": "markdown",
   "id": "5f3aafee",
   "metadata": {},
   "source": [
    "# 12. Factorial\n",
    "<pre style=\"font-family:Consolas\">\n",
    "\n",
    "\n",
    "    - input random positive integer n\n",
    "    - print n! without using recursive fucntion\n",
    "</pre>"
   ]
  },
  {
   "cell_type": "code",
   "execution_count": 76,
   "id": "e0150736",
   "metadata": {},
   "outputs": [
    {
     "name": "stdout",
     "output_type": "stream",
     "text": [
      "input : 10\n",
      "10! = 3628800\n"
     ]
    }
   ],
   "source": [
    "n = int(input(\"input : \"))\n",
    "result = 1\n",
    "\n",
    "for i in range(1, n+1):\n",
    "    result *=i\n",
    "    \n",
    "print(\"%d! = %d\" %(n, result))"
   ]
  },
  {
   "cell_type": "markdown",
   "id": "e45b9b62",
   "metadata": {},
   "source": [
    "# 13. Fibonacci\n",
    "<pre style=\"font-family:Consolas\">\n",
    "\n",
    "\n",
    "    - input random positive integer\n",
    "    - print all numbers in Fibonacci Sequence, less than given integer\n",
    "</pre>"
   ]
  },
  {
   "cell_type": "code",
   "execution_count": 86,
   "id": "dc5079cf",
   "metadata": {},
   "outputs": [
    {
     "name": "stdout",
     "output_type": "stream",
     "text": [
      "input : 55\n",
      "output :1, 1, 2, 3, 5, 8, 13, 21, 34, 55\n"
     ]
    }
   ],
   "source": [
    "fib = [1,1]\n",
    "n = int(input(\"input : \"))\n",
    "                                                                  \n",
    "while True:\n",
    "    lens = len(fib)\n",
    "    if fib[lens-2]+fib[lens-1] <= n:\n",
    "        fib.append(fib[lens-2]+fib[lens-1])\n",
    "    else:\n",
    "        print(\"output :\", end=\"\")\n",
    "        for i in fib:\n",
    "            print(i, end=\", \")\n",
    "        print(\"\\b\\b\")\n",
    "        break;"
   ]
  },
  {
   "cell_type": "markdown",
   "id": "1730176a",
   "metadata": {},
   "source": [
    "# 14 Fibonacci\n",
    "<pre style=\"font-family:Consolas\">\n",
    "\n",
    "\n",
    "    - input random postive integer n\n",
    "    - print nth number in the Fibonacci Sequence\n",
    "</pre>"
   ]
  },
  {
   "cell_type": "code",
   "execution_count": 94,
   "id": "d2091061",
   "metadata": {},
   "outputs": [
    {
     "name": "stdout",
     "output_type": "stream",
     "text": [
      "input : 5\n",
      "피보나치 수열의 5번째 항 = 5\n"
     ]
    }
   ],
   "source": [
    "n = int(input(\"input : \"))\n",
    "fib = [1, 1]\n",
    "\n",
    "if n <= 2:\n",
    "    print(\"피보나치 수열의 %d번째 항 = %d\"%(n,1))\n",
    "else:\n",
    "    for i in range(3, n+1):\n",
    "        fib.append(fib[i-3]+fib[i-2])\n",
    "print(\"피보나치 수열의 %d번째 항 = %d\"%(n,fib[n-1]))"
   ]
  },
  {
   "cell_type": "markdown",
   "id": "9c855330",
   "metadata": {},
   "source": [
    "# 15. Bubble Sort"
   ]
  },
  {
   "cell_type": "code",
   "execution_count": 109,
   "id": "8e165576",
   "metadata": {},
   "outputs": [],
   "source": [
    "def bubble_sort(A):\n",
    "    for i in range(len(A)-1):\n",
    "        temp = 0;\n",
    "        for j in range(len(A)-1-i):\n",
    "            if A[j] >= A[j+1]:\n",
    "                temp = A[j+1]\n",
    "                A[j+1] = A[j]\n",
    "                A[j] = temp\n",
    "        print(\"%d회차 : \" %(i+1), end=\"\")\n",
    "        for a in A:\n",
    "            print(a, end=\", \")\n",
    "        print(\"\\b\\b\")\n"
   ]
  },
  {
   "cell_type": "code",
   "execution_count": 111,
   "id": "40d737f8",
   "metadata": {},
   "outputs": [
    {
     "name": "stdout",
     "output_type": "stream",
     "text": [
      "input : 5\n",
      "input : 4\n",
      "input : 2\n",
      "input : 3\n",
      "input : 2\n",
      "input : 1\n",
      "input : sort\n",
      "[5, 4, 2, 3, 2, 1]\n",
      "1회차 : 4, 2, 3, 2, 1, 5\n",
      "2회차 : 2, 3, 2, 1, 4, 5\n",
      "3회차 : 2, 2, 1, 3, 4, 5\n",
      "4회차 : 2, 1, 2, 3, 4, 5\n",
      "5회차 : 1, 2, 2, 3, 4, 5\n"
     ]
    }
   ],
   "source": [
    "A = []\n",
    "while True:\n",
    "    num = input(\"input : \")\n",
    "    if num == \"sort\":\n",
    "        print(A)\n",
    "        bubble_sort(A)\n",
    "        break\n",
    "    else:\n",
    "        A.append(int(num))"
   ]
  },
  {
   "cell_type": "markdown",
   "id": "71a3db74",
   "metadata": {},
   "source": [
    "# 16. Insertion Sort"
   ]
  },
  {
   "cell_type": "code",
   "execution_count": 160,
   "id": "4fc9117b",
   "metadata": {},
   "outputs": [],
   "source": [
    "def insertion_sort(A):\n",
    "    for i in range(1, len(A)):\n",
    "        num = A[i]\n",
    "        for j in range(1, i+1):\n",
    "            if num < A[i-j]:\n",
    "                A[i-j+1] = A[i-j]\n",
    "                A[i-j] = num\n",
    "            else:\n",
    "                break\n",
    "        print(\"%d회차 : \" %(i), end=\"\")\n",
    "        for a in A:\n",
    "            print(a, end=\", \")\n",
    "        print(\"\\b\\b\")"
   ]
  },
  {
   "cell_type": "code",
   "execution_count": 164,
   "id": "7c1735fa",
   "metadata": {},
   "outputs": [],
   "source": [
    "def insertion_sort2(A):\n",
    "    for i in range(1, len(A)):\n",
    "        for b in range(i, 0, -1):\n",
    "            if A[b] < A[b-1]:\n",
    "                   A[b], A[b-1] = A[b-1], A[b]\n",
    "            else:\n",
    "                   break\n",
    "        print(\"%d회차 : \" %(i), end=\"\")\n",
    "        for a in A:\n",
    "            print(a, end=\", \")\n",
    "        print(\"\\b\\b\")\n"
   ]
  },
  {
   "cell_type": "code",
   "execution_count": 166,
   "id": "71cf1791",
   "metadata": {},
   "outputs": [
    {
     "name": "stdout",
     "output_type": "stream",
     "text": [
      "input : 1\n",
      "input : 2\n",
      "input : 3\n",
      "input : 4\n",
      "input : 5\n",
      "input : 6\n",
      "input : 6\n",
      "input : sort\n",
      "1회차 : 1, 2, 3, 4, 5, 6, 6\n",
      "2회차 : 1, 2, 3, 4, 5, 6, 6\n",
      "3회차 : 1, 2, 3, 4, 5, 6, 6\n",
      "4회차 : 1, 2, 3, 4, 5, 6, 6\n",
      "5회차 : 1, 2, 3, 4, 5, 6, 6\n",
      "6회차 : 1, 2, 3, 4, 5, 6, 6\n"
     ]
    }
   ],
   "source": [
    "A = []\n",
    "while True:\n",
    "    num = input(\"input : \")\n",
    "    if num == \"sort\":\n",
    "        insertion_sort2(A)\n",
    "        break\n",
    "    else:\n",
    "        A.append(int(num))"
   ]
  },
  {
   "cell_type": "code",
   "execution_count": 162,
   "id": "2ba09077",
   "metadata": {},
   "outputs": [
    {
     "name": "stdout",
     "output_type": "stream",
     "text": [
      "input : 6\n",
      "input : 5\n",
      "input : 4\n",
      "input : 3\n",
      "input : 2\n",
      "input : 1\n",
      "input : sort\n",
      "1회차 : 5, 6, 4, 3, 2, 1\n",
      "2회차 : 4, 5, 6, 3, 2, 1\n",
      "3회차 : 3, 4, 5, 6, 2, 1\n",
      "4회차 : 2, 3, 4, 5, 6, 1\n",
      "5회차 : 1, 2, 3, 4, 5, 6\n"
     ]
    }
   ],
   "source": [
    "A = []\n",
    "while True:\n",
    "    num = input(\"input : \")\n",
    "    if num == \"sort\":\n",
    "        insertion_sort(A)\n",
    "        break\n",
    "    else:\n",
    "        A.append(int(num))"
   ]
  },
  {
   "cell_type": "markdown",
   "id": "b00dacf2",
   "metadata": {},
   "source": [
    "# 17. Selection Sort"
   ]
  },
  {
   "cell_type": "code",
   "execution_count": 172,
   "id": "f16450cc",
   "metadata": {},
   "outputs": [],
   "source": [
    "def selection_sort(A):\n",
    "    for i in range(len(A)-1):\n",
    "        min_index = i\n",
    "        for j in range(i+1, len(A)):\n",
    "            if A[j] < A[min_index]:\n",
    "                min_index = j\n",
    "        A[i], A[min_index] = A[min_index], A[i]\n",
    "        \n",
    "        print(\"%d회차 : \" %(i+1), end=\"\")\n",
    "        for a in A:\n",
    "            print(a, end=\", \")\n",
    "        print(\"\\b\\b\")\n"
   ]
  },
  {
   "cell_type": "code",
   "execution_count": 175,
   "id": "c25d4988",
   "metadata": {},
   "outputs": [
    {
     "name": "stdout",
     "output_type": "stream",
     "text": [
      "input : 6\n",
      "input : 1\n",
      "input : 5\n",
      "input : 2\n",
      "input : 4\n",
      "input : 3\n",
      "input : sort\n",
      "[6, 1, 5, 2, 4, 3]\n",
      "1회차 : 1, 6, 5, 2, 4, 3\n",
      "2회차 : 1, 2, 5, 6, 4, 3\n",
      "3회차 : 1, 2, 3, 6, 4, 5\n",
      "4회차 : 1, 2, 3, 4, 6, 5\n",
      "5회차 : 1, 2, 3, 4, 5, 6\n"
     ]
    }
   ],
   "source": [
    "A = []\n",
    "while True:\n",
    "    num = input(\"input : \")\n",
    "    if num == \"sort\":\n",
    "        print(A)\n",
    "        selection_sort(A)\n",
    "        break\n",
    "    else:\n",
    "        A.append(int(num))"
   ]
  },
  {
   "cell_type": "code",
   "execution_count": null,
   "id": "3af8dff9",
   "metadata": {},
   "outputs": [],
   "source": []
  }
 ],
 "metadata": {
  "kernelspec": {
   "display_name": "Python 3",
   "language": "python",
   "name": "python3"
  },
  "language_info": {
   "codemirror_mode": {
    "name": "ipython",
    "version": 3
   },
   "file_extension": ".py",
   "mimetype": "text/x-python",
   "name": "python",
   "nbconvert_exporter": "python",
   "pygments_lexer": "ipython3",
   "version": "3.8.8"
  }
 },
 "nbformat": 4,
 "nbformat_minor": 5
}
