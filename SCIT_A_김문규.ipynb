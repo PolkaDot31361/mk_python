{
 "cells": [
  {
   "cell_type": "markdown",
   "id": "58d31ecb",
   "metadata": {},
   "source": [
    "# 인공신경망 개론 문제"
   ]
  },
  {
   "cell_type": "markdown",
   "id": "035866bb",
   "metadata": {},
   "source": [
    "## [문제 1] 다음 용어에 대해 정의 하세요\n",
    "<pre>\n",
    "\n",
    "- 인공지능:\n",
    "    인간의 지능을 기계등에 인공적으로 구현한것\n",
    "    \n",
    "- 기계 학습:\n",
    "    인공지능의 한 분야로 경험적 데이터를 기반으로 학습을 하고 예측을 수행하고 스스로의 성능을 향상시키는 시스템과 \n",
    "    이를 위한 알고리즘을 연구하고 구축 하는 기술\n",
    "    \n",
    "-딥 러닝 :\n",
    "    여러 선형 및 비선형 결합을 통해 높은 수준의 추상화( 다량의 복잡한 자료들에서 핵심적인 내용만 추려내는 작업)을 시도하는\n",
    "    기계학습 알고리즘의 집합\n",
    "</pre>"
   ]
  },
  {
   "cell_type": "markdown",
   "id": "1ed46089",
   "metadata": {},
   "source": [
    "## [문제 2] 기계학습의 의미와 스스로의 성능을 향상시킨다는 것이 어떤것을 의미하는지 설명하세요\n",
    "<pre>\n",
    "    - 기계학습의 의미\n",
    "        일일이 코드로 명시하지 않은 동작을 데이터로부터 학습하여 실행할 수 있도록 하는 것.\n",
    "        \n",
    "    - 스스로의 성능을 향상시킨다는 것의 의미\n",
    "        입력된 데이터를 바탕으로 특정 목적(분류 또는 예측 등)을 위한 학습을 하여 새롭게 주어진 데이터를 목적에 맞게\n",
    "        분석 하는 것.\n",
    "</pre>"
   ]
  },
  {
   "cell_type": "markdown",
   "id": "084d094e",
   "metadata": {},
   "source": [
    "## [문제 3]\n",
    "<pre>\n",
    "   - A : 지도학습\n",
    "   - B : 비지도 학습\n",
    "   - C : 강화 학습\n",
    "   - D : 분류 학습\n",
    "   - E : 회귀 학습\n",
    "   - F : 군집 학습\n",
    "</pre>"
   ]
  },
  {
   "cell_type": "markdown",
   "id": "14b65dd5",
   "metadata": {},
   "source": [
    "## [문제 4] Overfitting의 의미와 방지법에 대해 설명하시오\n",
    "\n",
    "<pre>\n",
    "    - 의미 \n",
    "        분석 데이터에만 존재하는 특징을 학습하여 데이터의 작은 변화에도, 과장된 결과를 초래하여 예측력이 떨어지는 현상\n",
    "        - 학습 데이터에는 오차가 감소하지만, 실제 데이터에 대해서는 오차가 증가한다.\n",
    "        \n",
    "    - 방지법\n",
    "        1. 많은 데이터(다양한 데이터)로 모델링하여, Unseen data(미지의 데이터)의 범위를 좁힘\n",
    "        2. 추가적인 분석 기술 필요\n",
    "            - Cross Validation\n",
    "            - Scaling\n",
    "            - Early Stopping\n",
    "</pre>"
   ]
  },
  {
   "cell_type": "markdown",
   "id": "88cb2b11",
   "metadata": {},
   "source": [
    "## [문제 5] 현재 딥러닝의 단점 중 하나인 블랙박스 모델의 의미와 문제점에 대해 설명하세요.\n",
    "\n",
    "<pre>\n",
    "    - 의미\n",
    "        여러개의 hidden layer들 때문에, 인공지능의 입력이나 작동원리가 \n",
    "        사용자나 다른 사람들에게 보여지지 않는(해석이 안된다)는 것.\n",
    "        \n",
    "    - 문제점\n",
    "        AI 가 도출해낸 결과 값을, 검증할 수가 없기 때문에, 신뢰도가 떨어진다는 점.\n",
    "</pre>"
   ]
  },
  {
   "cell_type": "markdown",
   "id": "caa503fa",
   "metadata": {},
   "source": [
    "## [문제 6] 1950년대 로젠블라트가 제안한 퍼셉트론에 대해 설명하고, 이이론의 한계점이 무엇인지 구체적으로 설명하세요.\n",
    "\n",
    "<pre>\n",
    "    - 퍼셉트론 :\n",
    "        인간의 뉴런을 수학적으로 모방한 계산 알고리즘\n",
    "            1. 다수의 신호를 입력으로 받아 하나의 신호를 출력한다\n",
    "            2. 퍼셉트론 신호는 흐름을 만들고 정보를 앞으로 전달한다.\n",
    "            3. 퍼셉트론 신호는 '흐른다/안 흐른다' 두가지 값을 가진다. (0 과 1)\n",
    "         학습 데이터가 선형적으로 분리될 수 있을때 적합한 알고리즘이다. \n",
    "         \n",
    "    - 한계점 :\n",
    "       XOR 문제\n",
    "           Hidden Layer를 사용하여 해결했으나 차후에 '경사손실문제' 가 발생했다고 한다.\n",
    "</pre>"
   ]
  },
  {
   "cell_type": "markdown",
   "id": "67ea7888",
   "metadata": {},
   "source": [
    "## [문제 7] 기계학습(Machine learning)과 일반적인 프로그래밍과의 차이가 무엇인지 설명하세요.\n",
    "\n",
    "<pre>\n",
    "    일반적인 프로그래밍과는 달리, 기계 학습의 알고리즘은 데이터로부터 자동적으로 규칙을 찾아낸다.\n",
    "</pre>"
   ]
  },
  {
   "cell_type": "markdown",
   "id": "9f2b86a1",
   "metadata": {},
   "source": [
    "## [문제 8] 심층신경망에서 가중치를 업데이트하는 과정에 대해 설명하세요\n",
    "\n",
    "<pre>\n",
    "    1. 데이터로부터 Feed Forwarding(순전파)하여 일단 오차를 구한다\n",
    "    2. 구한 오차를 최소화 하기위하여, Backpropagation(역전파)를 진행한다.\n",
    "    3. 역전파 할때 편미분을 사용하여 기울기가 0이 되는 지점을 구하여, 극소점을 구하는 방법.(2차 함수의 모양이라 가능)\n",
    "    4. 이런식으로 여러변수에 대하여 극소점을 구하면, 최적화 된 가중치를 구할 수 있을 것이라고 생각.       \n",
    "</pre>"
   ]
  },
  {
   "cell_type": "markdown",
   "id": "abf56352",
   "metadata": {},
   "source": [
    "## Python 문제\n",
    "\n",
    "### [문제 1]\n",
    "    2\n",
    "    \n",
    "### [문제 2]\n",
    "    3\n",
    "\n",
    "### [문제 3]\n",
    "    3\n",
    "    \n",
    "    "
   ]
  },
  {
   "cell_type": "markdown",
   "id": "d86e66a6",
   "metadata": {},
   "source": [
    "## [문제 4] 사각형 넓이 계산\n"
   ]
  },
  {
   "cell_type": "code",
   "execution_count": 6,
   "id": "bf36955b",
   "metadata": {},
   "outputs": [
    {
     "name": "stdout",
     "output_type": "stream",
     "text": [
      "WIDTH : 14.5\n",
      "HEIGHT : 5.5\n",
      "넓이는 79.75\n"
     ]
    }
   ],
   "source": [
    "width = float(input(\"WIDTH : \"))\n",
    "height = float(input(\"HEIGHT : \"))\n",
    "\n",
    "print(\"넓이는 %.2f\" % (width*height))"
   ]
  },
  {
   "cell_type": "markdown",
   "id": "7b187a3a",
   "metadata": {},
   "source": [
    "## [문제 5] 전자 출결 시스템 만들기"
   ]
  },
  {
   "cell_type": "code",
   "execution_count": 12,
   "id": "adf15793",
   "metadata": {},
   "outputs": [
    {
     "name": "stdout",
     "output_type": "stream",
     "text": [
      "--SW마스토 전자 출결 시스템--\n",
      "ID를 입력하세요:swmaster\n",
      "PW를 입력하세요:444444\n",
      "ID, PW를 확인하세요.\n"
     ]
    }
   ],
   "source": [
    "ID = \"swmaster\"\n",
    "PW = \"12345678\"\n",
    "\n",
    "print(\"--SW마스토 전자 출결 시스템--\")\n",
    "id_input = input(\"ID를 입력하세요:\")\n",
    "pw_input = input(\"PW를 입력하세요:\")\n",
    "\n",
    "if (ID == id_input) & (PW == pw_input): \n",
    "    print(\"정상적으로 출결 되었습니다.\")\n",
    "else: \n",
    "    print(\"ID, PW를 확인하세요.\")"
   ]
  },
  {
   "cell_type": "markdown",
   "id": "15535fb5",
   "metadata": {},
   "source": [
    "## [문제 6] 성적 평가 시스템 만들기"
   ]
  },
  {
   "cell_type": "code",
   "execution_count": 77,
   "id": "6eb1ac37",
   "metadata": {},
   "outputs": [
    {
     "name": "stdout",
     "output_type": "stream",
     "text": [
      "성적입력 (100점단위)\n",
      "출석점수 :90\n",
      "과제점수 :90\n",
      "중간고사 :95\n",
      "기말프로젝트 :87\n",
      "91.1\n",
      "A학점\n"
     ]
    }
   ],
   "source": [
    "print(\"성적입력 (100점단위)\")\n",
    "attendance = int(input(\"출석점수 :\"))\n",
    "assignment = int(input(\"과제점수 :\"))\n",
    "midTerm = int(input(\"중간고사 :\"))\n",
    "finalProject = int(input(\"기말프로젝트 :\"))\n",
    "\n",
    "score = 0.1*attendance + 0.2*assignment + 0.4*midTerm + 0.3*finalProject\n",
    "print(score)\n",
    "\n",
    "if score >= 90:\n",
    "    print(\"A학점\")\n",
    "elif score >= 80:\n",
    "    print(\"B학점\")\n",
    "elif score >= 70:\n",
    "    print(\"C학점\")\n",
    "elif score >= 60:\n",
    "    print(\"D학점\")\n",
    "else:\n",
    "    print(\"F학점\")"
   ]
  },
  {
   "cell_type": "markdown",
   "id": "ab904d54",
   "metadata": {},
   "source": [
    "## [문제 7] 정렬 및 배수 출력"
   ]
  },
  {
   "cell_type": "code",
   "execution_count": 20,
   "id": "e598eadb",
   "metadata": {},
   "outputs": [
    {
     "name": "stdout",
     "output_type": "stream",
     "text": [
      "숫자 입력: 45\n",
      "숫자 입력: 64\n",
      "숫자 입력: 78\n",
      "숫자 입력: 73\n",
      "숫자 입력: 1004\n",
      "숫자 입력: 55\n",
      "숫자 입력: 78\n",
      "숫자 입력: 96\n",
      "숫자 입력: 324\n",
      "숫자 입력: 13\n",
      "[13, 45, 55, 64, 73, 78, 78, 96, 324, 1004]\n",
      "45\n",
      "78\n",
      "78\n",
      "96\n",
      "324\n"
     ]
    }
   ],
   "source": [
    "numList = list()\n",
    "\n",
    "for i in range(10):\n",
    "    numList.append(int(input(\"숫자 입력: \")))\n",
    "\n",
    "print(sorted(numList))\n",
    "for i in numList:\n",
    "    if not i%3: \n",
    "        print(i)"
   ]
  },
  {
   "cell_type": "markdown",
   "id": "57c03669",
   "metadata": {},
   "source": [
    "## [문제 8] 딕셔너리 변경"
   ]
  },
  {
   "cell_type": "code",
   "execution_count": 73,
   "id": "e295fa70",
   "metadata": {},
   "outputs": [
    {
     "name": "stdout",
     "output_type": "stream",
     "text": [
      "{'서울': '02', '경기': '031', '강원': '033', '충남': '041', '충북': '043', '경북': '054', '경남': '055', '전남': '061', '전북': '063'}\n"
     ]
    }
   ],
   "source": [
    "phone = \"서울 02 ~경기 031 ~강원 033 ~충남 041 ~충북 043 ~경북 054 ~경남 055 ~전남 061 ~전북 063\"\n",
    "\n",
    "phoneList = phone.split(\"~\")\n",
    "dic = dict()\n",
    "\n",
    "for i in phoneList:\n",
    "    dic[i.split()[0]] = i.split()[1]\n",
    "    \n",
    "print (dic)"
   ]
  },
  {
   "cell_type": "markdown",
   "id": "41dd595f",
   "metadata": {},
   "source": [
    "## [문제 9]"
   ]
  },
  {
   "cell_type": "code",
   "execution_count": 72,
   "id": "d1f23d41",
   "metadata": {},
   "outputs": [
    {
     "name": "stdout",
     "output_type": "stream",
     "text": [
      "False\n"
     ]
    }
   ],
   "source": [
    "domain = \"google.com\"\n",
    "\n",
    "print(domain.endswith(\".kr\"))"
   ]
  },
  {
   "cell_type": "markdown",
   "id": "7ac2b238",
   "metadata": {},
   "source": [
    "## [문제 10]"
   ]
  },
  {
   "cell_type": "code",
   "execution_count": 74,
   "id": "037a43e5",
   "metadata": {},
   "outputs": [
    {
     "name": "stdout",
     "output_type": "stream",
     "text": [
      "[2, 4, 6, 8, 10, 12, 14, 16, 18, 20, 22, 24, 26, 28, 30, 32, 34, 36, 38, 40, 42, 44, 46, 48, 50, 52, 54, 56, 58, 60, 62, 64, 66, 68, 70, 72, 74, 76, 78, 80, 82, 84, 86, 88, 90, 92, 94, 96, 98, 100]\n"
     ]
    }
   ],
   "source": [
    "evenList = [i for i in range(1,101) if not i%2]\n",
    "\n",
    "print(evenList)"
   ]
  },
  {
   "cell_type": "markdown",
   "id": "75f53e5f",
   "metadata": {},
   "source": [
    "## [문제 11]"
   ]
  },
  {
   "cell_type": "code",
   "execution_count": 68,
   "id": "4a5a56cd",
   "metadata": {},
   "outputs": [
    {
     "name": "stdout",
     "output_type": "stream",
     "text": [
      "[9301, 7806, 2553, 5420, 2265]\n",
      "[7440.8, 6244.8, 2042.4, 4336.0, 1812.0]\n"
     ]
    }
   ],
   "source": [
    "# 임의의 가격 리스트 생성하기\n",
    "import random\n",
    "\n",
    "price = list()\n",
    "for i in range(5):\n",
    "    price.append(random.randint(1000,10000))\n",
    "    \n",
    "print(price)\n",
    "\n",
    "print(list(map(lambda x : round(x*0.8, 2), price)))"
   ]
  },
  {
   "cell_type": "markdown",
   "id": "7190fcd5",
   "metadata": {},
   "source": [
    "## [문제 12]"
   ]
  },
  {
   "cell_type": "code",
   "execution_count": 71,
   "id": "4fd047ac",
   "metadata": {},
   "outputs": [
    {
     "name": "stdout",
     "output_type": "stream",
     "text": [
      "숫자를 입력하세요. (종료: 0): 10\n",
      "입력한 숫자보다 더 큽니다.\n",
      "숫자를 입력하세요. (종료: 0): 80\n",
      "입력한 숫자보다 더 큽니다.\n",
      "숫자를 입력하세요. (종료: 0): 90\n",
      "입력한 숫자보다 더 작습니다.\n",
      "숫자를 입력하세요. (종료: 0): 85\n",
      "입력한 숫자보다 더 작습니다.\n",
      "숫자를 입력하세요. (종료: 0): 84\n",
      "입력한 숫자보다 더 작습니다.\n",
      "숫자를 입력하세요. (종료: 0): 83\n",
      "입력한 숫자보다 더 작습니다.\n",
      "숫자를 입력하세요. (종료: 0): 82\n",
      "맞췄습니다! 시도횟수7\n"
     ]
    }
   ],
   "source": [
    "# 1 부터 100사이 난수 발생\n",
    "import random\n",
    "\n",
    "ranNum = random.randint(1, 100)\n",
    "cnt = 1\n",
    "\n",
    "# 난수 확인용\n",
    "# print(ranNum)\n",
    "\n",
    "while True:\n",
    "    inpNum = int(input(\"숫자를 입력하세요. (종료: 0): \"))\n",
    "    if inpNum == 0: \n",
    "        print(\"프로그램을 종료합니다.\")\n",
    "        break\n",
    "    if inpNum < ranNum:\n",
    "        print(\"입력한 숫자보다 더 큽니다.\")\n",
    "    elif inpNum > ranNum:\n",
    "        print(\"입력한 숫자보다 더 작습니다.\")\n",
    "    else:\n",
    "        print(\"맞췄습니다! 시도횟수: %d\" %cnt)\n",
    "        break\n",
    "    cnt += 1"
   ]
  }
 ],
 "metadata": {
  "kernelspec": {
   "display_name": "Python 3",
   "language": "python",
   "name": "python3"
  },
  "language_info": {
   "codemirror_mode": {
    "name": "ipython",
    "version": 3
   },
   "file_extension": ".py",
   "mimetype": "text/x-python",
   "name": "python",
   "nbconvert_exporter": "python",
   "pygments_lexer": "ipython3",
   "version": "3.8.8"
  }
 },
 "nbformat": 4,
 "nbformat_minor": 5
}
