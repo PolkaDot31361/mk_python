{
 "cells": [
  {
   "cell_type": "markdown",
   "id": "3a9bb3f3",
   "metadata": {},
   "source": [
    "## [문제] 0~9 사이의 정수를 입력 받아 반환하는 함수를 만드시오\n",
    "- 입력 값이 숫자가 아닐 경우에는 예외 처리를 통해 적절한 메세지 출력후 다시 입력을 받는다\n",
    "- 입력 값이 범위 밖일 경우 \"0~9 사이의 정수만 입력하세요\" 출력후 다시 입력\n",
    "- 정상적으로 입력된 값을 출력한다.\n",
    "- 예시 ) > 0~9 사이의 정수를 입력하세요 : a\n",
    "         > 숫자만 입력하세요\n",
    "         > 0~9 사이의 정수를 입력하세요 : 10\n",
    "         > 0~9 사이의 정수를 입력하세요\n",
    "         > 0~9 사이의 정수를 입력하세요 : 8\n",
    "         > 입력받은 정수"
   ]
  },
  {
   "cell_type": "code",
   "execution_count": 6,
   "id": "f13d863a",
   "metadata": {},
   "outputs": [
    {
     "name": "stdout",
     "output_type": "stream",
     "text": [
      "0~9 사의 정수를 입력하세요 : a\n",
      "숫자만 입력하세요.\n",
      "0~9 사의 정수를 입력하세요 : b\n",
      "숫자만 입력하세요.\n",
      "0~9 사의 정수를 입력하세요 : c\n",
      "숫자만 입력하세요.\n",
      "0~9 사의 정수를 입력하세요 : 9.0\n",
      "숫자만 입력하세요.\n",
      "0~9 사의 정수를 입력하세요 : 8\n",
      "입력받은 정수 :  8\n"
     ]
    }
   ],
   "source": [
    "def printNum():\n",
    "    while True:\n",
    "        try:\n",
    "            num = int(input(\"0~9 사의 정수를 입력하세요 : \"))\n",
    "        except ValueError as e:\n",
    "            print(\"숫자만 입력하세요.\")\n",
    "            continue\n",
    "        if num in range(10):\n",
    "            print(\"입력받은 정수 :\", num)\n",
    "            return\n",
    "        else:\n",
    "            print(\"0~9 사이의 정수를 입력하세요\")\n",
    "        \n",
    "printNum()"
   ]
  },
  {
   "cell_type": "code",
   "execution_count": 8,
   "id": "64f1d9d1",
   "metadata": {},
   "outputs": [
    {
     "name": "stdout",
     "output_type": "stream",
     "text": [
      "0~9 사이의 정수를 입력하세요 : a\n",
      "숫자만 입력하세요!\n",
      "0~9 사이의 정수를 입력하세요 : b\n",
      "숫자만 입력하세요!\n",
      "0~9 사이의 정수를 입력하세요 : 10\n",
      "0~9 사이의 정수를 입력하세요!\n",
      "0~9 사이의 정수를 입력하세요 : 9\n",
      "입력받은 정수 : 9\n"
     ]
    }
   ],
   "source": [
    "def inputNumber():\n",
    "    n = 0\n",
    "    try:\n",
    "        while True:\n",
    "            n = int(input(\"0~9 사이의 정수를 입력하세요 : \"))\n",
    "            if n in range(10):\n",
    "                break\n",
    "            else:\n",
    "                print(\"0~9 사이의 정수를 입력하세요!\")\n",
    "    except ValueError as e:\n",
    "        print(\"숫자만 입력하세요!\")\n",
    "        n = inputNumber()\n",
    "        \n",
    "    return n\n",
    "\n",
    "result = inputNumber()\n",
    "print(\"입력받은 정수 :\", result)"
   ]
  },
  {
   "cell_type": "markdown",
   "id": "f5adf6b6",
   "metadata": {},
   "source": [
    "## Python Class"
   ]
  },
  {
   "cell_type": "code",
   "execution_count": 15,
   "id": "91dc156a",
   "metadata": {},
   "outputs": [
    {
     "name": "stdout",
     "output_type": "stream",
     "text": [
      "저는 34살 천양현입니다. 저는 19살 고3입니다. "
     ]
    }
   ],
   "source": [
    "class Human:\n",
    "    def __init__(self, age, name):\n",
    "        self.age = age\n",
    "        self.name = name\n",
    "    \n",
    "    def intro(self):\n",
    "        print(\"저는 %d살 %s입니다.\" %(self.age, self.name), end=\" \")\n",
    "        \n",
    "kim = Human(34, \"천양현\")\n",
    "kim.intro()\n",
    "\n",
    "lee = Human(19, \"고3\")\n",
    "lee.intro()"
   ]
  },
  {
   "cell_type": "code",
   "execution_count": 17,
   "id": "e88ea6ac",
   "metadata": {},
   "outputs": [
    {
     "name": "stdout",
     "output_type": "stream",
     "text": [
      "저는 29살 Joe입니다. 학번은 2011입니다.\n",
      "Study Hard~\n",
      "2011\n"
     ]
    }
   ],
   "source": [
    "class Student(Human):\n",
    "    def __init__(self, age, name, stdNo):\n",
    "        super().__init__(age, name)\n",
    "        self.stdNo = stdNo\n",
    "        \n",
    "    def intro(self):\n",
    "        super().intro()\n",
    "        print(\"학번은 %s입니다.\" %self.stdNo)\n",
    "    \n",
    "    def study(self):\n",
    "        print(\"Study Hard~\")\n",
    "\n",
    "jim = Student(29, \"Joe\", \"2011\")\n",
    "jim.intro()\n",
    "jim.study()\n",
    "\n",
    "print(jim.stdNo)"
   ]
  },
  {
   "cell_type": "code",
   "execution_count": 24,
   "id": "89a8da7a",
   "metadata": {},
   "outputs": [
    {
     "name": "stdout",
     "output_type": "stream",
     "text": [
      "setMonth() call\n",
      "getMonth() call\n",
      "9\n"
     ]
    }
   ],
   "source": [
    "class Date:\n",
    "    def __init__(self, month):\n",
    "        self._inner_month = month\n",
    "        \n",
    "    def getMonth(self):\n",
    "        print(\"getMonth() call\")\n",
    "        return self._inner_month\n",
    "    \n",
    "    def setMonth(self, month):\n",
    "        if month in range(1,13):\n",
    "            self._inner_month = month\n",
    "        print(\"setMonth() call\")\n",
    "    \n",
    "    month = property(getMonth, setMonth)\n",
    "    \n",
    "today = Date(9)\n",
    "\n",
    "today.month = 13\n",
    "print(today.getMonth())"
   ]
  },
  {
   "cell_type": "code",
   "execution_count": 30,
   "id": "35d4c6f5",
   "metadata": {},
   "outputs": [
    {
     "name": "stdout",
     "output_type": "stream",
     "text": [
      "9\n"
     ]
    }
   ],
   "source": [
    "class Date:\n",
    "    def __init__(self, month):\n",
    "        self._inner_month = month\n",
    "        \n",
    "    @property    # getter\n",
    "    def month(self):\n",
    "        return self._inner_month\n",
    "    \n",
    "    @month.setter\n",
    "    def month(self, month):\n",
    "        if month in range(1,13):\n",
    "            self._inner_month = month\n",
    "            \n",
    "today = Date(14)\n",
    "\n",
    "today.month = 9\n",
    "\n",
    "print(today.month)"
   ]
  }
 ],
 "metadata": {
  "kernelspec": {
   "display_name": "Python 3",
   "language": "python",
   "name": "python3"
  },
  "language_info": {
   "codemirror_mode": {
    "name": "ipython",
    "version": 3
   },
   "file_extension": ".py",
   "mimetype": "text/x-python",
   "name": "python",
   "nbconvert_exporter": "python",
   "pygments_lexer": "ipython3",
   "version": "3.8.8"
  }
 },
 "nbformat": 4,
 "nbformat_minor": 5
}
