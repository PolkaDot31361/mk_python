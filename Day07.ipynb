{
 "cells": [
  {
   "cell_type": "code",
   "execution_count": 5,
   "id": "ee5c2f3f",
   "metadata": {},
   "outputs": [
    {
     "name": "stdout",
     "output_type": "stream",
     "text": [
      "{'food': '소고기 안심 스테이크', 'drink': '적포도주', 'dessert': '치즈케익'}\n",
      "{'food': '잔치국수', 'drink': '막걸리', 'dessert': '파전'}\n",
      "{'food': '연어초밥', 'drink': '사케', 'dessert': '아이스크림'}\n",
      "{'food': '돈부리', 'drink': '사케', 'dessert': '아이스크림'}\n",
      "{'food': '돈까스', 'drink': '맥주', 'dessert': '아이스크림'}\n",
      "{'food': '치즈까스', 'drink': '소주', 'dessert': '과일'}\n"
     ]
    }
   ],
   "source": [
    "def restaurant(food, drink, dessert):\n",
    "    return{'food':food, 'drink':drink, 'dessert':dessert}\n",
    "\n",
    "first = restaurant('소고기 안심 스테이크', '적포도주', '치즈케익')\n",
    "print(first)\n",
    "\n",
    "# 호출 시 매개변수의 이름을 함께 지정하면 순서에 상관 없이 호출 가능!\n",
    "second = restaurant(drink='막걸리', dessert='파전', food='잔치국수')\n",
    "print(second)\n",
    "\n",
    "# Default Parameter: 매개변수에 초기값을 지정하는 것\n",
    "# parameter 값은 반드시 오른쪽에서 부터 채워 나가야 한다.\n",
    "def restaurant(food='연어초밥', drink='사케',dessert='아이스크림'):\n",
    "    return{'food':food, 'drink':drink, 'dessert':dessert}\n",
    "\n",
    "print(restaurant())\n",
    "print(restaurant('돈부리'))\n",
    "print(restaurant('돈까스', '맥주'))\n",
    "print(restaurant('치즈까스', '소주', '과일'))\n"
   ]
  },
  {
   "cell_type": "markdown",
   "id": "5f811f24",
   "metadata": {},
   "source": [
    "## [문제] 키보드로부터 정수를 입력받아 다음과 같은 별표를 출력하는 함수를 정의 하시오\n",
    "<pre>\n",
    "    예시 ) 정수 입력 : 5\n",
    "       *\n",
    "       **\n",
    "       ***\n",
    "       ****\n",
    "       *****\n",
    "</pre>"
   ]
  },
  {
   "cell_type": "code",
   "execution_count": 7,
   "id": "4a11eada",
   "metadata": {},
   "outputs": [
    {
     "name": "stdout",
     "output_type": "stream",
     "text": [
      "정수 입력 : 10\n",
      "*\n",
      "**\n",
      "***\n",
      "****\n",
      "*****\n",
      "******\n",
      "*******\n",
      "********\n",
      "*********\n",
      "**********\n"
     ]
    }
   ],
   "source": [
    "def printStar(num):\n",
    "    for i in range(num):\n",
    "        print(\"*\"*(i+1))\n",
    "\n",
    "num = int(input(\"정수 입력 : \"))\n",
    "printStar(num)"
   ]
  },
  {
   "cell_type": "code",
   "execution_count": 8,
   "id": "0359edb3",
   "metadata": {},
   "outputs": [
    {
     "name": "stdout",
     "output_type": "stream",
     "text": [
      "정수 입력 : 5\n",
      "*\n",
      "**\n",
      "***\n",
      "****\n",
      "*****\n"
     ]
    }
   ],
   "source": [
    "def star(num):\n",
    "    for i in range(1, num+1):\n",
    "        print(\"*\"*i)\n",
    "        \n",
    "num = int(input(\"정수 입력 : \"))\n",
    "star(num)"
   ]
  },
  {
   "cell_type": "code",
   "execution_count": 10,
   "id": "cd036481",
   "metadata": {},
   "outputs": [
    {
     "name": "stdout",
     "output_type": "stream",
     "text": [
      "결과 : ()\n",
      "결과 : (1, 2, 3)\n",
      "결과 : (1, 2, 3, 'a', 'b', 'c')\n"
     ]
    }
   ],
   "source": [
    "def test(*args):\n",
    "    print(\"결과 :\", args)\n",
    "\n",
    "test()\n",
    "test(1, 2, 3)\n",
    "test(1, 2, 3, 'a','b','c')"
   ]
  },
  {
   "cell_type": "code",
   "execution_count": 14,
   "id": "fa00f04e",
   "metadata": {},
   "outputs": [
    {
     "name": "stdout",
     "output_type": "stream",
     "text": [
      "a => 10\n",
      "b => 20\n",
      "args => ()\n",
      "a => 1\n",
      "b => 2\n",
      "args => (3,)\n",
      "a => 1\n",
      "b => 2\n",
      "args => (3, 'a', 'b', 'c')\n"
     ]
    }
   ],
   "source": [
    "def myargs(a, b, *args):\n",
    "    print(\"a =>\", a)\n",
    "    print(\"b =>\", b)\n",
    "    print(\"args =>\", args)\n",
    "    \n",
    "myargs(10, 20)\n",
    "myargs(1,2,3)\n",
    "myargs(1,2,3,'a','b','c')\n",
    "\n",
    "# 튜플 같은 경우 원소가 한개라면 뒤에 콤마를 찍는다!!!"
   ]
  },
  {
   "cell_type": "code",
   "execution_count": 16,
   "id": "98203cb8",
   "metadata": {},
   "outputs": [
    {
     "name": "stdout",
     "output_type": "stream",
     "text": [
      "10 {}\n"
     ]
    },
    {
     "ename": "TypeError",
     "evalue": "keywords() got multiple values for argument 'a'",
     "output_type": "error",
     "traceback": [
      "\u001b[1;31m---------------------------------------------------------------------------\u001b[0m",
      "\u001b[1;31mTypeError\u001b[0m                                 Traceback (most recent call last)",
      "\u001b[1;32m<ipython-input-16-7b2e66cc123b>\u001b[0m in \u001b[0;36m<module>\u001b[1;34m\u001b[0m\n\u001b[0;32m      3\u001b[0m \u001b[1;33m\u001b[0m\u001b[0m\n\u001b[0;32m      4\u001b[0m \u001b[0mkeywords\u001b[0m\u001b[1;33m(\u001b[0m\u001b[1;36m10\u001b[0m\u001b[1;33m)\u001b[0m\u001b[1;33m\u001b[0m\u001b[1;33m\u001b[0m\u001b[0m\n\u001b[1;32m----> 5\u001b[1;33m \u001b[0mkeywords\u001b[0m\u001b[1;33m(\u001b[0m\u001b[1;36m1\u001b[0m\u001b[1;33m,\u001b[0m\u001b[0ma\u001b[0m \u001b[1;33m=\u001b[0m \u001b[1;36m2\u001b[0m\u001b[1;33m,\u001b[0m \u001b[0mc\u001b[0m \u001b[1;33m=\u001b[0m \u001b[1;36m3\u001b[0m\u001b[1;33m)\u001b[0m\u001b[1;33m\u001b[0m\u001b[1;33m\u001b[0m\u001b[0m\n\u001b[0m\u001b[0;32m      6\u001b[0m \u001b[0mkeywords\u001b[0m\u001b[1;33m(\u001b[0m\u001b[1;36m1\u001b[0m\u001b[1;33m,\u001b[0m\u001b[1;36m2\u001b[0m\u001b[1;33m,\u001b[0m\u001b[1;36m3\u001b[0m\u001b[1;33m,\u001b[0m\u001b[1;34m'a'\u001b[0m\u001b[1;33m,\u001b[0m\u001b[1;34m'b'\u001b[0m\u001b[1;33m,\u001b[0m\u001b[1;34m'c'\u001b[0m\u001b[1;33m)\u001b[0m\u001b[1;33m\u001b[0m\u001b[1;33m\u001b[0m\u001b[0m\n",
      "\u001b[1;31mTypeError\u001b[0m: keywords() got multiple values for argument 'a'"
     ]
    }
   ],
   "source": [
    "def keywords(a, **kwargs):\n",
    "    print(a, kwargs)\n",
    "    \n",
    "keywords(10)\n",
    "keywords(1,b = 2, c = 3)\n",
    "# keywords(1,2,3,'a','b','c')"
   ]
  },
  {
   "cell_type": "markdown",
   "id": "45756c4b",
   "metadata": {},
   "source": [
    "## [문제] 사칙 이항 연산 계산을 입력하면 결과를 출력하는 함수를 정의 하시오\n",
    "<pre>\n",
    "def calculator(exp):\n",
    "\n",
    "> 계산식을 입력 하세요 : 4+5\n",
    "> 4+5=9.0\n",
    "> 계산식을 입력 하세요 : 4$5\n",
    "> 입력형식 오류\n",
    "\n",
    "*만약 +,-,*,/ 연산자 외의 다른 문자가 입력되면 '입력 형식 오류' 메세지 출력후 프로그램종료\n",
    "</pre>\n"
   ]
  },
  {
   "cell_type": "code",
   "execution_count": 28,
   "id": "dc96b636",
   "metadata": {},
   "outputs": [
    {
     "name": "stdout",
     "output_type": "stream",
     "text": [
      ">계산식을 입력하세요: 4/5\n",
      "4/5=0.8\n"
     ]
    }
   ],
   "source": [
    "def calculator(exp):\n",
    "    myList = [char for char in exp]\n",
    "    \n",
    "    num1 = int(myList[0])\n",
    "    operator = myList[1]\n",
    "    num2 = int(myList[2])\n",
    "    \n",
    "    if operator not in [\"+\",\"-\",\"/\",\"*\"]:\n",
    "        print(\">입력형식 오류\")\n",
    "        return\n",
    "    else:\n",
    "        if operator == \"+\":\n",
    "            print(\"%d+%d=%.1f\"%(num1, num2, num1+num2))\n",
    "        if operator == \"-\":\n",
    "            print(\"%d-%d=%.1f\"%(num1, num2, num1-num2))\n",
    "        if operator == \"*\":\n",
    "            print(\"%d*%d=%.1f\"%(num1, num2, num1*num2))\n",
    "        if operator == \"/\":\n",
    "            print(\"%d/%d=%.1f\"%(num1, num2, num1/num2))\n",
    "\n",
    "exp = input(\">계산식을 입력하세요: \")\n",
    "calculator(exp)"
   ]
  },
  {
   "cell_type": "code",
   "execution_count": 2,
   "id": "a3ff7c15",
   "metadata": {},
   "outputs": [
    {
     "name": "stdout",
     "output_type": "stream",
     "text": [
      ">계산식을 입력해 주세요 : 4.5+9.6\n",
      "4.5+9.6=14.10\n"
     ]
    }
   ],
   "source": [
    "def calculator(exp):\n",
    "    operator_index = 0\n",
    "    operator = \"\"\n",
    "    \n",
    "    for op in [\"+\", \"-\", \"*\", \"/\"]:\n",
    "        opeartor_index = exp.find(op)\n",
    "        if operator_index != -1:\n",
    "            operator = op\n",
    "            break\n",
    "            \n",
    "    if operator_index == -1:\n",
    "        print(\">입력형식 오류!\")\n",
    "        return\n",
    "    value = exp.split(operator)\n",
    "    value1 = float(value[0])\n",
    "    value2 = float(value[1])\n",
    "    \n",
    "    result = 0\n",
    "    if operator == \"+\":\n",
    "        result = value1 + value2\n",
    "    elif operator == \"-\":\n",
    "        result = value1 - value2\n",
    "    elif operator == \"*\":\n",
    "        result = value1 * value2\n",
    "    elif operator == \"/\":\n",
    "        result = value1 / value2\n",
    "    \n",
    "    print(\"%s=%.2f\" % (exp, result))\n",
    "    \n",
    "exp = input(\">계산식을 입력해 주세요 : \")\n",
    "calculator(exp)"
   ]
  },
  {
   "cell_type": "markdown",
   "id": "15c59a34",
   "metadata": {},
   "source": [
    "## fliter(), map(), reduce()"
   ]
  },
  {
   "cell_type": "code",
   "execution_count": 4,
   "id": "dded1125",
   "metadata": {},
   "outputs": [
    {
     "name": "stdout",
     "output_type": "stream",
     "text": [
      "[45, 55]\n"
     ]
    }
   ],
   "source": [
    "def cutline(s):\n",
    "    return s < 60\n",
    "\n",
    "score = [45, 100, 87, 70, 55]\n",
    "\n",
    "result = filter(cutline, score)\n",
    "print(list(result))\n",
    "# 조건에 부합되는 값만...잘 추려서 준다는데?"
   ]
  },
  {
   "cell_type": "code",
   "execution_count": 6,
   "id": "6a39246a",
   "metadata": {},
   "outputs": [
    {
     "name": "stdout",
     "output_type": "stream",
     "text": [
      "22.5, 50.0, 43.5, 35.0, 27.5, "
     ]
    }
   ],
   "source": [
    "def half(s):\n",
    "    return s/2\n",
    "\n",
    "score = [45, 100, 87, 70, 55]\n",
    "for s in map(half, score):\n",
    "    print(s, end=\", \")"
   ]
  },
  {
   "cell_type": "code",
   "execution_count": 10,
   "id": "fa316549",
   "metadata": {},
   "outputs": [
    {
     "name": "stdout",
     "output_type": "stream",
     "text": [
      "357\n",
      "Coffee\n"
     ]
    }
   ],
   "source": [
    "from functools import reduce\n",
    "\n",
    "def sum(a, b):\n",
    "    return a+b\n",
    "\n",
    "score = [45, 100, 87, 70, 55]\n",
    "\n",
    "print(reduce(sum,score))\n",
    "\n",
    "alphabet = ['C','o','f','f','e','e']\n",
    "print(reduce(sum, alphabet))"
   ]
  },
  {
   "cell_type": "markdown",
   "id": "03fea822",
   "metadata": {},
   "source": [
    "## lambda 함수"
   ]
  },
  {
   "cell_type": "code",
   "execution_count": 13,
   "id": "a582300b",
   "metadata": {},
   "outputs": [
    {
     "name": "stdout",
     "output_type": "stream",
     "text": [
      "[3, 7, 11, 15, 19]\n",
      "[1, 3, 5, 7, 9, 2, 4, 6, 8, 10]\n"
     ]
    }
   ],
   "source": [
    "x = [1, 3, 5, 7, 9]\n",
    "y = [2, 4, 6, 8, 10]\n",
    "\n",
    "# f1 = lambda x1,y1: x1+y1\n",
    "# print(list(map(f1, x, y)))\n",
    "\n",
    "print(list(map(lambda x,y : x+y, x,y)))\n",
    "print(x + y)"
   ]
  },
  {
   "cell_type": "code",
   "execution_count": 18,
   "id": "d4623e1f",
   "metadata": {},
   "outputs": [
    {
     "name": "stdout",
     "output_type": "stream",
     "text": [
      "[1, 2, 3, 4, 5, 6, 7, 8, 9, 10]\n",
      "[1, 4, 9, 16, 25, 36, 49, 64, 81, 100]\n",
      "[1, 4, 3, 16, 5, 36, 7, 64, 9, 100]\n"
     ]
    }
   ],
   "source": [
    "k = list(range(1,11))\n",
    "print(k)\n",
    "\n",
    "print(list(map(lambda x : x**2, k)))\n",
    "\n",
    "print(list(map(lambda x : x**2 if not x%2 else x, k)))"
   ]
  },
  {
   "cell_type": "code",
   "execution_count": 20,
   "id": "78d37064",
   "metadata": {},
   "outputs": [
    {
     "name": "stdout",
     "output_type": "stream",
     "text": [
      "[45, 53]\n"
     ]
    }
   ],
   "source": [
    "score = [45, 89, 72, 53, 94]\n",
    "\n",
    "print(list(filter(lambda s : s < 60, score)))"
   ]
  },
  {
   "cell_type": "code",
   "execution_count": 22,
   "id": "fe34c148",
   "metadata": {
    "scrolled": true
   },
   "outputs": [
    {
     "name": "stdout",
     "output_type": "stream",
     "text": [
      "3\n",
      "144\n"
     ]
    }
   ],
   "source": [
    "def calc(op, a, b):\n",
    "    op(a,b)\n",
    "\n",
    "def add(a, b):\n",
    "    print(a+b)\n",
    "def multi(a, b):\n",
    "    print(a*b)\n",
    "    \n",
    "calc(add, 1, 2)\n",
    "calc(multi, 12, 12)"
   ]
  },
  {
   "cell_type": "code",
   "execution_count": 24,
   "id": "f071e5ec",
   "metadata": {},
   "outputs": [
    {
     "name": "stdout",
     "output_type": "stream",
     "text": [
      "I am\n",
      "Help on function echo in module __main__:\n",
      "\n",
      "echo(anything)\n",
      "    echo returns its input argument\n",
      "\n",
      "echo returns its input argument\n"
     ]
    }
   ],
   "source": [
    "def echo(anything):\n",
    "    'echo returns its input argument'\n",
    "    return anything\n",
    "\n",
    "print(echo('I am'))\n",
    "help(echo)\n",
    "\n",
    "print(echo.__doc__)"
   ]
  }
 ],
 "metadata": {
  "kernelspec": {
   "display_name": "Python 3",
   "language": "python",
   "name": "python3"
  },
  "language_info": {
   "codemirror_mode": {
    "name": "ipython",
    "version": 3
   },
   "file_extension": ".py",
   "mimetype": "text/x-python",
   "name": "python",
   "nbconvert_exporter": "python",
   "pygments_lexer": "ipython3",
   "version": "3.8.8"
  }
 },
 "nbformat": 4,
 "nbformat_minor": 5
}
