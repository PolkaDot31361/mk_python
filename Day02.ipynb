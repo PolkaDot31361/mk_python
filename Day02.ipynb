{
 "cells": [
  {
   "cell_type": "markdown",
   "id": "dc0380aa",
   "metadata": {},
   "source": [
    "## 연산자와 데이터"
   ]
  },
  {
   "cell_type": "code",
   "execution_count": 2,
   "id": "63eba91f",
   "metadata": {},
   "outputs": [
    {
     "name": "stdout",
     "output_type": "stream",
     "text": [
      "45\n",
      "-25\n",
      "350\n",
      "0.2857142857142857\n"
     ]
    }
   ],
   "source": [
    "# 산술 연산\n",
    "a = 10\n",
    "b = 35\n",
    "\n",
    "print(a + b)\n",
    "print(a - b)\n",
    "print(a * b)\n",
    "print(a / b)"
   ]
  },
  {
   "cell_type": "code",
   "execution_count": 8,
   "id": "43608052",
   "metadata": {},
   "outputs": [
    {
     "name": "stdout",
     "output_type": "stream",
     "text": [
      "apple apple apple apple apple apple apple apple apple apple \n",
      "apple 10\n"
     ]
    }
   ],
   "source": [
    "c = \"apple \"\n",
    "d = 10\n",
    "\n",
    "print(c + str(d))\n",
    "# 문자열의 반복\n",
    "print(c * d)"
   ]
  },
  {
   "cell_type": "markdown",
   "id": "de993e54",
   "metadata": {},
   "source": [
    "## 표준 입출력"
   ]
  },
  {
   "cell_type": "code",
   "execution_count": 3,
   "id": "413f40d2",
   "metadata": {},
   "outputs": [
    {
     "name": "stdout",
     "output_type": "stream",
     "text": [
      "밑변 입력 : 10\n",
      "높이 입력 : 20\n",
      "10, 20\n",
      "넓이는 :  200\n"
     ]
    }
   ],
   "source": [
    "a = int(input(\"밑변 입력 : \"))\n",
    "b = int(input(\"높이 입력 : \"))\n",
    "\n",
    "print(a, b, sep = \", \")\n",
    "print(\"넓이는 : \", a*b)"
   ]
  },
  {
   "cell_type": "markdown",
   "id": "4735d140",
   "metadata": {},
   "source": [
    "## 제어문"
   ]
  },
  {
   "cell_type": "code",
   "execution_count": 6,
   "id": "ab176def",
   "metadata": {},
   "outputs": [
    {
     "name": "stdout",
     "output_type": "stream",
     "text": [
      "점수 입력 : 70\n",
      "재시험\n"
     ]
    }
   ],
   "source": [
    "score = int(input(\"점수 입력 : \"))\n",
    "\n",
    "if score >= 90:\n",
    "    print(\"합격\")\n",
    "elif score >= 70:\n",
    "    print(\"재시험\")\n",
    "else:\n",
    "    print(\"탈락\")"
   ]
  },
  {
   "cell_type": "markdown",
   "id": "f410f10b",
   "metadata": {},
   "source": [
    "## [ 문제 ] 정수 하나를 입력받아 5의 배수인지 조사하여 그 결과를 출력\n"
   ]
  },
  {
   "cell_type": "code",
   "execution_count": 11,
   "id": "d3e8d8bf",
   "metadata": {},
   "outputs": [
    {
     "name": "stdout",
     "output_type": "stream",
     "text": [
      "정수 입력 : 14\n",
      "5의 배수가 아닙니다\n"
     ]
    }
   ],
   "source": [
    "num = int(input(\"정수 입력 : \"))\n",
    "\n",
    "if num % 5 == 0 :\n",
    "    print(\"5의 배수\")\n",
    "else :\n",
    "    print(\"5의 배수가 아닙니다\")\n",
    "    "
   ]
  },
  {
   "cell_type": "code",
   "execution_count": 13,
   "id": "9825ac0a",
   "metadata": {},
   "outputs": [
    {
     "name": "stdout",
     "output_type": "stream",
     "text": [
      "정수 입력 : 15\n",
      "5의 배수\n"
     ]
    }
   ],
   "source": [
    "num = int(input(\"정수 입력 : \"))\n",
    "\n",
    "if num % 5 :\n",
    "    print(\"5의 배수 아님\")\n",
    "else :\n",
    "    print(\"5의 배수\")"
   ]
  },
  {
   "cell_type": "code",
   "execution_count": 14,
   "id": "592d50bf",
   "metadata": {},
   "outputs": [
    {
     "name": "stdout",
     "output_type": "stream",
     "text": [
      "정수 입력 : 1\n",
      "5의 배수 아님\n"
     ]
    }
   ],
   "source": [
    "num = int(input(\"정수 입력 : \"))\n",
    "\n",
    "print(\"5의 배수\" if num % 5 == 0 else \"5의 배수 아님\")"
   ]
  },
  {
   "cell_type": "markdown",
   "id": "0e6c5099",
   "metadata": {},
   "source": [
    "## [ 문제 ] 연도를 입력받아 윤년인지를 판단하는 프로그램\n"
   ]
  },
  {
   "cell_type": "code",
   "execution_count": 25,
   "id": "ccb2b463",
   "metadata": {},
   "outputs": [
    {
     "name": "stdout",
     "output_type": "stream",
     "text": [
      "연도 입력 : 2100\n",
      "2100 년도는 평년 입니다.\n"
     ]
    }
   ],
   "source": [
    "year = int(input(\"연도 입력 : \"))\n",
    "\n",
    "leap_year = \"윤년\" if (year % 4 == 0 and year % 100 != 0) or year % 400 == 0 else \"평년\"\n",
    "\n",
    "print(year, \"년도는\", leap_year, \"입니다.\")"
   ]
  },
  {
   "cell_type": "markdown",
   "id": "6d71f018",
   "metadata": {},
   "source": [
    "## 반복분"
   ]
  },
  {
   "cell_type": "code",
   "execution_count": 26,
   "id": "1d97a423",
   "metadata": {
    "scrolled": true
   },
   "outputs": [
    {
     "name": "stdout",
     "output_type": "stream",
     "text": [
      "55\n"
     ]
    }
   ],
   "source": [
    "sum = 0\n",
    "for i in range(1, 11):\n",
    "    sum += i\n",
    "print(sum)"
   ]
  },
  {
   "cell_type": "markdown",
   "id": "3a7ee49b",
   "metadata": {},
   "source": [
    "### ---------+---------+---------+---------+---------+ 문자열 만들기"
   ]
  },
  {
   "cell_type": "code",
   "execution_count": 28,
   "id": "2ee53dbd",
   "metadata": {},
   "outputs": [
    {
     "name": "stdout",
     "output_type": "stream",
     "text": [
      "---------+---------+---------+---------+---------+\n"
     ]
    }
   ],
   "source": [
    "line = \"\"\n",
    "for j in range(1, 6):\n",
    "    for i in range(1,11):\n",
    "        if not i % 10:\n",
    "            line += \"+\"\n",
    "        else:\n",
    "            line += \"-\"\n",
    "print(line)"
   ]
  },
  {
   "cell_type": "code",
   "execution_count": 30,
   "id": "ed2cd68b",
   "metadata": {},
   "outputs": [
    {
     "name": "stdout",
     "output_type": "stream",
     "text": [
      "---------+---------+---------+---------+---------+"
     ]
    }
   ],
   "source": [
    "for i in range(1, 6):\n",
    "    print(\"-\"*9, end=\"\")\n",
    "    print(\"+\", end=\"\")"
   ]
  },
  {
   "cell_type": "code",
   "execution_count": 32,
   "id": "4646b223",
   "metadata": {},
   "outputs": [
    {
     "name": "stdout",
     "output_type": "stream",
     "text": [
      "I, ,h,a,v,e, ,a, ,d,r,e,a,m,!,"
     ]
    }
   ],
   "source": [
    "word = \"I have a dream!\"\n",
    "\n",
    "for s in word:\n",
    "    print (s, end =\",\")"
   ]
  },
  {
   "cell_type": "code",
   "execution_count": 33,
   "id": "0192afce",
   "metadata": {},
   "outputs": [
    {
     "name": "stdout",
     "output_type": "stream",
     "text": [
      "[3, 6, 9, 12]\n"
     ]
    }
   ],
   "source": [
    "a = [1, 2, 3, 4]\n",
    "result = []\n",
    "\n",
    "for i in a:\n",
    "    result.append(i*3)\n",
    "print(result)"
   ]
  },
  {
   "cell_type": "code",
   "execution_count": 37,
   "id": "e5da9875",
   "metadata": {},
   "outputs": [
    {
     "name": "stdout",
     "output_type": "stream",
     "text": [
      "[3, 6, 9, 12]\n"
     ]
    }
   ],
   "source": [
    "a = [1, 2, 3, 4]\n",
    "result = [i*3 for i in a]\n",
    "\n",
    "print(result)"
   ]
  },
  {
   "cell_type": "code",
   "execution_count": 38,
   "id": "69740e6b",
   "metadata": {},
   "outputs": [
    {
     "name": "stdout",
     "output_type": "stream",
     "text": [
      "[6, 12]\n"
     ]
    }
   ],
   "source": [
    "a = [1, 2, 3, 4]\n",
    "result = []\n",
    "\n",
    "for i in a:\n",
    "    if not i % 2:\n",
    "        result.append(i*3)\n",
    "print(result)"
   ]
  },
  {
   "cell_type": "code",
   "execution_count": 39,
   "id": "a15097fe",
   "metadata": {},
   "outputs": [
    {
     "name": "stdout",
     "output_type": "stream",
     "text": [
      "[6, 12]\n"
     ]
    }
   ],
   "source": [
    "a = [1, 2, 3, 4]\n",
    "result = [i*3 for i in a if i % 2 == 0]\n",
    "print(result)"
   ]
  },
  {
   "cell_type": "code",
   "execution_count": 42,
   "id": "433340f1",
   "metadata": {},
   "outputs": [
    {
     "name": "stdout",
     "output_type": "stream",
     "text": [
      "[2, 4, 6, 8, 10, 12, 14, 16, 18, 3, 6, 9, 12, 15, 18, 21, 24, 27, 4, 8, 12, 16, 20, 24, 28, 32, 36, 5, 10, 15, 20, 25, 30, 35, 40, 45, 6, 12, 18, 24, 30, 36, 42, 48, 54, 7, 14, 21, 28, 35, 42, 49, 56, 63, 8, 16, 24, 32, 40, 48, 56, 64, 72, 9, 18, 27, 36, 45, 54, 63, 72, 81]\n"
     ]
    }
   ],
   "source": [
    "result = [x*y for x in range(2, 10) for y in range(1, 10)]\n",
    "print(result)"
   ]
  },
  {
   "cell_type": "code",
   "execution_count": 44,
   "id": "b3851615",
   "metadata": {},
   "outputs": [
    {
     "name": "stdout",
     "output_type": "stream",
     "text": [
      "영어 단어를 입력 (q 는 종료) : q\n",
      "END\n"
     ]
    }
   ],
   "source": [
    "while True:\n",
    "    s = input(\"영어 단어를 입력 (q 는 종료) : \")\n",
    "    if s == 'q': break\n",
    "    print(s)\n",
    "print(\"END\")"
   ]
  },
  {
   "cell_type": "markdown",
   "id": "ac3c1784",
   "metadata": {},
   "source": [
    "## [ 문제 ] 입력받은 단의 구구단을 출력 하는 프로그램 작성"
   ]
  },
  {
   "cell_type": "code",
   "execution_count": 47,
   "id": "bb802092",
   "metadata": {},
   "outputs": [
    {
     "name": "stdout",
     "output_type": "stream",
     "text": [
      "1~9 사이의 숫자를 입력 : 4\n",
      "[4, 8, 12, 16, 20, 24, 28, 32, 36]\n"
     ]
    }
   ],
   "source": [
    "num = int(input(\"1~9 사이의 숫자를 입력 : \"))\n",
    "\n",
    "print([4*i for i in range(1,10)])"
   ]
  },
  {
   "cell_type": "code",
   "execution_count": 48,
   "id": "416744d3",
   "metadata": {},
   "outputs": [
    {
     "name": "stdout",
     "output_type": "stream",
     "text": [
      "단을 입력 : 4\n",
      "4 * 1 = 4\n",
      "4 * 2 = 8\n",
      "4 * 3 = 12\n",
      "4 * 4 = 16\n",
      "4 * 5 = 20\n",
      "4 * 6 = 24\n",
      "4 * 7 = 28\n",
      "4 * 8 = 32\n",
      "4 * 9 = 36\n"
     ]
    }
   ],
   "source": [
    "dan = int(input(\"단을 입력 : \"))\n",
    "\n",
    "for i in range(1, 10):\n",
    "    print(dan, \"*\", i, \"=\", dan*i)"
   ]
  }
 ],
 "metadata": {
  "kernelspec": {
   "display_name": "Python 3",
   "language": "python",
   "name": "python3"
  },
  "language_info": {
   "codemirror_mode": {
    "name": "ipython",
    "version": 3
   },
   "file_extension": ".py",
   "mimetype": "text/x-python",
   "name": "python",
   "nbconvert_exporter": "python",
   "pygments_lexer": "ipython3",
   "version": "3.8.8"
  }
 },
 "nbformat": 4,
 "nbformat_minor": 5
}
