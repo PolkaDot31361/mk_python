{
 "cells": [
  {
   "cell_type": "markdown",
   "id": "eb8b1424",
   "metadata": {},
   "source": [
    "# Pandas 기초\n",
    "\n",
    "* Pandas는 1차원 Series와 2차원 DataFrame과 두 객체를 구성하는 이름인 Index가 있다.\n",
    "\n",
    "* Series : index, values로 구성\n",
    "* DataFrame : index, Columns, values로 구성\n",
    "* Index : Series, DataFrame에 접근할 때 사용하는 이름\n",
    "\n",
    "\n",
    "## Series 생성\n",
    "\n"
   ]
  },
  {
   "cell_type": "code",
   "execution_count": 5,
   "id": "5533a5f4",
   "metadata": {},
   "outputs": [
    {
     "name": "stdout",
     "output_type": "stream",
     "text": [
      "1.20.1\n",
      "1.2.4\n"
     ]
    }
   ],
   "source": [
    "import numpy as np\n",
    "import pandas as pd\n",
    "import matplotlib.pyplot as plt\n",
    "\n",
    "print(np.__version__)\n",
    "print(pd.__version__)\n"
   ]
  },
  {
   "cell_type": "code",
   "execution_count": 6,
   "id": "b4cd8874",
   "metadata": {},
   "outputs": [
    {
     "name": "stdout",
     "output_type": "stream",
     "text": [
      "0    1\n",
      "1    3\n",
      "2    5\n",
      "3    7\n",
      "4    9\n",
      "dtype: int64\n"
     ]
    }
   ],
   "source": [
    "# 파이썬의 list를 이용하여 Series 생성\n",
    "\n",
    "s = pd.Series([1, 3, 5, 7, 9])\n",
    "\n",
    "print(s)"
   ]
  },
  {
   "cell_type": "code",
   "execution_count": 8,
   "id": "1196052d",
   "metadata": {},
   "outputs": [
    {
     "name": "stdout",
     "output_type": "stream",
     "text": [
      "coffee      11.0\n",
      "is          13.0\n",
      "always      15.0\n",
      "right       17.0\n",
      "everyday    19.0\n",
      "drink        NaN\n",
      "dtype: float64\n",
      "Index(['coffee', 'is', 'always', 'right', 'everyday', 'drink'], dtype='object')\n",
      "[11. 13. 15. 17. 19. nan]\n"
     ]
    }
   ],
   "source": [
    "list_data = [11, 13, 15, 17, 19, np.nan]\n",
    "list_name = ['coffee', 'is', 'always', 'right', 'everyday', 'drink']\n",
    "\n",
    "s2 = pd.Series(data = list_data, index = list_name )\n",
    "\n",
    "print(s2)\n",
    "# np.nan not a number 가 들어가서 float 라고 하네요~\n",
    "\n",
    "print(s2.index)\n",
    "print(s2.values)"
   ]
  },
  {
   "cell_type": "code",
   "execution_count": 10,
   "id": "1df5becf",
   "metadata": {},
   "outputs": [
    {
     "name": "stdout",
     "output_type": "stream",
     "text": [
      "A    21.0\n",
      "B    73.0\n",
      "C    31.0\n",
      "Name: mySeries, dtype: float64\n"
     ]
    }
   ],
   "source": [
    "# Python 의 dictionary 를 이용하여 Series 생성\n",
    "\n",
    "dic= {'A': 21, 'B':73, 'C':31}\n",
    "\n",
    "s3 = pd.Series(data = dic, dtype=np.float64, name='mySeries' )\n",
    "print(s3)"
   ]
  },
  {
   "cell_type": "markdown",
   "id": "08775fef",
   "metadata": {},
   "source": [
    "## DataFrame 생성 및 주요연산\n",
    "\n",
    "* DataFrame은 2차원의 테이블 형식의 Pandas 데이터\n",
    "* DataFrame()이라는 클래스를 이용해 생성 가능하다.\n",
    "* 데이터 분석을 위한 많은 양의 데이터는 직접 생성하기보다는 파일의 형태로 읽어들인다\n",
    "\n",
    "### DataFrame 속성\n",
    "* df.index\n",
    "* df.columns\n",
    "* df.values\n",
    "* df.dtypes\n",
    "* df.select_dtypes([include, exclude])\n",
    "* df.ndim\n",
    "* df.size\n",
    "* df.shape"
   ]
  },
  {
   "cell_type": "markdown",
   "id": "ad0db7a6",
   "metadata": {},
   "source": [
    "### DataFrame 연산-1\n",
    "\n",
    "* df.head([n])\n",
    "* df.tail([n])\n",
    "\n",
    "* df.loc\n",
    "* df.iloc\n",
    "* df.at\n",
    "* df.iat\n",
    "\n"
   ]
  },
  {
   "cell_type": "markdown",
   "id": "4e849d80",
   "metadata": {},
   "source": [
    "### DataFrame 연산-2\n",
    "\n",
    "* df.insert(위치, 열, 값)\n",
    "* df.get(키[, 기본값])\n",
    "* df.isin(값)\n",
    "* df.pop()\n",
    "* df.items()\n",
    "* df.keys()\n",
    "* df.where(조건[, other])\n",
    "* df.mask(조건[, other])\n",
    "\n",
    "* info()\n",
    "* describe([include=“object|all”])\n",
    "\n",
    "* df.astype(dtype)"
   ]
  },
  {
   "cell_type": "code",
   "execution_count": 15,
   "id": "f2002e05",
   "metadata": {},
   "outputs": [
    {
     "data": {
      "text/html": [
       "<div>\n",
       "<style scoped>\n",
       "    .dataframe tbody tr th:only-of-type {\n",
       "        vertical-align: middle;\n",
       "    }\n",
       "\n",
       "    .dataframe tbody tr th {\n",
       "        vertical-align: top;\n",
       "    }\n",
       "\n",
       "    .dataframe thead th {\n",
       "        text-align: right;\n",
       "    }\n",
       "</style>\n",
       "<table border=\"1\" class=\"dataframe\">\n",
       "  <thead>\n",
       "    <tr style=\"text-align: right;\">\n",
       "      <th></th>\n",
       "      <th>First Name</th>\n",
       "      <th>Age</th>\n",
       "      <th>Phone Number</th>\n",
       "      <th>Location</th>\n",
       "    </tr>\n",
       "  </thead>\n",
       "  <tbody>\n",
       "    <tr>\n",
       "      <th>0</th>\n",
       "      <td>Americano</td>\n",
       "      <td>31</td>\n",
       "      <td>010-1111</td>\n",
       "      <td>Paris</td>\n",
       "    </tr>\n",
       "    <tr>\n",
       "      <th>1</th>\n",
       "      <td>Latte</td>\n",
       "      <td>25</td>\n",
       "      <td>010-2222</td>\n",
       "      <td>New York</td>\n",
       "    </tr>\n",
       "    <tr>\n",
       "      <th>2</th>\n",
       "      <td>Espresso</td>\n",
       "      <td>78</td>\n",
       "      <td>010-3333</td>\n",
       "      <td>Vancouver</td>\n",
       "    </tr>\n",
       "    <tr>\n",
       "      <th>3</th>\n",
       "      <td>Frap</td>\n",
       "      <td>145</td>\n",
       "      <td>010-4444</td>\n",
       "      <td>Tokyo</td>\n",
       "    </tr>\n",
       "    <tr>\n",
       "      <th>4</th>\n",
       "      <td>Baylies</td>\n",
       "      <td>37</td>\n",
       "      <td>010-5555</td>\n",
       "      <td>Seoul</td>\n",
       "    </tr>\n",
       "  </tbody>\n",
       "</table>\n",
       "</div>"
      ],
      "text/plain": [
       "  First Name  Age Phone Number   Location\n",
       "0  Americano   31     010-1111      Paris\n",
       "1      Latte   25     010-2222   New York\n",
       "2   Espresso   78     010-3333  Vancouver\n",
       "3       Frap  145     010-4444      Tokyo\n",
       "4    Baylies   37     010-5555      Seoul"
      ]
     },
     "metadata": {},
     "output_type": "display_data"
    }
   ],
   "source": [
    "raw_data = {\n",
    "    'First Name' : ['Americano', 'Latte', 'Espresso', 'Frap', 'Baylies' ]\n",
    "    ,'Age':[31, 25, 78, 145,37]\n",
    "    ,'Phone Number':['010-1111', '010-2222', '010-3333', '010-4444', '010-5555']\n",
    "    ,'Location' : ['Paris', 'New York', 'Vancouver', 'Tokyo', 'Seoul']\n",
    "}\n",
    "\n",
    "df = pd.DataFrame(data = raw_data)\n",
    "display(df)"
   ]
  },
  {
   "cell_type": "code",
   "execution_count": 16,
   "id": "a37f67e4",
   "metadata": {},
   "outputs": [
    {
     "data": {
      "text/html": [
       "<div>\n",
       "<style scoped>\n",
       "    .dataframe tbody tr th:only-of-type {\n",
       "        vertical-align: middle;\n",
       "    }\n",
       "\n",
       "    .dataframe tbody tr th {\n",
       "        vertical-align: top;\n",
       "    }\n",
       "\n",
       "    .dataframe thead th {\n",
       "        text-align: right;\n",
       "    }\n",
       "</style>\n",
       "<table border=\"1\" class=\"dataframe\">\n",
       "  <thead>\n",
       "    <tr style=\"text-align: right;\">\n",
       "      <th></th>\n",
       "      <th>Name</th>\n",
       "      <th>Age</th>\n",
       "      <th>Phone Number</th>\n",
       "      <th>Grade</th>\n",
       "    </tr>\n",
       "  </thead>\n",
       "  <tbody>\n",
       "    <tr>\n",
       "      <th>0</th>\n",
       "      <td>NaN</td>\n",
       "      <td>31</td>\n",
       "      <td>010-1111</td>\n",
       "      <td>NaN</td>\n",
       "    </tr>\n",
       "    <tr>\n",
       "      <th>1</th>\n",
       "      <td>NaN</td>\n",
       "      <td>25</td>\n",
       "      <td>010-2222</td>\n",
       "      <td>NaN</td>\n",
       "    </tr>\n",
       "    <tr>\n",
       "      <th>2</th>\n",
       "      <td>NaN</td>\n",
       "      <td>78</td>\n",
       "      <td>010-3333</td>\n",
       "      <td>NaN</td>\n",
       "    </tr>\n",
       "    <tr>\n",
       "      <th>3</th>\n",
       "      <td>NaN</td>\n",
       "      <td>145</td>\n",
       "      <td>010-4444</td>\n",
       "      <td>NaN</td>\n",
       "    </tr>\n",
       "    <tr>\n",
       "      <th>4</th>\n",
       "      <td>NaN</td>\n",
       "      <td>37</td>\n",
       "      <td>010-5555</td>\n",
       "      <td>NaN</td>\n",
       "    </tr>\n",
       "  </tbody>\n",
       "</table>\n",
       "</div>"
      ],
      "text/plain": [
       "  Name  Age Phone Number Grade\n",
       "0  NaN   31     010-1111   NaN\n",
       "1  NaN   25     010-2222   NaN\n",
       "2  NaN   78     010-3333   NaN\n",
       "3  NaN  145     010-4444   NaN\n",
       "4  NaN   37     010-5555   NaN"
      ]
     },
     "metadata": {},
     "output_type": "display_data"
    }
   ],
   "source": [
    "df2 = pd.DataFrame(raw_data, columns = ['Name', 'Age', 'Phone Number', 'Grade'])\n",
    "display(df2)"
   ]
  },
  {
   "cell_type": "code",
   "execution_count": 18,
   "id": "9d15e5ee",
   "metadata": {},
   "outputs": [
    {
     "data": {
      "text/plain": [
       "0    Americano\n",
       "1        Latte\n",
       "2     Espresso\n",
       "3         Frap\n",
       "4      Baylies\n",
       "Name: First Name, dtype: object"
      ]
     },
     "execution_count": 18,
     "metadata": {},
     "output_type": "execute_result"
    }
   ],
   "source": [
    "# 데이터 추출 (Series 추출)\n",
    "\n",
    "df['First Name']\n"
   ]
  },
  {
   "cell_type": "code",
   "execution_count": 20,
   "id": "4f615afc",
   "metadata": {},
   "outputs": [
    {
     "data": {
      "text/html": [
       "<div>\n",
       "<style scoped>\n",
       "    .dataframe tbody tr th:only-of-type {\n",
       "        vertical-align: middle;\n",
       "    }\n",
       "\n",
       "    .dataframe tbody tr th {\n",
       "        vertical-align: top;\n",
       "    }\n",
       "\n",
       "    .dataframe thead th {\n",
       "        text-align: right;\n",
       "    }\n",
       "</style>\n",
       "<table border=\"1\" class=\"dataframe\">\n",
       "  <thead>\n",
       "    <tr style=\"text-align: right;\">\n",
       "      <th></th>\n",
       "      <th>First Name</th>\n",
       "      <th>Age</th>\n",
       "    </tr>\n",
       "  </thead>\n",
       "  <tbody>\n",
       "    <tr>\n",
       "      <th>0</th>\n",
       "      <td>Americano</td>\n",
       "      <td>31</td>\n",
       "    </tr>\n",
       "    <tr>\n",
       "      <th>1</th>\n",
       "      <td>Latte</td>\n",
       "      <td>25</td>\n",
       "    </tr>\n",
       "    <tr>\n",
       "      <th>2</th>\n",
       "      <td>Espresso</td>\n",
       "      <td>78</td>\n",
       "    </tr>\n",
       "    <tr>\n",
       "      <th>3</th>\n",
       "      <td>Frap</td>\n",
       "      <td>145</td>\n",
       "    </tr>\n",
       "    <tr>\n",
       "      <th>4</th>\n",
       "      <td>Baylies</td>\n",
       "      <td>37</td>\n",
       "    </tr>\n",
       "  </tbody>\n",
       "</table>\n",
       "</div>"
      ],
      "text/plain": [
       "  First Name  Age\n",
       "0  Americano   31\n",
       "1      Latte   25\n",
       "2   Espresso   78\n",
       "3       Frap  145\n",
       "4    Baylies   37"
      ]
     },
     "execution_count": 20,
     "metadata": {},
     "output_type": "execute_result"
    }
   ],
   "source": [
    "# Column 두개 추출은...DataFrame 형식이기 때문에... [[]] 사용\n",
    "df[['First Name', 'Age']]"
   ]
  },
  {
   "cell_type": "code",
   "execution_count": 21,
   "id": "ceff599d",
   "metadata": {},
   "outputs": [
    {
     "data": {
      "text/html": [
       "<div>\n",
       "<style scoped>\n",
       "    .dataframe tbody tr th:only-of-type {\n",
       "        vertical-align: middle;\n",
       "    }\n",
       "\n",
       "    .dataframe tbody tr th {\n",
       "        vertical-align: top;\n",
       "    }\n",
       "\n",
       "    .dataframe thead th {\n",
       "        text-align: right;\n",
       "    }\n",
       "</style>\n",
       "<table border=\"1\" class=\"dataframe\">\n",
       "  <thead>\n",
       "    <tr style=\"text-align: right;\">\n",
       "      <th></th>\n",
       "      <th>First Name</th>\n",
       "    </tr>\n",
       "  </thead>\n",
       "  <tbody>\n",
       "    <tr>\n",
       "      <th>0</th>\n",
       "      <td>Americano</td>\n",
       "    </tr>\n",
       "    <tr>\n",
       "      <th>1</th>\n",
       "      <td>Latte</td>\n",
       "    </tr>\n",
       "    <tr>\n",
       "      <th>2</th>\n",
       "      <td>Espresso</td>\n",
       "    </tr>\n",
       "    <tr>\n",
       "      <th>3</th>\n",
       "      <td>Frap</td>\n",
       "    </tr>\n",
       "    <tr>\n",
       "      <th>4</th>\n",
       "      <td>Baylies</td>\n",
       "    </tr>\n",
       "  </tbody>\n",
       "</table>\n",
       "</div>"
      ],
      "text/plain": [
       "  First Name\n",
       "0  Americano\n",
       "1      Latte\n",
       "2   Espresso\n",
       "3       Frap\n",
       "4    Baylies"
      ]
     },
     "execution_count": 21,
     "metadata": {},
     "output_type": "execute_result"
    }
   ],
   "source": [
    "df[['First Name']]\n",
    "\n",
    "# 2차원으로 추출 하면 DataFrame 이 되버린다구~"
   ]
  },
  {
   "cell_type": "code",
   "execution_count": 22,
   "id": "0101ba7b",
   "metadata": {},
   "outputs": [
    {
     "data": {
      "text/html": [
       "<div>\n",
       "<style scoped>\n",
       "    .dataframe tbody tr th:only-of-type {\n",
       "        vertical-align: middle;\n",
       "    }\n",
       "\n",
       "    .dataframe tbody tr th {\n",
       "        vertical-align: top;\n",
       "    }\n",
       "\n",
       "    .dataframe thead th {\n",
       "        text-align: right;\n",
       "    }\n",
       "</style>\n",
       "<table border=\"1\" class=\"dataframe\">\n",
       "  <thead>\n",
       "    <tr style=\"text-align: right;\">\n",
       "      <th></th>\n",
       "      <th>A</th>\n",
       "      <th>B</th>\n",
       "      <th>C</th>\n",
       "      <th>D</th>\n",
       "    </tr>\n",
       "  </thead>\n",
       "  <tbody>\n",
       "    <tr>\n",
       "      <th>0</th>\n",
       "      <td>1</td>\n",
       "      <td>3</td>\n",
       "      <td>9.0</td>\n",
       "      <td>NaN</td>\n",
       "    </tr>\n",
       "    <tr>\n",
       "      <th>1</th>\n",
       "      <td>10</td>\n",
       "      <td>31</td>\n",
       "      <td>NaN</td>\n",
       "      <td>45.0</td>\n",
       "    </tr>\n",
       "  </tbody>\n",
       "</table>\n",
       "</div>"
      ],
      "text/plain": [
       "    A   B    C     D\n",
       "0   1   3  9.0   NaN\n",
       "1  10  31  NaN  45.0"
      ]
     },
     "execution_count": 22,
     "metadata": {},
     "output_type": "execute_result"
    }
   ],
   "source": [
    "pd.DataFrame([{'A':1, 'B':3, 'C':9},{'A':10, 'B':31, 'D': 45}])"
   ]
  },
  {
   "cell_type": "markdown",
   "id": "7e25fa0d",
   "metadata": {},
   "source": [
    "### [ 문제 ] 평균 0, 표준편차 1 을 갖는 DataFrame 생성\n",
    "    - size : 5X5 "
   ]
  },
  {
   "cell_type": "code",
   "execution_count": 26,
   "id": "2904b252",
   "metadata": {},
   "outputs": [
    {
     "data": {
      "text/html": [
       "<div>\n",
       "<style scoped>\n",
       "    .dataframe tbody tr th:only-of-type {\n",
       "        vertical-align: middle;\n",
       "    }\n",
       "\n",
       "    .dataframe tbody tr th {\n",
       "        vertical-align: top;\n",
       "    }\n",
       "\n",
       "    .dataframe thead th {\n",
       "        text-align: right;\n",
       "    }\n",
       "</style>\n",
       "<table border=\"1\" class=\"dataframe\">\n",
       "  <thead>\n",
       "    <tr style=\"text-align: right;\">\n",
       "      <th></th>\n",
       "      <th>0</th>\n",
       "      <th>1</th>\n",
       "      <th>2</th>\n",
       "      <th>3</th>\n",
       "      <th>4</th>\n",
       "    </tr>\n",
       "  </thead>\n",
       "  <tbody>\n",
       "    <tr>\n",
       "      <th>1</th>\n",
       "      <td>0.009892</td>\n",
       "      <td>0.297125</td>\n",
       "      <td>0.182284</td>\n",
       "      <td>0.243206</td>\n",
       "      <td>-0.231213</td>\n",
       "    </tr>\n",
       "    <tr>\n",
       "      <th>2</th>\n",
       "      <td>-0.675017</td>\n",
       "      <td>-1.817984</td>\n",
       "      <td>1.450980</td>\n",
       "      <td>2.786311</td>\n",
       "      <td>-0.821788</td>\n",
       "    </tr>\n",
       "    <tr>\n",
       "      <th>3</th>\n",
       "      <td>-0.175372</td>\n",
       "      <td>1.260470</td>\n",
       "      <td>-0.089116</td>\n",
       "      <td>-0.094376</td>\n",
       "      <td>1.431217</td>\n",
       "    </tr>\n",
       "    <tr>\n",
       "      <th>4</th>\n",
       "      <td>-0.378548</td>\n",
       "      <td>1.317023</td>\n",
       "      <td>-1.294460</td>\n",
       "      <td>0.781371</td>\n",
       "      <td>-0.748252</td>\n",
       "    </tr>\n",
       "    <tr>\n",
       "      <th>5</th>\n",
       "      <td>-1.248950</td>\n",
       "      <td>-1.711557</td>\n",
       "      <td>1.675975</td>\n",
       "      <td>1.305791</td>\n",
       "      <td>-1.752206</td>\n",
       "    </tr>\n",
       "  </tbody>\n",
       "</table>\n",
       "</div>"
      ],
      "text/plain": [
       "          0         1         2         3         4\n",
       "1  0.009892  0.297125  0.182284  0.243206 -0.231213\n",
       "2 -0.675017 -1.817984  1.450980  2.786311 -0.821788\n",
       "3 -0.175372  1.260470 -0.089116 -0.094376  1.431217\n",
       "4 -0.378548  1.317023 -1.294460  0.781371 -0.748252\n",
       "5 -1.248950 -1.711557  1.675975  1.305791 -1.752206"
      ]
     },
     "execution_count": 26,
     "metadata": {},
     "output_type": "execute_result"
    }
   ],
   "source": [
    "import numpy as np\n",
    "\n",
    "ran_data = np.random.normal(size=(5,5))\n",
    "pd.DataFrame(ran_data, index=[1,2,3,4,5])"
   ]
  },
  {
   "cell_type": "code",
   "execution_count": 27,
   "id": "f121c377",
   "metadata": {},
   "outputs": [
    {
     "data": {
      "text/html": [
       "<div>\n",
       "<style scoped>\n",
       "    .dataframe tbody tr th:only-of-type {\n",
       "        vertical-align: middle;\n",
       "    }\n",
       "\n",
       "    .dataframe tbody tr th {\n",
       "        vertical-align: top;\n",
       "    }\n",
       "\n",
       "    .dataframe thead th {\n",
       "        text-align: right;\n",
       "    }\n",
       "</style>\n",
       "<table border=\"1\" class=\"dataframe\">\n",
       "  <thead>\n",
       "    <tr style=\"text-align: right;\">\n",
       "      <th></th>\n",
       "      <th>A</th>\n",
       "      <th>B</th>\n",
       "      <th>C</th>\n",
       "      <th>D</th>\n",
       "      <th>E</th>\n",
       "    </tr>\n",
       "  </thead>\n",
       "  <tbody>\n",
       "    <tr>\n",
       "      <th>1</th>\n",
       "      <td>-0.434588</td>\n",
       "      <td>-0.994483</td>\n",
       "      <td>0.510552</td>\n",
       "      <td>1.108177</td>\n",
       "      <td>0.226574</td>\n",
       "    </tr>\n",
       "    <tr>\n",
       "      <th>2</th>\n",
       "      <td>0.821402</td>\n",
       "      <td>-0.054653</td>\n",
       "      <td>-0.952664</td>\n",
       "      <td>-1.676897</td>\n",
       "      <td>-0.191375</td>\n",
       "    </tr>\n",
       "    <tr>\n",
       "      <th>3</th>\n",
       "      <td>0.693979</td>\n",
       "      <td>-0.681405</td>\n",
       "      <td>-0.431238</td>\n",
       "      <td>-0.709897</td>\n",
       "      <td>-0.511136</td>\n",
       "    </tr>\n",
       "    <tr>\n",
       "      <th>4</th>\n",
       "      <td>-1.282551</td>\n",
       "      <td>1.249319</td>\n",
       "      <td>0.083511</td>\n",
       "      <td>1.090778</td>\n",
       "      <td>-0.258888</td>\n",
       "    </tr>\n",
       "    <tr>\n",
       "      <th>5</th>\n",
       "      <td>0.349634</td>\n",
       "      <td>-0.395781</td>\n",
       "      <td>-0.320646</td>\n",
       "      <td>0.088145</td>\n",
       "      <td>-0.478991</td>\n",
       "    </tr>\n",
       "  </tbody>\n",
       "</table>\n",
       "</div>"
      ],
      "text/plain": [
       "          A         B         C         D         E\n",
       "1 -0.434588 -0.994483  0.510552  1.108177  0.226574\n",
       "2  0.821402 -0.054653 -0.952664 -1.676897 -0.191375\n",
       "3  0.693979 -0.681405 -0.431238 -0.709897 -0.511136\n",
       "4 -1.282551  1.249319  0.083511  1.090778 -0.258888\n",
       "5  0.349634 -0.395781 -0.320646  0.088145 -0.478991"
      ]
     },
     "execution_count": 27,
     "metadata": {},
     "output_type": "execute_result"
    }
   ],
   "source": [
    "rData = np.random.normal(size=(5,5))\n",
    "rColumns = ['A', 'B', 'C', 'D', 'E']\n",
    "rIndex = [1, 2, 3, 4, 5]\n",
    "\n",
    "pd.DataFrame(data = rData, columns = rColumns, index = rIndex)"
   ]
  },
  {
   "cell_type": "code",
   "execution_count": 28,
   "id": "53429251",
   "metadata": {},
   "outputs": [
    {
     "name": "stdout",
     "output_type": "stream",
     "text": [
      "RangeIndex(start=0, stop=5, step=1)\n"
     ]
    }
   ],
   "source": [
    "print(df2.index)"
   ]
  },
  {
   "cell_type": "code",
   "execution_count": 31,
   "id": "e0793176",
   "metadata": {},
   "outputs": [
    {
     "name": "stdout",
     "output_type": "stream",
     "text": [
      "Index(['Name', 'Age', 'Phone Number', 'Grade'], dtype='object')\n"
     ]
    }
   ],
   "source": [
    "print(df2.columns)"
   ]
  },
  {
   "cell_type": "code",
   "execution_count": 33,
   "id": "91e4db15",
   "metadata": {},
   "outputs": [
    {
     "name": "stdout",
     "output_type": "stream",
     "text": [
      "[[nan 31 '010-1111' nan]\n",
      " [nan 25 '010-2222' nan]\n",
      " [nan 78 '010-3333' nan]\n",
      " [nan 145 '010-4444' nan]\n",
      " [nan 37 '010-5555' nan]]\n"
     ]
    },
    {
     "data": {
      "text/plain": [
       "numpy.ndarray"
      ]
     },
     "execution_count": 33,
     "metadata": {},
     "output_type": "execute_result"
    }
   ],
   "source": [
    "print(df2.values)\n",
    "type(df2.values)"
   ]
  },
  {
   "cell_type": "markdown",
   "id": "eaa12dd6",
   "metadata": {},
   "source": [
    "## Index 생성\n",
    "\n",
    "### Index 객체 (종류?)\n",
    "\n",
    "* <span style=\"color:red\">RangeIndex</span>\n",
    "* CategoricalIndex\n",
    "* <span style=\"color:red\">MultiIndex</span>\n",
    "* IntervalIndex\n",
    "* <span style=\"color:red\">DatetimeIndex</span>\n",
    "* Int64Index\n",
    "* Float64Index\n",
    "\n",
    "\n",
    "### Index 연산\n",
    "\n",
    "* append()\n",
    "* difference()\n",
    "* intersection()\n",
    "* union()\n",
    "* isin()\n",
    "* delete()\n",
    "* drop()\n",
    "* insert()\n",
    "* is_unique()\n",
    "* unique()"
   ]
  },
  {
   "cell_type": "code",
   "execution_count": 37,
   "id": "8d04b89d",
   "metadata": {},
   "outputs": [
    {
     "name": "stdout",
     "output_type": "stream",
     "text": [
      "Int64Index([1, 2, 4, 6, 13], dtype='int64')\n"
     ]
    }
   ],
   "source": [
    "# Index 객체 생성\n",
    "\n",
    "idx1 = pd.Index([1, 2, 4, 6, 13])\n",
    "idx2 = pd.Index([-1, 3, 6, 17, 4])\n",
    "\n",
    "idx1.append(idx2)\n",
    "\n",
    "# index의 elements 들이 unique 할 필요는 없다\n"
   ]
  },
  {
   "cell_type": "code",
   "execution_count": 40,
   "id": "d1700c00",
   "metadata": {},
   "outputs": [
    {
     "name": "stdout",
     "output_type": "stream",
     "text": [
      "Int64Index([1, 2, 13], dtype='int64')\n",
      "Int64Index([-1, 3, 17], dtype='int64')\n"
     ]
    }
   ],
   "source": [
    "# 차집합 difference\n",
    "\n",
    "print(idx1.difference(idx2))\n",
    "print(idx2.difference(idx1))"
   ]
  },
  {
   "cell_type": "code",
   "execution_count": 42,
   "id": "0a464757",
   "metadata": {},
   "outputs": [
    {
     "name": "stdout",
     "output_type": "stream",
     "text": [
      "Int64Index([4, 6], dtype='int64')\n"
     ]
    }
   ],
   "source": [
    "# 교집합 intersection\n",
    "\n",
    "print(idx1.intersection(idx2))"
   ]
  },
  {
   "cell_type": "code",
   "execution_count": 43,
   "id": "98b918f3",
   "metadata": {},
   "outputs": [
    {
     "name": "stdout",
     "output_type": "stream",
     "text": [
      "Int64Index([-1, 1, 2, 3, 4, 6, 13, 17], dtype='int64')\n"
     ]
    }
   ],
   "source": [
    "# 합집합 union\n",
    "\n",
    "print(idx1.union(idx2))"
   ]
  },
  {
   "cell_type": "code",
   "execution_count": 46,
   "id": "5a089e50",
   "metadata": {},
   "outputs": [
    {
     "name": "stdout",
     "output_type": "stream",
     "text": [
      "Int64Index([1, 2, 4, 6, 13], dtype='int64')\n",
      "Int64Index([2, 4, 6, 13], dtype='int64')\n"
     ]
    }
   ],
   "source": [
    "# parameter 로 index 값을 (그러니까 index객체의 index)를 받는다.\n",
    "\n",
    "idx3 = idx1.delete(0)\n",
    "print(idx1)\n",
    "print(idx3)"
   ]
  },
  {
   "cell_type": "code",
   "execution_count": 51,
   "id": "bf99cd55",
   "metadata": {},
   "outputs": [
    {
     "data": {
      "text/plain": [
       "Int64Index([1, 2, 6, 13], dtype='int64')"
      ]
     },
     "execution_count": 51,
     "metadata": {},
     "output_type": "execute_result"
    }
   ],
   "source": [
    "# drop : parameter로 index객체의 값을 받는다.\n",
    "\n",
    "idx1.drop(4)\n",
    "\n",
    "# 존재 하지 않는 값을 drop 하면 key Error 발생\n",
    "# idx1.drop(17)"
   ]
  },
  {
   "cell_type": "code",
   "execution_count": 53,
   "id": "7acc3b76",
   "metadata": {},
   "outputs": [
    {
     "name": "stdout",
     "output_type": "stream",
     "text": [
      "Int64Index([2, -1, -2, -11, 9], dtype='int64')\n",
      "Int64Index([-4, -3, -1, 1, 8], dtype='int64')\n"
     ]
    }
   ],
   "source": [
    "print(idx1 - idx2)\n",
    "print(idx1 - 5)"
   ]
  },
  {
   "cell_type": "markdown",
   "id": "8c6fb9e9",
   "metadata": {},
   "source": [
    "## [ 연습 ] Series, DataFrame 생성 및 연산"
   ]
  },
  {
   "cell_type": "code",
   "execution_count": 54,
   "id": "c4289f97",
   "metadata": {},
   "outputs": [],
   "source": [
    "import numpy as np\n",
    "import pandas as pd\n",
    "import matplotlib.pyplot as plt"
   ]
  },
  {
   "cell_type": "markdown",
   "id": "8e7a2f0a",
   "metadata": {},
   "source": [
    "### Series 생성"
   ]
  },
  {
   "cell_type": "code",
   "execution_count": 55,
   "id": "bc5f800e",
   "metadata": {},
   "outputs": [
    {
     "data": {
      "text/plain": [
       "First      45\n",
       "Second     63\n",
       "Third      89\n",
       "Fourth     75\n",
       "Fifth     100\n",
       "dtype: int64"
      ]
     },
     "metadata": {},
     "output_type": "display_data"
    }
   ],
   "source": [
    "score_math = {\n",
    "    'First':45\n",
    "    ,'Second':63\n",
    "    ,'Third':89\n",
    "    ,'Fourth': 75\n",
    "    ,'Fifth': 100\n",
    "}\n",
    "\n",
    "mat = pd.Series(score_math)\n",
    "display(mat)"
   ]
  },
  {
   "cell_type": "code",
   "execution_count": 56,
   "id": "f02a682d",
   "metadata": {},
   "outputs": [
    {
     "data": {
      "text/plain": [
       "75"
      ]
     },
     "execution_count": 56,
     "metadata": {},
     "output_type": "execute_result"
    }
   ],
   "source": [
    "mat['Fourth']"
   ]
  },
  {
   "cell_type": "code",
   "execution_count": 62,
   "id": "2cc9644b",
   "metadata": {},
   "outputs": [
    {
     "name": "stdout",
     "output_type": "stream",
     "text": [
      "Second    63\n",
      "Third     89\n",
      "Fourth    75\n",
      "dtype: int64\n",
      "\n",
      "Second    63\n",
      "Third     89\n",
      "Fourth    75\n",
      "dtype: int64\n"
     ]
    }
   ],
   "source": [
    "print(mat[1:4])\n",
    "print()\n",
    "print(mat['Second':'Fourth'])\n"
   ]
  },
  {
   "cell_type": "code",
   "execution_count": 63,
   "id": "e6172b7e",
   "metadata": {},
   "outputs": [
    {
     "data": {
      "text/plain": [
       "Index(['First', 'Second', 'Third', 'Fourth', 'Fifth'], dtype='object')"
      ]
     },
     "execution_count": 63,
     "metadata": {},
     "output_type": "execute_result"
    }
   ],
   "source": [
    "mat.index"
   ]
  },
  {
   "cell_type": "code",
   "execution_count": 64,
   "id": "7b9d609a",
   "metadata": {},
   "outputs": [
    {
     "data": {
      "text/plain": [
       "array([ 45,  63,  89,  75, 100], dtype=int64)"
      ]
     },
     "execution_count": 64,
     "metadata": {},
     "output_type": "execute_result"
    }
   ],
   "source": [
    "mat.values"
   ]
  },
  {
   "cell_type": "code",
   "execution_count": 65,
   "id": "a74138f6",
   "metadata": {},
   "outputs": [
    {
     "data": {
      "text/plain": [
       "False"
      ]
     },
     "execution_count": 65,
     "metadata": {},
     "output_type": "execute_result"
    }
   ],
   "source": [
    "'Sixth' in mat"
   ]
  },
  {
   "cell_type": "code",
   "execution_count": 66,
   "id": "35dcfbf7",
   "metadata": {},
   "outputs": [
    {
     "data": {
      "text/plain": [
       "First     False\n",
       "Second    False\n",
       "Third     False\n",
       "Fourth    False\n",
       "Fifth      True\n",
       "dtype: bool"
      ]
     },
     "execution_count": 66,
     "metadata": {},
     "output_type": "execute_result"
    }
   ],
   "source": [
    "mat.isin([100, 88])"
   ]
  },
  {
   "cell_type": "markdown",
   "id": "98293cdd",
   "metadata": {},
   "source": [
    "### Series 안의 데이터가 이산형일 경우 (?)"
   ]
  },
  {
   "cell_type": "code",
   "execution_count": 71,
   "id": "8cac7ba9",
   "metadata": {},
   "outputs": [
    {
     "name": "stdout",
     "output_type": "stream",
     "text": [
      "First        수학과\n",
      "Second    디지털 영상\n",
      "Third     컴퓨터 공학\n",
      "Fourth       수학과\n",
      "Fifth       물리학과\n",
      "dtype: object\n"
     ]
    }
   ],
   "source": [
    "stu_major = {\n",
    "    'First': '수학과'\n",
    "    ,'Second': '디지털 영상'\n",
    "    ,'Third': '컴퓨터 공학'\n",
    "    ,'Fourth': '수학과'\n",
    "    ,'Fifth': '물리학과'\n",
    "}\n",
    "\n",
    "major = pd.Series(stu_major)\n",
    "print(major)"
   ]
  },
  {
   "cell_type": "code",
   "execution_count": 72,
   "id": "a933e601",
   "metadata": {},
   "outputs": [
    {
     "data": {
      "text/plain": [
       "array(['수학과', '디지털 영상', '컴퓨터 공학', '수학과', '물리학과'], dtype=object)"
      ]
     },
     "execution_count": 72,
     "metadata": {},
     "output_type": "execute_result"
    }
   ],
   "source": [
    "major.values"
   ]
  },
  {
   "cell_type": "code",
   "execution_count": 74,
   "id": "7094ab6a",
   "metadata": {},
   "outputs": [
    {
     "data": {
      "text/plain": [
       "수학과       2\n",
       "물리학과      1\n",
       "컴퓨터 공학    1\n",
       "디지털 영상    1\n",
       "dtype: int64"
      ]
     },
     "execution_count": 74,
     "metadata": {},
     "output_type": "execute_result"
    }
   ],
   "source": [
    "major.value_counts()"
   ]
  },
  {
   "cell_type": "code",
   "execution_count": 75,
   "id": "2b90a34b",
   "metadata": {},
   "outputs": [
    {
     "data": {
      "text/plain": [
       "First     97\n",
       "Second    75\n",
       "Third     43\n",
       "Fourth    50\n",
       "Fifth     90\n",
       "dtype: int64"
      ]
     },
     "metadata": {},
     "output_type": "display_data"
    }
   ],
   "source": [
    "score_eng = {\n",
    "    'First':97\n",
    "    ,'Second':75\n",
    "    ,'Third':43\n",
    "    ,'Fourth': 50\n",
    "    ,'Fifth': 90\n",
    "}\n",
    "\n",
    "eng = pd.Series(score_eng)\n",
    "display(eng)"
   ]
  },
  {
   "cell_type": "markdown",
   "id": "eb812deb",
   "metadata": {},
   "source": [
    "### Series 합쳐서 DataFrame 만들기"
   ]
  },
  {
   "cell_type": "code",
   "execution_count": null,
   "id": "16a538a6",
   "metadata": {},
   "outputs": [],
   "source": []
  },
  {
   "cell_type": "code",
   "execution_count": null,
   "id": "c76e65c6",
   "metadata": {},
   "outputs": [],
   "source": []
  }
 ],
 "metadata": {
  "kernelspec": {
   "display_name": "Python 3",
   "language": "python",
   "name": "python3"
  },
  "language_info": {
   "codemirror_mode": {
    "name": "ipython",
    "version": 3
   },
   "file_extension": ".py",
   "mimetype": "text/x-python",
   "name": "python",
   "nbconvert_exporter": "python",
   "pygments_lexer": "ipython3",
   "version": "3.8.8"
  },
  "toc": {
   "base_numbering": 1,
   "nav_menu": {},
   "number_sections": true,
   "sideBar": true,
   "skip_h1_title": false,
   "title_cell": "Table of Contents",
   "title_sidebar": "Contents",
   "toc_cell": false,
   "toc_position": {
    "height": "calc(100% - 180px)",
    "left": "10px",
    "top": "150px",
    "width": "247px"
   },
   "toc_section_display": true,
   "toc_window_display": true
  }
 },
 "nbformat": 4,
 "nbformat_minor": 5
}
