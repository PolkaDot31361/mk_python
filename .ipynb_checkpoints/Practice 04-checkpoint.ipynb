{
 "cells": [
  {
   "cell_type": "markdown",
   "id": "d2101cc3",
   "metadata": {},
   "source": [
    "# 1. Counting Characters in a String\n",
    "<pre style=\"font-family : Consolas\">\n",
    "    \n",
    "    \n",
    "    - input random String \n",
    "    - print the number of occurrences of each character in a given String\n",
    "    \n",
    "        Example) input : AAACCABBC#\n",
    "                output : A4B2C3#1\n",
    "\n",
    "</pre>"
   ]
  },
  {
   "cell_type": "code",
   "execution_count": 2,
   "id": "1207b70a",
   "metadata": {},
   "outputs": [
    {
     "name": "stdout",
     "output_type": "stream",
     "text": [
      "input : 가가가가bbbbBcc#\n",
      "output :  가4b4B1c2#1"
     ]
    }
   ],
   "source": [
    "string = input(\"input : \")\n",
    "result = {s:string.count(s) for s in string}\n",
    "\n",
    "print(\"output : \", end = \" \")\n",
    "for k,v in result.items():\n",
    "    print(k,v, sep=\"\",end=\"\")\n"
   ]
  },
  {
   "cell_type": "markdown",
   "id": "7aee4e28",
   "metadata": {},
   "source": [
    "# 2. First Character in a Seperated String\n",
    "\n",
    "<pre style=\"font-family:Consolas\">\n",
    "    \n",
    "    - input random String\n",
    "    - Seperate given string by an empty space\n",
    "    - print the first letter in the seperated String\n",
    "    \n",
    "        Example) input : ABC DEF GHI\n",
    "                output : A,D,G    \n",
    "</pre>"
   ]
  },
  {
   "cell_type": "code",
   "execution_count": 5,
   "id": "aff50668",
   "metadata": {},
   "outputs": [
    {
     "name": "stdout",
     "output_type": "stream",
     "text": [
      "input : asdfawse asdfawera sdfwerqwerqwerasdg awerqwygasdfqwerqehsdfasdf\n",
      "output :  a,a,s,a\n"
     ]
    }
   ],
   "source": [
    "string = input(\"input : \")\n",
    "sep = string.split();\n",
    "\n",
    "print(\"output : \", end=\" \")\n",
    "for i in sep:\n",
    "    print(i[0], end=\",\")\n",
    "print(\"\\b\")"
   ]
  },
  {
   "cell_type": "code",
   "execution_count": null,
   "id": "18f66475",
   "metadata": {},
   "outputs": [],
   "source": []
  }
 ],
 "metadata": {
  "kernelspec": {
   "display_name": "Python 3",
   "language": "python",
   "name": "python3"
  },
  "language_info": {
   "codemirror_mode": {
    "name": "ipython",
    "version": 3
   },
   "file_extension": ".py",
   "mimetype": "text/x-python",
   "name": "python",
   "nbconvert_exporter": "python",
   "pygments_lexer": "ipython3",
   "version": "3.8.8"
  }
 },
 "nbformat": 4,
 "nbformat_minor": 5
}
