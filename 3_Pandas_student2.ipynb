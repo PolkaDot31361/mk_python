{
 "cells": [
  {
   "cell_type": "markdown",
   "metadata": {
    "id": "mw3KErVSKR-p"
   },
   "source": [
    "### Package Import"
   ]
  },
  {
   "cell_type": "code",
   "execution_count": 1,
   "metadata": {
    "id": "EzNBlPMOV2DU"
   },
   "outputs": [],
   "source": [
    "import pandas as pd\n",
    "import numpy as np"
   ]
  },
  {
   "cell_type": "markdown",
   "metadata": {
    "id": "LqhpagaE1ep7"
   },
   "source": [
    "### 파일에서 읽어오기"
   ]
  },
  {
   "cell_type": "markdown",
   "metadata": {
    "id": "FdfoQ1kKkAFM"
   },
   "source": [
    "#### DataFrame\n",
    "- 2차원구조\n",
    "- index, columns, values"
   ]
  },
  {
   "cell_type": "code",
   "execution_count": 2,
   "metadata": {
    "colab": {
     "base_uri": "https://localhost:8080/",
     "height": 141
    },
    "executionInfo": {
     "elapsed": 1119,
     "status": "ok",
     "timestamp": 1598732194607,
     "user": {
      "displayName": "SoYoung Yoon",
      "photoUrl": "https://lh3.googleusercontent.com/a-/AOh14GjsKzTbD8fhpM_a0EcHvGe2bp6UJFVnRa94ldTGcQ=s64",
      "userId": "06188085222412627629"
     },
     "user_tz": -540
    },
    "id": "jhv2AFI7YRbX",
    "outputId": "5a66242f-b962-4ea5-994b-3535e64d7a53"
   },
   "outputs": [],
   "source": [
    "# ../  : 상위 디렉터리\n",
    "# ./ : 현재 디렉터리\n",
    "# 디렉토리명/ : 하위 디렉터리\n"
   ]
  },
  {
   "cell_type": "code",
   "execution_count": 3,
   "metadata": {
    "id": "c0PlejWg4SN9"
   },
   "outputs": [],
   "source": [
    "# DataFrame\n",
    "# - index, columns, values\n",
    "# - index(row), columns(column) => Index type, DataFrame은 2개의 Index 사용\n",
    "# - values => ndarray type"
   ]
  },
  {
   "cell_type": "code",
   "execution_count": 4,
   "metadata": {
    "id": "mEqdvLvB0-3W"
   },
   "outputs": [],
   "source": [
    "# 엑셀 파일을 읽어 DataFrame 객체 반환\n",
    "# index_col 지정시 column 번호를 사용하거나 lable을 사용할 수 있음\n"
   ]
  },
  {
   "cell_type": "markdown",
   "metadata": {
    "id": "CfXr95db1px3"
   },
   "source": [
    "### DataFrame 속성 확인하기"
   ]
  },
  {
   "cell_type": "markdown",
   "metadata": {
    "id": "AcKXIY-V1p1Q"
   },
   "source": [
    "### Series 속성 확인하기"
   ]
  },
  {
   "cell_type": "markdown",
   "metadata": {
    "id": "UjTLFNPG2RBa"
   },
   "source": [
    "### Index객체 확인"
   ]
  },
  {
   "cell_type": "markdown",
   "metadata": {
    "id": "LXzUoMPa2REf"
   },
   "source": [
    "### 메모리사용"
   ]
  },
  {
   "cell_type": "markdown",
   "metadata": {},
   "source": [
    "### dtype 변경"
   ]
  },
  {
   "cell_type": "markdown",
   "metadata": {
    "id": "JEHi0xyGYRdj"
   },
   "source": [
    "#### x.describe()\n",
    "- x.describe(percentiles=None, ...)\n",
    "- DataFrame/Series의 숫자 형 변수에 대한 여러 가지 통계량 출력\n",
    "- 개수, 평균값, 표준편차, 최솟값, 1, 2 (중앙값), 3사분위 수, 최대값\n",
    "- percentiles : 새로운 index 생성에 사용할 column/column 목록(columns labels로 작성)"
   ]
  },
  {
   "cell_type": "markdown",
   "metadata": {
    "id": "NRqTGTlUYRdj"
   },
   "source": [
    "### Series 생성, 메서드, 연산"
   ]
  },
  {
   "cell_type": "markdown",
   "metadata": {
    "id": "0qs1Gx-QYRdk"
   },
   "source": [
    "#### 6-1. Series 생성\n",
    "- pd.Series(data=None, index=None, dtype=None, name=None, copy=False, ... )\n",
    "- 1) data : array-like, iterable, dict or scalar value 등을 사용할 수 있음\n",
    "- 2) index : array-like or Index (1D)\n",
    "   - index.values 는 hashable 객체이어야 하며, data와 같은 길이어야 함 \n",
    "   - 생략 시 RangeIndex가 사용됨 (0 부터 1씩 증가하는 숫자 values)\n",
    "   - data가 dict 객체일때 index가 생략되면, dict 객체의 key를 index로 사용\n",
    "   - dict 객체의 key와 index가 중복되면 index를 따름 (dict의 key가 갱신 됨) \n",
    "- 3) dtype : Series.values 의 데이터 타입\n",
    "   - str, numpy.dtype, ExtensionDtype 등을 사용할 수 있음\n",
    "- 4) name : Series.name으로 사용할 것으로 문자열로 지정함\n",
    "- 5) copy : 입력 데이터를 복사하는지에 대한 여부 (ndarray 에만 적용)\n",
    "   - True 인 경우 복사(다른 메모리 사용), False라도 dtype이 다르면 복사함"
   ]
  },
  {
   "cell_type": "markdown",
   "metadata": {
    "id": "dED9k3JgYRd0"
   },
   "source": [
    "#### Series의 메서드\n",
    "- pandas 의 함수/메서드 들은 일반적으로 NaN에 대해 제외하고 처리한다 (numpy 와 다름)\n",
    "- s.sum() : NaN을 제외한 데이터 합계 구하기, float 반환\n",
    "- s.count() : NaN을 제외한 데이터 개수 구하기, int 반환\n",
    "- s.mean() : NaN을 제외한 데이터 평균 구하기, float 반환\n",
    "- s.unique() : 중복 데이터를 제외한 데이터의 ndarray로 반환 (NaN 포함)\n",
    "- s.value_counts() : NaN을 제외한 각 데이터의 개수(정수)의 Series 반환\n",
    "- s.head(숫자), s.tail(숫자) : 데이터를 상위/하위 숫자 개 만큼의 Series 반환\n",
    "- s.to_list() : s.values를 list 객체로 반환\n",
    "- s.to_numpy([dtype, copy]) : s.values를 ndarray 객체로 반환"
   ]
  },
  {
   "cell_type": "markdown",
   "metadata": {
    "id": "9D8Zkha5YReK"
   },
   "source": [
    "#### Series의 연산\n",
    "- index를 기준으로 연산된다\n",
    "- Series 와 Series 의 연산은 같은 index의 value 끼리 연산 된다\n",
    "    - 같은 index가 없는 경우, 추가되며 결과는 NaN이다\n",
    "    \n",
    "- Series 와 스칼라 의 연산은 각 원소별로 스칼라와 연산 된다\n",
    "    - 스칼라가 broadcasting 되어 사용된다"
   ]
  },
  {
   "cell_type": "markdown",
   "metadata": {
    "id": "cUec5SZcYReU"
   },
   "source": [
    "### DataFrame 생성, 메서드, 연산"
   ]
  },
  {
   "cell_type": "markdown",
   "metadata": {
    "id": "R0aHdd8lYReV"
   },
   "source": [
    "#### DataFrame 생성\n",
    "- pd.DataFrame(data=None, index=None, columns=None, dtype=None, copy=False)\n",
    "- data : ndarray(structured or homogeneous), Iterable, dict, DataFrame\n",
    "   - dict 사용시 columns가 지정되지 않으면 dict의 key가 columns로 사용됨\n",
    "   - DataFrame 사용시 data, index, columns 가 복사 됨\n",
    "- index, columns : array-like or Index (1D)\n",
    "   - 생략 시 RangeIndex가 사용됨 (0 부터 1씩 증가하는 숫자 values)\n",
    "   - index.values 는 hashable 객체이어야 함\n",
    "   - data로 dict 사용시, dict 의 key 와 columns가 중복될 경우 columns를 따름\n",
    "   - data로 ndarray 사용시 index.values 개수 == data 행 개수\n",
    "   - data로 ndarray 사용시 columns.values 개수 == data 열 개수\n",
    "- dtype : 직접 데이터 타입을 지정하며, 1개의 타입 지정만 가능함\n",
    "- copy : ndarray(2D), DataFrame을 data로 사용시 copy=False는 연결을 의미함\n",
    "   - ndarray의 dtype이나, DataFrame의 index, columns 등이 변경이 되면 copy=True로 동작함  \n"
   ]
  },
  {
   "cell_type": "markdown",
   "metadata": {
    "id": "Hyv9UfRtYRei"
   },
   "source": [
    "#### DataFrame의 연산\n",
    "- DataFrame 끼리의 연산은 index와 columns를 모두 대상으로 한다\n",
    "- df + df 의 경우 match 되는 index 나 column 이 없는 경우 NaN 으로 결과가 표시된다"
   ]
  },
  {
   "cell_type": "code",
   "execution_count": null,
   "metadata": {},
   "outputs": [],
   "source": []
  },
  {
   "cell_type": "markdown",
   "metadata": {
    "id": "lCL3sIMQYRex"
   },
   "source": [
    "- DataFrame + Series은 DataFrame의 column, Series의 index에 맞춰 연산 된다\n",
    "- Series가 DataFrame의 row 개수에 맞춰 broadcasting 되어 사용된다\n",
    "- match 되는 index 가 없는 경우 결과는 NaN 이다\n"
   ]
  },
  {
   "cell_type": "code",
   "execution_count": null,
   "metadata": {},
   "outputs": [],
   "source": []
  },
  {
   "cell_type": "markdown",
   "metadata": {
    "id": "AQVG7WteYRe8"
   },
   "source": [
    "- DataFrame  + Scalar는 각 원소별로 스칼라와 연산 된다\n",
    "- 스칼라가 broadcasting 되어 사용된다"
   ]
  },
  {
   "cell_type": "markdown",
   "metadata": {
    "id": "2_djqldIYRe_"
   },
   "source": [
    "### DataFrame, Series의 삽입, 삭제, 갱신"
   ]
  },
  {
   "cell_type": "markdown",
   "metadata": {
    "id": "Ahi0c_ptYRe_"
   },
   "source": [
    "#### Series 추가, 갱신, 삭제\n"
   ]
  },
  {
   "cell_type": "markdown",
   "metadata": {
    "id": "UdKo0Ia9PRpT"
   },
   "source": [
    "#### DataFrame 추가, 갱신, 삭제\n",
    "- 추가, 갱신 : 항의 개수가 같아야 함\n",
    "    - column 단위로 추가, 갱신 작업\n",
    "- df['column_label']=1D array\n",
    "   - 'column_label'에 해당하는 column 갱신 또는  추가\n",
    "   - read /write용으로 모두 사용\n",
    "- df.column_label\n",
    "   - read 용으로 사용"
   ]
  },
  {
   "cell_type": "markdown",
   "metadata": {
    "id": "ge5WpM1ZYRfO"
   },
   "source": [
    "### Index 조작"
   ]
  },
  {
   "cell_type": "markdown",
   "metadata": {
    "id": "_xm2APpaYRfP"
   },
   "source": [
    "#### 9-1 set_index\n",
    "- df.set_index(keys, drop=True,  append=False, inplace=False)\n",
    "- 선택된 columns의 일부로 새로 구성한 index 를 갖는 DataFrame 반환\n",
    "- keys : 새로운 index 생성에 사용할 column/column 목록(columns labels로 작성)\n",
    "- drop : keys를 columns 로 부터 제거 여부 (default True => 제거함)\n",
    "- append : 기존 index를 유지하면서 keys를 추가 여부 (default False => 유지하지 않음)"
   ]
  },
  {
   "cell_type": "markdown",
   "metadata": {
    "id": "pbLn8Nw1YRfc"
   },
   "source": [
    "#### reset_index\n",
    "- df.reset_index( level=None,  drop=False, ...) : \n",
    "- 현 index를 columns에 포함하여 새로 구성한 index를 갖는 DataFrame 반환 \n",
    "- level :int, str, tuple or list 로 작성 (None 이면 모든 index를 대상으로 함)\n",
    "   - 현 index 중 columns 로 포함 할 대상을 번호 또는 name으로 지정함\n",
    "   - 모든 index가 columns로 포함되면 RangeIndex가 새로운 Index로 생성됨\n",
    "- drop : 현 index를 columns 로 포함하지 않을 지의 여부 (drop=True : 포함 안함)"
   ]
  },
  {
   "cell_type": "markdown",
   "metadata": {
    "id": "cJXzudINYRfh"
   },
   "source": [
    "#### sort_index\n",
    "- df.sort_index(axis=0, level=None, ascending=True, inplace=False,kind='quicksort', na_position=‘last’, ...)\n",
    "- 축에 따른 index labels를 기준으로 대상을 정렬하는 메서드이다\n",
    "- axis : 정렬 축 지정, DataFrame은 0, 1 Series은 0을 사용할 수 있음\n",
    "- level : int, level-name, list of int or level-names\n",
    "    - MultiIndex 에서 정렬 기준으로 사용할 level을 지정 함\n",
    "- ascending : True: 오름차순 정렬, False: 내림차순 정렬, list of boolean\n",
    "- inplace : True인 경우 객체를 직접 수정하고 None 반환\n",
    "- kind : 정렬 알고리즘 지정 {'quicksort', 'mergesort', 'heapsort'}\n",
    "- na_position : NA value의 위치, {'first', 'last'}"
   ]
  },
  {
   "cell_type": "code",
   "execution_count": null,
   "metadata": {},
   "outputs": [],
   "source": []
  },
  {
   "cell_type": "markdown",
   "metadata": {
    "id": "FI7SdaWqYRfr"
   },
   "source": [
    "#### sort_values\n",
    "- df.sort_values(by, axis=0, ascending=True, inplace=False,kind='quicksort’, na_position='last')\n",
    "- 축에 따른 by 목록의 values를 기준으로 대상을 정렬하여 반환한다\n",
    "- by : str 또는 list of str을 사용하여 정렬 기준이 되는 이름 또는 이름 목록 지정\n",
    "- axis=0 : column labels, axis=1 : index labels를 사용하여 이름 목록 작성\n",
    "- axis=1 사용을 위해서는 모든 columns의 dtype이 동일해야 함(거의 사용 안함)"
   ]
  },
  {
   "cell_type": "code",
   "execution_count": null,
   "metadata": {},
   "outputs": [],
   "source": []
  },
  {
   "cell_type": "markdown",
   "metadata": {
    "id": "AINvI5fR-cLw"
   },
   "source": [
    "### Indexing\n",
    "- index를 사용하여 원하는 내용(values)에 접근하는 방법\n",
    "- 접근하여 읽기, 쓰기 등의 작업을 함\n",
    "- https://pandas.pydata.org/pandas-docs/stable/user_guide/indexing.html  \n",
    "- indexing의 종류\n",
    "  - Basic Indexing : 1개 indexer 사용\n",
    "  - Multi-axis Indexing : axis 별 indexer 사용\n",
    "      - Selection by Label : label을 사용함\n",
    "      - Selection by Position : integer를 사용함\n",
    "- indexer의 종류\n",
    "  - a single label/integer : 1개의 label 또는 integer\n",
    "  - a list or array of labels/integers : label 또는 integer의 리스트 또는 배열\n",
    "  - a slice object with labels/integers : label 또는 integer의 slice (start:stop:step)\n",
    "  - a boolean array : True/False로 이루어진 boolean type의 배열 (배열의 요소수는 index의 요소수와 동일해야 함)\n",
    "  - a collable function with one argument (다루지 않음)"
   ]
  },
  {
   "cell_type": "markdown",
   "metadata": {
    "id": "cTxFR_-vYRgA"
   },
   "source": [
    "#### 10-1 Basic Indexing\n",
    "- indexer를 1개만 사용하는 indexing\n",
    "- Series의 경우 labels/integers를 모두 사용할 수 있음\n",
    "- DataFrame의 경우 종류에 따라 기준이 되는 axis와 labels/integers 의 사용이 다름\n",
    "  \n"
   ]
  },
  {
   "cell_type": "markdown",
   "metadata": {
    "id": "Vt5kL5LPGHN-"
   },
   "source": [
    "##### Basic Indexing of Series\n"
   ]
  },
  {
   "cell_type": "code",
   "execution_count": null,
   "metadata": {},
   "outputs": [],
   "source": []
  },
  {
   "cell_type": "markdown",
   "metadata": {
    "id": "oNKJkmMQGUoY"
   },
   "source": [
    "##### Basic Indexing of DataFrame\n"
   ]
  },
  {
   "cell_type": "code",
   "execution_count": null,
   "metadata": {},
   "outputs": [],
   "source": []
  }
 ],
 "metadata": {
  "colab": {
   "collapsed_sections": [
    "UjTLFNPG2RBa"
   ],
   "name": "pandas_concept_PART1_SOL.ipynb의 사본",
   "provenance": [
    {
     "file_id": "1E2jUoIcDBQFsMibOJ3NfMX_oUs30SUZz",
     "timestamp": 1634166188033
    }
   ],
   "toc_visible": true
  },
  "kernelspec": {
   "display_name": "Python 3",
   "language": "python",
   "name": "python3"
  },
  "language_info": {
   "codemirror_mode": {
    "name": "ipython",
    "version": 3
   },
   "file_extension": ".py",
   "mimetype": "text/x-python",
   "name": "python",
   "nbconvert_exporter": "python",
   "pygments_lexer": "ipython3",
   "version": "3.8.5"
  },
  "toc": {
   "base_numbering": 1,
   "nav_menu": {},
   "number_sections": true,
   "sideBar": true,
   "skip_h1_title": false,
   "title_cell": "Table of Contents",
   "title_sidebar": "Contents",
   "toc_cell": false,
   "toc_position": {},
   "toc_section_display": true,
   "toc_window_display": true
  }
 },
 "nbformat": 4,
 "nbformat_minor": 1
}
