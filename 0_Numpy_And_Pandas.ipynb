{
 "cells": [
  {
   "cell_type": "code",
   "execution_count": 1,
   "id": "20c67ddf",
   "metadata": {},
   "outputs": [
    {
     "name": "stdout",
     "output_type": "stream",
     "text": [
      "1.20.1\n"
     ]
    }
   ],
   "source": [
    "import numpy as np\n",
    "\n",
    "print(np.__version__)"
   ]
  },
  {
   "cell_type": "markdown",
   "id": "184df073",
   "metadata": {},
   "source": [
    "# I. Numpy 개요\n",
    "\n",
    "- URL : https://numpy.org\n",
    "\n",
    "![대체 텍스트](https://numpy.org/doc/stable/_static/numpylogo.svg)\n"
   ]
  },
  {
   "cell_type": "markdown",
   "id": "c9db3ed8",
   "metadata": {},
   "source": [
    "## 1.  다차원 배열의 이해\n",
    "### 1-1. 숫자 자료형\n",
    "\n",
    "> Python 에서는 숫자형 변수로 데이터를 표현할 수 있다.\\\n",
    "> 예를 들어, 세 명의 학생들로 이루어진 반이 있고,\\\n",
    "> 이 학생들의 수학 점수를 각각의 **숫자형 변수**에 저장하는 경우 아래처럼 처리할 수 있다."
   ]
  },
  {
   "cell_type": "code",
   "execution_count": 2,
   "id": "2773f709",
   "metadata": {},
   "outputs": [],
   "source": [
    "# 세 명의 학생들의 수학 점수\n",
    "math1 = 45\n",
    "math2 = 57\n",
    "math3 = 63"
   ]
  },
  {
   "cell_type": "code",
   "execution_count": 11,
   "id": "e4e4161e",
   "metadata": {},
   "outputs": [
    {
     "name": "stdout",
     "output_type": "stream",
     "text": [
      "수학 점수의 합 : 165\n",
      "수학 점수의 평균 : 55.00\n"
     ]
    }
   ],
   "source": [
    "# 합계와 평균 구하기\n",
    "\n",
    "total = math1 + math2 + math3\n",
    "average = total / 3\n",
    "\n",
    "print(\"수학 점수의 합 : %d\" % total)\n",
    "print(\"수학 점수의 평균 : %.2f\" % average)"
   ]
  },
  {
   "cell_type": "markdown",
   "id": "972c59fe",
   "metadata": {},
   "source": [
    "- 새로운 학생이 들어오면 코드를 다시 쳐야한다 <br>\n",
    "➞ <font color=\"red\">**매우 귀찮다**</font>"
   ]
  },
  {
   "cell_type": "code",
   "execution_count": 12,
   "id": "95054873",
   "metadata": {},
   "outputs": [
    {
     "name": "stdout",
     "output_type": "stream",
     "text": [
      "수학 점수의 합 : 255\n",
      "수학 점수의 평균 : 63.75\n"
     ]
    }
   ],
   "source": [
    "math4 = 90\n",
    "total = math1 + math2 + math3 + math4\n",
    "average = total / 4\n",
    "\n",
    "print(\"수학 점수의 합 : %d\" % total)\n",
    "print(\"수학 점수의 평균 : %.2f\" % average)"
   ]
  },
  {
   "cell_type": "markdown",
   "id": "2c2687d2",
   "metadata": {},
   "source": [
    "### 1-2. 리스트 자료형\n",
    "\n",
    ">리스트 자료형에 데이터를 저장하여 이 문제를 해결할 수 있다.\\\n",
    "세 명의 학생들로 이루어진 반이 있고,\\\n",
    "이 학생들의 수학 점수를 **리스트**에 저장하는 경우 아래와 같이 처리할 수 있다."
   ]
  },
  {
   "cell_type": "markdown",
   "id": "3120abed",
   "metadata": {},
   "source": [
    "#### 1) 리스트를 활용하기"
   ]
  },
  {
   "cell_type": "code",
   "execution_count": 25,
   "id": "63f7d323",
   "metadata": {},
   "outputs": [
    {
     "name": "stdout",
     "output_type": "stream",
     "text": [
      "[31, 15, 92]\n"
     ]
    }
   ],
   "source": [
    "math_list = [31, 15, 92]\n",
    "print(math_list)"
   ]
  },
  {
   "cell_type": "code",
   "execution_count": 26,
   "id": "f4346989",
   "metadata": {},
   "outputs": [
    {
     "name": "stdout",
     "output_type": "stream",
     "text": [
      "수학 점수의 합 : 138\n",
      "수학 점수의 평균 : 46.00\n"
     ]
    }
   ],
   "source": [
    "# 평균/합 구하기\n",
    "\n",
    "total = 0\n",
    "average = 0\n",
    "\n",
    "for math in math_list:\n",
    "    total += math\n",
    "average = total / len(math_list)  \n",
    "\n",
    "print(\"수학 점수의 합 : %d\" % total)\n",
    "print(\"수학 점수의 평균 : %.2f\" % average)\n"
   ]
  },
  {
   "cell_type": "markdown",
   "id": "fe3efd8c",
   "metadata": {},
   "source": [
    "#### 2) <span style=\"background-color:yellow\">새로운 성적</span>을 입력하여 평균과 합 구하기"
   ]
  },
  {
   "cell_type": "code",
   "execution_count": 27,
   "id": "352e189f",
   "metadata": {},
   "outputs": [],
   "source": [
    "# 기존 리스트에 데이터 추가\n",
    "math_list.append(78)"
   ]
  },
  {
   "cell_type": "code",
   "execution_count": 28,
   "id": "9ad31018",
   "metadata": {},
   "outputs": [
    {
     "name": "stdout",
     "output_type": "stream",
     "text": [
      "수학 점수의 합 : 216\n",
      "수학 점수의 평균 : 54.00\n"
     ]
    }
   ],
   "source": [
    "# 합/평균 구하는 코드는 그대로 사용 가능\n",
    "total = 0\n",
    "average = 0\n",
    "\n",
    "for math in math_list:\n",
    "    total += math\n",
    "average = total / len(math_list)  \n",
    "\n",
    "print(\"수학 점수의 합 : %d\" % total)\n",
    "print(\"수학 점수의 평균 : %.2f\" % average)\n"
   ]
  },
  {
   "cell_type": "markdown",
   "id": "8e24c705",
   "metadata": {},
   "source": [
    "#### 3) 성적에 오류가 있어서 5점씩 올려 주어야 하는 상황\n",
    "> 반복문이나 list comprehesion 사용"
   ]
  },
  {
   "cell_type": "code",
   "execution_count": 34,
   "id": "5c279f4f",
   "metadata": {},
   "outputs": [
    {
     "name": "stdout",
     "output_type": "stream",
     "text": [
      "[36, 20, 97, 83]\n"
     ]
    }
   ],
   "source": [
    "# method 1\n",
    "new_ml = []\n",
    "for math in math_list:\n",
    "    new_ml.append(math+5)\n",
    "    \n",
    "print(new_ml)"
   ]
  },
  {
   "cell_type": "code",
   "execution_count": 35,
   "id": "1afd9770",
   "metadata": {},
   "outputs": [
    {
     "name": "stdout",
     "output_type": "stream",
     "text": [
      "[36, 20, 97, 83]\n"
     ]
    }
   ],
   "source": [
    "# method 2 : list comprehension\n",
    "new_lcm = [math+5 for math in math_list]\n",
    "\n",
    "print(new_lcm)"
   ]
  },
  {
   "cell_type": "markdown",
   "id": "cc8686f6",
   "metadata": {},
   "source": [
    "#### 4) 구조 확장하기\n",
    "- 1반, 2반, 3반이 있다면..."
   ]
  },
  {
   "cell_type": "code",
   "execution_count": 33,
   "id": "1c0d4f6b",
   "metadata": {},
   "outputs": [
    {
     "name": "stdout",
     "output_type": "stream",
     "text": [
      "[[11, 12, 13], [21, 22, 23], [31, 32, 33]]\n"
     ]
    }
   ],
   "source": [
    "nested_math_score = [[11, 12, 13], [21, 22, 23], [31, 32, 33]]\n",
    "print(nested_math_score)"
   ]
  },
  {
   "cell_type": "markdown",
   "id": "1be04355",
   "metadata": {},
   "source": [
    "**4-1) 중첩리스트에 5점씩 올려주기**"
   ]
  },
  {
   "cell_type": "code",
   "execution_count": 36,
   "id": "783f113b",
   "metadata": {},
   "outputs": [
    {
     "name": "stdout",
     "output_type": "stream",
     "text": [
      "[[16, 17, 18], [26, 27, 28], [36, 37, 38]]\n"
     ]
    }
   ],
   "source": [
    "nested_score2 = []\n",
    "\n",
    "for score in nested_math_score:\n",
    "    temp_list = []\n",
    "    for math in score:\n",
    "         temp_list.append(math+5)\n",
    "    nested_score2.append(temp_list)\n",
    "    \n",
    "print(nested_score2)"
   ]
  },
  {
   "cell_type": "markdown",
   "id": "e0b4cb08",
   "metadata": {},
   "source": [
    "<span style=\"color:red\">**문제점**</span><br>\n",
    "1. 자료구조의 중첩(차원)이 증가하면 반복문도 증가한다.\n",
    "2. 코드가 갈수록 복잡해 진다."
   ]
  },
  {
   "cell_type": "markdown",
   "id": "ad743d03",
   "metadata": {},
   "source": [
    "### 1-3. Numpy로 구현한 다차원 배열 \n",
    ">**NumPy**를 사용하면 중첩된 자료구조를 효율적으로 다룰 수 있다.<br>\n",
    ">`import numpy as np` 형태로 사용하는게 일반적이다."
   ]
  },
  {
   "cell_type": "code",
   "execution_count": 37,
   "id": "d9df3709",
   "metadata": {},
   "outputs": [],
   "source": [
    "# Package import\n",
    "import numpy as np"
   ]
  },
  {
   "cell_type": "markdown",
   "id": "b83ce1cb",
   "metadata": {},
   "source": [
    "#### 1) ndArray 생성"
   ]
  },
  {
   "cell_type": "code",
   "execution_count": 38,
   "id": "fe044846",
   "metadata": {},
   "outputs": [
    {
     "name": "stdout",
     "output_type": "stream",
     "text": [
      "[[11 12 13]\n",
      " [21 22 23]\n",
      " [31 32 33]]\n",
      "<class 'numpy.ndarray'>\n",
      "[[11, 12, 13], [21, 22, 23], [31, 32, 33]]\n",
      "<class 'list'>\n"
     ]
    }
   ],
   "source": [
    "nested_math_score = [[11, 12, 13], [21, 22, 23], [31, 32, 33]]\n",
    "math_array = np.array(nested_math_score)\n",
    "\n",
    "print(math_array)\n",
    "print(type(math_array))\n",
    "\n",
    "print(nested_math_score)\n",
    "print(type(nested_math_score))"
   ]
  },
  {
   "cell_type": "markdown",
   "id": "7aa7f445",
   "metadata": {},
   "source": [
    "#### 2) 각 원소에 5 더하기"
   ]
  },
  {
   "cell_type": "code",
   "execution_count": 39,
   "id": "e9d57acd",
   "metadata": {},
   "outputs": [
    {
     "name": "stdout",
     "output_type": "stream",
     "text": [
      "[[16 17 18]\n",
      " [26 27 28]\n",
      " [36 37 38]]\n"
     ]
    }
   ],
   "source": [
    "new_ndarray = math_array+5\n",
    "\n",
    "print(new_ndarray)"
   ]
  },
  {
   "cell_type": "markdown",
   "id": "cd83291b",
   "metadata": {},
   "source": [
    "#### 3) 평균/합 구하기"
   ]
  },
  {
   "cell_type": "code",
   "execution_count": 44,
   "id": "dab6cc62",
   "metadata": {},
   "outputs": [
    {
     "name": "stdout",
     "output_type": "stream",
     "text": [
      "전체 합 : 198.00\n",
      "전체 평균 : 22.00\n",
      "반별 합 :  [36 66 96]\n",
      "반별 평균 :  [12. 22. 32.]\n"
     ]
    }
   ],
   "source": [
    "# 전체 합/평균\n",
    "sum_all = np.sum(math_array)\n",
    "avg_all = np.mean(math_array)\n",
    "\n",
    "# 반별 합/평균\n",
    "sum_class = np.sum(math_array, axis=1)\n",
    "avg_class = np.mean(math_array, axis=1)\n",
    "\n",
    "print(\"전체 합 : %.2f\" % sum_all)\n",
    "print(\"전체 평균 : %.2f\" % avg_all)\n",
    "print(\"반별 합 : \" , sum_class)\n",
    "print(\"반별 평균 : \",  avg_class)"
   ]
  },
  {
   "cell_type": "markdown",
   "id": "cdd9eabe",
   "metadata": {},
   "source": [
    "## 2. NumPy의 특징\n",
    "\n",
    "### 2-1. NumPy의 장점\n",
    "\n",
    "> 1. 코어부분이 C로 구현되어 있어, 동일한 연산을 하더라도 Python에 비해 속도가 빠름\n",
    "> 2. 라이브러리에 구현되어있는 함수들을 활용해, 짧고 간결한 코드가 작성 가능\n",
    "> 3. 효율적인 메모리 사용이 가능하도록 구현되어 있음\n",
    "        "
   ]
  },
  {
   "cell_type": "markdown",
   "id": "cd453d58",
   "metadata": {},
   "source": [
    "#### Python의 List가 느린 이유 \n",
    ">1. Python의 List는 결국 포인터 배열<br>\n",
    ">2. 경우에 따라서, 객체의 메모리가 흩어져 있음 <br>\n",
    "    <font color=\"red\">캐시 활용이 어려움</font>\n",
    "    \n",
    "#### NumPy의 ndarray가 빠른 이유\n",
    ">1. ndarray는 타입을 명시하여 원소의 배열로 데이터를 유지<br>\n",
    ">2. 다차원 데이터도 연속된 메모리 공간이 할당됨<br>\n",
    ">3. 많은 연산이 dimensions과 strides를 잘 활용하면 효율적으로 가능"
   ]
  },
  {
   "cell_type": "markdown",
   "id": "b1b6f28b",
   "metadata": {},
   "source": [
    "![title](https://www.mybluelinux.com/img/post/posts/0123/NumPy-Illustrated-02.webp)"
   ]
  },
  {
   "cell_type": "markdown",
   "id": "7e128bf1",
   "metadata": {},
   "source": [
    "# II. 기초\n",
    "## 1. 배열생성\n",
    "### 1-1. array()를 이용한 방법\n",
    ">가장 기본적인 방법은, `array()` 함수를 이용하여 일반적인 Python List, tuple에서 배열을 만드는 것 이다"
   ]
  },
  {
   "cell_type": "code",
   "execution_count": 45,
   "id": "945b3554",
   "metadata": {},
   "outputs": [],
   "source": [
    "import numpy as np"
   ]
  },
  {
   "cell_type": "code",
   "execution_count": 47,
   "id": "14842916",
   "metadata": {},
   "outputs": [
    {
     "name": "stdout",
     "output_type": "stream",
     "text": [
      "[0 1 2 3 4 5] <class 'numpy.ndarray'>\n"
     ]
    }
   ],
   "source": [
    "# Python List를 활용하여 NumPy 배열 만들기\n",
    "data = [0, 1, 2, 3, 4, 5]\n",
    "\n",
    "a = np.array(data)\n",
    "print(a, type(a))"
   ]
  },
  {
   "cell_type": "markdown",
   "id": "96082bce",
   "metadata": {},
   "source": [
    "#### 1) number\n",
    "> `number` 데이터를 사용하여 다차원 배열을 생성\\\n",
    "> 정수형(`int`), 실수형(`float`), 복소수형(`complex`), 부호없는 정수형(`uint`)"
   ]
  },
  {
   "cell_type": "code",
   "execution_count": 54,
   "id": "d486ffeb",
   "metadata": {},
   "outputs": [
    {
     "data": {
      "text/plain": [
       "array([[1, 2],\n",
       "       [3, 4]])"
      ]
     },
     "execution_count": 54,
     "metadata": {},
     "output_type": "execute_result"
    }
   ],
   "source": [
    "# 부호 비트 있음\n",
    "iarr = np.array([[1, 2], [3, 4]])\n",
    "iarr"
   ]
  },
  {
   "cell_type": "code",
   "execution_count": 53,
   "id": "87cb3ac8",
   "metadata": {},
   "outputs": [
    {
     "data": {
      "text/plain": [
       "array([[1, 2],\n",
       "       [3, 4]], dtype=uint32)"
      ]
     },
     "execution_count": 53,
     "metadata": {},
     "output_type": "execute_result"
    }
   ],
   "source": [
    "# 부호 비트 없음\n",
    "uarr = np.array([[1, 2], [3, 4]], dtype='uint')\n",
    "uarr"
   ]
  },
  {
   "cell_type": "markdown",
   "id": "174ee293",
   "metadata": {},
   "source": [
    "#### 2) 실수형 \n",
    "> 실수형의 default data type 은 float64"
   ]
  },
  {
   "cell_type": "code",
   "execution_count": 57,
   "id": "26f9c2f0",
   "metadata": {},
   "outputs": [
    {
     "name": "stdout",
     "output_type": "stream",
     "text": [
      "[[1.   2.  ]\n",
      " [3.14 4.73]] float64\n"
     ]
    }
   ],
   "source": [
    "farr = np.array([[1. ,2], [3.14, 4.73]])\n",
    "print(farr, farr.dtype)"
   ]
  },
  {
   "cell_type": "markdown",
   "id": "69c8fe6e",
   "metadata": {},
   "source": [
    "#### 3) Boolean"
   ]
  },
  {
   "cell_type": "code",
   "execution_count": 60,
   "id": "d6f2ad59",
   "metadata": {},
   "outputs": [
    {
     "name": "stdout",
     "output_type": "stream",
     "text": [
      "[ True False  True False] bool\n"
     ]
    }
   ],
   "source": [
    "barr = np.array([True, False, True, False])\n",
    "print(barr, barr.dtype)"
   ]
  },
  {
   "cell_type": "markdown",
   "id": "1a33ac1d",
   "metadata": {},
   "source": [
    "#### 4) 형변환"
   ]
  },
  {
   "cell_type": "code",
   "execution_count": 66,
   "id": "f18ae216",
   "metadata": {},
   "outputs": [
    {
     "name": "stdout",
     "output_type": "stream",
     "text": [
      "np.float64 : \t[1.e+00 2.e+01 3.e+02 4.e+03]\t<class 'numpy.ndarray'>\t<class 'numpy.float64'>\n",
      "float : \t[1.e+00 2.e+01 3.e+02 4.e+03]\t<class 'numpy.ndarray'>\t<class 'numpy.float64'>\n",
      "int \t: \t[   1   20  300 4000]\t\t<class 'numpy.ndarray'>\t<class 'numpy.int32'>\n",
      "np.float32 : \t[1.e+00 2.e+01 3.e+02 4.e+03]\t<class 'numpy.ndarray'>\t<class 'numpy.float32'>\n"
     ]
    }
   ],
   "source": [
    "temp = np.array(['1', '20', 300, 4000], np.float64)\n",
    "print(\"np.float64 : \", temp, type(temp), type(temp[0]), sep='\\t')\n",
    "\n",
    "temp = np.array(['1', '20', 300, 4000], float)\n",
    "print(\"float : \", temp, type(temp), type(temp[0]), sep='\\t')\n",
    "\n",
    "temp = np.array(['1', '20', 300, 4000], int)\n",
    "print(\"int \\t: \", temp, '', type(temp), type(temp[0]), sep='\\t')\n",
    "\n",
    "temp = np.array(['1', '20', 300, 4000], np.float32)\n",
    "print(\"np.float32 : \", temp, type(temp), type(temp[0]), sep='\\t')"
   ]
  },
  {
   "cell_type": "code",
   "execution_count": 71,
   "id": "2d2d1855",
   "metadata": {},
   "outputs": [
    {
     "name": "stdout",
     "output_type": "stream",
     "text": [
      "[  1   2   3 314]\n",
      "a :  [  1   2   3 314]\n",
      "b :  [  1   2   3 314]\n",
      "c :  [   1    2    3 -100]\n"
     ]
    }
   ],
   "source": [
    "data = [1, 2, 3, 4]\n",
    "\n",
    "a = np.array(data)\n",
    "a[3] = -9\n",
    "\n",
    "b = a\n",
    "b[3] = 314\n",
    "print(a) # a도 변해 버린것을 확인 가능 \n",
    "\n",
    "c = np.array(a, copy=True) # Deep Copy\n",
    "c[3] = -100\n",
    "\n",
    "print(\"a : \", a)\n",
    "print(\"b : \", b)\n",
    "print(\"c : \", c)"
   ]
  },
  {
   "cell_type": "markdown",
   "id": "5bcbc909",
   "metadata": {},
   "source": [
    "### 1-2. arange() 를 사용하는 방법\n",
    "> 일련의 숫자를 만들기 위해, NumPy는 Python의 `range`내장 함수와 유사한 함수, `arange`함수를 제공한다\\\n",
    "> default value : start = 0, step = 1"
   ]
  },
  {
   "cell_type": "code",
   "execution_count": 72,
   "id": "28e83f31",
   "metadata": {},
   "outputs": [
    {
     "name": "stdout",
     "output_type": "stream",
     "text": [
      "[1 2 3 4 5 6 7 8 9]\n"
     ]
    }
   ],
   "source": [
    "import numpy as np\n",
    "\n",
    "a = np.arange(1, 10)\n",
    "print(a)"
   ]
  },
  {
   "cell_type": "code",
   "execution_count": 73,
   "id": "a3794f25",
   "metadata": {},
   "outputs": [
    {
     "name": "stdout",
     "output_type": "stream",
     "text": [
      "[ 5 10 15 20 25 30 35]\n"
     ]
    }
   ],
   "source": [
    "b = np.arange(5, 37, 5)\n",
    "print(b)"
   ]
  },
  {
   "cell_type": "code",
   "execution_count": 75,
   "id": "d9675327",
   "metadata": {},
   "outputs": [
    {
     "data": {
      "text/plain": [
       "array([], dtype=int32)"
      ]
     },
     "execution_count": 75,
     "metadata": {},
     "output_type": "execute_result"
    }
   ],
   "source": [
    "c = np.arange(0)\n",
    "c"
   ]
  },
  {
   "cell_type": "code",
   "execution_count": 76,
   "id": "281f16d3",
   "metadata": {},
   "outputs": [
    {
     "data": {
      "text/plain": [
       "array([], dtype=float64)"
      ]
     },
     "execution_count": 76,
     "metadata": {},
     "output_type": "execute_result"
    }
   ],
   "source": [
    "d = np.array([])\n",
    "d"
   ]
  },
  {
   "cell_type": "code",
   "execution_count": null,
   "id": "6b8dd702",
   "metadata": {},
   "outputs": [],
   "source": []
  }
 ],
 "metadata": {
  "kernelspec": {
   "display_name": "Python 3",
   "language": "python",
   "name": "python3"
  },
  "language_info": {
   "codemirror_mode": {
    "name": "ipython",
    "version": 3
   },
   "file_extension": ".py",
   "mimetype": "text/x-python",
   "name": "python",
   "nbconvert_exporter": "python",
   "pygments_lexer": "ipython3",
   "version": "3.8.8"
  }
 },
 "nbformat": 4,
 "nbformat_minor": 5
}
