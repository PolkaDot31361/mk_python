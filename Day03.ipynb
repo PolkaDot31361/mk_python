{
 "cells": [
  {
   "cell_type": "markdown",
   "id": "cef041ec",
   "metadata": {},
   "source": [
    "# 문자열 처리"
   ]
  },
  {
   "cell_type": "code",
   "execution_count": null,
   "id": "a4a2648a",
   "metadata": {},
   "outputs": [],
   "source": [
    "mystr = \"let's go\"\n",
    "\n",
    "print(mystr[0])\n",
    "# mystr[1]=\"o\"\n",
    "\n",
    "for i in mystr:\n",
    "    print(i)"
   ]
  },
  {
   "cell_type": "code",
   "execution_count": 4,
   "id": "690deccc",
   "metadata": {},
   "outputs": [
    {
     "name": "stdout",
     "output_type": "stream",
     "text": [
      "1. 재미없네 파이선\n",
      "이거 맞아? 아닌거 같은데\n",
      "    앞의 공백은 공백으로 인식이 된다 ? 탭을 써도 ?\n",
      "\t 이스케이프 시퀀스 라면 ?\n"
     ]
    }
   ],
   "source": [
    "song = \"\"\"1. 재미없네 파이선\n",
    "이거 맞아? 아닌거 같은데\n",
    "    앞의 공백은 공백으로 인식이 된다 ? 탭을 써도 ?\n",
    "\\t 이스케이프 시퀀스 라면 ?\"\"\"\n",
    "\n",
    "print(song)"
   ]
  },
  {
   "cell_type": "code",
   "execution_count": 5,
   "id": "f1933091",
   "metadata": {},
   "outputs": [
    {
     "name": "stdout",
     "output_type": "stream",
     "text": [
      "I said \"Shut the fuck UP\"\n"
     ]
    }
   ],
   "source": [
    "s = 'I said \"Shut the fuck UP\"'\n",
    "\n",
    "print(s)"
   ]
  },
  {
   "cell_type": "markdown",
   "id": "c15f3ef0",
   "metadata": {},
   "source": [
    "## [문제] 파일 이름 슬라이싱\n",
    "- fileName = \"20210908-093122.jpg\"\n",
    "- 촬영 날짜 : 2021년 09월 08일\n",
    "- 촬영 시간 : 09시 31분\n",
    "- 확장자 : jpg"
   ]
  },
  {
   "cell_type": "code",
   "execution_count": 25,
   "id": "12a1ef0a",
   "metadata": {},
   "outputs": [
    {
     "name": "stdout",
     "output_type": "stream",
     "text": [
      "2021 09 08\n",
      "09 31\n",
      "jpg\n"
     ]
    }
   ],
   "source": [
    "fileName = \"20210908-093122.jpg\"\n",
    "\n",
    "print(fileName[0:4],fileName[4:6], fileName[6:8])\n",
    "print(fileName[9:11], fileName[11:13])\n",
    "print(fileName[-3:])"
   ]
  },
  {
   "cell_type": "code",
   "execution_count": 26,
   "id": "d4a6094d",
   "metadata": {},
   "outputs": [
    {
     "name": "stdout",
     "output_type": "stream",
     "text": [
      "olleh\n"
     ]
    }
   ],
   "source": [
    "str = \"hello\"   # olleh 출력\n",
    "\n",
    "print(str[::-1])"
   ]
  },
  {
   "cell_type": "code",
   "execution_count": 29,
   "id": "41b9326a",
   "metadata": {},
   "outputs": [
    {
     "name": "stdout",
     "output_type": "stream",
     "text": [
      "9\n"
     ]
    }
   ],
   "source": [
    "s = \"\"\"생각이란 생각할수록 생각나므로 생각하지 말아야 할 생각은 생각하지 않으려고 하는 생각이 옳은 생각이라고 생각합니다.\"\"\"\n",
    "\n",
    "print(s.count(\"생각\"))\n"
   ]
  },
  {
   "cell_type": "code",
   "execution_count": 35,
   "id": "279cd866",
   "metadata": {},
   "outputs": [
    {
     "name": "stdout",
     "output_type": "stream",
     "text": [
      "['Coffee', 'is', 'Always', 'Right']\n",
      "['서울', '대전', '대구', '부산']\n"
     ]
    }
   ],
   "source": [
    "fileName = \"20210908-093122.jpg\"\n",
    "\n",
    "fileName.split(\"-\")\n",
    "\n",
    "s = \"Coffee is Always Right\"\n",
    "print(s.split())\n",
    "\n",
    "s2 = \"서울->대전->대구->부산\"\n",
    "print(s2.split(\"->\"))"
   ]
  },
  {
   "cell_type": "code",
   "execution_count": 36,
   "id": "8a3645e7",
   "metadata": {},
   "outputs": [
    {
     "name": "stdout",
     "output_type": "stream",
     "text": [
      "True\n",
      "False\n",
      "True\n",
      "True\n"
     ]
    }
   ],
   "source": [
    "s3 = \"python programming\"\n",
    "\n",
    "print(\"a\" in s3)\n",
    "print(\"z\" in s3)\n",
    "print(\"pro\" in s3)\n",
    "\n",
    "print(\"x\" not in s3)"
   ]
  },
  {
   "cell_type": "code",
   "execution_count": 43,
   "id": "e1af76b4",
   "metadata": {},
   "outputs": [
    {
     "name": "stdout",
     "output_type": "stream",
     "text": [
      "###312###\n",
      "###  312###\n",
      "###       312###\n",
      "###312###\n"
     ]
    }
   ],
   "source": [
    "value = 312\n",
    "\n",
    "print(\"###%d###\"%value)\n",
    "print(\"###%5d###\"%value)\n",
    "print(\"###%10d###\"%value)\n",
    "print(\"###%1d###\"%value)"
   ]
  },
  {
   "cell_type": "code",
   "execution_count": 48,
   "id": "9afed8e5",
   "metadata": {},
   "outputs": [
    {
     "name": "stdout",
     "output_type": "stream",
     "text": [
      "  3.141593\n",
      "3.14159265\n",
      "   3.14159\n",
      "      3.14\n"
     ]
    }
   ],
   "source": [
    "pi = 3.14159265\n",
    "\n",
    "print(\"%10f\" % pi)\n",
    "print(\"%10.8f\" % pi)\n",
    "print(\"%10.5f\" % pi)\n",
    "print(\"%10.2f\" % pi)"
   ]
  },
  {
   "cell_type": "code",
   "execution_count": 51,
   "id": "615479bf",
   "metadata": {},
   "outputs": [
    {
     "name": "stdout",
     "output_type": "stream",
     "text": [
      "123.141593\n",
      "123.14159265\n",
      " 123.14159\n",
      "    123.14\n"
     ]
    }
   ],
   "source": [
    "pi = 123.14159265\n",
    "\n",
    "print(\"%10f\" % pi)\n",
    "print(\"%10.8f\" % pi)\n",
    "print(\"%10.5f\" % pi)\n",
    "print(\"%10.2f\" % pi)"
   ]
  },
  {
   "cell_type": "code",
   "execution_count": 52,
   "id": "96f4e071",
   "metadata": {},
   "outputs": [
    {
     "name": "stdout",
     "output_type": "stream",
     "text": [
      "I drink 50% of coffee\n"
     ]
    }
   ],
   "source": [
    "str = \"I drink %d%% of coffee\" %50\n",
    "\n",
    "print(str)"
   ]
  },
  {
   "cell_type": "code",
   "execution_count": 53,
   "id": "cef71c4f",
   "metadata": {},
   "outputs": [
    {
     "name": "stdout",
     "output_type": "stream",
     "text": [
      "7월 24일은 생일입니다.\n"
     ]
    }
   ],
   "source": [
    "month = 7\n",
    "day = 24\n",
    "bday = \"생일\"\n",
    "\n",
    "print(\"%d월 %d일은 %s입니다.\"%(month, day, bday))"
   ]
  },
  {
   "cell_type": "markdown",
   "id": "a465b518",
   "metadata": {},
   "source": [
    "## [문제] 주민등록번호 분석 하기\n",
    "- 임의의 주민등록번호를 입력 받아서  다음과 같이 생년과 성별을 출력하는 코드를 작성\n",
    "- 입력 : 910724 - 1245698\n",
    "- 출력 : 91년생 남자"
   ]
  },
  {
   "cell_type": "code",
   "execution_count": 60,
   "id": "7a8684ed",
   "metadata": {},
   "outputs": [
    {
     "name": "stdout",
     "output_type": "stream",
     "text": [
      "910724-1249627\n",
      "91년생 남성\n"
     ]
    }
   ],
   "source": [
    "snum = input()\n",
    "year = snum[0:2]\n",
    "gender = \"남성\" if int(snum[7]) % 2 else \"여성\"\n",
    "\n",
    "print(\"%s년생 %s\"%(year, gender))\n",
    "\n",
    "\n"
   ]
  },
  {
   "cell_type": "code",
   "execution_count": 65,
   "id": "f3b197bf",
   "metadata": {},
   "outputs": [
    {
     "name": "stdout",
     "output_type": "stream",
     "text": [
      "주민등록 번호 : 910724-1249627\n",
      "91년생 남자\n"
     ]
    }
   ],
   "source": [
    "jumin =input(\"주민등록 번호 : \")\n",
    "year = jumin[0:2]\n",
    "gender = jumin[7]\n",
    "s_gender = \"남자\" if gender == \"1\" else \"여자\"\n",
    "\n",
    "print(\"%s년생 %s\" %(year, s_gender))\n"
   ]
  },
  {
   "cell_type": "markdown",
   "id": "9c316908",
   "metadata": {},
   "source": [
    "## [문제] \n",
    "- 전체 단어는 몇개 ?\n",
    "- song 문자열을 이용하여 가장 많이 나오는 문자열이 무엇인지 구하시오\n",
    "- like의 단어 개수는 ?\n",
    "> HINT\n",
    ">- 1) 문자열 내의 엔터('\\n')문자를 공백문자로 치환한다\n",
    ">- 2) 전체 단어를 소문자로 치환 한다.: lower함수 사용\n",
    ">- 3) 문자열을 단어로 나눈다 : split() 사용"
   ]
  },
  {
   "cell_type": "code",
   "execution_count": 99,
   "id": "05e854bf",
   "metadata": {},
   "outputs": [
    {
     "name": "stdout",
     "output_type": "stream",
     "text": [
      "전체 단어의 개수 : 333\n",
      "'like' 단어 개수 : 1\n",
      "가장 많이 나온 단어 : to\n",
      "횟수 14: \n"
     ]
    }
   ],
   "source": [
    "song = \"\"\"Hello, it's me \n",
    "I was wondering if after all these years you'd like to meet\n",
    "To go over everything\n",
    "They say that time's supposed to heal ya\n",
    "But I ain't done much healing\n",
    "Hello, can you hear me?\n",
    "I'm in California dreaming about who we used to be\n",
    "When we were younger and free\n",
    "I've forgotten how it felt before the world fell at our feet\n",
    "There's such a difference between us\n",
    "And a million miles\n",
    "Hello from the other side\n",
    "I must've called a thousand times\n",
    "To tell you I'm sorry for everything that I've done\n",
    "But when I call, you never seem to be home\n",
    "Hello from the outside\n",
    "At least I can say that I've tried\n",
    "To tell you I'm sorry for breaking your heart\n",
    "But it don't matter, it clearly doesn't tear you apart anymore\n",
    "Hello, how are you?\n",
    "It's so typical of me to talk about myself, I'm sorry\n",
    "I hope that you're well\n",
    "Did you ever make it out of that town where nothing ever happened?\n",
    "It's no secret that the both of us are running out of time\n",
    "So hello from the other side (Other side)\n",
    "I must've called a thousand times (Thousand times)\n",
    "To tell you I'm sorry for everything that I've done\n",
    "But when I call, you never seem to be home\n",
    "Hello from the outside (Outside)\n",
    "At least I can say that I've tried (I've tried)\n",
    "To tell you I'm sorry for breaking your heart\n",
    "But it don't matter, it clearly doesn't tear you apart anymore\n",
    "Ooh-ooh, anymore\n",
    "Ooh-ooh-ooh, anymore\n",
    "Ooh-ooh, anymore\n",
    "Anymore\n",
    "Hello from the other side (Other side)\n",
    "I must've called a thousand times (Thousand times)\n",
    "To tell you I'm sorry for everything that I've done\n",
    "But when I call, you never seem to be home\n",
    "Hello from the outside (Outside)\n",
    "At least I can say that I've tried (I've tried)\n",
    "To tell you I'm sorry for breaking your heart\n",
    "But it don't matter, it clearly doesn't tear you apart anymore\n",
    "\"\"\"\n",
    "\n",
    "song = song.replace(\"\\n\", \" \")\n",
    "song = song.lower()\n",
    "word_list = song.split()\n",
    "\n",
    "print(\"전체 단어의 개수 : %d\" % len(word_list))\n",
    "print(\"'like' 단어 개수 : %d\" % word_list.count(\"like\"))\n",
    "\n",
    "max_word_cnt = 0\n",
    "max_word = \"\"\n",
    "\n",
    "for s in word_list:\n",
    "    word_cnt = word_list.count(s)\n",
    "    if word_cnt > max_word_cnt:\n",
    "        max_word_cnt = word_cnt\n",
    "        max_word = s \n",
    "        \n",
    "print(\"가장 많이 나온 단어 : %s\" % max_word)\n",
    "print(\"횟수 %d: \" % max_word_cnt)\n",
    "        \n",
    "\n"
   ]
  },
  {
   "cell_type": "code",
   "execution_count": null,
   "id": "6324edd4",
   "metadata": {},
   "outputs": [],
   "source": []
  }
 ],
 "metadata": {
  "kernelspec": {
   "display_name": "Python 3",
   "language": "python",
   "name": "python3"
  },
  "language_info": {
   "codemirror_mode": {
    "name": "ipython",
    "version": 3
   },
   "file_extension": ".py",
   "mimetype": "text/x-python",
   "name": "python",
   "nbconvert_exporter": "python",
   "pygments_lexer": "ipython3",
   "version": "3.8.8"
  }
 },
 "nbformat": 4,
 "nbformat_minor": 5
}
