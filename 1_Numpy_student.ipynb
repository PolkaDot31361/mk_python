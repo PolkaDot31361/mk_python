{
 "cells": [
  {
   "cell_type": "code",
   "execution_count": 1,
   "id": "d3afdd94",
   "metadata": {},
   "outputs": [
    {
     "name": "stdout",
     "output_type": "stream",
     "text": [
      "1.20.1\n"
     ]
    }
   ],
   "source": [
    "import numpy as np\n",
    "\n",
    "print(np.__version__)"
   ]
  },
  {
   "cell_type": "markdown",
   "id": "47584881",
   "metadata": {},
   "source": [
    "# NumPy 개요\n",
    "\n",
    "- URL : https://numpy.org\n",
    "\n",
    "![대체 텍스트](https://numpy.org/doc/stable/_static/numpylogo.svg)\n",
    "\n"
   ]
  },
  {
   "cell_type": "markdown",
   "id": "6af66f66",
   "metadata": {},
   "source": [
    "# Python 다차원 배열의 이해\n",
    "\n",
    "## 숫자 자료형\n",
    "\n",
    "* Python에서는 숫자형 변수로 데이터를 표현할 수 있다.\n",
    "* 예를 들어, 세 명의 학생들로 이루어진 반이 있고 이 학생들의 수학 점수를 각각의 **숫자형 변수**에 저장하는 경우 아래처럼 처리할 수 있다."
   ]
  },
  {
   "cell_type": "code",
   "execution_count": 3,
   "id": "39c3a596",
   "metadata": {},
   "outputs": [],
   "source": [
    "# 세 명의 학생의 수학과목 점수 설정\n",
    "math1 = 11\n",
    "math2 = 12\n",
    "math3 = 13"
   ]
  },
  {
   "cell_type": "code",
   "execution_count": 4,
   "id": "6021320c",
   "metadata": {},
   "outputs": [
    {
     "name": "stdout",
     "output_type": "stream",
     "text": [
      "수학점수 합: 36\n",
      "수학점수 평균: 12.0\n"
     ]
    }
   ],
   "source": [
    "# 합과 평균구하기\n",
    "\n",
    "total = math1 + math2  + math3\n",
    "average = total / 3\n",
    "\n",
    "print(\"수학점수 합: {}\".format(total))\n",
    "print(\"수학점수 평균: {}\".format(average))"
   ]
  },
  {
   "cell_type": "markdown",
   "id": "6182c53d",
   "metadata": {},
   "source": [
    "- 그런데 만약 새로운 학생이 전학을 와서 시험을 치렀고, 이 학생의 성적을 추가한 점수들의 합과 평균을 구하려면 어떻게 해야 할까?\n",
    "\n",
    "- 새로운 변수를 추가해야 한다."
   ]
  },
  {
   "cell_type": "code",
   "execution_count": null,
   "id": "f06fea81",
   "metadata": {},
   "outputs": [],
   "source": [
    "# 새로 전학온 학생의 점수를 위한 변수\n",
    "\n",
    "math4 = 14"
   ]
  },
  {
   "cell_type": "markdown",
   "id": "f3d95de2",
   "metadata": {},
   "source": [
    "- 그리고 합과 평균을 구하는 코드 역시 수정해야 한다."
   ]
  },
  {
   "cell_type": "code",
   "execution_count": null,
   "id": "459cb244",
   "metadata": {},
   "outputs": [],
   "source": [
    "total = math1 + math2 + math3 + math4 # 항목 추가\n",
    "average = total / 4 # 분모 변경\n",
    "\n",
    "print(\"수학점수 합: {}\".format(total))\n",
    "print(\"수학점수 평균: {}\".format(average))"
   ]
  },
  {
   "cell_type": "markdown",
   "id": "e41c42a5",
   "metadata": {},
   "source": [
    "- 추가된 데이터를 새로 선언해 주는 것은 어쩔 수 없다 하더라도 합과 평균을 구하는 <font color=\"red\">**코드를 매번 변경하는 것은 비효율적**</font>이다."
   ]
  },
  {
   "cell_type": "markdown",
   "id": "19333d6c",
   "metadata": {},
   "source": [
    "## 리스트 자료형\n",
    "\n",
    "- 리스트 자료형에 데이터를 저장하여 이 문제를 해결할 수 있다.\n",
    "\n",
    "- 세 명의 학생들로 이루어진 반이 있고 이 학생들의 수학 점수를 **리스트**에 저장하는 경우 아래와 같이 처리할 수 있다."
   ]
  },
  {
   "cell_type": "code",
   "execution_count": 11,
   "id": "77486d5a",
   "metadata": {},
   "outputs": [],
   "source": [
    "math_list = [11, 12, 13]"
   ]
  },
  {
   "cell_type": "markdown",
   "id": "8b5600fa",
   "metadata": {},
   "source": [
    "- 점수들의 합과, 평균은 다음과 같이 구할 수 있다."
   ]
  },
  {
   "cell_type": "code",
   "execution_count": 4,
   "id": "4b35118a",
   "metadata": {},
   "outputs": [
    {
     "name": "stdout",
     "output_type": "stream",
     "text": [
      "수학점수 합: <built-in function sum>\n",
      "수학점수 평균: 12.0\n"
     ]
    }
   ],
   "source": [
    "total = 0\n",
    "average = 0\n",
    "\n",
    "for math in math_list:\n",
    "    total += math\n",
    "average = total / len(math_list)\n",
    "\n",
    "print(\"수학점수 합: {}\".format(sum))\n",
    "print(\"수학점수 평균: {}\".format(average))"
   ]
  },
  {
   "cell_type": "markdown",
   "id": "7dd200ab",
   "metadata": {},
   "source": [
    "- 그런데 만약 새로운 학생이 전학을 와서 시험을 치렀고, 이 학생의 성적을 추가한 점수들의 합과 평균을 구하려면 어떻게 해야 할까?\n",
    "\n",
    "- ~~새로운 변수를 추가해야 한다.~~\n",
    "\n",
    "- **기존의 리스트에 새로운 데이터를 추가한다.**"
   ]
  },
  {
   "cell_type": "code",
   "execution_count": 14,
   "id": "8165b0ef",
   "metadata": {},
   "outputs": [],
   "source": [
    "math_list.append(14)"
   ]
  },
  {
   "cell_type": "markdown",
   "id": "872f1ac1",
   "metadata": {},
   "source": [
    "- ~~그리고 합과 평균을 구하는 코드 역시 수정해야 한다.~~\n",
    "\n",
    "- 새로운 데이터가 추가되더라도 합과 평균을 구하는 **코드는 수정 없이 그대로 사용할 수 있다**."
   ]
  },
  {
   "cell_type": "code",
   "execution_count": 6,
   "id": "aa57e4dc",
   "metadata": {},
   "outputs": [
    {
     "name": "stdout",
     "output_type": "stream",
     "text": [
      "수학점수 합: 50\n",
      "수학점수 평균: 12.5\n"
     ]
    }
   ],
   "source": [
    "total = 0\n",
    "average = 0\n",
    "\n",
    "for math in math_list:\n",
    "    total += math\n",
    "average = total / len(math_list)\n",
    "\n",
    "print(\"수학점수 합: {}\".format(total))\n",
    "print(\"수학점수 평균: {}\".format(average))"
   ]
  },
  {
   "cell_type": "markdown",
   "id": "ea8355d3",
   "metadata": {},
   "source": [
    "- 그런데 만약 시험 문제에서 오류가 발견되어 모든 학생의 점수를 1점씩 올려줘야 하는 상황이 발생한다면 어떻게 처리해야 할까?\n",
    "\n",
    "- 반복문이나 List comprehension같은 방법이 있다."
   ]
  },
  {
   "cell_type": "code",
   "execution_count": 8,
   "id": "07c8cf5b",
   "metadata": {},
   "outputs": [
    {
     "data": {
      "text/plain": [
       "[12, 13, 14, 15]"
      ]
     },
     "execution_count": 8,
     "metadata": {},
     "output_type": "execute_result"
    }
   ],
   "source": [
    "# 방법 1 (For loop 사용)\n",
    "\n",
    "math_list2 = []\n",
    "for math in math_list:\n",
    "    math_list2.append(math+1)\n",
    "    \n",
    "math_list2\n",
    "\n",
    "\n"
   ]
  },
  {
   "cell_type": "code",
   "execution_count": 15,
   "id": "a1d73462",
   "metadata": {},
   "outputs": [
    {
     "data": {
      "text/plain": [
       "[12, 13, 14, 15]"
      ]
     },
     "execution_count": 15,
     "metadata": {},
     "output_type": "execute_result"
    }
   ],
   "source": [
    "# 방법 2 (List Comprehension 사용)\n",
    "\n",
    "math_list3 = [math+1 for math in math_list]\n",
    "\n",
    "math_list3"
   ]
  },
  {
   "cell_type": "markdown",
   "id": "d8f5632a",
   "metadata": {},
   "source": [
    "- 여기서 구조를 확장해서,\n",
    "\n",
    "- 1반의 점수가 11, 12, 13\n",
    "\n",
    "- 2반의 점수가 21, 22, 23\n",
    "\n",
    "- 3반의 점수가 31, 32, 33점이라고 한다면 중첩 리스트를 통해 아래처럼 나타낼 수 있다."
   ]
  },
  {
   "cell_type": "code",
   "execution_count": 16,
   "id": "c3cda19b",
   "metadata": {},
   "outputs": [
    {
     "name": "stdout",
     "output_type": "stream",
     "text": [
      "[[11, 12, 13], [21, 22, 23], [31, 32, 33]]\n"
     ]
    }
   ],
   "source": [
    "nested_math_list = [[11, 12, 13], [21, 22, 23], [31, 32, 33]]\n",
    "print(nested_math_list)"
   ]
  },
  {
   "cell_type": "markdown",
   "id": "cc0293b0",
   "metadata": {},
   "source": [
    "- 중첩 리스트에서 각 원소에 1을 더하는 코드는 다음과 같다."
   ]
  },
  {
   "cell_type": "code",
   "execution_count": 17,
   "id": "66b920da",
   "metadata": {},
   "outputs": [
    {
     "name": "stdout",
     "output_type": "stream",
     "text": [
      "[[12, 13, 14], [22, 23, 24], [32, 33, 34]]\n"
     ]
    }
   ],
   "source": [
    "nested_math_list2 = []\n",
    "\n",
    "for inner_list in nested_math_list:\n",
    "    temp_list = []\n",
    "\n",
    "    for math in inner_list:\n",
    "        temp_list.append(math + 1)\n",
    "\n",
    "    nested_math_list2.append(temp_list)\n",
    "\n",
    "print(nested_math_list2)"
   ]
  },
  {
   "cell_type": "markdown",
   "id": "ad4510fe",
   "metadata": {},
   "source": [
    "- <font color=\"red\">**문제점**</font>\n",
    "\n",
    "    - 자료구조의 중첩이 증가하면 반복문도 하나 더 사용해야 한다.\n",
    "    - 구조의 중첩이 증가할수록 코드는 복잡해질 수밖에 없다."
   ]
  },
  {
   "cell_type": "markdown",
   "id": "18f4aedd",
   "metadata": {},
   "source": [
    "## NumPy로 구현한 다차원 배열\n",
    "\n",
    "- **NumPy**를 사용하면 중첩된 자료구조를 효율적으로 다룰 수 있다.\n",
    " \n",
    "- `import numpy as np` 형태로 사용하는게 일반적이다."
   ]
  },
  {
   "cell_type": "code",
   "execution_count": 18,
   "id": "244a4b81",
   "metadata": {},
   "outputs": [],
   "source": [
    "# Package import\n",
    "import numpy as np\n"
   ]
  },
  {
   "cell_type": "code",
   "execution_count": 24,
   "id": "0d418e07",
   "metadata": {},
   "outputs": [
    {
     "name": "stdout",
     "output_type": "stream",
     "text": [
      "[[11 12 13]\n",
      " [21 22 23]\n",
      " [31 32 33]]\n",
      "<class 'numpy.ndarray'>\n",
      "[[11, 12, 13], [21, 22, 23], [31, 32, 33]]\n",
      "<class 'list'>\n"
     ]
    }
   ],
   "source": [
    "# ndarray의 생성\n",
    "nested_math_list = [[11, 12, 13], [21, 22, 23], [31, 32, 33]]\n",
    "\n",
    "math_ndarray = np.array(nested_math_list)\n",
    "\n",
    "print(math_ndarray)\n",
    "print(type(math_ndarray))\n",
    "\n",
    "print(nested_math_list)\n",
    "print(type(nested_math_list))\n"
   ]
  },
  {
   "cell_type": "markdown",
   "id": "5359e49f",
   "metadata": {},
   "source": [
    "- 각 원소에 1을 더하려면,"
   ]
  },
  {
   "cell_type": "code",
   "execution_count": 25,
   "id": "ed02b7f9",
   "metadata": {},
   "outputs": [
    {
     "data": {
      "text/plain": [
       "array([[12, 13, 14],\n",
       "       [22, 23, 24],\n",
       "       [32, 33, 34]])"
      ]
     },
     "execution_count": 25,
     "metadata": {},
     "output_type": "execute_result"
    }
   ],
   "source": [
    "new_ndarray = math_ndarray + 1\n",
    "\n",
    "new_ndarray\n"
   ]
  },
  {
   "cell_type": "markdown",
   "id": "fe4a5596",
   "metadata": {},
   "source": [
    "* NumPy에 구현된 함수를 이용해서 합이나 평균도 쉽게 구할 수 있다."
   ]
  },
  {
   "cell_type": "code",
   "execution_count": 26,
   "id": "aef17963",
   "metadata": {},
   "outputs": [
    {
     "data": {
      "text/plain": [
       "207"
      ]
     },
     "execution_count": 26,
     "metadata": {},
     "output_type": "execute_result"
    }
   ],
   "source": [
    "np.sum(new_ndarray)"
   ]
  },
  {
   "cell_type": "code",
   "execution_count": 31,
   "id": "4ad8f235",
   "metadata": {},
   "outputs": [
    {
     "data": {
      "text/plain": [
       "23.0"
      ]
     },
     "execution_count": 31,
     "metadata": {},
     "output_type": "execute_result"
    }
   ],
   "source": [
    "np.mean(new_ndarray)"
   ]
  },
  {
   "cell_type": "code",
   "execution_count": 32,
   "id": "baa44a2f",
   "metadata": {},
   "outputs": [
    {
     "data": {
      "text/plain": [
       "array([39, 69, 99])"
      ]
     },
     "execution_count": 32,
     "metadata": {},
     "output_type": "execute_result"
    }
   ],
   "source": [
    "# 각 반의 수학 합계와 평균\n",
    "np.sum(new_ndarray, axis = 1)"
   ]
  },
  {
   "cell_type": "code",
   "execution_count": 34,
   "id": "9a3434f2",
   "metadata": {},
   "outputs": [
    {
     "data": {
      "text/plain": [
       "array([13., 23., 33.])"
      ]
     },
     "execution_count": 34,
     "metadata": {},
     "output_type": "execute_result"
    }
   ],
   "source": [
    "np.mean(new_ndarray, axis = 1)"
   ]
  },
  {
   "cell_type": "markdown",
   "id": "51e055e8",
   "metadata": {},
   "source": [
    "# Numpy 특징\n",
    "\n",
    "## NumPy의 장점\n",
    "\n",
    "- 코어 부분이 C로 구현되어 동일한 연산을 하더라도 Python에 비해 속도가 빠름\n",
    "- 라이브러리에 구현되어있는 함수들을 활용해 짧고 간결한 코드 작성 가능\n",
    "- 효율적인 메모리 사용이 가능하도록 구현됨\n",
    "\n",
    "## Python의 list가 느린 이유\n",
    "\n",
    "- 파이썬 리스트는 결국 포인터의 배열\n",
    "- 경우에 따라서 각각 객체가 메모리 여기저기 흩어져 있음\n",
    "- 그러므로 캐시 활용이 어려움\n",
    "\n",
    "## NumPy의 ndarray가 빠른 이유\n",
    "- ndarray는 타입을 명시하여 원소의 배열로 데이터를 유지\n",
    "- 다차원 데이터도 연속된 메모리 공간이 할당됨\n",
    "- 많은 연산이 dimensions과 strides를 잘 활용하면 효율적으로 가능"
   ]
  },
  {
   "cell_type": "markdown",
   "id": "b3c73743",
   "metadata": {},
   "source": [
    "![title](https://www.mybluelinux.com/img/post/posts/0123/NumPy-Illustrated-02.webp)"
   ]
  },
  {
   "cell_type": "markdown",
   "id": "859fed82",
   "metadata": {},
   "source": [
    "# 기초\n",
    "\n",
    "## 배열 생성-1\n",
    "\n",
    "### array()를 이용한 생성\n",
    "* 가장 기본적인 방법은, `array` 함수를 사용하여 일반적인 Python list 또는 tuple에서 배열을 만드는 것이다."
   ]
  },
  {
   "cell_type": "code",
   "execution_count": null,
   "id": "cdba7e3c",
   "metadata": {},
   "outputs": [],
   "source": []
  },
  {
   "cell_type": "code",
   "execution_count": null,
   "id": "118cc532",
   "metadata": {},
   "outputs": [],
   "source": []
  },
  {
   "cell_type": "code",
   "execution_count": null,
   "id": "ad39c4c4",
   "metadata": {},
   "outputs": [],
   "source": []
  },
  {
   "cell_type": "code",
   "execution_count": null,
   "id": "5ce3cb70",
   "metadata": {},
   "outputs": [],
   "source": []
  },
  {
   "cell_type": "markdown",
   "id": "50d413f6",
   "metadata": {},
   "source": [
    "### arrange()를 이용한 생성\n",
    "\n",
    "* 일련의 숫자를 만들기 위해, NumPy는 Python의 `range` 내장 함수와 유사한 함수인 `arange` 함수를 제공한다.\n",
    "* default value : start = 0, step = 1"
   ]
  },
  {
   "cell_type": "code",
   "execution_count": null,
   "id": "4bd03fcb",
   "metadata": {},
   "outputs": [],
   "source": []
  },
  {
   "cell_type": "code",
   "execution_count": 3,
   "id": "f3ce555c",
   "metadata": {},
   "outputs": [],
   "source": []
  },
  {
   "cell_type": "code",
   "execution_count": 4,
   "id": "a252cad6",
   "metadata": {},
   "outputs": [
    {
     "name": "stdout",
     "output_type": "stream",
     "text": [
      "[[1 2]\n",
      " [3 4]\n",
      " [5 6]]\n",
      "int32\n",
      "2\n",
      "(3, 2)\n",
      "6\n",
      "24\n"
     ]
    }
   ],
   "source": [
    "# 3) 2차원 배열 matrix (3X2)\n",
    "a = np.array([[1,2], [3,4], [5,6]])\n",
    "\n",
    "print(a)\n",
    "print(a.dtype)\n",
    "print(a.ndim)\n",
    "print(a.shape)\n",
    "print(a.size)\n",
    "print(a.nbytes)"
   ]
  },
  {
   "cell_type": "code",
   "execution_count": 5,
   "id": "e16939de",
   "metadata": {},
   "outputs": [
    {
     "name": "stdout",
     "output_type": "stream",
     "text": [
      "[[[111 112 113]\n",
      "  [121 122 123]]\n",
      "\n",
      " [[211 212 213]\n",
      "  [221 222 223]]]\n",
      "int32\n",
      "3\n",
      "(2, 2, 3)\n",
      "12\n",
      "48\n"
     ]
    }
   ],
   "source": [
    "# 3) 3차원 배열 Tensor (2 X 2 X 3)\n",
    "a = np.array([[[111,112,113], [121,122,123]], [[211,212,213], [221,222,223]]])\n",
    "\n",
    "print(a)\n",
    "print(a.dtype)\n",
    "print(a.ndim)\n",
    "print(a.shape)\n",
    "print(a.size)\n",
    "print(a.nbytes)"
   ]
  },
  {
   "cell_type": "markdown",
   "id": "f3d1204d",
   "metadata": {},
   "source": [
    "### 다차원 배열의 생성\n",
    "\n",
    "- 다차원 배열의 원소는 위와 같은 데이터 타입을 가질 수 있다.\n",
    "- 다차원 배열의 모든 원소는 동일한 데이터 타입을 가져야 한다."
   ]
  },
  {
   "cell_type": "markdown",
   "id": "f8f54bbd",
   "metadata": {},
   "source": [
    "**boolean**"
   ]
  },
  {
   "cell_type": "code",
   "execution_count": null,
   "id": "51bf0efc",
   "metadata": {},
   "outputs": [],
   "source": []
  },
  {
   "cell_type": "markdown",
   "id": "be41252e",
   "metadata": {},
   "source": [
    "**number**\n",
    "\n",
    "- number 데이터를 입력해서 다차원 배열을 생성.\n",
    "- 정수형, 부호없는 정수형, 실수형, 복소수형이 있다.\n",
    "- 정수형 : <font color=\"red\">(default data type은 운영체제에 따라 다르다.)</font>"
   ]
  },
  {
   "cell_type": "code",
   "execution_count": null,
   "id": "89252019",
   "metadata": {},
   "outputs": [],
   "source": [
    "\n"
   ]
  },
  {
   "cell_type": "markdown",
   "id": "20be7adb",
   "metadata": {},
   "source": [
    "- 부호없는 정수형의 default data type은 'uint32'다. <font color=\"red\">(default data type은 운영체제에 따라 다르다.)</font>"
   ]
  },
  {
   "cell_type": "code",
   "execution_count": null,
   "id": "820269a3",
   "metadata": {},
   "outputs": [],
   "source": [
    "\n"
   ]
  },
  {
   "cell_type": "markdown",
   "id": "d6df6875",
   "metadata": {},
   "source": [
    "**실수형**\n",
    "- 실수형의 default data type은 'float64'"
   ]
  },
  {
   "cell_type": "code",
   "execution_count": null,
   "id": "66b6bbe9",
   "metadata": {},
   "outputs": [],
   "source": [
    "\n"
   ]
  },
  {
   "cell_type": "markdown",
   "id": "6bee8a9c",
   "metadata": {},
   "source": [
    "**형변환**\n",
    "- 데이터가 정수로 입력되더라도 data type을 실수형으로 명시한다면 실수형으로 자동 형변환이 일어난다"
   ]
  },
  {
   "cell_type": "code",
   "execution_count": null,
   "id": "09e807d0",
   "metadata": {},
   "outputs": [],
   "source": []
  },
  {
   "cell_type": "markdown",
   "id": "8de760cb",
   "metadata": {},
   "source": [
    "- 실수 데이터로 입력한 뒤에 data type을 정수형으로 명시"
   ]
  },
  {
   "cell_type": "code",
   "execution_count": null,
   "id": "342b53e3",
   "metadata": {},
   "outputs": [],
   "source": []
  },
  {
   "cell_type": "markdown",
   "id": "1fb5402a",
   "metadata": {},
   "source": [
    "## NumPy 배열의 주요 속성\n",
    "\n",
    "NumPy의 배열 클래스를 `ndarray(N-Dimentional Array)`로 부른다.\n",
    "\n",
    "`ndarray` 객체에서 중요한 속성은 다음과 같다.\n",
    "\n",
    "1) **ndarray.ndim**\n",
    "\n",
    "- 배열의 축(차원)의 개수\n",
    "\n",
    "\n",
    "2) **ndarray.shape**\n",
    "\n",
    "- 배열의 차원. 각 차원의 크기를 나타내는 정수 튜플을 반환한다. n개의 행과 m개의 열이 있는 행렬의 경우, `shape`는 `(n, m)`이다.\n",
    "\n",
    "\n",
    "3) **ndarray.size**\n",
    "\n",
    "- 배열의 요소의 총 개수.\n",
    "\n",
    "\n",
    "4) **ndarray.dtype**\n",
    "\n",
    "- 배열의 요소의 자료형. 표준 Python 자료형을 사용하여 만들거나 지정할 수도 있고,\n",
    "- 추가적으로 NumPy가 제공하는 자체 자료형(numpy.int32, numpy.int16, numpy.float64 등)을 사용할 수도 있다.\n",
    "    \n",
    "5) **ndarray.nbytes**\n",
    "\n",
    "- ndarray object의 메모리 크기 반환\n",
    "   "
   ]
  },
  {
   "cell_type": "code",
   "execution_count": null,
   "id": "ac03a07a",
   "metadata": {},
   "outputs": [],
   "source": []
  },
  {
   "cell_type": "code",
   "execution_count": null,
   "id": "0ed0d3a4",
   "metadata": {},
   "outputs": [],
   "source": []
  },
  {
   "cell_type": "code",
   "execution_count": 41,
   "id": "02eb4d9a",
   "metadata": {},
   "outputs": [
    {
     "name": "stdout",
     "output_type": "stream",
     "text": [
      "[[1 2]\n",
      " [3 4]\n",
      " [5 6]]\n",
      "int32\n",
      "2\n",
      "(3, 2)\n",
      "6\n",
      "24\n"
     ]
    }
   ],
   "source": []
  },
  {
   "cell_type": "code",
   "execution_count": 45,
   "id": "6d18f6f4",
   "metadata": {},
   "outputs": [
    {
     "name": "stdout",
     "output_type": "stream",
     "text": [
      "[[[111 112 113]\n",
      "  [121 122 123]]\n",
      "\n",
      " [[211 212 213]\n",
      "  [221 222 223]]]\n",
      "int32\n",
      "3\n",
      "(2, 2, 3)\n",
      "12\n",
      "48\n"
     ]
    }
   ],
   "source": []
  },
  {
   "cell_type": "code",
   "execution_count": null,
   "id": "6ac9eb5a",
   "metadata": {},
   "outputs": [],
   "source": []
  },
  {
   "cell_type": "markdown",
   "id": "29edb46d",
   "metadata": {},
   "source": [
    "- 생성 시 배열의 유형을 명시적으로 지정 (복소수 데이터타입의 생성"
   ]
  },
  {
   "cell_type": "code",
   "execution_count": null,
   "id": "2c0e5a7a",
   "metadata": {},
   "outputs": [],
   "source": []
  },
  {
   "cell_type": "markdown",
   "id": "3d62d9d7",
   "metadata": {},
   "source": [
    "## 배열 생성-2\n",
    "\n",
    "### 다차원 배열 생성-2\n",
    "\n",
    "* 다양한 함수를 이용해서 배열을 만들 수도 있다.\n",
    "* `zeros` 함수는 0으로 가득 찬 배열을 생성한다.\n",
    "* `ones` 함수는 1로 가득 찬 배열을 생성한다.\n",
    "* `empty` 함수는 메모리의 상태에 따라 초기 값이 임의로 설정되는 요소로 이루어진 배열을 생성한다."
   ]
  },
  {
   "cell_type": "markdown",
   "id": "d6d0554f",
   "metadata": {},
   "source": [
    "### numpy.zeros\n",
    "- 모든 요소가 0으로 이루어진, 지정한 크기의 새로운 배열을 생성\n"
   ]
  },
  {
   "cell_type": "code",
   "execution_count": 13,
   "id": "d7a90172",
   "metadata": {},
   "outputs": [
    {
     "data": {
      "text/plain": [
       "array([[0., 0., 0.],\n",
       "       [0., 0., 0.],\n",
       "       [0., 0., 0.]])"
      ]
     },
     "execution_count": 13,
     "metadata": {},
     "output_type": "execute_result"
    }
   ],
   "source": [
    "import numpy as np\n",
    "\n",
    "# np.zeros?\n",
    "\n",
    "a = np.zeros(4, dtype=int)\n",
    "a\n",
    "b = np.zeros((3,3))\n",
    "b"
   ]
  },
  {
   "cell_type": "code",
   "execution_count": 14,
   "id": "88a7666d",
   "metadata": {},
   "outputs": [
    {
     "data": {
      "text/plain": [
       "array([[0., 0., 0.],\n",
       "       [0., 0., 0.],\n",
       "       [0., 0., 0.]])"
      ]
     },
     "execution_count": 14,
     "metadata": {},
     "output_type": "execute_result"
    }
   ],
   "source": [
    "c = np.zeros_like(b)\n",
    "c"
   ]
  },
  {
   "cell_type": "markdown",
   "id": "a8bd475e",
   "metadata": {},
   "source": [
    "### **numpy.empty**\n",
    "- 엔트리를 초기화하지 않고, 지정한 크기의 새로운 배열을 생성"
   ]
  },
  {
   "cell_type": "code",
   "execution_count": 20,
   "id": "d4c2d26e",
   "metadata": {},
   "outputs": [
    {
     "name": "stdout",
     "output_type": "stream",
     "text": [
      "[[7.55907938e-312 7.75683064e-322 0.00000000e+000 0.00000000e+000\n",
      "  7.55430502e-312]\n",
      " [3.16251369e+180 8.42103019e-143 7.37108894e+228 1.78818445e-047\n",
      "  1.67772392e+243]\n",
      " [1.16466606e-028 3.45365695e+175 1.89052177e+150 6.02183035e+151\n",
      "  9.03292974e+271]\n",
      " [6.96411098e+252 4.03824032e+246 9.46966807e-096 1.04060029e-095\n",
      "  8.37177924e-144]\n",
      " [6.32275946e+233 3.06836102e+257 4.56310099e-144 1.16442250e-028\n",
      "  8.08765703e-312]]\n"
     ]
    }
   ],
   "source": [
    "f = np.empty((5,5))\n",
    "print(f)"
   ]
  },
  {
   "cell_type": "code",
   "execution_count": 23,
   "id": "def8f0d2",
   "metadata": {},
   "outputs": [
    {
     "name": "stdout",
     "output_type": "stream",
     "text": [
      "[[4128860 6029375 3801155 5570652 6619251]\n",
      " [7536754 5570652 6619251 6029426 6881326]\n",
      " [7929968 6815860 7209071 7536732 7536761]\n",
      " [7536685 7667828 7536738 6226012 6881375]\n",
      " [6881390 6226036 3014751 7929968     105]]\n"
     ]
    }
   ],
   "source": [
    "g = np.empty_like(f, dtype=int)\n",
    "print(g)"
   ]
  },
  {
   "cell_type": "markdown",
   "id": "aae21a4a",
   "metadata": {},
   "source": [
    "### numpy.ones\n",
    "- 모든 요소가 1로 이루어진, 지정한 크기의 새로운 배열을 생성"
   ]
  },
  {
   "cell_type": "code",
   "execution_count": 15,
   "id": "bd5b156b",
   "metadata": {},
   "outputs": [
    {
     "name": "stdout",
     "output_type": "stream",
     "text": [
      "[1. 1. 1. 1. 1.]\n"
     ]
    }
   ],
   "source": [
    "d = np.ones(5)\n",
    "print(d)"
   ]
  },
  {
   "cell_type": "code",
   "execution_count": 18,
   "id": "50dd7c8a",
   "metadata": {},
   "outputs": [
    {
     "name": "stdout",
     "output_type": "stream",
     "text": [
      "[[1 1 1]\n",
      " [1 1 1]\n",
      " [1 1 1]]\n"
     ]
    }
   ],
   "source": [
    "e = np.ones_like(c, dtype=int)\n",
    "print(e)"
   ]
  },
  {
   "cell_type": "markdown",
   "id": "9e48879a",
   "metadata": {},
   "source": [
    "## 배열 생성-3"
   ]
  },
  {
   "cell_type": "markdown",
   "id": "e7050095",
   "metadata": {},
   "source": [
    "### linspace 함수\n",
    "- 특정 범위 안에서 등분하여 요소들을 설정\n",
    "- 시작 값, 끝 값까지 nums 개수만큼 동일한 간격에 걸쳐 행렬을 만든다."
   ]
  },
  {
   "cell_type": "code",
   "execution_count": 26,
   "id": "cae05771",
   "metadata": {},
   "outputs": [
    {
     "data": {
      "text/plain": [
       "18"
      ]
     },
     "execution_count": 26,
     "metadata": {},
     "output_type": "execute_result"
    }
   ],
   "source": [
    "a = np.arange(1, 10, 0.5)\n",
    "len(a)"
   ]
  },
  {
   "cell_type": "code",
   "execution_count": 29,
   "id": "ece1c0d5",
   "metadata": {
    "scrolled": true
   },
   "outputs": [
    {
     "name": "stdout",
     "output_type": "stream",
     "text": [
      "9\n"
     ]
    },
    {
     "data": {
      "text/plain": [
       "array([0.   , 0.625, 1.25 , 1.875, 2.5  , 3.125, 3.75 , 4.375, 5.   ])"
      ]
     },
     "execution_count": 29,
     "metadata": {},
     "output_type": "execute_result"
    }
   ],
   "source": [
    "b = np.linspace(0, 5, 9)\n",
    "print(len(b))\n",
    "b"
   ]
  },
  {
   "cell_type": "code",
   "execution_count": 1,
   "id": "d2c74875",
   "metadata": {},
   "outputs": [],
   "source": []
  },
  {
   "cell_type": "markdown",
   "id": "d3913e32",
   "metadata": {},
   "source": [
    "### numpy.identity, numpy.eye\n",
    "\n",
    "* 지정한 크기의 정방 단위 행렬을 생성.\n",
    "* 선형대수학에서, 단위 행렬은 주대각선의 원소가 모두 1이며 나머지 원소는 모두 0인 정사각 행렬이다.\n",
    "* 대각선에 1을, 그 외에 0을 가지는 2차원 배열\n",
    "* eye() 함수도 identity() 함수와 같은 기능을 한다."
   ]
  },
  {
   "cell_type": "code",
   "execution_count": 3,
   "id": "190b0610",
   "metadata": {},
   "outputs": [
    {
     "data": {
      "text/plain": [
       "array([[1, 0, 0],\n",
       "       [0, 1, 0],\n",
       "       [0, 0, 1]])"
      ]
     },
     "execution_count": 3,
     "metadata": {},
     "output_type": "execute_result"
    }
   ],
   "source": [
    "np.identity(3, dtype=int)"
   ]
  },
  {
   "cell_type": "code",
   "execution_count": 6,
   "id": "9c9ba73e",
   "metadata": {},
   "outputs": [
    {
     "data": {
      "text/plain": [
       "array([[1., 0., 0., 0.],\n",
       "       [0., 1., 0., 0.],\n",
       "       [0., 0., 1., 0.]])"
      ]
     },
     "execution_count": 6,
     "metadata": {},
     "output_type": "execute_result"
    }
   ],
   "source": [
    "np.eye(3,4)"
   ]
  },
  {
   "cell_type": "code",
   "execution_count": 7,
   "id": "974a0031",
   "metadata": {},
   "outputs": [
    {
     "data": {
      "text/plain": [
       "array([[0., 0., 0., 0.],\n",
       "       [1., 0., 0., 0.],\n",
       "       [0., 1., 0., 0.]])"
      ]
     },
     "execution_count": 7,
     "metadata": {},
     "output_type": "execute_result"
    }
   ],
   "source": [
    "np.eye(3,4, -1)"
   ]
  },
  {
   "cell_type": "markdown",
   "id": "2080b1bf",
   "metadata": {},
   "source": [
    "### numpy.full\n",
    "- 지정한 크기에 입력한 원소를 전부 채운 행렬을 만든다."
   ]
  },
  {
   "cell_type": "code",
   "execution_count": 8,
   "id": "63388a0c",
   "metadata": {},
   "outputs": [
    {
     "data": {
      "text/plain": [
       "array([[7, 7, 7, 7],\n",
       "       [7, 7, 7, 7],\n",
       "       [7, 7, 7, 7]])"
      ]
     },
     "execution_count": 8,
     "metadata": {},
     "output_type": "execute_result"
    }
   ],
   "source": [
    "np.full((3,4), 7)"
   ]
  },
  {
   "cell_type": "code",
   "execution_count": 10,
   "id": "7310a1e6",
   "metadata": {},
   "outputs": [
    {
     "data": {
      "text/plain": [
       "array([[7, 7, 7, 7],\n",
       "       [7, 7, 7, 7],\n",
       "       [7, 7, 7, 7]])"
      ]
     },
     "execution_count": 10,
     "metadata": {},
     "output_type": "execute_result"
    }
   ],
   "source": [
    "7*np.ones((3,4), dtype=int)"
   ]
  },
  {
   "cell_type": "markdown",
   "id": "124914c6",
   "metadata": {},
   "source": [
    "### like 함수"
   ]
  },
  {
   "cell_type": "code",
   "execution_count": null,
   "id": "929811fd",
   "metadata": {},
   "outputs": [],
   "source": []
  },
  {
   "cell_type": "markdown",
   "id": "1d4d9165",
   "metadata": {},
   "source": [
    "## 기본 연산\n",
    "\n",
    "- 배열에 대한 산술 연산자는 **요소별**로 적용된다. 새로운 배열이 생성되고 결과로 채워진다.\n",
    "\n",
    "### 산술연산\n",
    "\n",
    "- 배열의 모든 요소의 합을 구하기 등, 많은 단항 연산이 `ndarray` 클래스의 메서드로 구현되어 있다."
   ]
  },
  {
   "cell_type": "code",
   "execution_count": 25,
   "id": "a86228b1",
   "metadata": {},
   "outputs": [
    {
     "name": "stdout",
     "output_type": "stream",
     "text": [
      "[[0. 1. 2.]\n",
      " [3. 4. 5.]\n",
      " [6. 7. 8.]]\n",
      "[[0. 1. 2.]\n",
      " [3. 4. 5.]\n",
      " [6. 7. 8.]]\n",
      "[0. 1. 2.]\n",
      "[[ 0.  2.  4.]\n",
      " [ 3.  5.  7.]\n",
      " [ 6.  8. 10.]]\n"
     ]
    }
   ],
   "source": [
    "import numpy as np\n",
    "\n",
    "# 1) 덛셈\n",
    "x = np.add(1.0 , 4.0)\n",
    "print(X)\n",
    "x = np.arange(9.0).reshape(3, 3)\n",
    "print(X)\n",
    "\n",
    "y = np.arange(3.0)\n",
    "print(y)\n",
    "\n",
    "print(x + y)"
   ]
  },
  {
   "cell_type": "code",
   "execution_count": 33,
   "id": "39e686b5",
   "metadata": {},
   "outputs": [
    {
     "name": "stdout",
     "output_type": "stream",
     "text": [
      "[[0. 1. 2.]\n",
      " [3. 4. 5.]\n",
      " [6. 7. 8.]]\n",
      "[0. 1. 2.]\n"
     ]
    },
    {
     "data": {
      "text/plain": [
       "array([[ 0.,  2.,  4.],\n",
       "       [ 3.,  5.,  7.],\n",
       "       [ 6.,  8., 10.]])"
      ]
     },
     "execution_count": 33,
     "metadata": {},
     "output_type": "execute_result"
    }
   ],
   "source": [
    "print(x, y, sep=\"\\n\")\n",
    "np.add(x, y)"
   ]
  },
  {
   "cell_type": "code",
   "execution_count": 26,
   "id": "e164f9af",
   "metadata": {
    "scrolled": true
   },
   "outputs": [
    {
     "data": {
      "text/plain": [
       "array([[ 0.,  1.,  4.],\n",
       "       [ 0.,  4., 10.],\n",
       "       [ 0.,  7., 16.]])"
      ]
     },
     "execution_count": 26,
     "metadata": {},
     "output_type": "execute_result"
    }
   ],
   "source": [
    "print(x, y, sep=\"\\n\")\n",
    "np.multiply(x, y)"
   ]
  },
  {
   "cell_type": "code",
   "execution_count": 27,
   "id": "0570e8c1",
   "metadata": {},
   "outputs": [
    {
     "data": {
      "text/plain": [
       "array([[0., 0., 0.],\n",
       "       [3., 3., 3.],\n",
       "       [6., 6., 6.]])"
      ]
     },
     "execution_count": 27,
     "metadata": {},
     "output_type": "execute_result"
    }
   ],
   "source": [
    "print(x, y, sep=\"\\n\")\n",
    "np.subtract(x, y)"
   ]
  },
  {
   "cell_type": "code",
   "execution_count": 35,
   "id": "104a63ca",
   "metadata": {},
   "outputs": [
    {
     "name": "stderr",
     "output_type": "stream",
     "text": [
      "<ipython-input-35-192e9df149d2>:1: RuntimeWarning: divide by zero encountered in true_divide\n",
      "  np.true_divide(x, y)\n",
      "<ipython-input-35-192e9df149d2>:1: RuntimeWarning: invalid value encountered in true_divide\n",
      "  np.true_divide(x, y)\n"
     ]
    },
    {
     "data": {
      "text/plain": [
       "array([[nan, 1. , 1. ],\n",
       "       [inf, 4. , 2.5],\n",
       "       [inf, 7. , 4. ]])"
      ]
     },
     "execution_count": 35,
     "metadata": {},
     "output_type": "execute_result"
    }
   ],
   "source": [
    "np.true_divide(x, y)"
   ]
  },
  {
   "cell_type": "code",
   "execution_count": 38,
   "id": "0020e189",
   "metadata": {},
   "outputs": [
    {
     "data": {
      "text/plain": [
       "array([0, 1, 4, 9], dtype=int32)"
      ]
     },
     "execution_count": 38,
     "metadata": {},
     "output_type": "execute_result"
    }
   ],
   "source": [
    "x = np.arange(4)\n",
    "x ** 2"
   ]
  },
  {
   "cell_type": "code",
   "execution_count": 43,
   "id": "ad888d86",
   "metadata": {},
   "outputs": [
    {
     "data": {
      "text/plain": [
       "array([3, 5], dtype=int32)"
      ]
     },
     "execution_count": 43,
     "metadata": {},
     "output_type": "execute_result"
    }
   ],
   "source": [
    "np.remainder([3, 5], [7, 11])"
   ]
  },
  {
   "cell_type": "markdown",
   "id": "e5e3fe5d",
   "metadata": {},
   "source": [
    "- `+=` 및 `*=`과 같은 일부 연산자는 새 배열을 생성하지 않고 기존 배열을 수정한다."
   ]
  },
  {
   "cell_type": "code",
   "execution_count": 47,
   "id": "226bd433",
   "metadata": {},
   "outputs": [
    {
     "name": "stdout",
     "output_type": "stream",
     "text": [
      "[[1 1 1]\n",
      " [1 1 1]]\n",
      "[[3 3 3]\n",
      " [3 3 3]]\n"
     ]
    }
   ],
   "source": [
    "a = np.zeros((2, 3), dtype=int)\n",
    "a += 1\n",
    "print(a)\n",
    "a *= 3\n",
    "print(a)"
   ]
  },
  {
   "cell_type": "markdown",
   "id": "bbe2eb81",
   "metadata": {},
   "source": [
    "* 연산 시 자료형은 적절하게 형변환(Upcasting)된다."
   ]
  },
  {
   "cell_type": "code",
   "execution_count": null,
   "id": "ee19da07",
   "metadata": {},
   "outputs": [],
   "source": []
  },
  {
   "cell_type": "markdown",
   "id": "676d68ff",
   "metadata": {},
   "source": [
    "### 통계연산\n",
    "\n",
    "* 참고 : https://docs.scipy.org/doc/numpy/reference/routines.statistics.html\n",
    "* 통계 연산은 axis와 밀접한 관계가 있다."
   ]
  },
  {
   "cell_type": "code",
   "execution_count": 48,
   "id": "a17fa43c",
   "metadata": {
    "scrolled": false
   },
   "outputs": [
    {
     "name": "stdout",
     "output_type": "stream",
     "text": [
      "[[1 2 3]\n",
      " [4 5 6]\n",
      " [7 8 9]]\n"
     ]
    }
   ],
   "source": [
    "A = np.arange(1, 10).reshape(3,3)\n",
    "\n",
    "print(A)"
   ]
  },
  {
   "cell_type": "code",
   "execution_count": 52,
   "id": "93ae5182",
   "metadata": {},
   "outputs": [
    {
     "data": {
      "text/plain": [
       "45"
      ]
     },
     "execution_count": 52,
     "metadata": {},
     "output_type": "execute_result"
    }
   ],
   "source": [
    "A.sum()"
   ]
  },
  {
   "cell_type": "code",
   "execution_count": 54,
   "id": "4ac62c71",
   "metadata": {},
   "outputs": [
    {
     "name": "stdout",
     "output_type": "stream",
     "text": [
      "[12 15 18]\n",
      "[ 6 15 24]\n"
     ]
    }
   ],
   "source": [
    "print(A.sum(axis = 0))\n",
    "print(A.sum(axis = 1))\n"
   ]
  },
  {
   "cell_type": "code",
   "execution_count": 57,
   "id": "84a310af",
   "metadata": {},
   "outputs": [
    {
     "name": "stdout",
     "output_type": "stream",
     "text": [
      "5.0\n",
      "[4. 5. 6.]\n",
      "[2. 5. 8.]\n"
     ]
    }
   ],
   "source": [
    "print(A.mean())\n",
    "print(A.mean(axis = 0))\n",
    "print(A.mean(axis = 1))"
   ]
  },
  {
   "cell_type": "code",
   "execution_count": 58,
   "id": "d30a96a7",
   "metadata": {},
   "outputs": [
    {
     "name": "stdout",
     "output_type": "stream",
     "text": [
      "[ 1  3  6 10 15 21 28 36 45]\n",
      "[[ 1  2  3]\n",
      " [ 5  7  9]\n",
      " [12 15 18]]\n",
      "[[ 1  3  6]\n",
      " [ 4  9 15]\n",
      " [ 7 15 24]]\n"
     ]
    }
   ],
   "source": [
    "print(A.cumsum())\n",
    "print(A.cumsum(axis = 0))\n",
    "print(A.cumsum(axis = 1))"
   ]
  },
  {
   "cell_type": "markdown",
   "id": "e5d941b9",
   "metadata": {},
   "source": [
    "**numpy.amin, numpy.amax**\n",
    "- axis 을 따른 배열 또는 최소의 최소치"
   ]
  },
  {
   "cell_type": "code",
   "execution_count": 65,
   "id": "7c30de51",
   "metadata": {},
   "outputs": [
    {
     "name": "stdout",
     "output_type": "stream",
     "text": [
      "1\n",
      "[1 2 3]\n",
      "[1 4 7]\n"
     ]
    }
   ],
   "source": [
    "print(np.amin(A))\n",
    "print(np.amin(A, axis = 0))\n",
    "print(np.amin(A, axis = 1))"
   ]
  },
  {
   "cell_type": "code",
   "execution_count": 66,
   "id": "5d238a15",
   "metadata": {},
   "outputs": [
    {
     "name": "stdout",
     "output_type": "stream",
     "text": [
      "9\n",
      "[7 8 9]\n",
      "[3 6 9]\n"
     ]
    }
   ],
   "source": [
    "print(np.amax(A))\n",
    "print(np.amax(A, axis = 0))\n",
    "print(np.amax(A, axis = 1))"
   ]
  },
  {
   "cell_type": "markdown",
   "id": "6fc14e2c",
   "metadata": {},
   "source": [
    "**numpy.median**\n",
    "- axis 을 따른 배열 중앙값"
   ]
  },
  {
   "cell_type": "code",
   "execution_count": 67,
   "id": "1eadc355",
   "metadata": {},
   "outputs": [
    {
     "name": "stdout",
     "output_type": "stream",
     "text": [
      "5.0\n",
      "[4. 5. 6.]\n",
      "[2. 5. 8.]\n"
     ]
    }
   ],
   "source": [
    "print(np.median(A))\n",
    "print(np.median(A, axis = 0))\n",
    "print(np.median(A, axis = 1))"
   ]
  },
  {
   "cell_type": "code",
   "execution_count": 76,
   "id": "6e523d66",
   "metadata": {},
   "outputs": [
    {
     "name": "stdout",
     "output_type": "stream",
     "text": [
      "8.5\n",
      "[ 7.  8.  9. 10.]\n",
      "[ 2.5  6.5 10.5 14.5]\n"
     ]
    }
   ],
   "source": [
    "B = np.arange(1,17).reshape(4,4)\n",
    "\n",
    "print(np.median(B))\n",
    "print(np.median(B, axis = 0))\n",
    "print(np.median(B, axis = 1))"
   ]
  },
  {
   "cell_type": "markdown",
   "id": "a7123ed9",
   "metadata": {},
   "source": [
    "**numpy.mean**\n",
    "- 축을 따라 산술 평균을 계산\n",
    "- 가중평균을 구하려면 numpy.average를 사용"
   ]
  },
  {
   "cell_type": "code",
   "execution_count": null,
   "id": "e27b0555",
   "metadata": {},
   "outputs": [],
   "source": []
  },
  {
   "cell_type": "markdown",
   "id": "46418d9d",
   "metadata": {},
   "source": [
    "**numpy.var, numpy.std**\n",
    "- 지정된 축을 따라 분산, 표준편차를 계산"
   ]
  },
  {
   "cell_type": "code",
   "execution_count": 74,
   "id": "2ae16a42",
   "metadata": {},
   "outputs": [
    {
     "name": "stdout",
     "output_type": "stream",
     "text": [
      "6.666666666666667\n",
      "2.581988897471611\n"
     ]
    }
   ],
   "source": [
    "print(np.var(A))\n",
    "print(np.std(A))"
   ]
  },
  {
   "cell_type": "markdown",
   "id": "48ed91b9",
   "metadata": {},
   "source": [
    "**np.max**\n",
    "- np.amax의 별칭\n",
    "- 하나의 배열에서만 동작 --> 스칼라 값 반환\n",
    "- axis를 이용하면 배열의 축에 따라 최대값(최소값을 찾는다.)"
   ]
  },
  {
   "cell_type": "code",
   "execution_count": null,
   "id": "09b2cacb",
   "metadata": {},
   "outputs": [],
   "source": []
  },
  {
   "cell_type": "markdown",
   "id": "dba82ada",
   "metadata": {},
   "source": [
    "**np.maximum**\n",
    "\n",
    "- 두 개의 배열을 가져와 요소별 최대값 계산\n",
    "- broadcast 될 수 없다.\n",
    "- 참고 : https://newbedev.com/numpy-max-vs-amax-vs-maximum"
   ]
  },
  {
   "cell_type": "code",
   "execution_count": 82,
   "id": "3d185d6a",
   "metadata": {
    "scrolled": true
   },
   "outputs": [
    {
     "data": {
      "text/plain": [
       "array([4, 6, 9])"
      ]
     },
     "execution_count": 82,
     "metadata": {},
     "output_type": "execute_result"
    }
   ],
   "source": [
    "a = np.array([3, 6, 1])\n",
    "b = np.array([4, 2, 9])\n",
    "\n",
    "np.maximum(a, b)"
   ]
  },
  {
   "cell_type": "code",
   "execution_count": null,
   "id": "87639ac9",
   "metadata": {},
   "outputs": [],
   "source": [
    "np.maximum?"
   ]
  },
  {
   "cell_type": "code",
   "execution_count": null,
   "id": "acf6f190",
   "metadata": {},
   "outputs": [],
   "source": [
    "c = np.array([3, 6, 1])\n",
    "d = np.array([4, 2, 9, 8])\n",
    "# np.maximum?\n",
    "\n",
    "\n",
    "\n",
    "np.maximum(c, d)"
   ]
  },
  {
   "cell_type": "markdown",
   "id": "f99ff825",
   "metadata": {},
   "source": [
    "### 최소값, 최대값 아규먼트 위치\n",
    "- argmax(), argmin()\n",
    "    - 제일 큰 값 위치 정보\n",
    "    - 제일 작은 값 위치 정보\n",
    "\n",
    "\n",
    "- np.where(조건)\n",
    "- np.where(조건, 조건에 맞을 때 값, 조건과 다를 때 값)"
   ]
  },
  {
   "cell_type": "code",
   "execution_count": 88,
   "id": "661f0f3c",
   "metadata": {},
   "outputs": [
    {
     "data": {
      "text/plain": [
       "2"
      ]
     },
     "execution_count": 88,
     "metadata": {},
     "output_type": "execute_result"
    }
   ],
   "source": [
    "c = np.array([3, 6, 1])\n",
    "d = np.array([4, 2, 9, 8])\n",
    "\n",
    "# index 값을 return\n",
    "np.argmax(d)"
   ]
  },
  {
   "cell_type": "code",
   "execution_count": 98,
   "id": "06e10fef",
   "metadata": {},
   "outputs": [
    {
     "name": "stdout",
     "output_type": "stream",
     "text": [
      "[False  True  True False False  True False]\n",
      "[0 7 8 0 0 9 0]\n"
     ]
    }
   ],
   "source": [
    "c = np.array([5, 7, 8, 1, 3, 9, 2])\n",
    "np.where( c > 5)\n",
    "print(np.where(c > 5, True, False))\n",
    "print(np.where(c > 5, c, 0))"
   ]
  },
  {
   "cell_type": "markdown",
   "id": "69cbb84c",
   "metadata": {},
   "source": [
    "### 비교연산\n",
    "\n",
    "**단순비교**\n",
    "* 연산자를 이용하여 element별 비교\n",
    "* ==, !=, >, >=, <, <=\n"
   ]
  },
  {
   "cell_type": "code",
   "execution_count": 103,
   "id": "dd5c6fb6",
   "metadata": {},
   "outputs": [
    {
     "name": "stdout",
     "output_type": "stream",
     "text": [
      "[ True  True  True]\n",
      "[False  True False]\n"
     ]
    }
   ],
   "source": [
    "a = np.array([1,2,3])\n",
    "b = np.array([1,2,3])\n",
    "c = np.array([3,2,5])\n",
    "\n",
    "print(a == b)\n",
    "print(a == c)\n"
   ]
  },
  {
   "cell_type": "code",
   "execution_count": 106,
   "id": "8d440d4d",
   "metadata": {},
   "outputs": [
    {
     "name": "stdout",
     "output_type": "stream",
     "text": [
      "[[1 2 3]\n",
      " [4 5 6]\n",
      " [7 8 9]]\n"
     ]
    },
    {
     "data": {
      "text/plain": [
       "array([[False,  True, False],\n",
       "       [ True, False,  True],\n",
       "       [False,  True, False]])"
      ]
     },
     "execution_count": 106,
     "metadata": {},
     "output_type": "execute_result"
    }
   ],
   "source": [
    "d = np.arange(1, 10).reshape(3,3)\n",
    "print(d)\n",
    "\n",
    "d%2 == 0"
   ]
  },
  {
   "cell_type": "markdown",
   "id": "15e050d7",
   "metadata": {},
   "source": [
    "**all(), any() 을 이용한 비교**\n",
    "- all() : 요소 전체가 같아야 하나의 True\n",
    "- any() : 요소 전체중 하나만 같아도 True"
   ]
  },
  {
   "cell_type": "code",
   "execution_count": 110,
   "id": "2fc8f43f",
   "metadata": {},
   "outputs": [
    {
     "name": "stdout",
     "output_type": "stream",
     "text": [
      "True\n",
      "False\n",
      "True\n"
     ]
    }
   ],
   "source": [
    "print(np.all(a==b))\n",
    "print(np.all(a==c))\n",
    "\n",
    "print(np.any(a==c))"
   ]
  },
  {
   "cell_type": "markdown",
   "id": "88c67b26",
   "metadata": {},
   "source": [
    "### Boolean 연산\n",
    "\n",
    "* logical_and, logical_or, logical_not, logical_xor\n",
    "* 결과는 True/False로 리턴"
   ]
  },
  {
   "cell_type": "code",
   "execution_count": 124,
   "id": "9d574e60",
   "metadata": {
    "scrolled": false
   },
   "outputs": [
    {
     "name": "stdout",
     "output_type": "stream",
     "text": [
      "[[False  True False  True False]\n",
      " [ True False  True False  True]]\n",
      "\n",
      "[[False False False False  True]\n",
      " [ True  True  True  True  True]]\n",
      "\n",
      "[[False False False False False]\n",
      " [ True False  True False  True]]\n",
      "\n",
      "[[False  True False  True  True]\n",
      " [ True  True  True  True  True]]\n",
      "\n",
      "[[False  True False  True  True]\n",
      " [False  True False  True False]]\n"
     ]
    }
   ],
   "source": [
    "d = np.arange(1, 11).reshape(2,5)\n",
    "\n",
    "x = d % 2 == 0 \n",
    "y = d > 4\n",
    "print(x)\n",
    "print()\n",
    "print(y)\n",
    "print()\n",
    "\n",
    "print(np.logical_and(x, y))\n",
    "print()\n",
    "print(np.logical_or(x,y))\n",
    "print()\n",
    "print(np.logical_xor(x, y))"
   ]
  },
  {
   "cell_type": "markdown",
   "id": "6cb7a3b9",
   "metadata": {},
   "source": [
    "# 행렬연산\n",
    "\n",
    "`*` 연산자 또한 요소별로 적용된다.\n",
    "\n",
    "`@` 연산자 또는 `dot` 함수를 사용하여 행렬 곱을 수행할 수 있다."
   ]
  },
  {
   "cell_type": "code",
   "execution_count": 19,
   "id": "349c1c95",
   "metadata": {},
   "outputs": [],
   "source": [
    "import numpy as np\n"
   ]
  },
  {
   "cell_type": "code",
   "execution_count": 20,
   "id": "03176a3b",
   "metadata": {},
   "outputs": [],
   "source": [
    "A = np.array([[1,2]\n",
    "            ,[3,4]])\n",
    "B = np.array([[0,1]\n",
    "            ,[1,0]])"
   ]
  },
  {
   "cell_type": "code",
   "execution_count": null,
   "id": "81a84367",
   "metadata": {},
   "outputs": [],
   "source": [
    "print(A * B)\n",
    "print(A @ B)\n",
    "print(A.dot(B))"
   ]
  },
  {
   "cell_type": "markdown",
   "id": "6673075e",
   "metadata": {},
   "source": [
    "## 내적\n",
    "\n",
    "### * 연산자\n",
    "- 형태(shape)가 동일한 두 행렬을 원소끼리(element-wise) 곱하는 연산자\n",
    "- shape이 다르면 오류발생\n",
    "- 교환법칙 가능"
   ]
  },
  {
   "cell_type": "code",
   "execution_count": null,
   "id": "c2b02368",
   "metadata": {},
   "outputs": [],
   "source": [
    "A = np.array([[1,2]\n",
    "            ,[3,4]])\n",
    "B = np.array([[0,1]\n",
    "            ,[1,0]])"
   ]
  },
  {
   "cell_type": "code",
   "execution_count": 12,
   "id": "ada9bb5a",
   "metadata": {},
   "outputs": [
    {
     "data": {
      "text/plain": [
       "array([[ True,  True],\n",
       "       [ True,  True]])"
      ]
     },
     "execution_count": 12,
     "metadata": {},
     "output_type": "execute_result"
    }
   ],
   "source": [
    "# 교환 법칙 확인\n",
    "A * B == B * A"
   ]
  },
  {
   "cell_type": "code",
   "execution_count": 15,
   "id": "7cca414b",
   "metadata": {},
   "outputs": [
    {
     "data": {
      "text/plain": [
       "array([[ 3,  6],\n",
       "       [ 5, 10]])"
      ]
     },
     "execution_count": 15,
     "metadata": {},
     "output_type": "execute_result"
    }
   ],
   "source": [
    "# shape 이 다르면?\n",
    "C = np.array([1,2])\n",
    "D = np.array([[3],[5]])\n",
    "\n",
    "C * D"
   ]
  },
  {
   "cell_type": "code",
   "execution_count": 16,
   "id": "1a07118a",
   "metadata": {},
   "outputs": [
    {
     "ename": "ValueError",
     "evalue": "operands could not be broadcast together with shapes (2,3) (3,2) ",
     "output_type": "error",
     "traceback": [
      "\u001b[1;31m---------------------------------------------------------------------------\u001b[0m",
      "\u001b[1;31mValueError\u001b[0m                                Traceback (most recent call last)",
      "\u001b[1;32m<ipython-input-16-a4520739dbe5>\u001b[0m in \u001b[0;36m<module>\u001b[1;34m\u001b[0m\n\u001b[0;32m      2\u001b[0m \u001b[0mB\u001b[0m \u001b[1;33m=\u001b[0m \u001b[0mnp\u001b[0m\u001b[1;33m.\u001b[0m\u001b[0marange\u001b[0m\u001b[1;33m(\u001b[0m\u001b[1;33m-\u001b[0m\u001b[1;36m5\u001b[0m\u001b[1;33m,\u001b[0m \u001b[1;36m1\u001b[0m\u001b[1;33m)\u001b[0m\u001b[1;33m.\u001b[0m\u001b[0mreshape\u001b[0m\u001b[1;33m(\u001b[0m\u001b[1;36m3\u001b[0m\u001b[1;33m,\u001b[0m\u001b[1;36m2\u001b[0m\u001b[1;33m)\u001b[0m\u001b[1;33m\u001b[0m\u001b[1;33m\u001b[0m\u001b[0m\n\u001b[0;32m      3\u001b[0m \u001b[1;33m\u001b[0m\u001b[0m\n\u001b[1;32m----> 4\u001b[1;33m \u001b[0mA\u001b[0m \u001b[1;33m*\u001b[0m \u001b[0mB\u001b[0m\u001b[1;33m\u001b[0m\u001b[1;33m\u001b[0m\u001b[0m\n\u001b[0m",
      "\u001b[1;31mValueError\u001b[0m: operands could not be broadcast together with shapes (2,3) (3,2) "
     ]
    }
   ],
   "source": [
    "# ValueError\n",
    "A = np.arange(6).reshape(2,3)       \n",
    "B = np.arange(-5, 1).reshape(3,2)\n",
    "\n",
    "A * B"
   ]
  },
  {
   "cell_type": "markdown",
   "id": "a107e4ba",
   "metadata": {},
   "source": [
    "### @, dot() 연산자 / numpy.matmul()\n",
    "\n",
    "- 두 벡터(vector)의 내적, 내적곱, 점곱 등을 계산하는 함수\n",
    "- 행렬곱에서도 사용가능하지만, 그러한 경우 공식문서에서는 numpy.matmul 사용을 권장\n",
    "- 두 행렬의 곱을 numpy.dot으로 계산하려면, 첫 번째 행렬의 열크기(column)와 두번째 행렬의 행크기(row)가 서로 같아야 함\n",
    "\n",
    "**dot()과 matmul()의 차이**\n",
    "- dot는 행렬과 상수(constant)의 곱셈을 가능, matmul은 Error 발생\n",
    "- 3차원 이상의 행렬곱(Tensor multiplication)을 수행할 경우, 결과가 다르다"
   ]
  },
  {
   "cell_type": "code",
   "execution_count": 21,
   "id": "643df1d9",
   "metadata": {},
   "outputs": [
    {
     "name": "stdout",
     "output_type": "stream",
     "text": [
      "[[ -5  -2]\n",
      " [-32 -20]]\n",
      "[[-12 -21 -30]\n",
      " [ -6 -11 -16]\n",
      " [  0  -1  -2]]\n"
     ]
    }
   ],
   "source": [
    "A = np.arange(6).reshape(2,3)\n",
    "B = np.arange(-5, 1).reshape(3,2)\n",
    "\n",
    "print(np.matmul(A, B))\n",
    "print(np.matmul(B, A))"
   ]
  },
  {
   "cell_type": "code",
   "execution_count": 22,
   "id": "93d516dd",
   "metadata": {},
   "outputs": [
    {
     "name": "stdout",
     "output_type": "stream",
     "text": [
      "[[ -5  -2]\n",
      " [-32 -20]]\n",
      "[[-12 -21 -30]\n",
      " [ -6 -11 -16]\n",
      " [  0  -1  -2]]\n"
     ]
    }
   ],
   "source": [
    "print(A.dot(B))\n",
    "print(B.dot(A))"
   ]
  },
  {
   "cell_type": "code",
   "execution_count": 23,
   "id": "01ce2eb9",
   "metadata": {},
   "outputs": [
    {
     "name": "stdout",
     "output_type": "stream",
     "text": [
      "[[ -5  -2]\n",
      " [-32 -20]]\n",
      "[[-12 -21 -30]\n",
      " [ -6 -11 -16]\n",
      " [  0  -1  -2]]\n"
     ]
    }
   ],
   "source": [
    "print(np.dot(A,B))\n",
    "print(np.dot(B,A))"
   ]
  },
  {
   "cell_type": "markdown",
   "id": "5ee75fee",
   "metadata": {},
   "source": [
    "## 전치(transpose)\n",
    "\n",
    "* 전치는 기존 행렬의 행과 열을 교환하는 것, 즉 주대각선을 기준으로 반사 대칭하는 것을 말한다.\n",
    "\n",
    "* 배열 객체의 ‘T’ 속성을 사용한다.\n"
   ]
  },
  {
   "cell_type": "code",
   "execution_count": 26,
   "id": "aecea4ad",
   "metadata": {},
   "outputs": [
    {
     "name": "stdout",
     "output_type": "stream",
     "text": [
      "[[0 1]\n",
      " [2 3]]\n",
      "[[0 2]\n",
      " [1 3]]\n"
     ]
    }
   ],
   "source": [
    "A = np.arange(4).reshape(2,2)\n",
    "\n",
    "B = A.T\n",
    "print(A)\n",
    "print(B)"
   ]
  },
  {
   "cell_type": "code",
   "execution_count": null,
   "id": "e3304bab",
   "metadata": {},
   "outputs": [],
   "source": []
  },
  {
   "cell_type": "markdown",
   "id": "368404fb",
   "metadata": {},
   "source": [
    "- 차원이 1인 배열을 전치할 경우 결과 배열은 원본 배열과 동일하다."
   ]
  },
  {
   "cell_type": "code",
   "execution_count": 31,
   "id": "cb1e90d1",
   "metadata": {},
   "outputs": [
    {
     "name": "stdout",
     "output_type": "stream",
     "text": [
      "[1 2 3 4] 1\n",
      "[1 2 3 4] 1\n"
     ]
    }
   ],
   "source": [
    "A = np.arange(1,5).reshape(2,2)\n",
    "B = A.flatten()\n",
    "print(B, B.ndim)\n",
    "print(B.T, B.T.ndim)"
   ]
  },
  {
   "cell_type": "code",
   "execution_count": null,
   "id": "8be8e6ac",
   "metadata": {
    "scrolled": true
   },
   "outputs": [],
   "source": []
  },
  {
   "cell_type": "markdown",
   "id": "01dcd8d1",
   "metadata": {},
   "source": [
    "* 대부분의 이러한 연산들은 `axis` 매개 변수를 지정하면 배열의 지정된 축을 따라 작업을 적용 할 수 있다."
   ]
  },
  {
   "cell_type": "markdown",
   "id": "1161efed",
   "metadata": {},
   "source": [
    "# axis의 개념\n",
    "\n",
    "## axis 란\n",
    "\n",
    "* NumPy 배열은 다차원 배열을 지원하며 배열의 구조는 \"Shape\"으로 표현된다.\n",
    "* Shape은 배열의 구조를 파이썬 Tuple 자료형으로 정의\n",
    "* 예를 들어 32x32 컬러 사진은 높이가 32, 폭이 32, 픽셀 당 3개 채널(RGB)로 구성된 데이터 구조를 갖게 되므로\n",
    "컬러 사진 데이터는 (32, 32, 3)인 Shape을 갖는다.\n",
    "* 다차원 배열의 데이터 방향을 axis로 표현한다.\n",
    "* axis는 0부터 시작하며 집계(Aggregation) 함수는 배열 데이터의 집계 방향을 지정하는 axis 옵션을 제공\n",
    "\n",
    "<img src=\"./files/images/numpy_axis.png\" width=\"50%\">\n"
   ]
  },
  {
   "cell_type": "markdown",
   "id": "552e7f31",
   "metadata": {},
   "source": [
    "<img src=\"./files/images/numpy_axis2.png\">"
   ]
  },
  {
   "cell_type": "code",
   "execution_count": 33,
   "id": "64445e41",
   "metadata": {},
   "outputs": [],
   "source": [
    "import numpy as np"
   ]
  },
  {
   "cell_type": "code",
   "execution_count": 37,
   "id": "6cfc0136",
   "metadata": {},
   "outputs": [
    {
     "name": "stdout",
     "output_type": "stream",
     "text": [
      "[[ 0  1  2  3]\n",
      " [ 4  5  6  7]\n",
      " [ 8  9 10 11]]\n",
      "전체합계 :  66\n",
      "axis = 0 합계 :  [12 15 18 21]\n",
      "axis = 1 합계 :  [ 6 22 38]\n"
     ]
    }
   ],
   "source": [
    "A = np.arange(12).reshape(3, 4)\n",
    "print(A)\n",
    "\n",
    "print(\"전체합계 : \", A.sum())\n",
    "print(\"axis = 0 합계 : \", A.sum(axis = 0)) # 열의 위치가 같다\n",
    "print(\"axis = 1 합계 : \", A.sum(axis = 1)) # 행의 위치가 같다\n",
    "\n"
   ]
  },
  {
   "cell_type": "code",
   "execution_count": 50,
   "id": "90aff8f0",
   "metadata": {},
   "outputs": [
    {
     "name": "stdout",
     "output_type": "stream",
     "text": [
      "[[[ 0  1  2  3]\n",
      "  [ 4  5  6  7]\n",
      "  [ 8  9 10 11]]\n",
      "\n",
      " [[12 13 14 15]\n",
      "  [16 17 18 19]\n",
      "  [20 21 22 23]]]\n",
      "전체 합계 :  276\n",
      "(2, 3, 4) \n",
      "\n",
      "axis = 0 합계 : \n",
      "[[12 14 16 18]\n",
      " [20 22 24 26]\n",
      " [28 30 32 34]]\n",
      "(3, 4) \n",
      "\n",
      "axis = 1 합계 : \n",
      "[[12 15 18 21]\n",
      " [48 51 54 57]]\n",
      "(2, 4) \n",
      "\n",
      "axis = 2 합계 : \n",
      "[[ 6 22 38]\n",
      " [54 70 86]]\n",
      "(2, 3) \n",
      "\n"
     ]
    }
   ],
   "source": [
    "B = np.arange(24).reshape(2,3,4)\n",
    "print(B)\n",
    "print(\"전체 합계 : \", B.sum())\n",
    "print(B.shape,\"\\n\" )\n",
    "\n",
    "print(\"axis = 0 합계 : \", B.sum(axis = 0), sep=\"\\n\") # 면의 위치가 같은 값들의 합\n",
    "print(B.sum(axis = 0 ).shape, \"\\n\")\n",
    "print(\"axis = 1 합계 : \", B.sum(axis = 1), sep=\"\\n\") # 열의 위치가 같은 값들의 합\n",
    "print(B.sum(axis = 1).shape, \"\\n\")\n",
    "print(\"axis = 2 합계 : \", B.sum(axis = 2), sep=\"\\n\") \n",
    "print(B.sum(axis = 2).shape, \"\\n\")"
   ]
  },
  {
   "cell_type": "markdown",
   "id": "ac4c8493",
   "metadata": {},
   "source": [
    "# 배열의 형태(shape) 변경\n",
    "\n",
    "## numpy.reshape() 혹은 numpy.ndarray.reshape()\n",
    "\n",
    "* 데이터를 변경하지 않고 배열을 새로운 shape로 수정한다."
   ]
  },
  {
   "cell_type": "code",
   "execution_count": null,
   "id": "7b5c6967",
   "metadata": {},
   "outputs": [],
   "source": [
    "# reshape\n",
    "\n"
   ]
  },
  {
   "cell_type": "markdown",
   "id": "4c34e7a7",
   "metadata": {},
   "source": [
    "## numpy.ndarray.resize()\n",
    "\n",
    "* 원본 배열을 새로운 shape로 수정한다."
   ]
  },
  {
   "cell_type": "code",
   "execution_count": null,
   "id": "6dfc04a3",
   "metadata": {},
   "outputs": [],
   "source": [
    "\n",
    "\n"
   ]
  },
  {
   "cell_type": "markdown",
   "id": "5767758e",
   "metadata": {},
   "source": [
    "## numpy.ndarray.flatten()\n",
    "\n",
    "* 배열을 1차원으로 만든다."
   ]
  },
  {
   "cell_type": "code",
   "execution_count": null,
   "id": "01430ec3",
   "metadata": {},
   "outputs": [],
   "source": []
  },
  {
   "cell_type": "markdown",
   "id": "9c98c103",
   "metadata": {},
   "source": [
    "## expand_dim\n",
    "\n",
    "- numpy array의 차원을 늘려 줌"
   ]
  },
  {
   "cell_type": "code",
   "execution_count": null,
   "id": "867c7a01",
   "metadata": {},
   "outputs": [],
   "source": []
  },
  {
   "cell_type": "code",
   "execution_count": null,
   "id": "e53f728f",
   "metadata": {},
   "outputs": [],
   "source": []
  },
  {
   "cell_type": "code",
   "execution_count": null,
   "id": "27c32686",
   "metadata": {},
   "outputs": [],
   "source": []
  },
  {
   "cell_type": "code",
   "execution_count": null,
   "id": "7a778835",
   "metadata": {},
   "outputs": [],
   "source": []
  },
  {
   "cell_type": "markdown",
   "id": "8dde9561",
   "metadata": {},
   "source": [
    "## numpy.concatenate()\n",
    "\n",
    "* 두 개 이상의 배열을 연결한다.\n",
    "* concatenate() 함수를 수행하려면 차원 수가 같아야 한다."
   ]
  },
  {
   "cell_type": "code",
   "execution_count": null,
   "id": "77888e48",
   "metadata": {},
   "outputs": [],
   "source": []
  },
  {
   "cell_type": "code",
   "execution_count": null,
   "id": "1eb2f831",
   "metadata": {},
   "outputs": [],
   "source": []
  },
  {
   "cell_type": "code",
   "execution_count": null,
   "id": "cc1a4c14",
   "metadata": {},
   "outputs": [],
   "source": []
  },
  {
   "cell_type": "markdown",
   "id": "ee1aeecc",
   "metadata": {},
   "source": [
    "* 세 개 이상의 배열을 연결할 수도 있다."
   ]
  },
  {
   "cell_type": "code",
   "execution_count": null,
   "id": "6d526c02",
   "metadata": {},
   "outputs": [],
   "source": [
    "\n"
   ]
  },
  {
   "cell_type": "markdown",
   "id": "d65d63cf",
   "metadata": {},
   "source": [
    "* axis 인수를 설정하여 연결 방향을 정할 수 있다."
   ]
  },
  {
   "cell_type": "code",
   "execution_count": null,
   "id": "f31a4dd4",
   "metadata": {},
   "outputs": [],
   "source": []
  },
  {
   "cell_type": "markdown",
   "id": "6ab10c20",
   "metadata": {},
   "source": [
    "# 인덱싱, 슬라이싱, 반복\n",
    "\n",
    "* **1차원** 배열은 Python list와 같이 인덱싱, 슬라이싱, 반복할 수 있다."
   ]
  },
  {
   "cell_type": "markdown",
   "id": "83be8ab2",
   "metadata": {},
   "source": [
    "## 슬라이싱\n",
    "\n",
    "* 파이썬 리스트와 유사하게, Numpy 배열도 슬라이싱이 가능\n",
    "* Numpy 배열은 다차원인 경우가 많기에, 각 차원별로 어떻게 슬라이스할건지 명확히 해야 한다. \n",
    "* Numpy 배열을 슬라이싱하면, 연속된 값을 가져오기에 결과로 얻어지는 배열은 언제나 원본 배열의 부분 배열\n",
    "\n",
    "**슬라이싱 방법** \n",
    "- `a[행 슬라이싱 시작:행 슬라이싱 끝, 열 슬라이싱 시작:열 슬라이싱 끝]`\n",
    "- **시작값**부터 **끝값** <font color=\"red\">전</font>까지 슬라이싱"
   ]
  },
  {
   "cell_type": "code",
   "execution_count": 62,
   "id": "cd525ce9",
   "metadata": {},
   "outputs": [
    {
     "name": "stdout",
     "output_type": "stream",
     "text": [
      "[[ 1  2  3  4]\n",
      " [ 5  6  7  8]\n",
      " [ 9 10 11 12]]\n",
      "[[1 2 3 4]\n",
      " [5 6 7 8]]\n",
      "[[1 2 3 4]\n",
      " [5 6 7 8]]\n",
      "[[1 2 3 4]\n",
      " [5 6 7 8]]\n",
      "[[ 1  2]\n",
      " [ 5  6]\n",
      " [ 9 10]]\n"
     ]
    }
   ],
   "source": [
    "import numpy as np\n",
    "\n",
    "A = np.arange(1, 13).reshape(3,4)\n",
    "print(A)\n",
    "print(A[0:2, 0:4])\n",
    "print(A[:2, :])\n",
    "print(A[:2])\n",
    "print(A[:,:2])\n",
    "\n"
   ]
  },
  {
   "cell_type": "code",
   "execution_count": 73,
   "id": "f2fa6d62",
   "metadata": {},
   "outputs": [
    {
     "name": "stdout",
     "output_type": "stream",
     "text": [
      "[[ 1  2  3  4  5  6]\n",
      " [ 7  8  9 10 11 12]\n",
      " [13 14 15 16 17 18]\n",
      " [19 20 21 22 23 24]]\n",
      "[[ 8  9 10]\n",
      " [14 15 16]]\n",
      "[[ 8  9 10 11]\n",
      " [14 15 16 17]]\n",
      "[[ 8  9 10 11]\n",
      " [14 15 16 17]]\n",
      "[[  8 999 999  11]\n",
      " [ 14 999 999  17]]\n",
      "[[  1   2   3   4   5   6]\n",
      " [  7   8 999 999  11  12]\n",
      " [ 13  14 999 999  17  18]\n",
      " [ 19  20  21  22  23  24]]\n"
     ]
    }
   ],
   "source": [
    "B = np.arange(1,25).reshape(4, 6)\n",
    "print(B)\n",
    "\n",
    "print(B[1:3, 1:4])\n",
    "print(B[1:-1, 1:-1])\n",
    "\n",
    "copied = B[1:-1, 1:-1]\n",
    "print(copied)\n",
    "\n",
    "copied[:,1:3] = 999\n",
    "\n",
    "print(copied)\n",
    "print(B)"
   ]
  },
  {
   "cell_type": "markdown",
   "id": "92ea6c0f",
   "metadata": {},
   "source": [
    "## 인덱싱"
   ]
  },
  {
   "cell_type": "code",
   "execution_count": 78,
   "id": "25246874",
   "metadata": {},
   "outputs": [
    {
     "name": "stdout",
     "output_type": "stream",
     "text": [
      "[1 2 3 4 5 6]\n",
      "[ 1  7 13 19]\n",
      "[[ 1  2  3  4  5  6]\n",
      " [ 7  8  9 10 11 12]\n",
      " [13 14 15 16 17 18]\n",
      " [19 20 21 22 23 24]]\n"
     ]
    }
   ],
   "source": [
    "C = np.arange(1, 25).reshape(4, 6)\n",
    "row1 = C[0]\n",
    "cols1 = C[:,0]\n",
    "\n",
    "print(row1)\n",
    "print(cols1)\n",
    "\n",
    "cols1 = 44\n",
    "print(C)"
   ]
  },
  {
   "cell_type": "code",
   "execution_count": null,
   "id": "abd636d1",
   "metadata": {},
   "outputs": [],
   "source": []
  },
  {
   "cell_type": "code",
   "execution_count": null,
   "id": "6e318d35",
   "metadata": {},
   "outputs": [],
   "source": []
  },
  {
   "cell_type": "markdown",
   "id": "9b64e928",
   "metadata": {},
   "source": [
    "## 인덱싱 & 슬라이싱 그리고 차원\n",
    "\n",
    "- 정수 인덱싱과 슬라이싱을 혼합해서 사용하면 낮은 차원의 배열이 생성되지만, 슬라이싱만 사용하면 원본 배열과 동일한 차원의 배열이 생성 "
   ]
  },
  {
   "cell_type": "code",
   "execution_count": null,
   "id": "40bb1835",
   "metadata": {},
   "outputs": [],
   "source": []
  },
  {
   "cell_type": "code",
   "execution_count": null,
   "id": "ae6a5c56",
   "metadata": {},
   "outputs": [],
   "source": []
  },
  {
   "cell_type": "markdown",
   "id": "a5a9ccda",
   "metadata": {},
   "source": [
    "## 인덱싱&슬라이싱 - 값 복사&참조\n",
    "\n",
    "- 슬라이싱된 배열은 원본 배열과 같은 데이터를 참조한다.\n",
    "- <font color=\"red\">즉 슬라이싱된 배열을 수정하면 원본 배열 역시 수정.</font>\n",
    "\n",
    "\n",
    "- 인덱싱은 값을 복사하므로 복사된 값을 변경해도 원본의 값은 변하지 않는다.\n",
    "- **특별히 인덱싱을 써야 하는 상황이 아니라면, 인덱싱보다 슬라이싱을 추천**\n"
   ]
  },
  {
   "cell_type": "code",
   "execution_count": null,
   "id": "21f2901e",
   "metadata": {},
   "outputs": [],
   "source": []
  },
  {
   "cell_type": "code",
   "execution_count": null,
   "id": "85231075",
   "metadata": {},
   "outputs": [],
   "source": []
  },
  {
   "cell_type": "markdown",
   "id": "276ee0ba",
   "metadata": {},
   "source": [
    "* **다차원** 배열은 축당 하나의 인덱스를 가질 수 있다. 각 축에 대해 인덱싱, 슬라이싱을 차례로 적용할 수 있다."
   ]
  },
  {
   "cell_type": "code",
   "execution_count": null,
   "id": "dd6fba5b",
   "metadata": {},
   "outputs": [],
   "source": []
  },
  {
   "cell_type": "markdown",
   "id": "13adacbd",
   "metadata": {},
   "source": [
    "* 축 수보다 적은 수의 인덱스를 제공한 경우, 생략된 인덱스는  전 범위에 대한 슬라이스(`:`)로 간주된다."
   ]
  },
  {
   "cell_type": "code",
   "execution_count": null,
   "id": "9cacfd86",
   "metadata": {},
   "outputs": [],
   "source": []
  },
  {
   "cell_type": "markdown",
   "id": "abc26e2f",
   "metadata": {},
   "source": [
    "* 다차원 배열에 대한 **반복**은 첫 번째 축과 관련하여 수행된다."
   ]
  },
  {
   "cell_type": "code",
   "execution_count": 80,
   "id": "06f45ace",
   "metadata": {},
   "outputs": [
    {
     "name": "stdout",
     "output_type": "stream",
     "text": [
      "[0 1 2 3]\n",
      "[4 5 6 7]\n",
      "[ 8  9 10 11]\n",
      "[12 13 14 15]\n",
      "0\t1\t2\t3\t\n",
      "4\t5\t6\t7\t\n",
      "8\t9\t10\t11\t\n",
      "12\t13\t14\t15\t\n"
     ]
    }
   ],
   "source": [
    "D = np.arange(16).reshape(4,4)\n",
    "\n",
    "for row in D:\n",
    "    print(row)\n",
    "    \n",
    "for i in D:\n",
    "    for j in i:\n",
    "        print(j, end=\"\\t\")\n",
    "    print()"
   ]
  },
  {
   "cell_type": "markdown",
   "id": "396c4260",
   "metadata": {},
   "source": [
    "* `flat` 속성을 이용하면 모든 요소에 대해 반복을 수행할 수 있다."
   ]
  },
  {
   "cell_type": "code",
   "execution_count": 81,
   "id": "2c443c0b",
   "metadata": {
    "scrolled": true
   },
   "outputs": [
    {
     "name": "stdout",
     "output_type": "stream",
     "text": [
      "0\n",
      "1\n",
      "2\n",
      "3\n",
      "4\n",
      "5\n",
      "6\n",
      "7\n",
      "8\n",
      "9\n",
      "10\n",
      "11\n",
      "12\n",
      "13\n",
      "14\n",
      "15\n"
     ]
    }
   ],
   "source": [
    "for i in D.flat:\n",
    "    print(i)"
   ]
  },
  {
   "cell_type": "markdown",
   "id": "05ae28ae",
   "metadata": {},
   "source": [
    "# Boolean Indexing"
   ]
  },
  {
   "cell_type": "code",
   "execution_count": 90,
   "id": "2f270e4f",
   "metadata": {},
   "outputs": [
    {
     "name": "stdout",
     "output_type": "stream",
     "text": [
      "[[ 1  2  3  4  5  6]\n",
      " [ 7  8  9 10 11 12]\n",
      " [13 14 15 16 17 18]\n",
      " [19 20 21 22 23 24]]\n",
      "[[False  True False  True False  True]\n",
      " [False  True False  True False  True]\n",
      " [False  True False  True False  True]\n",
      " [False  True False  True False  True]]\n",
      "[ 2  4  6  8 10 12 14 16 18 20 22 24]\n"
     ]
    }
   ],
   "source": [
    "import numpy as np\n",
    "\n",
    "A = np.arange(1, 25).reshape(4, 6)\n",
    "print(A)\n",
    "\n",
    "even_arr = A % 2 == 0\n",
    "print(even_arr)\n",
    "\n",
    "temp = A[even_arr]\n",
    "print(A[A%2==0])"
   ]
  },
  {
   "cell_type": "code",
   "execution_count": 98,
   "id": "883c212a",
   "metadata": {},
   "outputs": [
    {
     "name": "stdout",
     "output_type": "stream",
     "text": [
      "[ 6. 34.  7.  8. 37.]\n",
      "[99. 34.  7.  8. 37.]\n",
      "[ 1.  4.  6. -1. 34.  7.  8. 37.  5.]\n"
     ]
    }
   ],
   "source": [
    "ary = np.array([1, 4, 6, -1, 34, 7, 8, 37, 5], float)\n",
    "ary[ary > 7]\n",
    "\n",
    "temp = ary[ary>5]\n",
    "print(temp)\n",
    "temp[0] = 99\n",
    "\n",
    "print(temp)\n",
    "print(ary)"
   ]
  },
  {
   "cell_type": "markdown",
   "id": "88f54668",
   "metadata": {},
   "source": [
    "# Fancy Indexing"
   ]
  },
  {
   "cell_type": "code",
   "execution_count": 108,
   "id": "c920ec01",
   "metadata": {},
   "outputs": [
    {
     "name": "stdout",
     "output_type": "stream",
     "text": [
      "[[ 0  1  2]\n",
      " [ 3  4  5]\n",
      " [ 6  7  8]\n",
      " [ 9 10 11]\n",
      " [12 13 14]]\n",
      "[[0 1 2]\n",
      " [3 4 5]]\n",
      "[[10  1  2]\n",
      " [ 3  4  5]\n",
      " [ 6  7  8]\n",
      " [ 9 10 11]\n",
      " [12 13 14]]\n",
      "[[10  1  2]\n",
      " [ 6  7  8]]\n",
      "[[20  1  2]\n",
      " [ 6  7  8]]\n",
      "[[10  1  2]\n",
      " [ 3  4  5]\n",
      " [ 6  7  8]\n",
      " [ 9 10 11]\n",
      " [12 13 14]]\n"
     ]
    }
   ],
   "source": [
    "arr = np.arange(15).reshape(5, 3)\n",
    "print(arr)\n",
    "t1 = arr[0:2, :]\n",
    "print(t1)\n",
    "\n",
    "t1[0,0] = 10\n",
    "print(arr)\n",
    "\n",
    "t2 = arr[[0, 2], :]\n",
    "print(t2)\n",
    "\n",
    "t2[0, 0] = 20\n",
    "print(t2)\n",
    "print(arr)"
   ]
  },
  {
   "cell_type": "markdown",
   "id": "08c1e9d4",
   "metadata": {},
   "source": [
    "# [ 연습 문제 ] 성적 처리"
   ]
  },
  {
   "cell_type": "markdown",
   "id": "14451f30",
   "metadata": {},
   "source": [
    "## [ 문제 1 ] score.csv 파일을 읽어 data 변수에 저장"
   ]
  },
  {
   "cell_type": "code",
   "execution_count": 1,
   "id": "17dbe7c7",
   "metadata": {},
   "outputs": [
    {
     "name": "stdout",
     "output_type": "stream",
     "text": [
      "[[  1.  85.  96.  75.  77.  89.]\n",
      " [  2.  89.  85.  74.  76.  56.]\n",
      " [  3.  90.  63.  95.  75.  99.]\n",
      " [  4. 100.  45.  89.  78.  88.]\n",
      " [  5.  63.  56.  99.  90.  85.]\n",
      " [  6.  75.  65.  78.  89.  24.]\n",
      " [  7.  56.  78.  12.  36.  98.]\n",
      " [  8.  85.  77.  45.  63.  89.]\n",
      " [  9.  55.  74.  89.  54.  69.]\n",
      " [ 10.  98.  71.  75.  86.  77.]]\n"
     ]
    }
   ],
   "source": [
    "import numpy as np\n",
    "\n",
    "data = np.loadtxt(\"./files/data/score.csv\", delimiter=\",\", dtype = float)\n",
    "print(data)"
   ]
  },
  {
   "cell_type": "markdown",
   "id": "2b19e593",
   "metadata": {},
   "source": [
    "## [ 문제 2 ] data중에서 학생들의 번호 추출\n",
    "- 추출한 변수를 std_id라는 변수에 대입하고 정수형 타입으로 변환"
   ]
  },
  {
   "cell_type": "code",
   "execution_count": 3,
   "id": "bdc2c4ec",
   "metadata": {},
   "outputs": [
    {
     "name": "stdout",
     "output_type": "stream",
     "text": [
      "[1, 2, 3, 4, 5, 6, 7, 8, 9, 10]\n"
     ]
    }
   ],
   "source": [
    "std_id = [int(i[0]) for i in data]\n",
    "print(std_id)"
   ]
  },
  {
   "cell_type": "code",
   "execution_count": 3,
   "id": "d91955a2",
   "metadata": {},
   "outputs": [
    {
     "data": {
      "text/plain": [
       "array([[ 1],\n",
       "       [ 2],\n",
       "       [ 3],\n",
       "       [ 4],\n",
       "       [ 5],\n",
       "       [ 6],\n",
       "       [ 7],\n",
       "       [ 8],\n",
       "       [ 9],\n",
       "       [10]])"
      ]
     },
     "execution_count": 3,
     "metadata": {},
     "output_type": "execute_result"
    }
   ],
   "source": [
    "std_id = data[:, :1]\n",
    "std_id = std_id.astype(int)\n",
    "print(std_id)"
   ]
  },
  {
   "cell_type": "markdown",
   "id": "5696597c",
   "metadata": {},
   "source": [
    "## [ 문제 3 ] 학생의 점수만 추출\n",
    "- 학생의 점수만 추출하여 std_score 라는 변수에 대입"
   ]
  },
  {
   "cell_type": "code",
   "execution_count": 6,
   "id": "e77b0300",
   "metadata": {},
   "outputs": [
    {
     "name": "stdout",
     "output_type": "stream",
     "text": [
      "[[ 85.  96.  75.  77.  89.]\n",
      " [ 89.  85.  74.  76.  56.]\n",
      " [ 90.  63.  95.  75.  99.]\n",
      " [100.  45.  89.  78.  88.]\n",
      " [ 63.  56.  99.  90.  85.]\n",
      " [ 75.  65.  78.  89.  24.]\n",
      " [ 56.  78.  12.  36.  98.]\n",
      " [ 85.  77.  45.  63.  89.]\n",
      " [ 55.  74.  89.  54.  69.]\n",
      " [ 98.  71.  75.  86.  77.]]\n"
     ]
    }
   ],
   "source": [
    "std_score = data[:,1:]\n",
    "print(std_score)"
   ]
  },
  {
   "cell_type": "code",
   "execution_count": 4,
   "id": "15b3fdad",
   "metadata": {},
   "outputs": [
    {
     "name": "stdout",
     "output_type": "stream",
     "text": [
      "[[ 85.  96.  75.  77.  89.]\n",
      " [ 89.  85.  74.  76.  56.]\n",
      " [ 90.  63.  95.  75.  99.]\n",
      " [100.  45.  89.  78.  88.]\n",
      " [ 63.  56.  99.  90.  85.]\n",
      " [ 75.  65.  78.  89.  24.]\n",
      " [ 56.  78.  12.  36.  98.]\n",
      " [ 85.  77.  45.  63.  89.]\n",
      " [ 55.  74.  89.  54.  69.]\n",
      " [ 98.  71.  75.  86.  77.]]\n"
     ]
    }
   ],
   "source": [
    "std_score = data[:, 1:]\n",
    "print(std_score)"
   ]
  },
  {
   "cell_type": "markdown",
   "id": "35e3fdf9",
   "metadata": {},
   "source": [
    "## [ 문제 4 ] 각 과목별 최고, 최저, 평균 점수 구하기\n",
    "- Dictionary으로 출력\n",
    "- 예 ) 과목별 최고 점수 : {\"1과목\": 100.0 , ...} 이런식"
   ]
  },
  {
   "cell_type": "code",
   "execution_count": 11,
   "id": "539c6315",
   "metadata": {},
   "outputs": [
    {
     "name": "stdout",
     "output_type": "stream",
     "text": [
      "[100.  96.  99.  90.  99.]\n",
      "과목별 최대 점수\n",
      "{'1과목': 100.0, '2과목': 96.0, '3과목': 99.0, '4과목': 90.0, '5과목': 99.0}\n",
      "과목별 최소 점수\n",
      "{'1과목': 55.0, '2과목': 45.0, '3과목': 12.0, '4과목': 36.0, '5과목': 24.0}\n",
      "과목별 평균 점수\n",
      "{'1과목': 79.6, '2과목': 71.0, '3과목': 73.1, '4과목': 72.4, '5과목': 77.4}\n"
     ]
    }
   ],
   "source": [
    "sub_max = dict()\n",
    "sub_min = dict()\n",
    "sub_avg = dict()\n",
    "\n",
    "for i in range(1,6):\n",
    "    sub_max[\"%d과목\"%(i)] = std_score.max(axis = 0)[i-1]\n",
    "    sub_min[\"%d과목\"%(i)] = std_score.min(axis = 0)[i-1]\n",
    "    sub_avg[\"%d과목\"%(i)] = std_score.mean(axis = 0)[i-1]\n",
    "\n",
    "print(\"과목별 최대 점수\", sub_max, sep=\"\\n\")\n",
    "print(\"과목별 최소 점수\", sub_min, sep=\"\\n\")\n",
    "print(\"과목별 평균 점수\", sub_avg, sep=\"\\n\")"
   ]
  },
  {
   "cell_type": "code",
   "execution_count": 16,
   "id": "61847729",
   "metadata": {},
   "outputs": [
    {
     "name": "stdout",
     "output_type": "stream",
     "text": [
      "과목별 최대 점수\n",
      "1과목 : 100.0\n",
      "2과목 : 96.0\n",
      "3과목 : 99.0\n",
      "4과목 : 90.0\n",
      "5과목 : 99.0\n",
      "\n",
      "과목별 최소 점수\n",
      "1과목 : 55.0\n",
      "2과목 : 45.0\n",
      "3과목 : 12.0\n",
      "4과목 : 36.0\n",
      "5과목 : 24.0\n",
      "\n",
      "과목별 평균 점수\n",
      "1과목 : 79.6\n",
      "2과목 : 71.0\n",
      "3과목 : 73.1\n",
      "4과목 : 72.4\n",
      "5과목 : 77.4\n"
     ]
    }
   ],
   "source": [
    "print(\"과목별 최대 점수\")\n",
    "for k,v in sub_max.items():\n",
    "    print(k, v, sep= \" : \")\n",
    "print(\"\\n과목별 최소 점수\")\n",
    "for k,v in sub_min.items():\n",
    "    print(k, v, sep= \" : \")\n",
    "print(\"\\n과목별 평균 점수\")\n",
    "for k,v in sub_avg.items():\n",
    "    print(k, v, sep= \" : \")"
   ]
  },
  {
   "cell_type": "code",
   "execution_count": 19,
   "id": "f2ca99fd",
   "metadata": {},
   "outputs": [
    {
     "name": "stdout",
     "output_type": "stream",
     "text": [
      "**과목별 최고 점수**\n",
      "{'1과목': 100.0, '2과목': 96.0, '3과목': 99.0, '4과목': 90.0, '5과목': 99.0}\n",
      "**과목별 최저 점수**\n",
      "{'1과목': 55.0, '2과목': 45.0, '3과목': 12.0, '4과목': 36.0, '5과목': 24.0}\n",
      "**과목별 평균 점수**\n",
      "{'1과목': 79.6, '2과목': 71.0, '3과목': 73.1, '4과목': 72.4, '5과목': 77.4}\n"
     ]
    }
   ],
   "source": [
    "tmp1 = np.max(std_score, axis = 0)\n",
    "tmp2 = np.min(std_score, axis = 0)\n",
    "tmp3 = np.mean(std_score, axis = 0)\n",
    "\n",
    "print(\"**과목별 최고 점수**\")\n",
    "score_max = {str(i+1)+\"과목\": s for i,s in enumerate(tmp1)}\n",
    "print(score_max)\n",
    "\n",
    "print(\"**과목별 최저 점수**\")\n",
    "score_min = {str(i+1)+\"과목\": s for i,s in enumerate(tmp2)}\n",
    "print(score_min)\n",
    "\n",
    "print(\"**과목별 평균 점수**\")\n",
    "score_avg = {str(i+1)+\"과목\": s for i,s in enumerate(tmp3)}\n",
    "print(score_avg)\n",
    "\n",
    "\n"
   ]
  },
  {
   "cell_type": "markdown",
   "id": "02ecf475",
   "metadata": {},
   "source": [
    "## [ 문제 5 ] 각 학생별 최고, 최저, 평균 점수 구하기"
   ]
  },
  {
   "cell_type": "code",
   "execution_count": 15,
   "id": "f292f05d",
   "metadata": {},
   "outputs": [
    {
     "name": "stdout",
     "output_type": "stream",
     "text": [
      "학생별 최대 점수\n",
      "{'1번': 96.0, '2번': 89.0, '3번': 99.0, '4번': 100.0, '5번': 99.0, '6번': 89.0, '7번': 98.0, '8번': 89.0, '9번': 89.0, '10번': 98.0}\n",
      "학생별 최소 점수\n",
      "{'1번': 75.0, '2번': 56.0, '3번': 63.0, '4번': 45.0, '5번': 56.0, '6번': 24.0, '7번': 12.0, '8번': 45.0, '9번': 54.0, '10번': 71.0}\n",
      "학생별 평균 점수\n",
      "{'1번': 84.4, '2번': 76.0, '3번': 84.4, '4번': 80.0, '5번': 78.6, '6번': 66.2, '7번': 56.0, '8번': 71.8, '9번': 68.2, '10번': 81.4}\n"
     ]
    }
   ],
   "source": [
    "stu_max = dict()\n",
    "stu_min = dict()\n",
    "stu_avg = dict()\n",
    "\n",
    "for i in std_id:\n",
    "    stu_max[\"%d번\"%(i)] = std_score.max(axis = 1)[i-1]\n",
    "    stu_min[\"%d번\"%(i)] = std_score.min(axis = 1)[i-1]\n",
    "    stu_avg[\"%d번\"%(i)] = std_score.mean(axis = 1)[i-1]\n",
    "\n",
    "print(\"학생별 최대 점수\", stu_max, sep=\"\\n\")\n",
    "print(\"학생별 최소 점수\", stu_min, sep=\"\\n\")\n",
    "print(\"학생별 평균 점수\", stu_avg, sep=\"\\n\")"
   ]
  },
  {
   "cell_type": "code",
   "execution_count": 17,
   "id": "78612e45",
   "metadata": {},
   "outputs": [
    {
     "name": "stdout",
     "output_type": "stream",
     "text": [
      "학생 최대 점수\n",
      "1번 : 96.0\n",
      "2번 : 89.0\n",
      "3번 : 99.0\n",
      "4번 : 100.0\n",
      "5번 : 99.0\n",
      "6번 : 89.0\n",
      "7번 : 98.0\n",
      "8번 : 89.0\n",
      "9번 : 89.0\n",
      "10번 : 98.0\n",
      "\n",
      "학생별 최소 점수\n",
      "1번 : 75.0\n",
      "2번 : 56.0\n",
      "3번 : 63.0\n",
      "4번 : 45.0\n",
      "5번 : 56.0\n",
      "6번 : 24.0\n",
      "7번 : 12.0\n",
      "8번 : 45.0\n",
      "9번 : 54.0\n",
      "10번 : 71.0\n",
      "\n",
      "학생별 평균 점수\n",
      "1번 : 84.4\n",
      "2번 : 76.0\n",
      "3번 : 84.4\n",
      "4번 : 80.0\n",
      "5번 : 78.6\n",
      "6번 : 66.2\n",
      "7번 : 56.0\n",
      "8번 : 71.8\n",
      "9번 : 68.2\n",
      "10번 : 81.4\n"
     ]
    }
   ],
   "source": [
    "print(\"학생 최대 점수\")\n",
    "for k,v in stu_max.items():\n",
    "    print(k, v, sep= \" : \")\n",
    "print(\"\\n학생별 최소 점수\")\n",
    "for k,v in stu_min.items():\n",
    "    print(k, v, sep= \" : \")\n",
    "print(\"\\n학생별 평균 점수\")\n",
    "for k,v in stu_avg.items():\n",
    "    print(k, v, sep= \" : \")"
   ]
  },
  {
   "cell_type": "code",
   "execution_count": 18,
   "id": "8659f595",
   "metadata": {},
   "outputs": [
    {
     "name": "stdout",
     "output_type": "stream",
     "text": [
      "**학생별 최고 점수**\n",
      "{'1번 학생': 96.0, '2번 학생': 89.0, '3번 학생': 99.0, '4번 학생': 100.0, '5번 학생': 99.0, '6번 학생': 89.0, '7번 학생': 98.0, '8번 학생': 89.0, '9번 학생': 89.0, '10번 학생': 98.0}\n",
      "**학생별 최저 점수**\n",
      "{'1번 학생': 75.0, '2번 학생': 56.0, '3번 학생': 63.0, '4번 학생': 45.0, '5번 학생': 56.0, '6번 학생': 24.0, '7번 학생': 12.0, '8번 학생': 45.0, '9번 학생': 54.0, '10번 학생': 71.0}\n",
      "**학생별 평균 점수**\n",
      "{'1번 학생': 84.4, '2번 학생': 76.0, '3번 학생': 84.4, '4번 학생': 80.0, '5번 학생': 78.6, '6번 학생': 66.2, '7번 학생': 56.0, '8번 학생': 71.8, '9번 학생': 68.2, '10번 학생': 81.4}\n"
     ]
    }
   ],
   "source": [
    "tmp4 = np.max(std_score, axis = 1)\n",
    "tmp5 = np.min(std_score, axis = 1)\n",
    "tmp6 = np.mean(std_score, axis = 1)\n",
    "\n",
    "print(\"**학생별 최고 점수**\")\n",
    "std_max = {str(i+1)+\"번 학생\": s for i,s in enumerate(tmp4)}\n",
    "print(std_max)\n",
    "\n",
    "print(\"**학생별 최저 점수**\")\n",
    "std_min = {str(i+1)+\"번 학생\": s for i,s in enumerate(tmp5)}\n",
    "print(std_min)\n",
    "\n",
    "print(\"**학생별 평균 점수**\")\n",
    "std_avg = {str(i+1)+\"번 학생\": s for i,s in enumerate(tmp6)}\n",
    "print(std_avg)"
   ]
  },
  {
   "cell_type": "markdown",
   "id": "0f43b570",
   "metadata": {},
   "source": [
    "# [ 문제 6 ] 과목별 평균점수 보다 낮은 점수를 받은 학생의 수를 출력!"
   ]
  },
  {
   "cell_type": "code",
   "execution_count": 25,
   "id": "f2646bf6",
   "metadata": {},
   "outputs": [
    {
     "name": "stdout",
     "output_type": "stream",
     "text": [
      "[4 4 2 3 4]\n"
     ]
    }
   ],
   "source": [
    "std_cnt = (std_score < tmp3).sum(axis = 0)\n",
    "\n",
    "print(std_cnt)"
   ]
  },
  {
   "cell_type": "markdown",
   "id": "e347ebb2",
   "metadata": {},
   "source": [
    "# [ 문제 7 ] 시각화 하기"
   ]
  },
  {
   "cell_type": "code",
   "execution_count": 56,
   "id": "2eda8b4a",
   "metadata": {},
   "outputs": [
    {
     "data": {
      "image/png": "[encoded data removed]",
      "text/plain": [
       "<Figure size 720x432 with 1 Axes>"
      ]
     },
     "metadata": {
      "needs_background": "light"
     },
     "output_type": "display_data"
    }
   ],
   "source": [
    "import numpy as np\n",
    "import matplotlib.pyplot as plt\n",
    "import matplotlib as mpl\n",
    "\n",
    "# 그래프 내에 한글을 사용하기 위해 처리\n",
    "mpl.rc('font', family='Malgun Gothic')\n",
    "\n",
    "\n",
    "x_label = std_id.flatten().tolist() # x 축 눈금\n",
    "score_sub1 = std_score[:, :1].flatten() # 과목1 점수\n",
    "\n",
    "# plt.plot(x_label, score_sub1, linestyle='--', marker='o', label=\"sub1\")\n",
    "plt.figure(figsize=(10,6))\n",
    "plt.bar(x_label, score_sub1, label=\"1과목\")\n",
    "plt.plot(x_label, tmp6, linestyle='--', marker='o', label=\"평균\", color='#cccccc')\n",
    "plt.legend()\n",
    "plt.title('1차 역량 평가', fontsize=20)\n",
    "plt.xticks(std_id)\n",
    "plt.xlabel('학생 ID')\n",
    "plt.ylabel('점수')\n",
    "# plt.yticks(range(0,100,20))\n",
    "\n",
    "plt.show()"
   ]
  },
  {
   "cell_type": "markdown",
   "id": "b0c04e0b",
   "metadata": {},
   "source": [
    "# Broadcasting"
   ]
  },
  {
   "cell_type": "markdown",
   "id": "2116eb73",
   "metadata": {},
   "source": [
    "- shape이 다른 NumPy 배열이 연산을 하려고 할 때 특정조건이 만족되면 자동으로 연산이 가능한 형태로 변환하는 것\n",
    "- NumPy에서 vector나 matrix간에 사칙연산을 하면, 같은 위치의 원소끼리 계산이 이뤄지며 \n",
    "- 이렇게 되려면 계산하려는 vector나 matrix가 형태가 같아야 하는데, 이때 shape이 맞춰지는 것을 broadcasting이라고 한다.\n",
    "\n",
    "\n",
    "![title](http://www.astroml.org/_images/fig_broadcast_visual_1.png)\n"
   ]
  },
  {
   "cell_type": "code",
   "execution_count": 64,
   "id": "baed301d",
   "metadata": {},
   "outputs": [
    {
     "name": "stdout",
     "output_type": "stream",
     "text": [
      "[[1 2 3]\n",
      " [4 5 6]\n",
      " [7 8 9]]\n",
      "[[ 3  4  5]\n",
      " [ 6  7  8]\n",
      " [ 9 10 11]]\n"
     ]
    }
   ],
   "source": [
    "import numpy as np\n",
    "\n",
    "# 산술연산\n",
    "A = np.array([2,3,4,5])\n",
    "B = np.arange(10, 30, 5)\n",
    "\n",
    "A*2\n",
    "[1,2,3]*2\n",
    "\n",
    "# Broadcasting\n",
    "C = np.arange(1, 10).reshape(3, 3)\n",
    "print(C)\n",
    "print(C+2)"
   ]
  },
  {
   "cell_type": "code",
   "execution_count": null,
   "id": "01f5f7bf",
   "metadata": {},
   "outputs": [],
   "source": []
  },
  {
   "cell_type": "markdown",
   "id": "8d89a6a5",
   "metadata": {},
   "source": [
    "# Filtering"
   ]
  },
  {
   "cell_type": "code",
   "execution_count": 74,
   "id": "68e860da",
   "metadata": {},
   "outputs": [
    {
     "name": "stdout",
     "output_type": "stream",
     "text": [
      "[1 2 3 4 5 6 7 8 9]\n",
      "[1 2 0 1 2 0 1 2 0]\n",
      "[2 3 1 2 3 1 2 3 1]\n",
      "[5 6 7 8 9]\n",
      "[3 6 9]\n"
     ]
    },
    {
     "data": {
      "text/plain": [
       "array([1, 2, 0, 1, 2, 0, 1, 2, 0], dtype=int32)"
      ]
     },
     "execution_count": 74,
     "metadata": {},
     "output_type": "execute_result"
    }
   ],
   "source": [
    "import numpy as np\n",
    "\n",
    "A = np.arange(1, 10)\n",
    "print(A)\n",
    "print(A % 3)\n",
    "print(A[A % 3])\n",
    "print(A[A > 4])\n",
    "print(A[A % 3 == 0])\n",
    "\n",
    "A % 3\n"
   ]
  },
  {
   "cell_type": "code",
   "execution_count": 72,
   "id": "4dfbf6aa",
   "metadata": {},
   "outputs": [
    {
     "data": {
      "text/plain": [
       "array([1, 2, 4])"
      ]
     },
     "execution_count": 72,
     "metadata": {},
     "output_type": "execute_result"
    }
   ],
   "source": [
    "B = np.array([1, 2, 3, 4, 5])\n",
    "C = np.array([0, 1, 3, 0, 5])\n",
    "\n",
    "B == C\n",
    "\n",
    "B[B != C]"
   ]
  },
  {
   "cell_type": "code",
   "execution_count": 87,
   "id": "f5786ec5",
   "metadata": {},
   "outputs": [
    {
     "name": "stdout",
     "output_type": "stream",
     "text": [
      "[2 1 0 0 1 2 0 1 2 0]\n",
      "[0 1 2 2 1 0 2 1 0 2]\n"
     ]
    }
   ],
   "source": [
    "D = np.array([2,1,0,3,4,5,6,7,8,9])\n",
    "D % 3\n",
    "print(D%3)\n",
    "print(D[D%3])"
   ]
  },
  {
   "cell_type": "markdown",
   "id": "4faef7c2",
   "metadata": {},
   "source": [
    "# Random \n",
    "- random 모듈을 사용하여, 배열 생성\n",
    "\n",
    "## normal() : 정규분포"
   ]
  },
  {
   "cell_type": "code",
   "execution_count": 75,
   "id": "8277aece",
   "metadata": {},
   "outputs": [],
   "source": [
    "import numpy as np\n",
    "import matplotlib.pyplot as plt"
   ]
  },
  {
   "cell_type": "code",
   "execution_count": 83,
   "id": "4c9faff3",
   "metadata": {},
   "outputs": [
    {
     "name": "stdout",
     "output_type": "stream",
     "text": [
      "-1.0162151894413671\n",
      "6.109609446147998\n",
      "[[ 0.9301147   0.1398158  -0.9190598   0.38421116]\n",
      " [ 1.33323431  1.51283747 -0.55699903 -2.36691677]\n",
      " [-0.13525041 -1.25725682  0.31273621  0.06185589]]\n"
     ]
    }
   ],
   "source": [
    "a = np.random.normal()\n",
    "print(a)\n",
    "\n",
    "b = np.random.normal(5)\n",
    "print(b)\n",
    "\n",
    "c = np.random.normal(size=(3,4))\n",
    "print(c)"
   ]
  },
  {
   "cell_type": "markdown",
   "id": "c5972a05",
   "metadata": {},
   "source": [
    "### np.random.seed(seed=n)"
   ]
  },
  {
   "cell_type": "code",
   "execution_count": 94,
   "id": "9361de44",
   "metadata": {},
   "outputs": [
    {
     "data": {
      "image/png": "[encoded data removed]",
      "text/plain": [
       "<Figure size 432x288 with 1 Axes>"
      ]
     },
     "metadata": {
      "needs_background": "light"
     },
     "output_type": "display_data"
    }
   ],
   "source": [
    "np.random.seed(seed = 5)\n",
    "\n",
    "d = np.random.normal(loc=0, scale=3, size = 1000000)\n",
    "plt.hist(d, bins=100)\n",
    "plt.show()"
   ]
  },
  {
   "cell_type": "code",
   "execution_count": 96,
   "id": "9f4722d3",
   "metadata": {},
   "outputs": [
    {
     "data": {
      "text/plain": [
       "array([[-0.27407666, -0.80252845, -1.06733079, -0.68395179],\n",
       "       [-1.60278754, -0.40219312, -0.68322937, -0.88797981]])"
      ]
     },
     "execution_count": 96,
     "metadata": {},
     "output_type": "execute_result"
    }
   ],
   "source": [
    "e = np.random.randn(2,4)\n",
    "e"
   ]
  },
  {
   "cell_type": "markdown",
   "id": "05170248",
   "metadata": {},
   "source": [
    "## 균등 분포\n",
    "\n",
    "### np.random.random"
   ]
  },
  {
   "cell_type": "code",
   "execution_count": 100,
   "id": "36bd908a",
   "metadata": {},
   "outputs": [
    {
     "data": {
      "text/plain": [
       "array([[0.64713043, 0.34525781, 0.21408718],\n",
       "       [0.78251465, 0.3883507 , 0.03547221]])"
      ]
     },
     "execution_count": 100,
     "metadata": {},
     "output_type": "execute_result"
    }
   ],
   "source": [
    "a = np.random.random((2,3))\n",
    "a"
   ]
  },
  {
   "cell_type": "code",
   "execution_count": 101,
   "id": "373b8e80",
   "metadata": {},
   "outputs": [
    {
     "data": {
      "image/png": "[encoded data removed]",
      "text/plain": [
       "<Figure size 432x288 with 1 Axes>"
      ]
     },
     "metadata": {
      "needs_background": "light"
     },
     "output_type": "display_data"
    }
   ],
   "source": [
    "b = np.random.random(1000000)\n",
    "plt.hist(b, bins = 100)\n",
    "plt.show()"
   ]
  },
  {
   "cell_type": "code",
   "execution_count": 143,
   "id": "918cfe90",
   "metadata": {},
   "outputs": [
    {
     "name": "stdout",
     "output_type": "stream",
     "text": [
      "2\n",
      "8\n",
      "[5 8 6 9 5 5]\n",
      "[[72 36 15 11 79]\n",
      " [40  6 25 34 47]\n",
      " [80 10 44 27 98]\n",
      " [95 49 24 15  8]\n",
      " [45 90 81 12 96]]\n"
     ]
    }
   ],
   "source": [
    "a = np.random.randint(3)\n",
    "print(a)\n",
    "\n",
    "b = np.random.randint(3, 10)\n",
    "print(b)\n",
    "\n",
    "c = np.random.randint(3, 10, 6)\n",
    "print(c)\n",
    "\n",
    "d = np.random.randint(0, 100, (5,5))\n",
    "print(d)"
   ]
  }
 ],
 "metadata": {
  "kernelspec": {
   "display_name": "Python 3",
   "language": "python",
   "name": "python3"
  },
  "language_info": {
   "codemirror_mode": {
    "name": "ipython",
    "version": 3
   },
   "file_extension": ".py",
   "mimetype": "text/x-python",
   "name": "python",
   "nbconvert_exporter": "python",
   "pygments_lexer": "ipython3",
   "version": "3.8.8"
  },
  "toc": {
   "base_numbering": 1,
   "nav_menu": {},
   "number_sections": true,
   "sideBar": true,
   "skip_h1_title": false,
   "title_cell": "Table of Contents",
   "title_sidebar": "Contents",
   "toc_cell": false,
   "toc_position": {
    "height": "calc(100% - 180px)",
    "left": "10px",
    "top": "150px",
    "width": "351px"
   },
   "toc_section_display": false,
   "toc_window_display": false
  }
 },
 "nbformat": 4,
 "nbformat_minor": 5
}
