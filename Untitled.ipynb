{
 "cells": [
  {
   "cell_type": "markdown",
   "id": "80639abc",
   "metadata": {},
   "source": [
    "# [ 2839 ] \n",
    "Mirko works in a sugar factory as a delivery boy. He has just received an order: he has to deliver exactly N kilograms of sugar to a candy store on the Adriatic coast. Mirko can use two types of packages, the ones that contain 3 kilograms, and the ones with 5 kilograms of sugar.\n",
    "\n",
    "Mirko would like to take as few packages as possible. For example, if he has to deliver 18 kilograms of sugar, he could use six 3-kilogram packages. But, it would be better to use three 5-kilogram packages, and one 3-kilogram package, resulting in the total of four packages.\n",
    "\n",
    "Help Mirko by finding the minimum number of packages required to transport exactly N kilograms of sugar."
   ]
  },
  {
   "cell_type": "code",
   "execution_count": null,
   "id": "1f45659f",
   "metadata": {},
   "outputs": [],
   "source": [
    "weight = int(input())\n",
    "if weight % 5 == 0:\n",
    "    print(weight//5)\n",
    "elif weight % 5 == 1 and weight >= 6:\n",
    "    print(weight//5 + 1)\n",
    "elif weight % 5 == 2 and weight >= 12:\n",
    "    print(weight//5 + 2)\n",
    "elif weight % 5 == 3 and weight >= 3:\n",
    "    print(weight//5 + 1)\n",
    "elif weight % 5 == 4 and weight >= 9:\n",
    "    print(weight//5 + 2)\n",
    "else:\n",
    "    print(-1)"
   ]
  },
  {
   "cell_type": "markdown",
   "id": "3da6718a",
   "metadata": {},
   "source": []
  },
  {
   "cell_type": "markdown",
   "id": "ee41730e",
   "metadata": {},
   "source": [
    "# [ Binary Gap ]\n",
    "\n",
    "A binary gap within a positive integer N is any maximal sequence of consecutive zeros that is surrounded by ones at both ends in the binary representation of N.\n",
    "\n",
    "For example, number 9 has binary representation 1001 and contains a binary gap of length 2. The number 529 has binary representation 1000010001 and contains two binary gaps: one of length 4 and one of length 3. The number 20 has binary representation 10100 and contains one binary gap of length 1. The number 15 has binary representation 1111 and has no binary gaps. The number 32 has binary representation 100000 and has no binary gaps.\n",
    "\n",
    "Write a function:\n",
    "\n",
    "class Solution { public int solution(int N); }\n",
    "\n",
    "that, given a positive integer N, returns the length of its longest binary gap. The function should return 0 if N doesn't contain a binary gap.\n",
    "\n",
    "For example, given N = 1041 the function should return 5, because N has binary representation 10000010001 and so its longest binary gap is of length 5. Given N = 32 the function should return 0, because N has binary representation '100000' and thus no binary gaps.\n",
    "\n",
    "Write an efficient algorithm for the following assumptions:\n",
    "\n",
    "N is an integer within the range [1..2,147,483,647].\n",
    "Copyright 2009–2021 by Codility Limited. All Rights Reserved. Unauthorized copying, publication or disclosure prohibited."
   ]
  },
  {
   "cell_type": "code",
   "execution_count": null,
   "id": "387e3063",
   "metadata": {},
   "outputs": [],
   "source": [
    "def solution(N):\n",
    "    bi = str(format(N, 'b'))\n",
    "    blist = bi.split(\"1\")\n",
    "    if len(blist) == 2:\n",
    "        return 0\n",
    "    result = [len(i) for i in blist[:-1]]\n",
    "    return max(result)\n",
    "    \n",
    "solution(128+32)"
   ]
  },
  {
   "cell_type": "code",
   "execution_count": 14,
   "id": "7042c31b",
   "metadata": {},
   "outputs": [
    {
     "data": {
      "text/plain": [
       "6"
      ]
     },
     "execution_count": 14,
     "metadata": {},
     "output_type": "execute_result"
    }
   ],
   "source": [
    "def solution(N):\n",
    "    bi = str(format(N, 'b'))\n",
    "    blist = bi.split(\"1\")\n",
    "    result = [len(i) for i in blist[:-1]]\n",
    "    return max(result)\n",
    "\n",
    "solution(128+1)"
   ]
  },
  {
   "cell_type": "markdown",
   "id": "c2cc0d67",
   "metadata": {},
   "source": [
    "# [ Tribonacci Sequence ]\n",
    "- t1 = 1, t2 = 0, t3 = 5"
   ]
  },
  {
   "cell_type": "code",
   "execution_count": 3,
   "id": "37e36d1d",
   "metadata": {},
   "outputs": [
    {
     "data": {
      "text/plain": [
       "162149716"
      ]
     },
     "execution_count": 3,
     "metadata": {},
     "output_type": "execute_result"
    }
   ],
   "source": [
    "from functools import lru_cache\n",
    "\n",
    "@lru_cache(maxsize=None)\n",
    "def tor(n):\n",
    "    if n == 1:\n",
    "        return 1\n",
    "    elif n == 2:\n",
    "        return 0\n",
    "    elif n == 3:\n",
    "        return 5\n",
    "    else:\n",
    "        return tor(n-3)+tor(n-2)+tor(n-1)\n",
    "    \n",
    "tor(32)\n"
   ]
  },
  {
   "cell_type": "markdown",
   "id": "80a244fb",
   "metadata": {},
   "source": [
    "# [ $\\sum_{i=1}^{99} i^4$]\n"
   ]
  },
  {
   "cell_type": "code",
   "execution_count": 9,
   "id": "991406aa",
   "metadata": {},
   "outputs": [
    {
     "name": "stdout",
     "output_type": "stream",
     "text": [
      "1950333330\n"
     ]
    }
   ],
   "source": [
    "sum = 0\n",
    "for i in range(1,100):\n",
    "    sum += i**4\n",
    "    \n",
    "print(sum)"
   ]
  },
  {
   "cell_type": "code",
   "execution_count": 10,
   "id": "bd611d17",
   "metadata": {},
   "outputs": [
    {
     "data": {
      "text/plain": [
       "1950333330"
      ]
     },
     "execution_count": 10,
     "metadata": {},
     "output_type": "execute_result"
    }
   ],
   "source": [
    "def addup(n):\n",
    "    sum = 0\n",
    "    for i in range(1, n+1):\n",
    "        sum += i**4\n",
    "    return sum\n",
    "\n",
    "addup(99)"
   ]
  },
  {
   "cell_type": "markdown",
   "id": "e4d39a13",
   "metadata": {},
   "source": [
    "# [ Cyclic Rotation ]\n",
    "\n",
    "An array A consisting of N integers is given. Rotation of the array means that each element is shifted right by one index, and the last element of the array is moved to the first place. For example, the rotation of array A = [3, 8, 9, 7, 6] is [6, 3, 8, 9, 7] (elements are shifted right by one index and 6 is moved to the first place).\n",
    "\n",
    "The goal is to rotate array A K times; that is, each element of A will be shifted to the right K times.\n",
    "\n",
    "Write a function:\n",
    "\n",
    "def solution(A, K)\n",
    "\n",
    "that, given an array A consisting of N integers and an integer K, returns the array A rotated K times.\n",
    "\n",
    "For example, given\n",
    "\n",
    "    A = [3, 8, 9, 7, 6]\n",
    "    K = 3\n",
    "the function should return [9, 7, 6, 3, 8]. Three rotations were made:\n",
    "\n",
    "    [3, 8, 9, 7, 6] -> [6, 3, 8, 9, 7]\n",
    "    [6, 3, 8, 9, 7] -> [7, 6, 3, 8, 9]\n",
    "    [7, 6, 3, 8, 9] -> [9, 7, 6, 3, 8]\n",
    "For another example, given\n",
    "\n",
    "    A = [0, 0, 0]\n",
    "    K = 1\n",
    "the function should return [0, 0, 0]\n",
    "\n",
    "Given\n",
    "\n",
    "    A = [1, 2, 3, 4]\n",
    "    K = 4\n",
    "the function should return [1, 2, 3, 4]\n",
    "\n",
    "Assume that:\n",
    "\n",
    "N and K are integers within the range [0..100];\n",
    "each element of array A is an integer within the range [−1,000..1,000].\n",
    "In your solution, focus on correctness. The performance of your solution will not be the focus of the assessment.\n",
    "\n",
    "Copyright 2009–2021 by Codility Limited. All Rights Reserved. Unauthorized copying, publication or disclosure prohibited."
   ]
  },
  {
   "cell_type": "code",
   "execution_count": 9,
   "id": "42fca0bd",
   "metadata": {},
   "outputs": [
    {
     "data": {
      "text/plain": [
       "[]"
      ]
     },
     "execution_count": 9,
     "metadata": {},
     "output_type": "execute_result"
    }
   ],
   "source": [
    "def solution(A, K):\n",
    "    if A == []:\n",
    "        return A\n",
    "    for i in range(K):\n",
    "        A.insert(0, A.pop())\n",
    "        print(A)\n",
    "    return A\n",
    "\n",
    "solution([], 3)"
   ]
  },
  {
   "cell_type": "markdown",
   "id": "f045045e",
   "metadata": {},
   "source": [
    "# [ Odd Occurrences in Array ]\n",
    "\n",
    "<pre style=\"font-family:Consolas\">\n",
    "\n",
    "\n",
    "A non-empty array A consisting of N integers is given. The array contains an odd number of elements, and each element of the array can be paired with another element that has the same value, except for one element that is left unpaired.\n",
    "\n",
    "For example, in array A such that:\n",
    "\n",
    "  A[0] = 9  A[1] = 3  A[2] = 9\n",
    "  A[3] = 3  A[4] = 9  A[5] = 7\n",
    "  A[6] = 9\n",
    "  \n",
    "    -the elements at indexes 0 and 2 have value 9,\n",
    "    -the elements at indexes 1 and 3 have value 3,\n",
    "    -the elements at indexes 4 and 6 have value 9,\n",
    "    -the element at index 5 has value 7 and is unpaired.\n",
    "    \n",
    "Write a function:\n",
    "\n",
    "def solution(A)\n",
    "\n",
    "that, given an array A consisting of N integers fulfilling the above conditions, returns the value of the unpaired element.\n",
    "\n",
    "For example, given array A such that:\n",
    "\n",
    "  A[0] = 9  A[1] = 3  A[2] = 9\n",
    "  A[3] = 3  A[4] = 9  A[5] = 7\n",
    "  A[6] = 9\n",
    "the function should return 7, as explained in the example above.\n",
    "\n",
    "Write an efficient algorithm for the following assumptions:\n",
    "\n",
    "    -N is an odd integer within the range [1..1,000,000];\n",
    "    -each element of array A is an integer within the range [1..1,000,000,000];\n",
    "    -all but one of the values in A occur an even number of times.\n",
    "    \n",
    "Copyright 2009–2021 by Codility Limited. All Rights Reserved. Unauthorized copying, publication or disclosure prohibited.\n",
    "\n",
    "</pre>"
   ]
  },
  {
   "cell_type": "code",
   "execution_count": 15,
   "id": "509f9246",
   "metadata": {},
   "outputs": [],
   "source": [
    "def solution(A):\n",
    "    \n",
    "    for i in range(0,len(A)):\n",
    "        cnt = 0\n",
    "        for j in range(0, len(A)):\n",
    "            if A[i] == A[j]:\n",
    "                cnt += 1\n",
    "        if cnt % 2:\n",
    "            return A[i]\n",
    "\n",
    "# TOO SLOW BITCH \n",
    "# Codelity Evaluation 55%"
   ]
  },
  {
   "cell_type": "code",
   "execution_count": 13,
   "id": "3398c8b7",
   "metadata": {},
   "outputs": [],
   "source": [
    "def solution(A):\n",
    "    dic = {}\n",
    "    \n",
    "    for i in A:\n",
    "        dic[i]=dic.get(i,0)+1\n",
    "        \n",
    "    for i in dic:\n",
    "        if dic % 2 :\n",
    "            return dic[i]\n",
    "        \n",
    "# FAST ENOUGH..."
   ]
  },
  {
   "cell_type": "markdown",
   "id": "bcc7a7c7",
   "metadata": {},
   "source": [
    "# [ Frog Jump ]\n",
    "\n",
    "<pre style=\"font-family:Consolas\">\n",
    "A small frog wants to get to the other side of the road. The frog is currently located at position X and wants to get to a position greater than or equal to Y. The small frog always jumps a fixed distance, D.\n",
    "\n",
    "Count the minimal number of jumps that the small frog must perform to reach its target.\n",
    "\n",
    "Write a function:\n",
    "\n",
    "        def solution(X, Y, D)\n",
    "\n",
    "that, given three integers X, Y and D, returns the minimal number of jumps from position X to a position equal to or greater than Y.\n",
    "\n",
    "For example, given:\n",
    "\n",
    "  X = 10\n",
    "  Y = 85\n",
    "  D = 30\n",
    "  \n",
    "the function should return 3, because the frog will be positioned as follows:\n",
    "\n",
    "    - after the first jump, at position 10 + 30 = 40\n",
    "    - after the second jump, at position 10 + 30 + 30 = 70\n",
    "    - after the third jump, at position 10 + 30 + 30 + 30 = 100\n",
    "    \n",
    "Write an efficient algorithm for the following assumptions:\n",
    "\n",
    "X, Y and D are integers within the range [1..1,000,000,000];\n",
    "X ≤ Y.\n",
    "Copyright 2009–2021 by Codility Limited. All Rights Reserved. Unauthorized copying, publication or disclosure prohibited.\n",
    "</pre>"
   ]
  },
  {
   "cell_type": "code",
   "execution_count": 14,
   "id": "388dc3bf",
   "metadata": {},
   "outputs": [],
   "source": [
    "def solution(X, Y, D):\n",
    "    return (Y - X) // D if not (Y - X) % D else (Y - X) // D + 1"
   ]
  },
  {
   "cell_type": "markdown",
   "id": "1b82c65f",
   "metadata": {},
   "source": [
    "# [ Perm Missing Elem ]\n",
    "<pre style=\"font-family:Consolas\">\n",
    "An array A consisting of N different integers is given. The array contains integers in the range [1..(N + 1)], which means that exactly one element is missing.\n",
    "\n",
    "Your goal is to find that missing element.\n",
    "\n",
    "Write a function:\n",
    "\n",
    "        def solution(A)\n",
    "\n",
    "that, given an array A, returns the value of the missing element.\n",
    "\n",
    "For example, given array A such that:\n",
    "\n",
    "      A[0] = 2\n",
    "      A[1] = 3\n",
    "      A[2] = 1\n",
    "      A[3] = 5\n",
    "  \n",
    "the function should return 4, as it is the missing element.\n",
    "\n",
    "Write an efficient algorithm for the following assumptions:\n",
    "\n",
    "        - N is an integer within the range [0..100,000];\n",
    "        - the elements of A are all distinct;\n",
    "        - each element of array A is an integer within the range [1..(N + 1)].\n",
    "    \n",
    "Copyright 2009–2021 by Codility Limited. All Rights Reserved. Unauthorized copying, publication or disclosure prohibited.\n",
    "</pre>"
   ]
  },
  {
   "cell_type": "code",
   "execution_count": 17,
   "id": "39b150e5",
   "metadata": {},
   "outputs": [],
   "source": [
    "def solution(A):\n",
    "    n = len(A)\n",
    "   \n",
    "    return int((n+1)*(n+2)/2) - sum(A)"
   ]
  },
  {
   "cell_type": "code",
   "execution_count": null,
   "id": "6b47cdb4",
   "metadata": {},
   "outputs": [],
   "source": []
  }
 ],
 "metadata": {
  "kernelspec": {
   "display_name": "Python 3",
   "language": "python",
   "name": "python3"
  },
  "language_info": {
   "codemirror_mode": {
    "name": "ipython",
    "version": 3
   },
   "file_extension": ".py",
   "mimetype": "text/x-python",
   "name": "python",
   "nbconvert_exporter": "python",
   "pygments_lexer": "ipython3",
   "version": "3.8.8"
  }
 },
 "nbformat": 4,
 "nbformat_minor": 5
}
