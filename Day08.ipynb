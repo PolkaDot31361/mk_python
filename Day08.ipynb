{
 "cells": [
  {
   "cell_type": "code",
   "execution_count": null,
   "id": "37c4e733",
   "metadata": {},
   "outputs": [],
   "source": [
    "help(range)\n",
    "range.__doc__"
   ]
  },
  {
   "cell_type": "code",
   "execution_count": null,
   "id": "fa9733f1",
   "metadata": {},
   "outputs": [],
   "source": [
    "import time\n",
    "\n",
    "t = time.time()\n",
    "print(t)\n",
    "print(time.ctime(t))"
   ]
  },
  {
   "cell_type": "code",
   "execution_count": null,
   "id": "7313e51b",
   "metadata": {},
   "outputs": [],
   "source": [
    "import calendar\n",
    "\n",
    "print(calendar.calendar(2021))\n",
    "print(calendar.month(2021,8))\n"
   ]
  },
  {
   "cell_type": "code",
   "execution_count": null,
   "id": "b6c2de79",
   "metadata": {},
   "outputs": [],
   "source": [
    "import time\n",
    "\n",
    "start = time.time()\n",
    "sum = 0\n",
    "for i in range(100000000):\n",
    "    sum += i\n",
    "end = time.time()\n",
    "\n",
    "print(\"연산 수행 시간 : %.2f초\" %(end-start))"
   ]
  },
  {
   "cell_type": "code",
   "execution_count": null,
   "id": "a88b70b8",
   "metadata": {},
   "outputs": [],
   "source": [
    "import time\n",
    "\n",
    "# print(time.localtime())\n",
    "\n",
    "now = time.localtime()\n",
    "print(\"%d년 %d월 %d일\" % (now.tm_year, now.tm_mon, now.tm_mday))\n",
    "print(\"%d:%d:%d\" %(now.tm_hour, now.tm_min, now.tm_sec))"
   ]
  },
  {
   "cell_type": "code",
   "execution_count": null,
   "id": "9eda2596",
   "metadata": {},
   "outputs": [],
   "source": [
    "import time\n",
    "\n",
    "print(\"이 문장은\")\n",
    "time.sleep(2)\n",
    "print(\"2초 단위로\")\n",
    "time.sleep(2)\n",
    "print(\"출력됩니다\")"
   ]
  },
  {
   "cell_type": "code",
   "execution_count": null,
   "id": "23eae2e9",
   "metadata": {},
   "outputs": [],
   "source": [
    "import random\n",
    "\n",
    "for i in range(5):\n",
    "    print(random.randint(1,10))"
   ]
  },
  {
   "cell_type": "code",
   "execution_count": null,
   "id": "454f05b2",
   "metadata": {},
   "outputs": [],
   "source": [
    "import random\n",
    "\n",
    "ran_list = [\"A\", \"B\", \"C\", \"D\", \"E\"]\n",
    "print(random.choice(ran_list))"
   ]
  },
  {
   "cell_type": "markdown",
   "id": "6fdaacf9",
   "metadata": {},
   "source": [
    "## [문제] 로또 번호 생성기\n",
    "<pre>\n",
    "    - 1~46 사이의 숫자 6개 뽑기\n",
    "    - 단 중복 허용하지 않는다\n",
    "    - 난수 발생기를 사용하여 만든다\n",
    "   \n",
    "</pre>"
   ]
  },
  {
   "cell_type": "code",
   "execution_count": null,
   "id": "f9348e5c",
   "metadata": {},
   "outputs": [],
   "source": [
    "import random\n",
    "lotto = set()\n",
    "\n",
    "while True:\n",
    "    if len(lotto) == 6:\n",
    "        break\n",
    "    else:\n",
    "        lotto.add(random.randint(1,46))\n",
    "print(lotto)"
   ]
  },
  {
   "cell_type": "code",
   "execution_count": null,
   "id": "07e73fe3",
   "metadata": {},
   "outputs": [],
   "source": [
    "import random\n",
    "lotto_numbers = set()\n",
    "\n",
    "while True:\n",
    "    lotto_number = random.randint(1, 46)\n",
    "    lotto_numbers.add(lotto_number)\n",
    "    \n",
    "    if len(lotto_numbers) == 6:\n",
    "        break\n",
    "        \n",
    "print(lotto_numbers)\n",
    "print(list(lotto_numbers))"
   ]
  },
  {
   "cell_type": "code",
   "execution_count": null,
   "id": "3c82b7c1",
   "metadata": {},
   "outputs": [],
   "source": [
    "import random\n",
    "\n",
    "lotto = random.sample(range(1, 47), 6)\n",
    "\n",
    "print(lotto)"
   ]
  },
  {
   "cell_type": "markdown",
   "id": "0c18b939",
   "metadata": {},
   "source": [
    "# Input / Output"
   ]
  },
  {
   "cell_type": "code",
   "execution_count": null,
   "id": "7116b8ee",
   "metadata": {},
   "outputs": [],
   "source": [
    "f = open(\"files/myfile.txt\", \"w\")\n",
    "\n",
    "# 할당 받은 자원을 돌려주는 ? 아주 중요한 작업\n",
    "f.close()\n",
    "\n",
    "print(\"End\")"
   ]
  },
  {
   "cell_type": "code",
   "execution_count": null,
   "id": "955a5b58",
   "metadata": {},
   "outputs": [],
   "source": [
    "f1 = open(\"files/myfile2.txt\", mode=\"w\", encoding=\"utf-8\")\n",
    "\n",
    "for i in range(1, 11):\n",
    "    f1.write(\"값은 : \"+str(i)+\"\\n\")\n",
    "\n",
    "f1.close()\n",
    "print(\"END\")"
   ]
  },
  {
   "cell_type": "code",
   "execution_count": 9,
   "id": "ec427349",
   "metadata": {},
   "outputs": [
    {
     "name": "stdout",
     "output_type": "stream",
     "text": [
      "END\n"
     ]
    }
   ],
   "source": [
    "score = {\"A\":89, \"B\":93, \"C\":80, \"D\":70, \"E\":60, \"F\":73, \"G\":64,\"H\":49}\n",
    "\n",
    "f = open(\"files/score.txt\", \"w\", encoding='utf-8')\n",
    "\n",
    "for name,s in score.items():\n",
    "    f.write(name + ' ' + str(s) + '\\n'  )\n",
    "    \n",
    "f.write('학생수 ' + str(len(score)) + '\\n')\n",
    "f.write('합계 ' + str(sum(score.values())) + '\\n')\n",
    "f.write('평균 ' + str(sum(score.values())/len(score)) + '\\n')\n",
    "f.write('최고점 ' + str(max(score.values())) + '\\n')\n",
    "f.write('최하점 ' + str(min(score.values())) + '\\n')\n",
    "\n",
    "f.close()\n",
    "print(\"END\")"
   ]
  },
  {
   "cell_type": "code",
   "execution_count": 8,
   "id": "be7c5ac1",
   "metadata": {},
   "outputs": [
    {
     "name": "stdout",
     "output_type": "stream",
     "text": [
      "<class 'str'>\n",
      "A 89\n",
      "\n",
      "A 89\n",
      "B 93\n",
      "C 80\n",
      "D 70\n",
      "E 60\n",
      "F 73\n",
      "G 64\n",
      "H 49\n",
      "학생수8\n",
      "합계578\n",
      "평균 72.25\n",
      "최고점 93\n",
      "최하점 49\n"
     ]
    }
   ],
   "source": [
    "f = open('files/score.txt', \"r\", encoding='utf-8')\n",
    "line = f.readline()\n",
    "\n",
    "print(type(line))\n",
    "print(line)\n",
    "f.close()\n",
    "\n",
    "f = open(\"files/score.txt\", \"r\", encoding=\"utf-8\")\n",
    "while True:\n",
    "    line = f.readline()\n",
    "    if not line:\n",
    "        break\n",
    "    print(line, end=\"\")\n",
    "f.close()"
   ]
  },
  {
   "cell_type": "code",
   "execution_count": 14,
   "id": "baf5e370",
   "metadata": {},
   "outputs": [
    {
     "name": "stdout",
     "output_type": "stream",
     "text": [
      "END\n"
     ]
    }
   ],
   "source": [
    "poem = '''\n",
    "Programming is fun\n",
    "When the work is done\n",
    "if you wanna make your work also fun:\n",
    "use Python!\n",
    "'''\n",
    "\n",
    "f = open(\"files/poem.txt\", 'a')\n",
    "f.write(poem)\n",
    "f.close()\n",
    "print(\"END\")"
   ]
  },
  {
   "cell_type": "code",
   "execution_count": 20,
   "id": "0f2970ab",
   "metadata": {},
   "outputs": [
    {
     "name": "stdout",
     "output_type": "stream",
     "text": [
      "END\n"
     ]
    }
   ],
   "source": [
    "source = open(\"files/poem.txt\", 'r')\n",
    "\n",
    "target = open('files/copy.txt', 'w')\n",
    "\n",
    "# while True:\n",
    "#     line = source.readline()\n",
    "#     target.write(line)\n",
    "#     if not line:\n",
    "#         break\n",
    "#     print(line, end=\"\")\n",
    "\n",
    "data = source.read()\n",
    "target.write(data)\n",
    "\n",
    "target.close()\n",
    "source.close()\n",
    "\n",
    "print(\"END\")"
   ]
  },
  {
   "cell_type": "code",
   "execution_count": 21,
   "id": "111ecc41",
   "metadata": {},
   "outputs": [
    {
     "name": "stdout",
     "output_type": "stream",
     "text": [
      "END\n"
     ]
    }
   ],
   "source": [
    "b1 = open(\"files/images/finger.png\", 'rb')\n",
    "b2 = open('files/images/fingerCopy.png', 'wb')\n",
    "\n",
    "data = b1.read()\n",
    "b2.write(data)\n",
    "\n",
    "b1.close()\n",
    "b2.close()\n",
    "\n",
    "print(\"END\")"
   ]
  },
  {
   "cell_type": "code",
   "execution_count": 22,
   "id": "1c597fbf",
   "metadata": {},
   "outputs": [
    {
     "name": "stdout",
     "output_type": "stream",
     "text": [
      "ing is fun\n",
      "When the work is done\n",
      "if you wanna make your work also fun:\n",
      "use Python!\n",
      "\n",
      "Programming is fun\n",
      "When the work is done\n",
      "if you wanna make your work also fun:\n",
      "use Python!\n",
      "\n"
     ]
    }
   ],
   "source": [
    "f = open(\"files/poem.txt\", 'r')\n",
    "f.seek(10, 0)\n",
    "\n",
    "text = f.read()\n",
    "print(text)\n",
    "\n",
    "f.close()"
   ]
  },
  {
   "cell_type": "code",
   "execution_count": 23,
   "id": "8ffc186e",
   "metadata": {},
   "outputs": [
    {
     "name": "stdout",
     "output_type": "stream",
     "text": [
      "division by zero\n"
     ]
    }
   ],
   "source": [
    "try:\n",
    "    data = 10/0\n",
    "except ZeroDivisionError as e :\n",
    "    print(e)"
   ]
  }
 ],
 "metadata": {
  "kernelspec": {
   "display_name": "Python 3",
   "language": "python",
   "name": "python3"
  },
  "language_info": {
   "codemirror_mode": {
    "name": "ipython",
    "version": 3
   },
   "file_extension": ".py",
   "mimetype": "text/x-python",
   "name": "python",
   "nbconvert_exporter": "python",
   "pygments_lexer": "ipython3",
   "version": "3.8.8"
  }
 },
 "nbformat": 4,
 "nbformat_minor": 5
}
